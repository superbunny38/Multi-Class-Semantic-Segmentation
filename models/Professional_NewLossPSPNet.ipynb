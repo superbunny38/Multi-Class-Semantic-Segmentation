{
  "cells": [
    {
      "cell_type": "markdown",
      "metadata": {
        "id": "view-in-github",
        "colab_type": "text"
      },
      "source": [
        "<a href=\"https://colab.research.google.com/github/superbunny38/Multi-Object-Semantic-Segmentation/blob/main/models/Professional_NewLossPSPNet.ipynb\" target=\"_parent\"><img src=\"https://colab.research.google.com/assets/colab-badge.svg\" alt=\"Open In Colab\"/></a>"
      ]
    },
    {
      "cell_type": "code",
      "execution_count": null,
      "metadata": {
        "cellView": "form",
        "id": "55LtiqNTwauq"
      },
      "outputs": [],
      "source": [
        "#@title Libraries\n",
        "\n",
        "import time\n",
        "import os\n",
        "import PIL\n",
        "import copy\n",
        "import torch\n",
        "import torchvision\n",
        "import numpy as np\n",
        "import albumentations\n",
        "import matplotlib.pyplot as plt\n",
        "from skimage.segmentation import mark_boundaries\n",
        "import random\n",
        "import math\n",
        "import time\n",
        "import pandas as pd\n",
        "import numpy as np\n",
        "import torch\n",
        "import torch.utils.data as data\n",
        "import torch.nn as nn\n",
        "import torch.nn.init as init\n",
        "import torch.nn.functional as F\n",
        "import torch.optim as optim\n",
        "import urllib.request\n",
        "import zipfile\n",
        "import tarfile\n",
        "!pip install timm\n",
        "!pip install torch==1.8.1+cu111 torchvision==0.9.1+cu111 torchaudio==0.8.1 -f https://download.pytorch.org/whl/lts/1.8/torch_lts.html\n",
        "!pip install torchtext==0.9.1\n",
        "import io\n",
        "import re\n",
        "import pickle\n",
        "import random\n",
        "from pathlib import Path\n",
        "from itertools import repeat\n",
        "from operator import itemgetter, mul\n",
        "from functools import partial, reduce\n",
        "from multiprocessing import cpu_count\n",
        "from typing import Callable, BinaryIO, Match, Pattern, Tuple, Union, Optional\n",
        "\n",
        "import torch\n",
        "import numpy as np\n",
        "from PIL import Image, ImageOps\n",
        "from torch import Tensor\n",
        "from torchvision import transforms\n",
        "from skimage.transform import resize\n",
        "#from torch._six import container_abcs\n",
        "from torch.utils.data import Dataset, DataLoader, Sampler\n",
        "from torch.utils.data import Dataset\n",
        "# from modules.utils import load_json\n",
        "import numpy as np\n",
        "from PIL import Image\n",
        "import os\n",
        "from torch.utils.data import DataLoader\n",
        "from sklearn.metrics import accuracy_score, f1_score, confusion_matrix \n",
        "import pandas as pd\n",
        "import os\n",
        "import sys\n",
        "from torch import nn\n",
        "\n",
        "from datetime import datetime, timezone, timedelta \n",
        "from matplotlib import pyplot as plt\n",
        "import pandas as pd\n",
        "import numpy as np\n",
        "import logging\n",
        "import torch\n",
        "import csv\n",
        "import torchvision.transforms as transforms\n",
        "import numpy as np\n",
        "import torch\n",
        "import torch.optim as optim\n",
        "from time import time\n",
        "from tqdm import tqdm\n",
        "from torch.nn import functional as F\n",
        "import torch\n",
        "import torch.nn as nn\n",
        "from sklearn.metrics import accuracy_score, f1_score, confusion_matrix\n",
        "import torch.optim as optim\n",
        "from itertools import product\n",
        "import logging\n",
        "import random\n",
        "import pickle\n",
        "import shutil\n",
        "import json\n",
        "import yaml\n",
        "import csv\n",
        "import os \n",
        "from scipy.stats import entropy\n",
        "import os.path as osp\n",
        "from PIL import Image\n",
        "import torch.utils.data as data\n",
        "from google.colab import drive\n",
        "drive.mount('/content/drive')\n",
        "!cp /content/drive/MyDrive/2022/LungSegmentation/utils.py /content"
      ]
    },
    {
      "cell_type": "code",
      "execution_count": null,
      "metadata": {
        "colab": {
          "base_uri": "https://localhost:8080/"
        },
        "id": "eePUZVxUhUr4",
        "outputId": "accd4d8c-0273-49a2-d6a1-d62c4f33a6dc"
      },
      "outputs": [
        {
          "name": "stdout",
          "output_type": "stream",
          "text": [
            "Looking in indexes: https://pypi.org/simple, https://us-python.pkg.dev/colab-wheels/public/simple/\n",
            "Collecting medpy\n",
            "  Downloading MedPy-0.4.0.tar.gz (151 kB)\n",
            "\u001b[K     |████████████████████████████████| 151 kB 5.4 MB/s \n",
            "\u001b[?25hRequirement already satisfied: scipy>=1.1.0 in /usr/local/lib/python3.7/dist-packages (from medpy) (1.7.3)\n",
            "Requirement already satisfied: numpy>=1.11.0 in /usr/local/lib/python3.7/dist-packages (from medpy) (1.21.6)\n",
            "Collecting SimpleITK>=1.1.0\n",
            "  Downloading SimpleITK-2.1.1.2-cp37-cp37m-manylinux_2_12_x86_64.manylinux2010_x86_64.whl (48.4 MB)\n",
            "\u001b[K     |████████████████████████████████| 48.4 MB 1.3 MB/s \n",
            "\u001b[?25hBuilding wheels for collected packages: medpy\n",
            "  Building wheel for medpy (setup.py) ... \u001b[?25l\u001b[?25hdone\n",
            "  Created wheel for medpy: filename=MedPy-0.4.0-cp37-cp37m-linux_x86_64.whl size=754462 sha256=63608a18bfeeb93a4bb6027910a6c8e5c4e6cb329fa8c7153c025c97f9addc68\n",
            "  Stored in directory: /root/.cache/pip/wheels/b0/57/3a/da1183f22a6afb42e11138daa6a759de233fd977a984333602\n",
            "Successfully built medpy\n",
            "Installing collected packages: SimpleITK, medpy\n",
            "Successfully installed SimpleITK-2.1.1.2 medpy-0.4.0\n"
          ]
        }
      ],
      "source": [
        "!pip install medpy"
      ]
    },
    {
      "cell_type": "code",
      "execution_count": null,
      "metadata": {
        "cellView": "form",
        "id": "x2Ex4RBa78Ku"
      },
      "outputs": [],
      "source": [
        "#@title Utils\n",
        "from utils import map_, class2one_hot, one_hot2dist, id_\n",
        "from utils import one_hot, depth\n",
        "import numpy as np\n",
        "\n",
        "def dice_coef(y_true, y_pred, epsilon=1e-6):\n",
        "    y_true_flatten = np.asarray(y_true).astype(np.bool)\n",
        "    y_pred_flatten = np.asarray(y_pred).astype(np.bool)\n",
        "\n",
        "    if not np.sum(y_true_flatten) + np.sum(y_pred_flatten):\n",
        "        return 1.0\n",
        "\n",
        "    return (2. * np.sum(y_true_flatten * y_pred_flatten)) /\\\n",
        "           (np.sum(y_true_flatten) + np.sum(y_pred_flatten) + epsilon)\n",
        "\n",
        "def cut(W,H,lam):\n",
        "        \n",
        "    ######define the size of box######\n",
        "    cut_rat = np.sqrt(1. - lam)\n",
        "    cut_w = np.int64(W * cut_rat)\n",
        "    cut_h = np.int64(H * cut_rat) \n",
        "    ######define the size of box######\n",
        "    \n",
        "    #####randomly choose where to cut#####\n",
        "    cx = np.random.randint(W) # uniform distribution\n",
        "    cy = np.random.randint(H)\n",
        "    #####randomly choose where to cut#####\n",
        "\n",
        "    bbx1 = np.clip(cx - cut_w // 2, 0, W) # Cut, return coordinates of the box \n",
        "    bby1 = np.clip(cy - cut_h // 2, 0, H)\n",
        "    bbx2 = np.clip(cx + cut_w // 2, 0, W)\n",
        "    bby2 = np.clip(cy + cut_h // 2, 0, H)\n",
        "\n",
        "    return bbx1, bby1, bbx2, bby2"
      ]
    },
    {
      "cell_type": "markdown",
      "metadata": {
        "id": "vOa_YZ2QkmMU"
      },
      "source": [
        "# Data"
      ]
    },
    {
      "cell_type": "markdown",
      "metadata": {
        "id": "AwHUsjgraydF"
      },
      "source": [
        "## Get Data, Split, Make List"
      ]
    },
    {
      "cell_type": "code",
      "execution_count": null,
      "metadata": {
        "colab": {
          "base_uri": "https://localhost:8080/"
        },
        "id": "1IUePpShajVB",
        "outputId": "0f89a67c-c9ab-492e-a1b3-f4de7052b454"
      },
      "outputs": [
        {
          "name": "stdout",
          "output_type": "stream",
          "text": [
            "mkdir: cannot create directory ‘data’: File exists\n"
          ]
        }
      ],
      "source": [
        "#get data from gdrive\n",
        "import shutil\n",
        "!mkdir data\n",
        "file1 = \"/content/drive/MyDrive/2022/LungSegmentation/Lung_Segmentation.zip\"\n",
        "#file1 = \"/content/drive/MyDrive/train.zip\"\n",
        "shutil.unpack_archive(file1, \"/content/data\")"
      ]
    },
    {
      "cell_type": "code",
      "execution_count": null,
      "metadata": {
        "id": "CT4mVk4qa90s"
      },
      "outputs": [],
      "source": [
        "anno_dir = '/content/drive/MyDrive/2022/LungSegmentation/annotation/'\n",
        "data_dir = '/content/data/image/'\n",
        "aug_dir = '/content/drive/MyDrive/2022/LungSegmentation/histogram_eq_image/'"
      ]
    },
    {
      "cell_type": "code",
      "execution_count": null,
      "metadata": {
        "colab": {
          "base_uri": "https://localhost:8080/"
        },
        "id": "P9DuXnMEbsXh",
        "outputId": "f8613534-c927-4e51-a0ce-4bd2aa9115a4"
      },
      "outputs": [
        {
          "data": {
            "application/vnd.google.colaboratory.intrinsic+json": {
              "type": "string"
            },
            "text/plain": [
              "'resize_CHNCXR_0539_1.png'"
            ]
          },
          "execution_count": 21,
          "metadata": {},
          "output_type": "execute_result"
        }
      ],
      "source": [
        "first_anno = os.listdir(anno_dir)[0]\n",
        "first_anno"
      ]
    },
    {
      "cell_type": "code",
      "execution_count": null,
      "metadata": {
        "colab": {
          "base_uri": "https://localhost:8080/"
        },
        "id": "kddogNjVhVUi",
        "outputId": "7db1d25d-466e-4f90-dc02-716c24f90e20"
      },
      "outputs": [
        {
          "data": {
            "application/vnd.google.colaboratory.intrinsic+json": {
              "type": "string"
            },
            "text/plain": [
              "'resize_CHNCXR_0271_0.png'"
            ]
          },
          "execution_count": 22,
          "metadata": {},
          "output_type": "execute_result"
        }
      ],
      "source": [
        "os.listdir(data_dir)[0]"
      ]
    },
    {
      "cell_type": "code",
      "execution_count": null,
      "metadata": {
        "colab": {
          "base_uri": "https://localhost:8080/"
        },
        "id": "2RIwhuCnbi10",
        "outputId": "9f534476-7986-44ca-97d9-98618a71a0ea"
      },
      "outputs": [
        {
          "name": "stdout",
          "output_type": "stream",
          "text": [
            "entire data: 566\n"
          ]
        }
      ],
      "source": [
        "assert len(os.listdir(anno_dir)) == len(os.listdir(data_dir))\n",
        "print(\"entire data:\",len(os.listdir(data_dir)))"
      ]
    },
    {
      "cell_type": "code",
      "execution_count": null,
      "metadata": {
        "colab": {
          "base_uri": "https://localhost:8080/"
        },
        "id": "Uo2WRj3ya0_s",
        "outputId": "6d3b43c7-1e09-44e7-e647-af37d8dcf0b0"
      },
      "outputs": [
        {
          "name": "stdout",
          "output_type": "stream",
          "text": [
            "train size: 397, test_size: 169\n"
          ]
        }
      ],
      "source": [
        "train_size = int(np.ceil(len(os.listdir(data_dir))*.7))\n",
        "val_size = len(os.listdir(data_dir))-train_size\n",
        "print(f\"train size: {train_size}, test_size: {val_size}\")"
      ]
    },
    {
      "cell_type": "code",
      "execution_count": null,
      "metadata": {
        "id": "J6xxwjnahkuN"
      },
      "outputs": [],
      "source": [
        "train_names = os.listdir(data_dir)[:train_size]\n",
        "val_names = os.listdir(data_dir)[train_size:]"
      ]
    },
    {
      "cell_type": "code",
      "execution_count": null,
      "metadata": {
        "colab": {
          "base_uri": "https://localhost:8080/"
        },
        "id": "29M_5iVPwhQA",
        "outputId": "adba5076-1ba8-4d53-bb61-b8a73c3f2d87"
      },
      "outputs": [
        {
          "data": {
            "text/plain": [
              "['resize_CHNCXR_0271_0.png',\n",
              " 'resize_CHNCXR_0589_1.png',\n",
              " 'resize_CHNCXR_0627_1.png',\n",
              " 'resize_CHNCXR_0131_0.png',\n",
              " 'resize_CHNCXR_0557_1.png']"
            ]
          },
          "execution_count": 26,
          "metadata": {},
          "output_type": "execute_result"
        }
      ],
      "source": [
        "train_names[:5]"
      ]
    },
    {
      "cell_type": "code",
      "execution_count": null,
      "metadata": {
        "id": "qZKDBb6SiTbu"
      },
      "outputs": [],
      "source": [
        "train_img_list = []\n",
        "test_img_list = []\n",
        "train_aug_list = []\n",
        "train_anno_list = []\n",
        "test_anno_list = []\n",
        "\n",
        "for train_name in train_names:\n",
        "  train_img_list.append(data_dir+train_name)\n",
        "  train_anno_list.append(anno_dir + train_name)\n",
        "  train_aug_list.append(aug_dir+train_name)\n",
        "\n",
        "for test_name in val_names:\n",
        "  test_img_list.append(data_dir+test_name)\n",
        "  test_anno_list.append(anno_dir+test_name)"
      ]
    },
    {
      "cell_type": "code",
      "execution_count": null,
      "metadata": {
        "colab": {
          "base_uri": "https://localhost:8080/"
        },
        "id": "7Tyjp94oje8g",
        "outputId": "243837b8-21eb-4d92-a1ab-1ece3ed05e76"
      },
      "outputs": [
        {
          "data": {
            "text/plain": [
              "['/content/data/image/resize_CHNCXR_0271_0.png',\n",
              " '/content/data/image/resize_CHNCXR_0589_1.png',\n",
              " '/content/data/image/resize_CHNCXR_0627_1.png',\n",
              " '/content/data/image/resize_CHNCXR_0131_0.png',\n",
              " '/content/data/image/resize_CHNCXR_0557_1.png']"
            ]
          },
          "execution_count": 28,
          "metadata": {},
          "output_type": "execute_result"
        }
      ],
      "source": [
        "train_img_list[:5]"
      ]
    },
    {
      "cell_type": "code",
      "execution_count": null,
      "metadata": {
        "colab": {
          "base_uri": "https://localhost:8080/"
        },
        "id": "MoosiYDewvjZ",
        "outputId": "ca60eef6-8044-4956-a167-beabceaf8c2d"
      },
      "outputs": [
        {
          "data": {
            "text/plain": [
              "['/content/drive/MyDrive/2022/LungSegmentation/histogram_eq_image/resize_CHNCXR_0271_0.png',\n",
              " '/content/drive/MyDrive/2022/LungSegmentation/histogram_eq_image/resize_CHNCXR_0589_1.png',\n",
              " '/content/drive/MyDrive/2022/LungSegmentation/histogram_eq_image/resize_CHNCXR_0627_1.png',\n",
              " '/content/drive/MyDrive/2022/LungSegmentation/histogram_eq_image/resize_CHNCXR_0131_0.png',\n",
              " '/content/drive/MyDrive/2022/LungSegmentation/histogram_eq_image/resize_CHNCXR_0557_1.png']"
            ]
          },
          "execution_count": 29,
          "metadata": {},
          "output_type": "execute_result"
        }
      ],
      "source": [
        "train_aug_list[:5]"
      ]
    },
    {
      "cell_type": "code",
      "execution_count": null,
      "metadata": {
        "colab": {
          "base_uri": "https://localhost:8080/"
        },
        "id": "DisQLqOvjgZQ",
        "outputId": "0a1eee4c-50ed-4c77-8542-388b7e643024"
      },
      "outputs": [
        {
          "data": {
            "text/plain": [
              "['/content/drive/MyDrive/2022/LungSegmentation/annotation/resize_CHNCXR_0271_0.png',\n",
              " '/content/drive/MyDrive/2022/LungSegmentation/annotation/resize_CHNCXR_0589_1.png',\n",
              " '/content/drive/MyDrive/2022/LungSegmentation/annotation/resize_CHNCXR_0627_1.png',\n",
              " '/content/drive/MyDrive/2022/LungSegmentation/annotation/resize_CHNCXR_0131_0.png',\n",
              " '/content/drive/MyDrive/2022/LungSegmentation/annotation/resize_CHNCXR_0557_1.png']"
            ]
          },
          "execution_count": 30,
          "metadata": {},
          "output_type": "execute_result"
        }
      ],
      "source": [
        "train_anno_list[:5]"
      ]
    },
    {
      "cell_type": "code",
      "execution_count": null,
      "metadata": {
        "colab": {
          "base_uri": "https://localhost:8080/"
        },
        "id": "Rh1bS6wnh84P",
        "outputId": "ff2efc62-4365-4a45-abce-239fd83d2fda"
      },
      "outputs": [
        {
          "name": "stdout",
          "output_type": "stream",
          "text": [
            "train img size: 397 train anno size: 397, test img size: 169 test anno size: 169\n"
          ]
        }
      ],
      "source": [
        "print(f\"train img size: {len(train_img_list)} train anno size: {len(train_anno_list)}, test img size: {len(test_img_list)} test anno size: {len(test_anno_list)}\")"
      ]
    },
    {
      "cell_type": "markdown",
      "metadata": {
        "id": "nJT1zgMHUfx-"
      },
      "source": [
        "get pretrained weights"
      ]
    },
    {
      "cell_type": "code",
      "execution_count": null,
      "metadata": {
        "id": "wUa__EsMUYqR"
      },
      "outputs": [],
      "source": [
        "weights_dir = \"./weights/\"\n",
        "if not os.path.exists(weights_dir):\n",
        "    os.mkdir(weights_dir)"
      ]
    },
    {
      "cell_type": "code",
      "execution_count": null,
      "metadata": {
        "id": "3KgLHSTbUa8U"
      },
      "outputs": [],
      "source": [
        "!cp /content/drive/MyDrive/2022/LungSegmentation/pspnet50_ADE20K.pth /content/weights"
      ]
    },
    {
      "cell_type": "markdown",
      "metadata": {
        "id": "jfDOYoW0CH6m"
      },
      "source": [
        "# BD+DC Loss"
      ]
    },
    {
      "cell_type": "code",
      "execution_count": null,
      "metadata": {
        "id": "AwxxJAr-nyY6"
      },
      "outputs": [],
      "source": [
        "imgs = []\n",
        "batchs = []\n",
        "for batch_img, batch_label in dataloaders_dict['val']:\n",
        "  imgs.append(batch_img)\n",
        "  batchs.append(batch_label)"
      ]
    },
    {
      "cell_type": "code",
      "execution_count": null,
      "metadata": {
        "id": "D1pKXC4Pn-kU"
      },
      "outputs": [],
      "source": [
        "batch_img, batch_img2 = imgs[0],imgs[1]\n",
        "batch_label, batch_label2 = batchs[0],batchs[1]"
      ]
    },
    {
      "cell_type": "code",
      "execution_count": null,
      "metadata": {
        "id": "cVbU4h4FJ-7G"
      },
      "outputs": [],
      "source": [
        "batch_img, batch_label= next(iter(dataloaders_dict['val']))"
      ]
    },
    {
      "cell_type": "code",
      "execution_count": null,
      "metadata": {
        "id": "j7or2q-wWcYf"
      },
      "outputs": [],
      "source": [
        "batch_img2, batch_label2 = next(iter(dataloaders_dict['val']))"
      ]
    },
    {
      "cell_type": "code",
      "execution_count": null,
      "metadata": {
        "id": "uYmvflh8lHY2"
      },
      "outputs": [],
      "source": [
        "batch_img, batch_label = batch_img.cuda(),batch_label.cuda()\n",
        "batch_img2, batch_label2 = batch_img2.cuda(),batch_label2.cuda()"
      ]
    },
    {
      "cell_type": "code",
      "execution_count": null,
      "metadata": {
        "colab": {
          "base_uri": "https://localhost:8080/"
        },
        "id": "W1953bS3KWrb",
        "outputId": "43909c80-64b3-402b-8708-50c8d3912ab8"
      },
      "outputs": [
        {
          "data": {
            "text/plain": [
              "torch.Size([3, 3, 475, 475])"
            ]
          },
          "execution_count": 118,
          "metadata": {},
          "output_type": "execute_result"
        }
      ],
      "source": [
        "batch_img.size()#batchsize = 3"
      ]
    },
    {
      "cell_type": "code",
      "execution_count": null,
      "metadata": {
        "id": "pg0KT46pKMEi"
      },
      "outputs": [],
      "source": [
        "#batch_img, batch_label = batch_img.cuda(),batch_label.cuda()\n",
        "psp_net.cpu()\n",
        "psp_net.eval()\n",
        "batch_out = psp_net(batch_img)"
      ]
    },
    {
      "cell_type": "code",
      "execution_count": null,
      "metadata": {
        "id": "RijPKISZWll6"
      },
      "outputs": [],
      "source": [
        "#batch_img2, batch_label2 = batch_img2.cuda(),batch_label2.cuda()\n",
        "psp_net.cpu()\n",
        "psp_net.eval()\n",
        "batch_out2 = psp_net(batch_img2)"
      ]
    },
    {
      "cell_type": "code",
      "execution_count": null,
      "metadata": {
        "id": "qdKVQDUdKVmI"
      },
      "outputs": [],
      "source": [
        "#outputs = psp_net(x)\n",
        "y = batch_out[0] "
      ]
    },
    {
      "cell_type": "code",
      "execution_count": null,
      "metadata": {
        "colab": {
          "base_uri": "https://localhost:8080/"
        },
        "id": "ShcaaEPeMDUX",
        "outputId": "8d5e34a7-f0cf-42a4-e32b-3f05ce9bbc20"
      },
      "outputs": [
        {
          "data": {
            "text/plain": [
              "torch.Size([3, 3, 475, 475])"
            ]
          },
          "execution_count": 137,
          "metadata": {},
          "output_type": "execute_result"
        }
      ],
      "source": [
        "y.size()"
      ]
    },
    {
      "cell_type": "code",
      "execution_count": null,
      "metadata": {
        "colab": {
          "base_uri": "https://localhost:8080/"
        },
        "id": "8J0D4cnhMCIq",
        "outputId": "3a56c3e6-6673-47f2-a2f8-c907e0cf8625"
      },
      "outputs": [
        {
          "data": {
            "text/plain": [
              "(3, 475, 475)"
            ]
          },
          "execution_count": 140,
          "metadata": {},
          "output_type": "execute_result"
        }
      ],
      "source": [
        "z = y[0].cpu().detach().numpy()\n",
        "z.shape"
      ]
    },
    {
      "cell_type": "code",
      "execution_count": null,
      "metadata": {
        "colab": {
          "base_uri": "https://localhost:8080/"
        },
        "id": "p31tavcwMA8v",
        "outputId": "8f192d42-2d43-4f83-d078-7cd3446e3d2f"
      },
      "outputs": [
        {
          "data": {
            "text/plain": [
              "(475, 475)"
            ]
          },
          "execution_count": 141,
          "metadata": {},
          "output_type": "execute_result"
        }
      ],
      "source": [
        "np.argmax(z, axis=0).shape"
      ]
    },
    {
      "cell_type": "code",
      "execution_count": null,
      "metadata": {
        "id": "AEo7lmeqVcQF"
      },
      "outputs": [],
      "source": [
        "import torch\n",
        "from torch import nn\n",
        "import torch.nn.functional as F\n",
        "from scipy.ndimage import distance_transform_edt\n",
        "from skimage import segmentation as skimage_seg\n",
        "\n",
        "softmax_helper = lambda x: F.softmax(x, 1)\n",
        "\n",
        "def compute_sdf(img_gt, out_shape):\n",
        "    \"\"\"\n",
        "    compute the signed distance map of binary mask\n",
        "    input: segmentation, shape = (batch_size, x, y, z)\n",
        "    output: the Signed Distance Map (SDM) \n",
        "    sdf(x) = 0; x in segmentation boundary\n",
        "             -inf|x-y|; x in segmentation\n",
        "             +inf|x-y|; x out of segmentation\n",
        "    \"\"\"\n",
        "\n",
        "    img_gt = img_gt.astype(np.uint8)\n",
        "\n",
        "    gt_sdf = np.zeros(out_shape)\n",
        "\n",
        "    for b in range(out_shape[0]): # batch size\n",
        "        for c in range(1, out_shape[1]): # channel\n",
        "            posmask = img_gt[b][c].astype(np.bool)\n",
        "            if posmask.any():\n",
        "                negmask = ~posmask\n",
        "                posdis = distance_transform_edt(posmask)\n",
        "                negdis = distance_transform_edt(negmask)\n",
        "                boundary = skimage_seg.find_boundaries(posmask, mode='inner').astype(np.uint8)\n",
        "                sdf = negdis - posdis\n",
        "                sdf[boundary==1] = 0\n",
        "                gt_sdf[b][c] = sdf\n",
        "\n",
        "    return gt_sdf\n",
        "\n",
        "class BDLoss(nn.Module):\n",
        "    def __init__(self):\n",
        "        \"\"\"\n",
        "        compute boudary loss\n",
        "        only compute the loss of foreground\n",
        "        ref: https://github.com/LIVIAETS/surface-loss/blob/108bd9892adca476e6cdf424124bc6268707498e/losses.py#L74\n",
        "        \"\"\"\n",
        "        super(BDLoss, self).__init__()\n",
        "        # self.do_bg = do_bg\n",
        "\n",
        "    def forward(self, net_output, gt):\n",
        "        \"\"\"\n",
        "        net_output: (batch_size, class, x,y,z)\n",
        "        target: ground truth, shape: (batch_size, 1, x,y,z)\n",
        "        bound: precomputed distance map, shape (batch_size, class, x,y,z)\n",
        "        \"\"\"\n",
        "        net_output = softmax_helper(net_output)\n",
        "        with torch.no_grad():\n",
        "            if len(net_output.shape) != len(gt.shape):\n",
        "                gt = gt.view((gt.shape[0], 1, *gt.shape[1:]))\n",
        "\n",
        "            if all([i == j for i, j in zip(net_output.shape, gt.shape)]):\n",
        "                # if this is the case then gt is probably already a one hot encoding\n",
        "                y_onehot = gt\n",
        "            else:\n",
        "                gt = gt.long()\n",
        "                y_onehot = torch.zeros(net_output.shape)\n",
        "                if net_output.device.type == \"cuda\":\n",
        "                    y_onehot = y_onehot.cuda(net_output.device.index)\n",
        "                y_onehot.scatter_(1, gt, 1)\n",
        "            gt_sdf = compute_sdf(y_onehot.cpu().numpy(), net_output.shape)\n",
        "\n",
        "        phi = torch.from_numpy(gt_sdf)\n",
        "        if phi.device != net_output.device:\n",
        "            phi = phi.to(net_output.device).type(torch.float32)\n",
        "        # pred = net_output[:, 1:, ...].type(torch.float32)\n",
        "        # phi = phi[:,1:, ...].type(torch.float32)\n",
        "\n",
        "        multipled = torch.einsum(\"bcxy,bcxy->bcxy\", net_output[:, 1:, ...], phi[:, 1:, ...])\n",
        "        bd_loss = multipled.mean()\n",
        "\n",
        "        return bd_loss"
      ]
    },
    {
      "cell_type": "code",
      "execution_count": null,
      "metadata": {
        "id": "7gdPexyNr3hA"
      },
      "outputs": [],
      "source": [
        "#ref: https://github.com/JunMa11/SegLoss/blob/71b14900e91ea9405d9705c95b451fc819f24c70/test/loss_functions/boundary_loss.py#L131\n",
        "#from nnunet.training.loss_functions.TopK_loss import TopKLoss\n",
        "#from nnunet.utilities.nd_softmax import softmax_helper\n",
        "#from nnunet.training.loss_functions.ND_Crossentropy import CrossentropyND\n",
        "#from nnunet.utilities.tensor_utilities import sum_tensor\n",
        "from torch import nn\n",
        "from scipy.ndimage import distance_transform_edt\n",
        "from skimage import segmentation as skimage_seg\n",
        "import numpy as np\n",
        "\n",
        "import numpy as np\n",
        "import torch\n",
        "from torch import nn\n",
        "\n",
        "\n",
        "def sum_tensor(inp, axes, keepdim=False):\n",
        "    axes = np.unique(axes).astype(int)\n",
        "    if keepdim:\n",
        "        for ax in axes:\n",
        "            inp = inp.sum(int(ax), keepdim=True)\n",
        "    else:\n",
        "        for ax in sorted(axes, reverse=True):\n",
        "            inp = inp.sum(int(ax))\n",
        "    return inp\n",
        "\n",
        "def get_tp_fp_fn(net_output, gt, axes=None, mask=None, square=False):\n",
        "    \"\"\"\n",
        "    net_output must be (b, c, x, y(, z)))\n",
        "    gt must be a label map (shape (b, 1, x, y(, z)) OR shape (b, x, y(, z))) or one hot encoding (b, c, x, y(, z))\n",
        "    if mask is provided it must have shape (b, 1, x, y(, z)))\n",
        "    :param net_output:\n",
        "    :param gt:\n",
        "    :param axes:\n",
        "    :param mask: mask must be 1 for valid pixels and 0 for invalid pixels\n",
        "    :param square: if True then fp, tp and fn will be squared before summation\n",
        "    :return:\n",
        "    \"\"\"\n",
        "    if axes is None:\n",
        "        axes = tuple(range(2, len(net_output.size())))\n",
        "\n",
        "    shp_x = net_output.shape\n",
        "    shp_y = gt.shape\n",
        "\n",
        "    with torch.no_grad():\n",
        "        if len(shp_x) != len(shp_y):\n",
        "            gt = gt.view((shp_y[0], 1, *shp_y[1:]))\n",
        "\n",
        "        if all([i == j for i, j in zip(net_output.shape, gt.shape)]):\n",
        "            # if this is the case then gt is probably already a one hot encoding\n",
        "            y_onehot = gt\n",
        "        else:\n",
        "            gt = gt.long()\n",
        "            y_onehot = torch.zeros(shp_x)\n",
        "            if net_output.device.type == \"cuda\":\n",
        "                y_onehot = y_onehot.cuda(net_output.device.index)\n",
        "            y_onehot.scatter_(1, gt, 1)\n",
        "\n",
        "    tp = net_output * y_onehot\n",
        "    fp = net_output * (1 - y_onehot)\n",
        "    fn = (1 - net_output) * y_onehot\n",
        "\n",
        "    if mask is not None:\n",
        "        tp = torch.stack(tuple(x_i * mask[:, 0] for x_i in torch.unbind(tp, dim=1)), dim=1)\n",
        "        fp = torch.stack(tuple(x_i * mask[:, 0] for x_i in torch.unbind(fp, dim=1)), dim=1)\n",
        "        fn = torch.stack(tuple(x_i * mask[:, 0] for x_i in torch.unbind(fn, dim=1)), dim=1)\n",
        "\n",
        "    if square:\n",
        "        tp = tp ** 2\n",
        "        fp = fp ** 2\n",
        "        fn = fn ** 2\n",
        "\n",
        "    tp = sum_tensor(tp, axes, keepdim=False)\n",
        "    fp = sum_tensor(fp, axes, keepdim=False)\n",
        "    fn = sum_tensor(fn, axes, keepdim=False)\n",
        "\n",
        "    return tp, fp, fn\n",
        "\n",
        "\n",
        "class SoftDiceLoss(nn.Module):\n",
        "    def __init__(self, apply_nonlin=None, batch_dice=False, do_bg=True, smooth=1.,\n",
        "                 square=False):\n",
        "        \"\"\"\n",
        "        \"\"\"\n",
        "        super(SoftDiceLoss, self).__init__()\n",
        "\n",
        "        self.square = square\n",
        "        self.do_bg = do_bg\n",
        "        self.batch_dice = batch_dice\n",
        "        self.apply_nonlin = apply_nonlin\n",
        "        self.smooth = smooth\n",
        "\n",
        "    def forward(self, x, y, loss_mask=None):\n",
        "        shp_x = x.shape\n",
        "\n",
        "        if self.batch_dice:\n",
        "            axes = [0] + list(range(2, len(shp_x)))\n",
        "        else:\n",
        "            axes = list(range(2, len(shp_x)))\n",
        "\n",
        "        if self.apply_nonlin is not None:\n",
        "            x = self.apply_nonlin(x)\n",
        "\n",
        "        tp, fp, fn = get_tp_fp_fn(x, y, axes, loss_mask, self.square)\n",
        "\n",
        "        dc = (2 * tp + self.smooth) / (2 * tp + fp + fn + self.smooth)\n",
        "\n",
        "        if not self.do_bg:\n",
        "            if self.batch_dice:\n",
        "                dc = dc[1:]\n",
        "            else:\n",
        "                dc = dc[:, 1:]\n",
        "        dc = dc.mean()\n",
        "\n",
        "        return 1-dc\n",
        "\n",
        "\n",
        "\n",
        "\n",
        "class DC_and_BD_loss(nn.Module):\n",
        "    def __init__(self, soft_dice_kwargs, bd_kwargs, aggregate=\"sum\"):\n",
        "        super(DC_and_BD_loss, self).__init__()\n",
        "        self.aggregate = aggregate\n",
        "        self.dc = SoftDiceLoss(apply_nonlin=softmax_helper, **soft_dice_kwargs)\n",
        "        self.bd = BDLoss(**bd_kwargs)\n",
        "        \n",
        "\n",
        "    def forward(self, net_output, target):\n",
        "        dc_loss = self.dc(net_output, target)\n",
        "        bd_loss = self.bd(net_output, target)\n",
        "        if self.aggregate == \"sum\":\n",
        "            result = 0.01*dc_loss + (1-0.01)*bd_loss\n",
        "        else:\n",
        "            raise NotImplementedError(\"nah son\") \n",
        "        return result       \n"
      ]
    },
    {
      "cell_type": "code",
      "execution_count": null,
      "metadata": {
        "id": "LOhmGVg8tQh2"
      },
      "outputs": [],
      "source": [
        "new_loss = DC_and_BD_loss(soft_dice_kwargs= {'batch_dice' : True, 'do_bg' : False, 'smooth' : 1e-5, 'square' : False}, bd_kwargs = {})"
      ]
    },
    {
      "cell_type": "code",
      "execution_count": null,
      "metadata": {
        "id": "AYnQe7NOpNIA"
      },
      "outputs": [],
      "source": [
        ""
      ]
    },
    {
      "cell_type": "code",
      "execution_count": null,
      "metadata": {
        "id": "3cyuDEdhVfOl"
      },
      "outputs": [],
      "source": [
        "bd_loss = BDLoss()"
      ]
    },
    {
      "cell_type": "code",
      "execution_count": null,
      "metadata": {
        "colab": {
          "base_uri": "https://localhost:8080/"
        },
        "id": "mN9ltBAzVkaJ",
        "outputId": "969ab4af-014e-4a68-a273-cb85d66daea8"
      },
      "outputs": [
        {
          "name": "stderr",
          "output_type": "stream",
          "text": [
            "/usr/local/lib/python3.7/dist-packages/ipykernel_launcher.py:25: DeprecationWarning: `np.bool` is a deprecated alias for the builtin `bool`. To silence this warning, use `bool` by itself. Doing this will not modify any behavior and is safe. If you specifically wanted the numpy scalar type, use `np.bool_` here.\n",
            "Deprecated in NumPy 1.20; for more details and guidance: https://numpy.org/devdocs/release/1.20.0-notes.html#deprecations\n"
          ]
        },
        {
          "data": {
            "text/plain": [
              "tensor(-2.7482, dtype=torch.float64, grad_fn=<MeanBackward0>)"
            ]
          },
          "execution_count": 131,
          "metadata": {},
          "output_type": "execute_result"
        }
      ],
      "source": [
        "bd_loss(batch_out[0],batch_label)"
      ]
    },
    {
      "cell_type": "code",
      "execution_count": null,
      "metadata": {
        "colab": {
          "base_uri": "https://localhost:8080/"
        },
        "id": "R_3OyGLRnoTr",
        "outputId": "c6e8ee02-5673-4ea6-850d-5f47ccf13027"
      },
      "outputs": [
        {
          "name": "stderr",
          "output_type": "stream",
          "text": [
            "/usr/local/lib/python3.7/dist-packages/ipykernel_launcher.py:25: DeprecationWarning: `np.bool` is a deprecated alias for the builtin `bool`. To silence this warning, use `bool` by itself. Doing this will not modify any behavior and is safe. If you specifically wanted the numpy scalar type, use `np.bool_` here.\n",
            "Deprecated in NumPy 1.20; for more details and guidance: https://numpy.org/devdocs/release/1.20.0-notes.html#deprecations\n"
          ]
        },
        {
          "data": {
            "text/plain": [
              "tensor(-1.8844, dtype=torch.float64, grad_fn=<MeanBackward0>)"
            ]
          },
          "execution_count": 132,
          "metadata": {},
          "output_type": "execute_result"
        }
      ],
      "source": [
        "bd_loss(batch_out[0],batch_label2)"
      ]
    },
    {
      "cell_type": "code",
      "execution_count": null,
      "metadata": {
        "colab": {
          "base_uri": "https://localhost:8080/"
        },
        "id": "V748hw2KqECz",
        "outputId": "2d18d7b3-2b47-46fc-d19f-09751e0f3afb"
      },
      "outputs": [
        {
          "name": "stderr",
          "output_type": "stream",
          "text": [
            "/usr/local/lib/python3.7/dist-packages/ipykernel_launcher.py:25: DeprecationWarning: `np.bool` is a deprecated alias for the builtin `bool`. To silence this warning, use `bool` by itself. Doing this will not modify any behavior and is safe. If you specifically wanted the numpy scalar type, use `np.bool_` here.\n",
            "Deprecated in NumPy 1.20; for more details and guidance: https://numpy.org/devdocs/release/1.20.0-notes.html#deprecations\n"
          ]
        },
        {
          "data": {
            "text/plain": [
              "tensor(-2.1921, dtype=torch.float64, grad_fn=<MeanBackward0>)"
            ]
          },
          "execution_count": 146,
          "metadata": {},
          "output_type": "execute_result"
        }
      ],
      "source": [
        "bd_loss(batch_out2[0],batch_label)"
      ]
    },
    {
      "cell_type": "code",
      "execution_count": null,
      "metadata": {
        "colab": {
          "base_uri": "https://localhost:8080/"
        },
        "id": "Y72Etdd_qGsA",
        "outputId": "189699c1-ed4c-4725-ade7-4fbe07429a33"
      },
      "outputs": [
        {
          "name": "stderr",
          "output_type": "stream",
          "text": [
            "/usr/local/lib/python3.7/dist-packages/ipykernel_launcher.py:25: DeprecationWarning: `np.bool` is a deprecated alias for the builtin `bool`. To silence this warning, use `bool` by itself. Doing this will not modify any behavior and is safe. If you specifically wanted the numpy scalar type, use `np.bool_` here.\n",
            "Deprecated in NumPy 1.20; for more details and guidance: https://numpy.org/devdocs/release/1.20.0-notes.html#deprecations\n"
          ]
        },
        {
          "data": {
            "text/plain": [
              "tensor(-2.4845, dtype=torch.float64, grad_fn=<MeanBackward0>)"
            ]
          },
          "execution_count": 147,
          "metadata": {},
          "output_type": "execute_result"
        }
      ],
      "source": [
        "bd_loss(batch_out2[0],batch_label2)"
      ]
    },
    {
      "cell_type": "code",
      "execution_count": null,
      "metadata": {
        "id": "icbd43TYpiLP"
      },
      "outputs": [],
      "source": [
        "def compute_gt_dtm(img_gt, out_shape):\n",
        "    \"\"\"\n",
        "    compute the distance transform map of foreground in ground gruth.\n",
        "    input: segmentation, shape = (batch_size, class, x, y, z)\n",
        "    output: the foreground Distance Map (SDM) \n",
        "    dtm(x) = 0; x in segmentation boundary\n",
        "             inf|x-y|; x in segmentation\n",
        "    \"\"\"\n",
        "\n",
        "    fg_dtm = np.zeros(out_shape)\n",
        "\n",
        "    for b in range(out_shape[0]): # batch size\n",
        "        for c in range(1, out_shape[1]): # class; exclude the background class\n",
        "            posmask = img_gt[b][c].astype(np.bool)\n",
        "            if posmask.any():\n",
        "                posdis = distance_transform_edt(posmask)\n",
        "                fg_dtm[b][c] = posdis\n",
        "\n",
        "    return fg_dtm\n",
        "\n",
        "def compute_pred_dtm(img_gt, out_shape):\n",
        "    \"\"\"\n",
        "    compute the distance transform map of foreground in prediction.\n",
        "    input: segmentation, shape = (batch_size, class, x, y, z)\n",
        "    output: the foreground Distance Map (SDM) \n",
        "    dtm(x) = 0; x in segmentation boundary\n",
        "             inf|x-y|; x in segmentation\n",
        "    \"\"\"\n",
        "\n",
        "    fg_dtm = np.zeros(out_shape)\n",
        "\n",
        "    for b in range(out_shape[0]): # batch size\n",
        "        for c in range(1, out_shape[1]): # class; exclude the background class\n",
        "            posmask = img_gt[b][c]>0.5\n",
        "            if posmask.any():\n",
        "                posdis = distance_transform_edt(posmask)\n",
        "                fg_dtm[b][c] = posdis\n",
        "\n",
        "    return fg_dtm\n",
        "class HDLoss(nn.Module):\n",
        "    def __init__(self):\n",
        "        \"\"\"\n",
        "        compute haudorff loss for binary segmentation\n",
        "        https://arxiv.org/pdf/1904.10030v1.pdf        \n",
        "        \"\"\"\n",
        "        super(HDLoss, self).__init__()\n",
        "\n",
        "\n",
        "    def forward(self, net_output, gt):\n",
        "        \"\"\"\n",
        "        net_output: (batch_size, c, x,y,z)\n",
        "        target: ground truth, shape: (batch_size, c, x,y,z)\n",
        "        \"\"\"\n",
        "        net_output = softmax_helper(net_output)\n",
        "        # one hot code for gt\n",
        "        with torch.no_grad():\n",
        "            if len(net_output.shape) != len(gt.shape):\n",
        "                gt = gt.view((gt.shape[0], 1, *gt.shape[1:]))\n",
        "\n",
        "            if all([i == j for i, j in zip(net_output.shape, gt.shape)]):\n",
        "                # if this is the case then gt is probably already a one hot encoding\n",
        "                y_onehot = gt\n",
        "            else:\n",
        "                gt = gt.long()\n",
        "                y_onehot = torch.zeros(net_output.shape)\n",
        "                if net_output.device.type == \"cuda\":\n",
        "                    y_onehot = y_onehot.cuda(net_output.device.index)\n",
        "                y_onehot.scatter_(1, gt, 1)\n",
        "        # print('hd loss.py', net_output.shape, y_onehot.shape)\n",
        "\n",
        "        with torch.no_grad():\n",
        "            pc_dist = compute_pred_dtm(net_output.cpu().numpy(), net_output.shape)\n",
        "            gt_dist = compute_gt_dtm(y_onehot.cpu().numpy(), net_output.shape)\n",
        "            dist = pc_dist**2 + gt_dist**2 # \\alpha=2 in eq(8)\n",
        "            # print('pc_dist.shape: ', pc_dist.shape, 'gt_dist.shape', gt_dist.shape)\n",
        "        \n",
        "        pred_error = (net_output - y_onehot)**2\n",
        "\n",
        "        dist = torch.from_numpy(dist)\n",
        "        if dist.device != pred_error.device:\n",
        "            dist = dist.to(pred_error.device).type(torch.float32)\n",
        "\n",
        "        multipled = torch.einsum(\"bcxy,bcxy->bcxy\", pred_error[:,1:,...], dist[:,1:,...])\n",
        "        hd_loss = multipled.mean()\n",
        "\n",
        "        return hd_loss"
      ]
    },
    {
      "cell_type": "code",
      "execution_count": null,
      "metadata": {
        "id": "uVZDnU7OpjqR"
      },
      "outputs": [],
      "source": [
        "hd_loss = HDLoss()"
      ]
    },
    {
      "cell_type": "code",
      "execution_count": null,
      "metadata": {
        "colab": {
          "base_uri": "https://localhost:8080/"
        },
        "id": "qxKjMKCDplwj",
        "outputId": "385ffa92-9419-4f53-9014-09dc3dbebe5f"
      },
      "outputs": [
        {
          "name": "stderr",
          "output_type": "stream",
          "text": [
            "/usr/local/lib/python3.7/dist-packages/ipykernel_launcher.py:14: DeprecationWarning: `np.bool` is a deprecated alias for the builtin `bool`. To silence this warning, use `bool` by itself. Doing this will not modify any behavior and is safe. If you specifically wanted the numpy scalar type, use `np.bool_` here.\n",
            "Deprecated in NumPy 1.20; for more details and guidance: https://numpy.org/devdocs/release/1.20.0-notes.html#deprecations\n",
            "  \n"
          ]
        },
        {
          "data": {
            "text/plain": [
              "tensor(0.1924, dtype=torch.float64, grad_fn=<MeanBackward0>)"
            ]
          },
          "execution_count": 141,
          "metadata": {},
          "output_type": "execute_result"
        }
      ],
      "source": [
        "hd_loss(batch_out[0],batch_label)"
      ]
    },
    {
      "cell_type": "code",
      "execution_count": null,
      "metadata": {
        "colab": {
          "base_uri": "https://localhost:8080/"
        },
        "id": "WlFWMt8Pp0Rn",
        "outputId": "0977e460-f9ad-4ba4-a5dc-20317003c9a7"
      },
      "outputs": [
        {
          "name": "stderr",
          "output_type": "stream",
          "text": [
            "/usr/local/lib/python3.7/dist-packages/ipykernel_launcher.py:25: DeprecationWarning: `np.bool` is a deprecated alias for the builtin `bool`. To silence this warning, use `bool` by itself. Doing this will not modify any behavior and is safe. If you specifically wanted the numpy scalar type, use `np.bool_` here.\n",
            "Deprecated in NumPy 1.20; for more details and guidance: https://numpy.org/devdocs/release/1.20.0-notes.html#deprecations\n"
          ]
        },
        {
          "data": {
            "text/plain": [
              "tensor(-1.8844, dtype=torch.float64, grad_fn=<MeanBackward0>)"
            ]
          },
          "execution_count": 142,
          "metadata": {},
          "output_type": "execute_result"
        }
      ],
      "source": [
        "bd_loss(batch_out[0],batch_label2)"
      ]
    },
    {
      "cell_type": "code",
      "execution_count": null,
      "metadata": {
        "colab": {
          "base_uri": "https://localhost:8080/"
        },
        "id": "jTCjjf94p4C2",
        "outputId": "345427e4-6a4c-4d3c-e183-33e42380f07d"
      },
      "outputs": [
        {
          "name": "stderr",
          "output_type": "stream",
          "text": [
            "/usr/local/lib/python3.7/dist-packages/ipykernel_launcher.py:25: DeprecationWarning: `np.bool` is a deprecated alias for the builtin `bool`. To silence this warning, use `bool` by itself. Doing this will not modify any behavior and is safe. If you specifically wanted the numpy scalar type, use `np.bool_` here.\n",
            "Deprecated in NumPy 1.20; for more details and guidance: https://numpy.org/devdocs/release/1.20.0-notes.html#deprecations\n"
          ]
        },
        {
          "data": {
            "text/plain": [
              "tensor(-2.4845, dtype=torch.float64, grad_fn=<MeanBackward0>)"
            ]
          },
          "execution_count": 144,
          "metadata": {},
          "output_type": "execute_result"
        }
      ],
      "source": [
        "bd_loss(batch_out2[0],batch_label2)"
      ]
    },
    {
      "cell_type": "code",
      "execution_count": null,
      "metadata": {
        "colab": {
          "base_uri": "https://localhost:8080/"
        },
        "id": "tadsMCWbp89X",
        "outputId": "c56d4bd8-811e-4ace-89d5-59fd6793dc17"
      },
      "outputs": [
        {
          "name": "stderr",
          "output_type": "stream",
          "text": [
            "/usr/local/lib/python3.7/dist-packages/ipykernel_launcher.py:25: DeprecationWarning: `np.bool` is a deprecated alias for the builtin `bool`. To silence this warning, use `bool` by itself. Doing this will not modify any behavior and is safe. If you specifically wanted the numpy scalar type, use `np.bool_` here.\n",
            "Deprecated in NumPy 1.20; for more details and guidance: https://numpy.org/devdocs/release/1.20.0-notes.html#deprecations\n"
          ]
        },
        {
          "data": {
            "text/plain": [
              "tensor(-2.1921, dtype=torch.float64, grad_fn=<MeanBackward0>)"
            ]
          },
          "execution_count": 145,
          "metadata": {},
          "output_type": "execute_result"
        }
      ],
      "source": [
        "bd_loss(batch_out2[0],batch_label)"
      ]
    },
    {
      "cell_type": "markdown",
      "metadata": {
        "id": "gZfkKdQDjxTg"
      },
      "source": [
        "## Define Dataset"
      ]
    },
    {
      "cell_type": "code",
      "execution_count": null,
      "metadata": {
        "id": "8ddjt2LzjiDJ"
      },
      "outputs": [],
      "source": [
        "!cp /content/drive/MyDrive/2022/LungSegmentation/data_augumentation.py /content"
      ]
    },
    {
      "cell_type": "code",
      "execution_count": null,
      "metadata": {
        "id": "N0T82Mn4j0gk"
      },
      "outputs": [],
      "source": [
        "from data_augumentation import *"
      ]
    },
    {
      "cell_type": "code",
      "execution_count": null,
      "metadata": {
        "id": "jhN2iOwdj17u"
      },
      "outputs": [],
      "source": [
        "class DataTransform():\n",
        "  def __init__(self, input_size, color_mean, color_std):#input_size: size you want the image to be\n",
        "    self.data_transform = {\n",
        "            'train': Compose([\n",
        "                Resize(input_size), \n",
        "                Normalize_Tensor(color_mean, color_std)#Normalization+ToTensor\n",
        "            ]),\n",
        "            'train_aug': Compose([\n",
        "                #RandomMirror(),\n",
        "                Resize(input_size),  # リサイズ(input_size)\n",
        "                Normalize_Tensor(color_mean, color_std)  # 色情報の標準化とテンソル化\n",
        "            ]),\n",
        "            'val': Compose([\n",
        "                Resize(input_size),\n",
        "                Normalize_Tensor(color_mean, color_std)#Normalization+ToTensor\n",
        "            ])\n",
        "        }\n",
        "  def __call__(self, phase, img, anno_class_img):\n",
        "        return self.data_transform[phase](img, anno_class_img)"
      ]
    },
    {
      "cell_type": "code",
      "execution_count": null,
      "metadata": {
        "id": "nRN-H77sj3aP"
      },
      "outputs": [],
      "source": [
        "class LungDataset(data.Dataset):\n",
        "  def __init__(self, img_list, anno_list, phase, transform):\n",
        "        self.img_list = img_list\n",
        "        self.anno_list = anno_list\n",
        "        self.phase = phase#train or test\n",
        "        self.transform = transform\n",
        "        #self.disttransform = dist_map_transform([1, 1], 2)\n",
        "  \n",
        "  def __len__(self):\n",
        "        return len(self.img_list)\n",
        "\n",
        "  def __getitem__(self, index):\n",
        "        img, anno_class_img = self.pull_item(index)\n",
        "        return img, anno_class_img\n",
        "\n",
        "  def pull_item(self, index):\n",
        "        image_file_path = self.img_list[index]\n",
        "        original_img = Image.open(image_file_path)#height, width, channel\n",
        "        img = Image.open(image_file_path)\n",
        "        anno_file_path = self.anno_list[index]\n",
        "        anno_class_img = Image.open(anno_file_path)\n",
        "\n",
        "        img, anno_class_img = self.transform(self.phase, img, anno_class_img)\n",
        "        #dist_map = self.disttransform(original_img)\n",
        "        return img, anno_class_img"
      ]
    },
    {
      "cell_type": "code",
      "execution_count": null,
      "metadata": {
        "id": "1_IvEgGPj6vC"
      },
      "outputs": [],
      "source": [
        "color_mean = (0.485, 0.456, 0.406)\n",
        "color_std = (0.229, 0.224, 0.225)"
      ]
    },
    {
      "cell_type": "code",
      "execution_count": null,
      "metadata": {
        "id": "7pEAKqxXj8Rn"
      },
      "outputs": [],
      "source": [
        "train_dataset = LungDataset(train_img_list, train_anno_list, phase=\"train\", transform=DataTransform(\n",
        "    input_size=475, color_mean=color_mean, color_std=color_std))"
      ]
    },
    {
      "cell_type": "code",
      "execution_count": null,
      "metadata": {
        "id": "Htzv4teMWkZa"
      },
      "outputs": [],
      "source": [
        "train_aug_dataset = LungDataset(train_aug_list, train_anno_list, phase=\"train_aug\", transform=DataTransform(\n",
        "    input_size=475, color_mean=color_mean, color_std=color_std))"
      ]
    },
    {
      "cell_type": "code",
      "execution_count": null,
      "metadata": {
        "id": "HWT68H3Pj-8S"
      },
      "outputs": [],
      "source": [
        "val_dataset = LungDataset(test_img_list, test_anno_list, phase=\"val\", transform=DataTransform(\n",
        "    input_size=475, color_mean=color_mean, color_std=color_std))"
      ]
    },
    {
      "cell_type": "code",
      "execution_count": null,
      "metadata": {
        "colab": {
          "base_uri": "https://localhost:8080/"
        },
        "id": "QXj7VTe0hXVa",
        "outputId": "cf428509-3a62-4a82-fbbf-78303d6bef29"
      },
      "outputs": [
        {
          "data": {
            "text/plain": [
              "397"
            ]
          },
          "execution_count": 44,
          "metadata": {},
          "output_type": "execute_result"
        }
      ],
      "source": [
        "len(train_dataset)"
      ]
    },
    {
      "cell_type": "code",
      "execution_count": null,
      "metadata": {
        "colab": {
          "base_uri": "https://localhost:8080/"
        },
        "id": "EPY0GOPGXQnz",
        "outputId": "ede64603-92b5-48ef-f98a-49dcfad77b16"
      },
      "outputs": [
        {
          "data": {
            "text/plain": [
              "397"
            ]
          },
          "execution_count": 45,
          "metadata": {},
          "output_type": "execute_result"
        }
      ],
      "source": [
        "len(train_aug_dataset)"
      ]
    },
    {
      "cell_type": "code",
      "execution_count": null,
      "metadata": {
        "colab": {
          "base_uri": "https://localhost:8080/"
        },
        "id": "cqPDXLhzbVIH",
        "outputId": "460d9313-d5eb-473a-b8ac-3e94ae9fa883"
      },
      "outputs": [
        {
          "data": {
            "text/plain": [
              "169"
            ]
          },
          "execution_count": 46,
          "metadata": {},
          "output_type": "execute_result"
        }
      ],
      "source": [
        "len(val_dataset)"
      ]
    },
    {
      "cell_type": "code",
      "execution_count": null,
      "metadata": {
        "colab": {
          "base_uri": "https://localhost:8080/"
        },
        "id": "LMTGx0rYnW0r",
        "outputId": "e3b9b751-b6ec-4f8f-8bc1-8afd2e3b5043"
      },
      "outputs": [
        {
          "name": "stdout",
          "output_type": "stream",
          "text": [
            "torch.Size([3, 475, 475])\n",
            "torch.Size([475, 475])\n"
          ]
        }
      ],
      "source": [
        "print(train_dataset.__getitem__(0)[0].shape)#img\n",
        "print(train_dataset.__getitem__(0)[1].shape)#annotation"
      ]
    },
    {
      "cell_type": "code",
      "execution_count": null,
      "metadata": {
        "colab": {
          "base_uri": "https://localhost:8080/"
        },
        "id": "wQdY5ZYTXfP1",
        "outputId": "ba101940-52fc-4f1f-cd19-7593c3ec4cf6"
      },
      "outputs": [
        {
          "name": "stdout",
          "output_type": "stream",
          "text": [
            "torch.Size([3, 475, 475])\n",
            "torch.Size([475, 475])\n"
          ]
        }
      ],
      "source": [
        "print(train_aug_dataset.__getitem__(0)[0].shape)#img\n",
        "print(train_aug_dataset.__getitem__(0)[1].shape)#annotation"
      ]
    },
    {
      "cell_type": "code",
      "execution_count": null,
      "metadata": {
        "colab": {
          "base_uri": "https://localhost:8080/"
        },
        "id": "DCEC0zL9kBpN",
        "outputId": "d3db9e1f-fec6-48cf-e45e-2a10641a9577"
      },
      "outputs": [
        {
          "name": "stdout",
          "output_type": "stream",
          "text": [
            "torch.Size([3, 475, 475])\n",
            "torch.Size([475, 475])\n"
          ]
        }
      ],
      "source": [
        "print(val_dataset.__getitem__(0)[0].shape)#img\n",
        "print(val_dataset.__getitem__(0)[1].shape)#annotation"
      ]
    },
    {
      "cell_type": "code",
      "execution_count": null,
      "metadata": {
        "colab": {
          "base_uri": "https://localhost:8080/"
        },
        "id": "SG1Z9BGskJ7z",
        "outputId": "edc4249b-5651-4539-e76e-d5b49cb38d5a"
      },
      "outputs": [
        {
          "data": {
            "text/plain": [
              "array([0, 1, 2], dtype=uint8)"
            ]
          },
          "execution_count": 50,
          "metadata": {},
          "output_type": "execute_result"
        }
      ],
      "source": [
        "np.unique(val_dataset.__getitem__(0)[1])#0: background, 30: left, 60: right"
      ]
    },
    {
      "cell_type": "markdown",
      "metadata": {
        "id": "7_52rRgnnGUN"
      },
      "source": [
        "## Define DataLoader"
      ]
    },
    {
      "cell_type": "code",
      "execution_count": null,
      "metadata": {
        "id": "76DhVFbakQ7A"
      },
      "outputs": [],
      "source": [
        "batch_size = 3\n",
        "train_dataset = torch.utils.data.ConcatDataset([train_dataset, train_aug_dataset])#,batch_size = batch_size, shuffle = True)\n",
        "train_dataloader = data.DataLoader(train_dataset, batch_size = batch_size, shuffle = True)\n",
        "val_dataloader = data.DataLoader(val_dataset, batch_size = batch_size, shuffle = False)\n",
        "dataloaders_dict = {\"train\":train_dataloader, \"val\":val_dataloader}"
      ]
    },
    {
      "cell_type": "code",
      "execution_count": null,
      "metadata": {
        "colab": {
          "base_uri": "https://localhost:8080/"
        },
        "id": "SGK_i160YLyx",
        "outputId": "fe5e76c1-91e9-47ea-f725-0935e3cfdb3a"
      },
      "outputs": [
        {
          "name": "stdout",
          "output_type": "stream",
          "text": [
            "final train dataset size: 794\n"
          ]
        }
      ],
      "source": [
        "num_train_imgs = len(dataloaders_dict[\"train\"].dataset)\n",
        "print(f\"final train dataset size: {num_train_imgs}\")"
      ]
    },
    {
      "cell_type": "code",
      "execution_count": null,
      "metadata": {
        "id": "uZIZ9p-35I7m"
      },
      "outputs": [],
      "source": [
        "i = 0\n",
        "sample_img1, sample_mask1 = train_aug_dataset.__getitem__(i)[0],train_aug_dataset.__getitem__(i)[1]\n",
        "i = 1\n",
        "sample_img2, sample_mask2 = train_aug_dataset.__getitem__(i)[0],train_aug_dataset.__getitem__(i)[1]"
      ]
    },
    {
      "cell_type": "code",
      "execution_count": null,
      "metadata": {
        "id": "K-bv-QQYBBpu"
      },
      "outputs": [],
      "source": [
        "def calculate_hd(outputs_, label):\n",
        "  loss_hd = 0\n",
        "  label_batch = label\n",
        "  outputs = outputs_\n",
        "  outputs_soft = F.softmax(outputs[0], dim = 1)\n",
        "  with torch.no_grad():\n",
        "    gt_dtm_npy = compute_dtm(label_batch.detach().cpu().numpy(),outputs_soft.shape)\n",
        "    gt_dtm = torch.from_numpy(gt_dtm_npy).float().cuda(outputs_soft.device.index)\n",
        "    seg_dtm_npy = compute_dtm(outputs_soft[:, 1, :, :].detach().cpu().numpy()>0.5, outputs_soft.shape)\n",
        "    seg_dtm = torch.from_numpy(seg_dtm_npy).float().cuda(outputs_soft.device.index)\n",
        "    \n",
        "  loss_hd = hd_loss(outputs_soft, label_batch, seg_dtm, gt_dtm)\n",
        "  return loss_hd"
      ]
    },
    {
      "cell_type": "code",
      "execution_count": null,
      "metadata": {
        "colab": {
          "base_uri": "https://localhost:8080/"
        },
        "id": "azJzbjvsEwnc",
        "outputId": "53ab4d70-48bd-4f5a-f165-d202bc914cea"
      },
      "outputs": [
        {
          "data": {
            "text/plain": [
              "torch.Size([1, 3, 475, 475])"
            ]
          },
          "execution_count": 215,
          "metadata": {},
          "output_type": "execute_result"
        }
      ],
      "source": [
        "outputs1[0].shape"
      ]
    },
    {
      "cell_type": "code",
      "execution_count": null,
      "metadata": {
        "colab": {
          "base_uri": "https://localhost:8080/"
        },
        "id": "0kvD-dNPEzGL",
        "outputId": "f0aa968e-31b7-45e2-e069-7287b34a23be"
      },
      "outputs": [
        {
          "data": {
            "text/plain": [
              "torch.Size([1, 475, 475])"
            ]
          },
          "execution_count": 216,
          "metadata": {},
          "output_type": "execute_result"
        }
      ],
      "source": [
        "label_batch1.shape"
      ]
    },
    {
      "cell_type": "code",
      "execution_count": null,
      "metadata": {
        "id": "R3WBNGSoHw7k"
      },
      "outputs": [],
      "source": [
        "hds = []\n",
        "ces = []"
      ]
    },
    {
      "cell_type": "code",
      "execution_count": null,
      "metadata": {
        "colab": {
          "base_uri": "https://localhost:8080/"
        },
        "id": "-DvbPQgPC1Ig",
        "outputId": "d91f1af7-49f2-48f9-dac7-c66987ecc4af"
      },
      "outputs": [
        {
          "name": "stderr",
          "output_type": "stream",
          "text": [
            "/usr/local/lib/python3.7/dist-packages/ipykernel_launcher.py:15: DeprecationWarning: `np.bool` is a deprecated alias for the builtin `bool`. To silence this warning, use `bool` by itself. Doing this will not modify any behavior and is safe. If you specifically wanted the numpy scalar type, use `np.bool_` here.\n",
            "Deprecated in NumPy 1.20; for more details and guidance: https://numpy.org/devdocs/release/1.20.0-notes.html#deprecations\n",
            "  from ipykernel import kernelapp as app\n"
          ]
        }
      ],
      "source": [
        "hds.append(calculate_hd(outputs1, label_batch1).detach().cpu().numpy())"
      ]
    },
    {
      "cell_type": "code",
      "execution_count": null,
      "metadata": {
        "id": "3UldhqBJHNsI"
      },
      "outputs": [],
      "source": [
        "ces.append(F.cross_entropy(outputs1[0], label_batch1.long(), reduction = 'mean').detach().cpu().numpy())"
      ]
    },
    {
      "cell_type": "code",
      "execution_count": null,
      "metadata": {
        "colab": {
          "base_uri": "https://localhost:8080/"
        },
        "id": "pajl1n4VFbWr",
        "outputId": "5f6b29c3-3e26-403e-c84f-e0a282a626b3"
      },
      "outputs": [
        {
          "name": "stderr",
          "output_type": "stream",
          "text": [
            "/usr/local/lib/python3.7/dist-packages/ipykernel_launcher.py:15: DeprecationWarning: `np.bool` is a deprecated alias for the builtin `bool`. To silence this warning, use `bool` by itself. Doing this will not modify any behavior and is safe. If you specifically wanted the numpy scalar type, use `np.bool_` here.\n",
            "Deprecated in NumPy 1.20; for more details and guidance: https://numpy.org/devdocs/release/1.20.0-notes.html#deprecations\n",
            "  from ipykernel import kernelapp as app\n"
          ]
        }
      ],
      "source": [
        "hds.append(calculate_hd(outputs2, label_batch2).detach().cpu().numpy())"
      ]
    },
    {
      "cell_type": "code",
      "execution_count": null,
      "metadata": {
        "id": "hNob106KHamN"
      },
      "outputs": [],
      "source": [
        "ces.append(F.cross_entropy(outputs2[0], label_batch2.long(), reduction = 'mean').detach().cpu().numpy())"
      ]
    },
    {
      "cell_type": "code",
      "execution_count": null,
      "metadata": {
        "colab": {
          "base_uri": "https://localhost:8080/"
        },
        "id": "2rhXwWOMFeO2",
        "outputId": "39435b38-9cba-4847-b1c9-81caa9e365d9"
      },
      "outputs": [
        {
          "name": "stderr",
          "output_type": "stream",
          "text": [
            "/usr/local/lib/python3.7/dist-packages/ipykernel_launcher.py:15: DeprecationWarning: `np.bool` is a deprecated alias for the builtin `bool`. To silence this warning, use `bool` by itself. Doing this will not modify any behavior and is safe. If you specifically wanted the numpy scalar type, use `np.bool_` here.\n",
            "Deprecated in NumPy 1.20; for more details and guidance: https://numpy.org/devdocs/release/1.20.0-notes.html#deprecations\n",
            "  from ipykernel import kernelapp as app\n"
          ]
        }
      ],
      "source": [
        "hds.append(calculate_hd(outputs1, label_batch2).detach().cpu().numpy())"
      ]
    },
    {
      "cell_type": "code",
      "execution_count": null,
      "metadata": {
        "id": "G75dkiI1HfHz"
      },
      "outputs": [],
      "source": [
        "ces.append(F.cross_entropy(outputs1[0], label_batch2.long(), reduction = 'mean').detach().cpu().numpy())"
      ]
    },
    {
      "cell_type": "code",
      "execution_count": null,
      "metadata": {
        "colab": {
          "base_uri": "https://localhost:8080/"
        },
        "id": "pw0PQXROFguX",
        "outputId": "1761ef21-ba69-4964-cdff-afadac26b1c3"
      },
      "outputs": [
        {
          "name": "stderr",
          "output_type": "stream",
          "text": [
            "/usr/local/lib/python3.7/dist-packages/ipykernel_launcher.py:15: DeprecationWarning: `np.bool` is a deprecated alias for the builtin `bool`. To silence this warning, use `bool` by itself. Doing this will not modify any behavior and is safe. If you specifically wanted the numpy scalar type, use `np.bool_` here.\n",
            "Deprecated in NumPy 1.20; for more details and guidance: https://numpy.org/devdocs/release/1.20.0-notes.html#deprecations\n",
            "  from ipykernel import kernelapp as app\n"
          ]
        }
      ],
      "source": [
        "hds.append(calculate_hd(outputs2, label_batch1).detach().cpu().numpy())"
      ]
    },
    {
      "cell_type": "code",
      "execution_count": null,
      "metadata": {
        "id": "oSD5xGhnHhCK"
      },
      "outputs": [],
      "source": [
        "ces.append(F.cross_entropy(outputs2[0], label_batch1.long(), reduction = 'mean').detach().cpu().numpy())"
      ]
    },
    {
      "cell_type": "code",
      "execution_count": null,
      "metadata": {
        "colab": {
          "base_uri": "https://localhost:8080/"
        },
        "id": "O-lX8d1yIcVU",
        "outputId": "ad8a0765-7f26-4cc0-a12c-11f6618fe756"
      },
      "outputs": [
        {
          "data": {
            "text/plain": [
              "[array(167.44827, dtype=float32),\n",
              " array(96.05243, dtype=float32),\n",
              " array(126.42224, dtype=float32),\n",
              " array(141.28781, dtype=float32)]"
            ]
          },
          "execution_count": 260,
          "metadata": {},
          "output_type": "execute_result"
        }
      ],
      "source": [
        "hds"
      ]
    },
    {
      "cell_type": "code",
      "execution_count": null,
      "metadata": {
        "colab": {
          "base_uri": "https://localhost:8080/",
          "height": 175
        },
        "id": "CamFoaO_IFWn",
        "outputId": "4da81125-501e-4020-f5ef-f943a9313694"
      },
      "outputs": [
        {
          "data": {
            "text/html": [
              "\n",
              "  <div id=\"df-a347bc18-7846-413d-9d9a-589e6ef84a25\">\n",
              "    <div class=\"colab-df-container\">\n",
              "      <div>\n",
              "<style scoped>\n",
              "    .dataframe tbody tr th:only-of-type {\n",
              "        vertical-align: middle;\n",
              "    }\n",
              "\n",
              "    .dataframe tbody tr th {\n",
              "        vertical-align: top;\n",
              "    }\n",
              "\n",
              "    .dataframe thead th {\n",
              "        text-align: right;\n",
              "    }\n",
              "</style>\n",
              "<table border=\"1\" class=\"dataframe\">\n",
              "  <thead>\n",
              "    <tr style=\"text-align: right;\">\n",
              "      <th></th>\n",
              "      <th>info</th>\n",
              "      <th>HD_loss</th>\n",
              "      <th>Categorical CE Loss</th>\n",
              "    </tr>\n",
              "  </thead>\n",
              "  <tbody>\n",
              "    <tr>\n",
              "      <th>0</th>\n",
              "      <td>Predicted:1, Actual: 1</td>\n",
              "      <td>167.44827</td>\n",
              "      <td>1.4985205</td>\n",
              "    </tr>\n",
              "    <tr>\n",
              "      <th>1</th>\n",
              "      <td>Predicted:2, Actual:2</td>\n",
              "      <td>96.05243</td>\n",
              "      <td>0.92618054</td>\n",
              "    </tr>\n",
              "    <tr>\n",
              "      <th>2</th>\n",
              "      <td>Predicted:1, Actual: 2</td>\n",
              "      <td>126.42224</td>\n",
              "      <td>1.723947</td>\n",
              "    </tr>\n",
              "    <tr>\n",
              "      <th>3</th>\n",
              "      <td>Predicted:2, Actual:1</td>\n",
              "      <td>141.28781</td>\n",
              "      <td>1.3271458</td>\n",
              "    </tr>\n",
              "  </tbody>\n",
              "</table>\n",
              "</div>\n",
              "      <button class=\"colab-df-convert\" onclick=\"convertToInteractive('df-a347bc18-7846-413d-9d9a-589e6ef84a25')\"\n",
              "              title=\"Convert this dataframe to an interactive table.\"\n",
              "              style=\"display:none;\">\n",
              "        \n",
              "  <svg xmlns=\"http://www.w3.org/2000/svg\" height=\"24px\"viewBox=\"0 0 24 24\"\n",
              "       width=\"24px\">\n",
              "    <path d=\"M0 0h24v24H0V0z\" fill=\"none\"/>\n",
              "    <path d=\"M18.56 5.44l.94 2.06.94-2.06 2.06-.94-2.06-.94-.94-2.06-.94 2.06-2.06.94zm-11 1L8.5 8.5l.94-2.06 2.06-.94-2.06-.94L8.5 2.5l-.94 2.06-2.06.94zm10 10l.94 2.06.94-2.06 2.06-.94-2.06-.94-.94-2.06-.94 2.06-2.06.94z\"/><path d=\"M17.41 7.96l-1.37-1.37c-.4-.4-.92-.59-1.43-.59-.52 0-1.04.2-1.43.59L10.3 9.45l-7.72 7.72c-.78.78-.78 2.05 0 2.83L4 21.41c.39.39.9.59 1.41.59.51 0 1.02-.2 1.41-.59l7.78-7.78 2.81-2.81c.8-.78.8-2.07 0-2.86zM5.41 20L4 18.59l7.72-7.72 1.47 1.35L5.41 20z\"/>\n",
              "  </svg>\n",
              "      </button>\n",
              "      \n",
              "  <style>\n",
              "    .colab-df-container {\n",
              "      display:flex;\n",
              "      flex-wrap:wrap;\n",
              "      gap: 12px;\n",
              "    }\n",
              "\n",
              "    .colab-df-convert {\n",
              "      background-color: #E8F0FE;\n",
              "      border: none;\n",
              "      border-radius: 50%;\n",
              "      cursor: pointer;\n",
              "      display: none;\n",
              "      fill: #1967D2;\n",
              "      height: 32px;\n",
              "      padding: 0 0 0 0;\n",
              "      width: 32px;\n",
              "    }\n",
              "\n",
              "    .colab-df-convert:hover {\n",
              "      background-color: #E2EBFA;\n",
              "      box-shadow: 0px 1px 2px rgba(60, 64, 67, 0.3), 0px 1px 3px 1px rgba(60, 64, 67, 0.15);\n",
              "      fill: #174EA6;\n",
              "    }\n",
              "\n",
              "    [theme=dark] .colab-df-convert {\n",
              "      background-color: #3B4455;\n",
              "      fill: #D2E3FC;\n",
              "    }\n",
              "\n",
              "    [theme=dark] .colab-df-convert:hover {\n",
              "      background-color: #434B5C;\n",
              "      box-shadow: 0px 1px 3px 1px rgba(0, 0, 0, 0.15);\n",
              "      filter: drop-shadow(0px 1px 2px rgba(0, 0, 0, 0.3));\n",
              "      fill: #FFFFFF;\n",
              "    }\n",
              "  </style>\n",
              "\n",
              "      <script>\n",
              "        const buttonEl =\n",
              "          document.querySelector('#df-a347bc18-7846-413d-9d9a-589e6ef84a25 button.colab-df-convert');\n",
              "        buttonEl.style.display =\n",
              "          google.colab.kernel.accessAllowed ? 'block' : 'none';\n",
              "\n",
              "        async function convertToInteractive(key) {\n",
              "          const element = document.querySelector('#df-a347bc18-7846-413d-9d9a-589e6ef84a25');\n",
              "          const dataTable =\n",
              "            await google.colab.kernel.invokeFunction('convertToInteractive',\n",
              "                                                     [key], {});\n",
              "          if (!dataTable) return;\n",
              "\n",
              "          const docLinkHtml = 'Like what you see? Visit the ' +\n",
              "            '<a target=\"_blank\" href=https://colab.research.google.com/notebooks/data_table.ipynb>data table notebook</a>'\n",
              "            + ' to learn more about interactive tables.';\n",
              "          element.innerHTML = '';\n",
              "          dataTable['output_type'] = 'display_data';\n",
              "          await google.colab.output.renderOutput(dataTable, element);\n",
              "          const docLink = document.createElement('div');\n",
              "          docLink.innerHTML = docLinkHtml;\n",
              "          element.appendChild(docLink);\n",
              "        }\n",
              "      </script>\n",
              "    </div>\n",
              "  </div>\n",
              "  "
            ],
            "text/plain": [
              "                     info    HD_loss Categorical CE Loss\n",
              "0  Predicted:1, Actual: 1  167.44827           1.4985205\n",
              "1   Predicted:2, Actual:2   96.05243          0.92618054\n",
              "2  Predicted:1, Actual: 2  126.42224            1.723947\n",
              "3   Predicted:2, Actual:1  141.28781           1.3271458"
            ]
          },
          "execution_count": 261,
          "metadata": {},
          "output_type": "execute_result"
        }
      ],
      "source": [
        "info = ['Predicted:1, Actual: 1', 'Predicted:2, Actual:2','Predicted:1, Actual: 2','Predicted:2, Actual:1']\n",
        "pd.DataFrame({'info':info, 'HD_loss':hds, 'Categorical CE Loss':ces})"
      ]
    },
    {
      "cell_type": "code",
      "execution_count": null,
      "metadata": {
        "colab": {
          "base_uri": "https://localhost:8080/"
        },
        "id": "WNtSyf_OmhxP",
        "outputId": "898bac9b-ce15-43d1-b2e1-774737f99c27"
      },
      "outputs": [
        {
          "name": "stdout",
          "output_type": "stream",
          "text": [
            "torch.Size([8, 3, 475, 475])\n",
            "torch.Size([8, 475, 475])\n"
          ]
        }
      ],
      "source": [
        "batch_iterator = iter(dataloaders_dict['train'])\n",
        "images, anno_class_images = next(batch_iterator)\n",
        "print(images.size())\n",
        "print(anno_class_images.size())"
      ]
    },
    {
      "cell_type": "code",
      "execution_count": null,
      "metadata": {
        "colab": {
          "base_uri": "https://localhost:8080/"
        },
        "id": "CTzAURevx76I",
        "outputId": "d99a42c3-61d1-4b5d-e15b-a7adce28099f"
      },
      "outputs": [
        {
          "data": {
            "text/plain": [
              "100"
            ]
          },
          "execution_count": 233,
          "metadata": {},
          "output_type": "execute_result"
        }
      ],
      "source": [
        "len(dataloaders_dict['train'])"
      ]
    },
    {
      "cell_type": "code",
      "execution_count": null,
      "metadata": {
        "colab": {
          "base_uri": "https://localhost:8080/"
        },
        "id": "m--YzoNWk6kD",
        "outputId": "3ba317df-3af3-4a69-9af7-c96ef2184c91"
      },
      "outputs": [
        {
          "name": "stdout",
          "output_type": "stream",
          "text": [
            "torch.Size([8, 3, 475, 475])\n",
            "torch.Size([8, 475, 475])\n"
          ]
        }
      ],
      "source": [
        "batch_iterator = iter(dataloaders_dict['val'])\n",
        "images, anno_class_images = next(batch_iterator)\n",
        "print(images.size())\n",
        "print(anno_class_images.size())"
      ]
    },
    {
      "cell_type": "markdown",
      "metadata": {
        "id": "Mkv3HmQGnBbM"
      },
      "source": [
        "# PSPNet (Pyramid Scene Parsing Network)"
      ]
    },
    {
      "cell_type": "markdown",
      "metadata": {
        "id": "_4VS2p__vHRI"
      },
      "source": [
        "![image.png](data:image/png;base64,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)"
      ]
    },
    {
      "cell_type": "code",
      "execution_count": null,
      "metadata": {
        "id": "ee47shFEl4LI"
      },
      "outputs": [],
      "source": [
        "import torch\n",
        "import torch.nn as nn\n",
        "import torch.nn.functional as F"
      ]
    },
    {
      "cell_type": "markdown",
      "metadata": {
        "id": "sFISXBrEtTWC"
      },
      "source": [
        "## Entire Class\n",
        "\n",
        "- Feature Module\n",
        "- Pyramid Pooling\n",
        "- Decoder Module\n",
        "- AuxLoss Module"
      ]
    },
    {
      "cell_type": "code",
      "execution_count": null,
      "metadata": {
        "id": "FEHKtBG_nCdc"
      },
      "outputs": [],
      "source": [
        "class PSPNet(nn.Module):\n",
        "    def __init__(self, n_classes = 3):\n",
        "        super(PSPNet, self).__init__()\n",
        "\n",
        "        # set parameters\n",
        "        block_config = [3, 4, 6, 3]  # resnet50\n",
        "        img_size = 475\n",
        "        img_size_8 = 60  # img_size 1/8로 설정\n",
        "\n",
        "        # preparations for sub networks\n",
        "        self.feature_conv = FeatureMap_convolution()\n",
        "        self.feature_res_1 = ResidualBlockPSP(\n",
        "            n_blocks=block_config[0], in_channels=128, mid_channels=64, out_channels=256, stride=1, dilation=1)\n",
        "        self.feature_res_2 = ResidualBlockPSP(\n",
        "            n_blocks=block_config[1], in_channels=256, mid_channels=128, out_channels=512, stride=2, dilation=1)\n",
        "        self.feature_dilated_res_1 = ResidualBlockPSP(\n",
        "            n_blocks=block_config[2], in_channels=512, mid_channels=256, out_channels=1024, stride=1, dilation=2)\n",
        "        self.feature_dilated_res_2 = ResidualBlockPSP(\n",
        "            n_blocks=block_config[3], in_channels=1024, mid_channels=512, out_channels=2048, stride=1, dilation=4)\n",
        "\n",
        "        self.pyramid_pooling = PyramidPooling(in_channels=2048, pool_sizes=[\n",
        "            6, 3, 2, 1], height=img_size_8, width=img_size_8)\n",
        "\n",
        "        self.decode_feature = DecodePSPFeature(\n",
        "            height=img_size, width=img_size, n_classes=n_classes)\n",
        "\n",
        "        self.aux = AuxiliaryPSPlayers(\n",
        "            in_channels=1024, height=img_size, width=img_size, n_classes=n_classes)\n",
        "\n",
        "    def forward(self, x):\n",
        "        x = self.feature_conv(x)\n",
        "        x = self.feature_res_1(x)\n",
        "        x = self.feature_res_2(x)\n",
        "        x = self.feature_dilated_res_1(x)\n",
        "\n",
        "        output_aux = self.aux(x)  # Feture embedding -> aux\n",
        "\n",
        "        x = self.feature_dilated_res_2(x)\n",
        "\n",
        "        x = self.pyramid_pooling(x)\n",
        "        output = self.decode_feature(x)\n",
        "\n",
        "        return (output, output_aux)"
      ]
    },
    {
      "cell_type": "markdown",
      "metadata": {
        "id": "wxdmizPitWIG"
      },
      "source": [
        "## Feature Module (ResNet)\n",
        "\n",
        "- FeatureMap_convolution\n",
        "- 2 x residualBlockPSP\n",
        "- 2 xdilated residualBlockPSP"
      ]
    },
    {
      "cell_type": "markdown",
      "metadata": {
        "id": "ZckRpGvKvmn_"
      },
      "source": [
        "### FeatureMap_convolution\n",
        "\n",
        ": extract features of image\n",
        "\n",
        "3x conv2DBatchNormReLU + 1x Maxpool"
      ]
    },
    {
      "cell_type": "code",
      "execution_count": null,
      "metadata": {
        "id": "KSi3gB8Js0Iw"
      },
      "outputs": [],
      "source": [
        "class conv2DBatchNormRelu(nn.Module):\n",
        "    def __init__(self, in_channels, out_channels, kernel_size, stride, padding, dilation, bias):\n",
        "        super(conv2DBatchNormRelu, self).__init__()\n",
        "        self.conv = nn.Conv2d(in_channels, out_channels,\n",
        "                              kernel_size, stride, padding, dilation, bias=bias)\n",
        "        self.batchnorm = nn.BatchNorm2d(out_channels)\n",
        "        self.relu = nn.ReLU(inplace=True)\n",
        "        # inplase = True -> don't save input -> memory efficient\n",
        "\n",
        "    def forward(self, x):\n",
        "        x = self.conv(x)\n",
        "        x = self.batchnorm(x)\n",
        "        outputs = self.relu(x)\n",
        "\n",
        "        return outputs"
      ]
    },
    {
      "cell_type": "code",
      "execution_count": null,
      "metadata": {
        "id": "pEJNVjCwwpr_"
      },
      "outputs": [],
      "source": [
        "class FeatureMap_convolution(nn.Module):\n",
        "    def __init__(self):\n",
        "        super(FeatureMap_convolution, self).__init__()\n",
        "\n",
        "        # conv1 \n",
        "        in_channels, out_channels, kernel_size, stride, padding, dilation, bias = 3, 64, 3, 2, 1, 1, False\n",
        "        self.cbnr_1 = conv2DBatchNormRelu(\n",
        "            in_channels, out_channels, kernel_size, stride, padding, dilation, bias)\n",
        "\n",
        "        # conv2\n",
        "        in_channels, out_channels, kernel_size, stride, padding, dilation, bias = 64, 64, 3, 1, 1, 1, False\n",
        "        self.cbnr_2 = conv2DBatchNormRelu(\n",
        "            in_channels, out_channels, kernel_size, stride, padding, dilation, bias)\n",
        "\n",
        "        # conv3\n",
        "        in_channels, out_channels, kernel_size, stride, padding, dilation, bias = 64, 128, 3, 1, 1, 1, False\n",
        "        self.cbnr_3 = conv2DBatchNormRelu(\n",
        "            in_channels, out_channels, kernel_size, stride, padding, dilation, bias)\n",
        "\n",
        "        # MaxPooling layer\n",
        "        self.maxpool = nn.MaxPool2d(kernel_size=3, stride=2, padding=1)\n",
        "\n",
        "    def forward(self, x):\n",
        "        x = self.cbnr_1(x)\n",
        "        x = self.cbnr_2(x)\n",
        "        x = self.cbnr_3(x)\n",
        "        outputs = self.maxpool(x)\n",
        "        return outputs"
      ]
    },
    {
      "cell_type": "markdown",
      "metadata": {
        "id": "n0ol7Lx9xGSt"
      },
      "source": [
        "### Residual Block PSP\n",
        "\n",
        "skip connection을 통해 residual (y-x)를 학습하게 하는 전략\n",
        "\n",
        "- bottleNeckPSP: Relu{(2x conv2DBatchNormRelu + conv2DBatchNorm) + skip(conv2dBatchNOrm)}\n",
        "- bottleNeckIdentifyPSP: Relu{(2x conv3dBatchNormRelu + conv2dBatchNorm)+skip(input)}\n",
        "\n",
        "차이: skip connection에 convolution 적용 여부\n",
        "\n",
        "Process: bottleNeckPSP + iterations(bottleNeckIdentityPSP)"
      ]
    },
    {
      "cell_type": "code",
      "execution_count": null,
      "metadata": {
        "id": "OHLJ-YyqxDDU"
      },
      "outputs": [],
      "source": [
        "class ResidualBlockPSP(nn.Sequential):#if dilation > 2; dilated residual block PSP\n",
        "    def __init__(self, n_blocks, in_channels, mid_channels, out_channels, stride, dilation):\n",
        "        super(ResidualBlockPSP, self).__init__()\n",
        "\n",
        "        # prepare bottleNeckPSP \n",
        "        self.add_module(\n",
        "            \"block1\",\n",
        "            bottleNeckPSP(in_channels, mid_channels,\n",
        "                          out_channels, stride, dilation)\n",
        "        )\n",
        "\n",
        "        # prepare for iterations of bottleNeckIdentifyPSP\n",
        "        for i in range(n_blocks - 1):#iterations: 3, 4, 6, 3 for ResNet-50\n",
        "            self.add_module(\n",
        "                \"block\" + str(i+2),\n",
        "                bottleNeckIdentifyPSP(\n",
        "                    out_channels, mid_channels, stride, dilation)\n",
        "            )"
      ]
    },
    {
      "cell_type": "code",
      "execution_count": null,
      "metadata": {
        "id": "02HjoJ8ByTQL"
      },
      "outputs": [],
      "source": [
        "class conv2DBatchNorm(nn.Module):\n",
        "    def __init__(self, in_channels, out_channels, kernel_size, stride, padding, dilation, bias):\n",
        "        super(conv2DBatchNorm, self).__init__()\n",
        "        self.conv = nn.Conv2d(in_channels, out_channels,\n",
        "                              kernel_size, stride, padding, dilation, bias=bias)\n",
        "        self.batchnorm = nn.BatchNorm2d(out_channels)\n",
        "\n",
        "    def forward(self, x):\n",
        "        x = self.conv(x)\n",
        "        outputs = self.batchnorm(x)\n",
        "\n",
        "        return outputs"
      ]
    },
    {
      "cell_type": "markdown",
      "metadata": {
        "id": "oDBZmAdY2pQ2"
      },
      "source": [
        "#### BottleNeckPSP"
      ]
    },
    {
      "cell_type": "code",
      "execution_count": null,
      "metadata": {
        "id": "JO1Bnwky2qtF"
      },
      "outputs": [],
      "source": [
        "class bottleNeckPSP(nn.Module):\n",
        "    def __init__(self, in_channels, mid_channels, out_channels, stride, dilation):\n",
        "        super(bottleNeckPSP, self).__init__()\n",
        "\n",
        "        self.cbr_1 = conv2DBatchNormRelu(\n",
        "            in_channels, mid_channels, kernel_size=1, stride=1, padding=0, dilation=1, bias=False)\n",
        "        self.cbr_2 = conv2DBatchNormRelu(\n",
        "            mid_channels, mid_channels, kernel_size=3, stride=stride, padding=dilation, dilation=dilation, bias=False)\n",
        "        self.cb_3 = conv2DBatchNorm(\n",
        "            mid_channels, out_channels, kernel_size=1, stride=1, padding=0, dilation=1, bias=False)\n",
        "\n",
        "        #skip connection\n",
        "        self.cb_residual = conv2DBatchNorm(\n",
        "            in_channels, out_channels, kernel_size=1, stride=stride, padding=0, dilation=1, bias=False)\n",
        "\n",
        "        self.relu = nn.ReLU(inplace=True)\n",
        "\n",
        "    def forward(self, x):\n",
        "        conv = self.cb_3(self.cbr_2(self.cbr_1(x)))\n",
        "        residual = self.cb_residual(x)#skip connection for convolution (conv2dBatchNorm)\n",
        "        return self.relu(conv + residual)"
      ]
    },
    {
      "cell_type": "markdown",
      "metadata": {
        "id": "MpSHbqus3Esv"
      },
      "source": [
        "#### bottleNeckIdentifyPSP"
      ]
    },
    {
      "cell_type": "code",
      "execution_count": null,
      "metadata": {
        "id": "B7iHGdOJ29l3"
      },
      "outputs": [],
      "source": [
        "class bottleNeckIdentifyPSP(nn.Module):\n",
        "    def __init__(self, in_channels, mid_channels, stride, dilation):\n",
        "        super(bottleNeckIdentifyPSP, self).__init__()\n",
        "\n",
        "        self.cbr_1 = conv2DBatchNormRelu(\n",
        "            in_channels, mid_channels, kernel_size=1, stride=1, padding=0, dilation=1, bias=False)\n",
        "        self.cbr_2 = conv2DBatchNormRelu(\n",
        "            mid_channels, mid_channels, kernel_size=3, stride=1, padding=dilation, dilation=dilation, bias=False)\n",
        "        self.cb_3 = conv2DBatchNorm(\n",
        "            mid_channels, in_channels, kernel_size=1, stride=1, padding=0, dilation=1, bias=False)\n",
        "        self.relu = nn.ReLU(inplace=True)\n",
        "\n",
        "    def forward(self, x):\n",
        "        conv = self.cb_3(self.cbr_2(self.cbr_1(x)))\n",
        "        residual = x#skip connection for input (x)\n",
        "        return self.relu(conv + residual)"
      ]
    },
    {
      "cell_type": "markdown",
      "metadata": {
        "id": "3ApuN_sI7FSm"
      },
      "source": [
        "## Pyramid Pooling Module\n",
        "\n",
        "1. Adatptive Average Pooling layer\n",
        "2. conv2DBatchNormRelu\n",
        "3. UpSample layer (F.interpolate)\n",
        "4. Recombine (기준: channel)\n",
        "\n",
        "\n",
        "**Usage**: For getting info. of adjacent pixels of object -> high precision "
      ]
    },
    {
      "cell_type": "code",
      "execution_count": null,
      "metadata": {
        "id": "SeWmLNHK7HhN"
      },
      "outputs": [],
      "source": [
        "class PyramidPooling(nn.Module):\n",
        "    def __init__(self, in_channels, pool_sizes, height, width):\n",
        "        super(PyramidPooling, self).__init__()\n",
        "\n",
        "        # height & width for forward propagation\n",
        "        self.height = height\n",
        "        self.width = width\n",
        "\n",
        "        # number of output channel for each conv layer\n",
        "        out_channels = int(in_channels / len(pool_sizes))\n",
        "\n",
        "        # each conv layer\n",
        "        # pool_sizes: [6, 3, 2, 1]\n",
        "        self.avpool_1 = nn.AdaptiveAvgPool2d(output_size=pool_sizes[0])#adaptie average pooling layer\n",
        "        self.cbr_1 = conv2DBatchNormRelu(#conv2DBatchNormRelu\n",
        "            in_channels, out_channels, kernel_size=1, stride=1, padding=0, dilation=1, bias=False)\n",
        "\n",
        "        self.avpool_2 = nn.AdaptiveAvgPool2d(output_size=pool_sizes[1])\n",
        "        self.cbr_2 = conv2DBatchNormRelu(\n",
        "            in_channels, out_channels, kernel_size=1, stride=1, padding=0, dilation=1, bias=False)\n",
        "\n",
        "        self.avpool_3 = nn.AdaptiveAvgPool2d(output_size=pool_sizes[2])\n",
        "        self.cbr_3 = conv2DBatchNormRelu(\n",
        "            in_channels, out_channels, kernel_size=1, stride=1, padding=0, dilation=1, bias=False)\n",
        "\n",
        "        self.avpool_4 = nn.AdaptiveAvgPool2d(output_size=pool_sizes[3])\n",
        "        self.cbr_4 = conv2DBatchNormRelu(\n",
        "            in_channels, out_channels, kernel_size=1, stride=1, padding=0, dilation=1, bias=False)\n",
        "\n",
        "    def forward(self, x):\n",
        "\n",
        "        out1 = self.cbr_1(self.avpool_1(x))\n",
        "        out1 = F.interpolate(out1, size=(\n",
        "            self.height, self.width), mode=\"bilinear\", align_corners=True)#UpSample layer\n",
        "\n",
        "        out2 = self.cbr_2(self.avpool_2(x))\n",
        "        out2 = F.interpolate(out2, size=(\n",
        "            self.height, self.width), mode=\"bilinear\", align_corners=True)#UpSample layer\n",
        "\n",
        "        out3 = self.cbr_3(self.avpool_3(x))\n",
        "        out3 = F.interpolate(out3, size=(\n",
        "            self.height, self.width), mode=\"bilinear\", align_corners=True)#UpSample layer\n",
        "\n",
        "        out4 = self.cbr_4(self.avpool_4(x))\n",
        "        out4 = F.interpolate(out4, size=(\n",
        "            self.height, self.width), mode=\"bilinear\", align_corners=True)#UpSample layer\n",
        "\n",
        "        #dim = 1기준(channel 기준) concatenate(recombine)\n",
        "        output = torch.cat([x, out1, out2, out3, out4], dim=1)#output size: batch_size x 4096 x 60 x 60\n",
        "\n",
        "        return output"
      ]
    },
    {
      "cell_type": "markdown",
      "metadata": {
        "id": "RaK-vWlhLE_s"
      },
      "source": [
        "## Decoder & AuxLoss Module\n",
        "\n",
        "**Function**:\n",
        "- read info from tensor and predict label in pixel-level.\n",
        "- upsample to original size of image\n",
        "\n",
        "\n",
        "**Process**:\n",
        "1. conv2DBatchNormRelu\n",
        "2. Dropout\n",
        "3. Convolution layer\n",
        "4. Upsample"
      ]
    },
    {
      "cell_type": "code",
      "execution_count": null,
      "metadata": {
        "id": "IGEC1n6CLS2i"
      },
      "outputs": [],
      "source": [
        "class DecodePSPFeature(nn.Module):\n",
        "    def __init__(self, height, width, n_classes):\n",
        "        super(DecodePSPFeature, self).__init__()\n",
        "\n",
        "        # height & width for forward propagation\n",
        "        self.height = height\n",
        "        self.width = width\n",
        "\n",
        "        \n",
        "        self.cbr = conv2DBatchNormRelu(\n",
        "            in_channels=4096, out_channels=512, kernel_size=3, stride=1, padding=1, dilation=1, bias=False)\n",
        "        self.dropout = nn.Dropout2d(p=0.1)\n",
        "        self.classification = nn.Conv2d(\n",
        "            in_channels=512, out_channels=n_classes, kernel_size=1, stride=1, padding=0)\n",
        "\n",
        "    def forward(self, x):\n",
        "        x = self.cbr(x)#1. conv2DBatchNormRelu\n",
        "        x = self.dropout(x)#2. Dropout\n",
        "        x = self.classification(x)#3. Convolution layer\n",
        "        \n",
        "        output = F.interpolate(#4. Upsample\n",
        "            x, size=(self.height, self.width), mode=\"bilinear\", align_corners=True)\n",
        "\n",
        "        return output"
      ]
    },
    {
      "cell_type": "code",
      "execution_count": null,
      "metadata": {
        "id": "vhF3ukO_N6gf"
      },
      "outputs": [],
      "source": [
        "class AuxiliaryPSPlayers(nn.Module):#same as decoder\n",
        "    def __init__(self, in_channels, height, width, n_classes):\n",
        "        super(AuxiliaryPSPlayers, self).__init__()\n",
        "        self.height = height\n",
        "        self.width = width\n",
        "\n",
        "        self.cbr = conv2DBatchNormRelu(\n",
        "            in_channels=in_channels, out_channels=256, kernel_size=3, stride=1, padding=1, dilation=1, bias=False)\n",
        "        self.dropout = nn.Dropout2d(p=0.1)\n",
        "        self.classification = nn.Conv2d(\n",
        "            in_channels=256, out_channels=n_classes, kernel_size=1, stride=1, padding=0)\n",
        "\n",
        "    def forward(self, x):\n",
        "        x = self.cbr(x)\n",
        "        x = self.dropout(x)\n",
        "        x = self.classification(x)\n",
        "        output = F.interpolate(\n",
        "            x, size=(self.height, self.width), mode=\"bilinear\", align_corners=True)\n",
        "\n",
        "        return output"
      ]
    },
    {
      "cell_type": "code",
      "execution_count": null,
      "metadata": {
        "colab": {
          "base_uri": "https://localhost:8080/"
        },
        "id": "JzO3Zk2oRQ95",
        "outputId": "64b29c30-4a20-4b78-ad40-1b84122b3407"
      },
      "outputs": [
        {
          "data": {
            "text/plain": [
              "PSPNet(\n",
              "  (feature_conv): FeatureMap_convolution(\n",
              "    (cbnr_1): conv2DBatchNormRelu(\n",
              "      (conv): Conv2d(3, 64, kernel_size=(3, 3), stride=(2, 2), padding=(1, 1), bias=False)\n",
              "      (batchnorm): BatchNorm2d(64, eps=1e-05, momentum=0.1, affine=True, track_running_stats=True)\n",
              "      (relu): ReLU(inplace=True)\n",
              "    )\n",
              "    (cbnr_2): conv2DBatchNormRelu(\n",
              "      (conv): Conv2d(64, 64, kernel_size=(3, 3), stride=(1, 1), padding=(1, 1), bias=False)\n",
              "      (batchnorm): BatchNorm2d(64, eps=1e-05, momentum=0.1, affine=True, track_running_stats=True)\n",
              "      (relu): ReLU(inplace=True)\n",
              "    )\n",
              "    (cbnr_3): conv2DBatchNormRelu(\n",
              "      (conv): Conv2d(64, 128, kernel_size=(3, 3), stride=(1, 1), padding=(1, 1), bias=False)\n",
              "      (batchnorm): BatchNorm2d(128, eps=1e-05, momentum=0.1, affine=True, track_running_stats=True)\n",
              "      (relu): ReLU(inplace=True)\n",
              "    )\n",
              "    (maxpool): MaxPool2d(kernel_size=3, stride=2, padding=1, dilation=1, ceil_mode=False)\n",
              "  )\n",
              "  (feature_res_1): ResidualBlockPSP(\n",
              "    (block1): bottleNeckPSP(\n",
              "      (cbr_1): conv2DBatchNormRelu(\n",
              "        (conv): Conv2d(128, 64, kernel_size=(1, 1), stride=(1, 1), bias=False)\n",
              "        (batchnorm): BatchNorm2d(64, eps=1e-05, momentum=0.1, affine=True, track_running_stats=True)\n",
              "        (relu): ReLU(inplace=True)\n",
              "      )\n",
              "      (cbr_2): conv2DBatchNormRelu(\n",
              "        (conv): Conv2d(64, 64, kernel_size=(3, 3), stride=(1, 1), padding=(1, 1), bias=False)\n",
              "        (batchnorm): BatchNorm2d(64, eps=1e-05, momentum=0.1, affine=True, track_running_stats=True)\n",
              "        (relu): ReLU(inplace=True)\n",
              "      )\n",
              "      (cb_3): conv2DBatchNorm(\n",
              "        (conv): Conv2d(64, 256, kernel_size=(1, 1), stride=(1, 1), bias=False)\n",
              "        (batchnorm): BatchNorm2d(256, eps=1e-05, momentum=0.1, affine=True, track_running_stats=True)\n",
              "      )\n",
              "      (cb_residual): conv2DBatchNorm(\n",
              "        (conv): Conv2d(128, 256, kernel_size=(1, 1), stride=(1, 1), bias=False)\n",
              "        (batchnorm): BatchNorm2d(256, eps=1e-05, momentum=0.1, affine=True, track_running_stats=True)\n",
              "      )\n",
              "      (relu): ReLU(inplace=True)\n",
              "    )\n",
              "    (block2): bottleNeckIdentifyPSP(\n",
              "      (cbr_1): conv2DBatchNormRelu(\n",
              "        (conv): Conv2d(256, 64, kernel_size=(1, 1), stride=(1, 1), bias=False)\n",
              "        (batchnorm): BatchNorm2d(64, eps=1e-05, momentum=0.1, affine=True, track_running_stats=True)\n",
              "        (relu): ReLU(inplace=True)\n",
              "      )\n",
              "      (cbr_2): conv2DBatchNormRelu(\n",
              "        (conv): Conv2d(64, 64, kernel_size=(3, 3), stride=(1, 1), padding=(1, 1), bias=False)\n",
              "        (batchnorm): BatchNorm2d(64, eps=1e-05, momentum=0.1, affine=True, track_running_stats=True)\n",
              "        (relu): ReLU(inplace=True)\n",
              "      )\n",
              "      (cb_3): conv2DBatchNorm(\n",
              "        (conv): Conv2d(64, 256, kernel_size=(1, 1), stride=(1, 1), bias=False)\n",
              "        (batchnorm): BatchNorm2d(256, eps=1e-05, momentum=0.1, affine=True, track_running_stats=True)\n",
              "      )\n",
              "      (relu): ReLU(inplace=True)\n",
              "    )\n",
              "    (block3): bottleNeckIdentifyPSP(\n",
              "      (cbr_1): conv2DBatchNormRelu(\n",
              "        (conv): Conv2d(256, 64, kernel_size=(1, 1), stride=(1, 1), bias=False)\n",
              "        (batchnorm): BatchNorm2d(64, eps=1e-05, momentum=0.1, affine=True, track_running_stats=True)\n",
              "        (relu): ReLU(inplace=True)\n",
              "      )\n",
              "      (cbr_2): conv2DBatchNormRelu(\n",
              "        (conv): Conv2d(64, 64, kernel_size=(3, 3), stride=(1, 1), padding=(1, 1), bias=False)\n",
              "        (batchnorm): BatchNorm2d(64, eps=1e-05, momentum=0.1, affine=True, track_running_stats=True)\n",
              "        (relu): ReLU(inplace=True)\n",
              "      )\n",
              "      (cb_3): conv2DBatchNorm(\n",
              "        (conv): Conv2d(64, 256, kernel_size=(1, 1), stride=(1, 1), bias=False)\n",
              "        (batchnorm): BatchNorm2d(256, eps=1e-05, momentum=0.1, affine=True, track_running_stats=True)\n",
              "      )\n",
              "      (relu): ReLU(inplace=True)\n",
              "    )\n",
              "  )\n",
              "  (feature_res_2): ResidualBlockPSP(\n",
              "    (block1): bottleNeckPSP(\n",
              "      (cbr_1): conv2DBatchNormRelu(\n",
              "        (conv): Conv2d(256, 128, kernel_size=(1, 1), stride=(1, 1), bias=False)\n",
              "        (batchnorm): BatchNorm2d(128, eps=1e-05, momentum=0.1, affine=True, track_running_stats=True)\n",
              "        (relu): ReLU(inplace=True)\n",
              "      )\n",
              "      (cbr_2): conv2DBatchNormRelu(\n",
              "        (conv): Conv2d(128, 128, kernel_size=(3, 3), stride=(2, 2), padding=(1, 1), bias=False)\n",
              "        (batchnorm): BatchNorm2d(128, eps=1e-05, momentum=0.1, affine=True, track_running_stats=True)\n",
              "        (relu): ReLU(inplace=True)\n",
              "      )\n",
              "      (cb_3): conv2DBatchNorm(\n",
              "        (conv): Conv2d(128, 512, kernel_size=(1, 1), stride=(1, 1), bias=False)\n",
              "        (batchnorm): BatchNorm2d(512, eps=1e-05, momentum=0.1, affine=True, track_running_stats=True)\n",
              "      )\n",
              "      (cb_residual): conv2DBatchNorm(\n",
              "        (conv): Conv2d(256, 512, kernel_size=(1, 1), stride=(2, 2), bias=False)\n",
              "        (batchnorm): BatchNorm2d(512, eps=1e-05, momentum=0.1, affine=True, track_running_stats=True)\n",
              "      )\n",
              "      (relu): ReLU(inplace=True)\n",
              "    )\n",
              "    (block2): bottleNeckIdentifyPSP(\n",
              "      (cbr_1): conv2DBatchNormRelu(\n",
              "        (conv): Conv2d(512, 128, kernel_size=(1, 1), stride=(1, 1), bias=False)\n",
              "        (batchnorm): BatchNorm2d(128, eps=1e-05, momentum=0.1, affine=True, track_running_stats=True)\n",
              "        (relu): ReLU(inplace=True)\n",
              "      )\n",
              "      (cbr_2): conv2DBatchNormRelu(\n",
              "        (conv): Conv2d(128, 128, kernel_size=(3, 3), stride=(1, 1), padding=(1, 1), bias=False)\n",
              "        (batchnorm): BatchNorm2d(128, eps=1e-05, momentum=0.1, affine=True, track_running_stats=True)\n",
              "        (relu): ReLU(inplace=True)\n",
              "      )\n",
              "      (cb_3): conv2DBatchNorm(\n",
              "        (conv): Conv2d(128, 512, kernel_size=(1, 1), stride=(1, 1), bias=False)\n",
              "        (batchnorm): BatchNorm2d(512, eps=1e-05, momentum=0.1, affine=True, track_running_stats=True)\n",
              "      )\n",
              "      (relu): ReLU(inplace=True)\n",
              "    )\n",
              "    (block3): bottleNeckIdentifyPSP(\n",
              "      (cbr_1): conv2DBatchNormRelu(\n",
              "        (conv): Conv2d(512, 128, kernel_size=(1, 1), stride=(1, 1), bias=False)\n",
              "        (batchnorm): BatchNorm2d(128, eps=1e-05, momentum=0.1, affine=True, track_running_stats=True)\n",
              "        (relu): ReLU(inplace=True)\n",
              "      )\n",
              "      (cbr_2): conv2DBatchNormRelu(\n",
              "        (conv): Conv2d(128, 128, kernel_size=(3, 3), stride=(1, 1), padding=(1, 1), bias=False)\n",
              "        (batchnorm): BatchNorm2d(128, eps=1e-05, momentum=0.1, affine=True, track_running_stats=True)\n",
              "        (relu): ReLU(inplace=True)\n",
              "      )\n",
              "      (cb_3): conv2DBatchNorm(\n",
              "        (conv): Conv2d(128, 512, kernel_size=(1, 1), stride=(1, 1), bias=False)\n",
              "        (batchnorm): BatchNorm2d(512, eps=1e-05, momentum=0.1, affine=True, track_running_stats=True)\n",
              "      )\n",
              "      (relu): ReLU(inplace=True)\n",
              "    )\n",
              "    (block4): bottleNeckIdentifyPSP(\n",
              "      (cbr_1): conv2DBatchNormRelu(\n",
              "        (conv): Conv2d(512, 128, kernel_size=(1, 1), stride=(1, 1), bias=False)\n",
              "        (batchnorm): BatchNorm2d(128, eps=1e-05, momentum=0.1, affine=True, track_running_stats=True)\n",
              "        (relu): ReLU(inplace=True)\n",
              "      )\n",
              "      (cbr_2): conv2DBatchNormRelu(\n",
              "        (conv): Conv2d(128, 128, kernel_size=(3, 3), stride=(1, 1), padding=(1, 1), bias=False)\n",
              "        (batchnorm): BatchNorm2d(128, eps=1e-05, momentum=0.1, affine=True, track_running_stats=True)\n",
              "        (relu): ReLU(inplace=True)\n",
              "      )\n",
              "      (cb_3): conv2DBatchNorm(\n",
              "        (conv): Conv2d(128, 512, kernel_size=(1, 1), stride=(1, 1), bias=False)\n",
              "        (batchnorm): BatchNorm2d(512, eps=1e-05, momentum=0.1, affine=True, track_running_stats=True)\n",
              "      )\n",
              "      (relu): ReLU(inplace=True)\n",
              "    )\n",
              "  )\n",
              "  (feature_dilated_res_1): ResidualBlockPSP(\n",
              "    (block1): bottleNeckPSP(\n",
              "      (cbr_1): conv2DBatchNormRelu(\n",
              "        (conv): Conv2d(512, 256, kernel_size=(1, 1), stride=(1, 1), bias=False)\n",
              "        (batchnorm): BatchNorm2d(256, eps=1e-05, momentum=0.1, affine=True, track_running_stats=True)\n",
              "        (relu): ReLU(inplace=True)\n",
              "      )\n",
              "      (cbr_2): conv2DBatchNormRelu(\n",
              "        (conv): Conv2d(256, 256, kernel_size=(3, 3), stride=(1, 1), padding=(2, 2), dilation=(2, 2), bias=False)\n",
              "        (batchnorm): BatchNorm2d(256, eps=1e-05, momentum=0.1, affine=True, track_running_stats=True)\n",
              "        (relu): ReLU(inplace=True)\n",
              "      )\n",
              "      (cb_3): conv2DBatchNorm(\n",
              "        (conv): Conv2d(256, 1024, kernel_size=(1, 1), stride=(1, 1), bias=False)\n",
              "        (batchnorm): BatchNorm2d(1024, eps=1e-05, momentum=0.1, affine=True, track_running_stats=True)\n",
              "      )\n",
              "      (cb_residual): conv2DBatchNorm(\n",
              "        (conv): Conv2d(512, 1024, kernel_size=(1, 1), stride=(1, 1), bias=False)\n",
              "        (batchnorm): BatchNorm2d(1024, eps=1e-05, momentum=0.1, affine=True, track_running_stats=True)\n",
              "      )\n",
              "      (relu): ReLU(inplace=True)\n",
              "    )\n",
              "    (block2): bottleNeckIdentifyPSP(\n",
              "      (cbr_1): conv2DBatchNormRelu(\n",
              "        (conv): Conv2d(1024, 256, kernel_size=(1, 1), stride=(1, 1), bias=False)\n",
              "        (batchnorm): BatchNorm2d(256, eps=1e-05, momentum=0.1, affine=True, track_running_stats=True)\n",
              "        (relu): ReLU(inplace=True)\n",
              "      )\n",
              "      (cbr_2): conv2DBatchNormRelu(\n",
              "        (conv): Conv2d(256, 256, kernel_size=(3, 3), stride=(1, 1), padding=(2, 2), dilation=(2, 2), bias=False)\n",
              "        (batchnorm): BatchNorm2d(256, eps=1e-05, momentum=0.1, affine=True, track_running_stats=True)\n",
              "        (relu): ReLU(inplace=True)\n",
              "      )\n",
              "      (cb_3): conv2DBatchNorm(\n",
              "        (conv): Conv2d(256, 1024, kernel_size=(1, 1), stride=(1, 1), bias=False)\n",
              "        (batchnorm): BatchNorm2d(1024, eps=1e-05, momentum=0.1, affine=True, track_running_stats=True)\n",
              "      )\n",
              "      (relu): ReLU(inplace=True)\n",
              "    )\n",
              "    (block3): bottleNeckIdentifyPSP(\n",
              "      (cbr_1): conv2DBatchNormRelu(\n",
              "        (conv): Conv2d(1024, 256, kernel_size=(1, 1), stride=(1, 1), bias=False)\n",
              "        (batchnorm): BatchNorm2d(256, eps=1e-05, momentum=0.1, affine=True, track_running_stats=True)\n",
              "        (relu): ReLU(inplace=True)\n",
              "      )\n",
              "      (cbr_2): conv2DBatchNormRelu(\n",
              "        (conv): Conv2d(256, 256, kernel_size=(3, 3), stride=(1, 1), padding=(2, 2), dilation=(2, 2), bias=False)\n",
              "        (batchnorm): BatchNorm2d(256, eps=1e-05, momentum=0.1, affine=True, track_running_stats=True)\n",
              "        (relu): ReLU(inplace=True)\n",
              "      )\n",
              "      (cb_3): conv2DBatchNorm(\n",
              "        (conv): Conv2d(256, 1024, kernel_size=(1, 1), stride=(1, 1), bias=False)\n",
              "        (batchnorm): BatchNorm2d(1024, eps=1e-05, momentum=0.1, affine=True, track_running_stats=True)\n",
              "      )\n",
              "      (relu): ReLU(inplace=True)\n",
              "    )\n",
              "    (block4): bottleNeckIdentifyPSP(\n",
              "      (cbr_1): conv2DBatchNormRelu(\n",
              "        (conv): Conv2d(1024, 256, kernel_size=(1, 1), stride=(1, 1), bias=False)\n",
              "        (batchnorm): BatchNorm2d(256, eps=1e-05, momentum=0.1, affine=True, track_running_stats=True)\n",
              "        (relu): ReLU(inplace=True)\n",
              "      )\n",
              "      (cbr_2): conv2DBatchNormRelu(\n",
              "        (conv): Conv2d(256, 256, kernel_size=(3, 3), stride=(1, 1), padding=(2, 2), dilation=(2, 2), bias=False)\n",
              "        (batchnorm): BatchNorm2d(256, eps=1e-05, momentum=0.1, affine=True, track_running_stats=True)\n",
              "        (relu): ReLU(inplace=True)\n",
              "      )\n",
              "      (cb_3): conv2DBatchNorm(\n",
              "        (conv): Conv2d(256, 1024, kernel_size=(1, 1), stride=(1, 1), bias=False)\n",
              "        (batchnorm): BatchNorm2d(1024, eps=1e-05, momentum=0.1, affine=True, track_running_stats=True)\n",
              "      )\n",
              "      (relu): ReLU(inplace=True)\n",
              "    )\n",
              "    (block5): bottleNeckIdentifyPSP(\n",
              "      (cbr_1): conv2DBatchNormRelu(\n",
              "        (conv): Conv2d(1024, 256, kernel_size=(1, 1), stride=(1, 1), bias=False)\n",
              "        (batchnorm): BatchNorm2d(256, eps=1e-05, momentum=0.1, affine=True, track_running_stats=True)\n",
              "        (relu): ReLU(inplace=True)\n",
              "      )\n",
              "      (cbr_2): conv2DBatchNormRelu(\n",
              "        (conv): Conv2d(256, 256, kernel_size=(3, 3), stride=(1, 1), padding=(2, 2), dilation=(2, 2), bias=False)\n",
              "        (batchnorm): BatchNorm2d(256, eps=1e-05, momentum=0.1, affine=True, track_running_stats=True)\n",
              "        (relu): ReLU(inplace=True)\n",
              "      )\n",
              "      (cb_3): conv2DBatchNorm(\n",
              "        (conv): Conv2d(256, 1024, kernel_size=(1, 1), stride=(1, 1), bias=False)\n",
              "        (batchnorm): BatchNorm2d(1024, eps=1e-05, momentum=0.1, affine=True, track_running_stats=True)\n",
              "      )\n",
              "      (relu): ReLU(inplace=True)\n",
              "    )\n",
              "    (block6): bottleNeckIdentifyPSP(\n",
              "      (cbr_1): conv2DBatchNormRelu(\n",
              "        (conv): Conv2d(1024, 256, kernel_size=(1, 1), stride=(1, 1), bias=False)\n",
              "        (batchnorm): BatchNorm2d(256, eps=1e-05, momentum=0.1, affine=True, track_running_stats=True)\n",
              "        (relu): ReLU(inplace=True)\n",
              "      )\n",
              "      (cbr_2): conv2DBatchNormRelu(\n",
              "        (conv): Conv2d(256, 256, kernel_size=(3, 3), stride=(1, 1), padding=(2, 2), dilation=(2, 2), bias=False)\n",
              "        (batchnorm): BatchNorm2d(256, eps=1e-05, momentum=0.1, affine=True, track_running_stats=True)\n",
              "        (relu): ReLU(inplace=True)\n",
              "      )\n",
              "      (cb_3): conv2DBatchNorm(\n",
              "        (conv): Conv2d(256, 1024, kernel_size=(1, 1), stride=(1, 1), bias=False)\n",
              "        (batchnorm): BatchNorm2d(1024, eps=1e-05, momentum=0.1, affine=True, track_running_stats=True)\n",
              "      )\n",
              "      (relu): ReLU(inplace=True)\n",
              "    )\n",
              "  )\n",
              "  (feature_dilated_res_2): ResidualBlockPSP(\n",
              "    (block1): bottleNeckPSP(\n",
              "      (cbr_1): conv2DBatchNormRelu(\n",
              "        (conv): Conv2d(1024, 512, kernel_size=(1, 1), stride=(1, 1), bias=False)\n",
              "        (batchnorm): BatchNorm2d(512, eps=1e-05, momentum=0.1, affine=True, track_running_stats=True)\n",
              "        (relu): ReLU(inplace=True)\n",
              "      )\n",
              "      (cbr_2): conv2DBatchNormRelu(\n",
              "        (conv): Conv2d(512, 512, kernel_size=(3, 3), stride=(1, 1), padding=(4, 4), dilation=(4, 4), bias=False)\n",
              "        (batchnorm): BatchNorm2d(512, eps=1e-05, momentum=0.1, affine=True, track_running_stats=True)\n",
              "        (relu): ReLU(inplace=True)\n",
              "      )\n",
              "      (cb_3): conv2DBatchNorm(\n",
              "        (conv): Conv2d(512, 2048, kernel_size=(1, 1), stride=(1, 1), bias=False)\n",
              "        (batchnorm): BatchNorm2d(2048, eps=1e-05, momentum=0.1, affine=True, track_running_stats=True)\n",
              "      )\n",
              "      (cb_residual): conv2DBatchNorm(\n",
              "        (conv): Conv2d(1024, 2048, kernel_size=(1, 1), stride=(1, 1), bias=False)\n",
              "        (batchnorm): BatchNorm2d(2048, eps=1e-05, momentum=0.1, affine=True, track_running_stats=True)\n",
              "      )\n",
              "      (relu): ReLU(inplace=True)\n",
              "    )\n",
              "    (block2): bottleNeckIdentifyPSP(\n",
              "      (cbr_1): conv2DBatchNormRelu(\n",
              "        (conv): Conv2d(2048, 512, kernel_size=(1, 1), stride=(1, 1), bias=False)\n",
              "        (batchnorm): BatchNorm2d(512, eps=1e-05, momentum=0.1, affine=True, track_running_stats=True)\n",
              "        (relu): ReLU(inplace=True)\n",
              "      )\n",
              "      (cbr_2): conv2DBatchNormRelu(\n",
              "        (conv): Conv2d(512, 512, kernel_size=(3, 3), stride=(1, 1), padding=(4, 4), dilation=(4, 4), bias=False)\n",
              "        (batchnorm): BatchNorm2d(512, eps=1e-05, momentum=0.1, affine=True, track_running_stats=True)\n",
              "        (relu): ReLU(inplace=True)\n",
              "      )\n",
              "      (cb_3): conv2DBatchNorm(\n",
              "        (conv): Conv2d(512, 2048, kernel_size=(1, 1), stride=(1, 1), bias=False)\n",
              "        (batchnorm): BatchNorm2d(2048, eps=1e-05, momentum=0.1, affine=True, track_running_stats=True)\n",
              "      )\n",
              "      (relu): ReLU(inplace=True)\n",
              "    )\n",
              "    (block3): bottleNeckIdentifyPSP(\n",
              "      (cbr_1): conv2DBatchNormRelu(\n",
              "        (conv): Conv2d(2048, 512, kernel_size=(1, 1), stride=(1, 1), bias=False)\n",
              "        (batchnorm): BatchNorm2d(512, eps=1e-05, momentum=0.1, affine=True, track_running_stats=True)\n",
              "        (relu): ReLU(inplace=True)\n",
              "      )\n",
              "      (cbr_2): conv2DBatchNormRelu(\n",
              "        (conv): Conv2d(512, 512, kernel_size=(3, 3), stride=(1, 1), padding=(4, 4), dilation=(4, 4), bias=False)\n",
              "        (batchnorm): BatchNorm2d(512, eps=1e-05, momentum=0.1, affine=True, track_running_stats=True)\n",
              "        (relu): ReLU(inplace=True)\n",
              "      )\n",
              "      (cb_3): conv2DBatchNorm(\n",
              "        (conv): Conv2d(512, 2048, kernel_size=(1, 1), stride=(1, 1), bias=False)\n",
              "        (batchnorm): BatchNorm2d(2048, eps=1e-05, momentum=0.1, affine=True, track_running_stats=True)\n",
              "      )\n",
              "      (relu): ReLU(inplace=True)\n",
              "    )\n",
              "  )\n",
              "  (pyramid_pooling): PyramidPooling(\n",
              "    (avpool_1): AdaptiveAvgPool2d(output_size=6)\n",
              "    (cbr_1): conv2DBatchNormRelu(\n",
              "      (conv): Conv2d(2048, 512, kernel_size=(1, 1), stride=(1, 1), bias=False)\n",
              "      (batchnorm): BatchNorm2d(512, eps=1e-05, momentum=0.1, affine=True, track_running_stats=True)\n",
              "      (relu): ReLU(inplace=True)\n",
              "    )\n",
              "    (avpool_2): AdaptiveAvgPool2d(output_size=3)\n",
              "    (cbr_2): conv2DBatchNormRelu(\n",
              "      (conv): Conv2d(2048, 512, kernel_size=(1, 1), stride=(1, 1), bias=False)\n",
              "      (batchnorm): BatchNorm2d(512, eps=1e-05, momentum=0.1, affine=True, track_running_stats=True)\n",
              "      (relu): ReLU(inplace=True)\n",
              "    )\n",
              "    (avpool_3): AdaptiveAvgPool2d(output_size=2)\n",
              "    (cbr_3): conv2DBatchNormRelu(\n",
              "      (conv): Conv2d(2048, 512, kernel_size=(1, 1), stride=(1, 1), bias=False)\n",
              "      (batchnorm): BatchNorm2d(512, eps=1e-05, momentum=0.1, affine=True, track_running_stats=True)\n",
              "      (relu): ReLU(inplace=True)\n",
              "    )\n",
              "    (avpool_4): AdaptiveAvgPool2d(output_size=1)\n",
              "    (cbr_4): conv2DBatchNormRelu(\n",
              "      (conv): Conv2d(2048, 512, kernel_size=(1, 1), stride=(1, 1), bias=False)\n",
              "      (batchnorm): BatchNorm2d(512, eps=1e-05, momentum=0.1, affine=True, track_running_stats=True)\n",
              "      (relu): ReLU(inplace=True)\n",
              "    )\n",
              "  )\n",
              "  (decode_feature): DecodePSPFeature(\n",
              "    (cbr): conv2DBatchNormRelu(\n",
              "      (conv): Conv2d(4096, 512, kernel_size=(3, 3), stride=(1, 1), padding=(1, 1), bias=False)\n",
              "      (batchnorm): BatchNorm2d(512, eps=1e-05, momentum=0.1, affine=True, track_running_stats=True)\n",
              "      (relu): ReLU(inplace=True)\n",
              "    )\n",
              "    (dropout): Dropout2d(p=0.1, inplace=False)\n",
              "    (classification): Conv2d(512, 2, kernel_size=(1, 1), stride=(1, 1))\n",
              "  )\n",
              "  (aux): AuxiliaryPSPlayers(\n",
              "    (cbr): conv2DBatchNormRelu(\n",
              "      (conv): Conv2d(1024, 256, kernel_size=(3, 3), stride=(1, 1), padding=(1, 1), bias=False)\n",
              "      (batchnorm): BatchNorm2d(256, eps=1e-05, momentum=0.1, affine=True, track_running_stats=True)\n",
              "      (relu): ReLU(inplace=True)\n",
              "    )\n",
              "    (dropout): Dropout2d(p=0.1, inplace=False)\n",
              "    (classification): Conv2d(256, 2, kernel_size=(1, 1), stride=(1, 1))\n",
              "  )\n",
              ")"
            ]
          },
          "execution_count": 70,
          "metadata": {},
          "output_type": "execute_result"
        }
      ],
      "source": [
        "net = PSPNet(n_classes = 2)\n",
        "net"
      ]
    },
    {
      "cell_type": "code",
      "execution_count": null,
      "metadata": {
        "colab": {
          "base_uri": "https://localhost:8080/"
        },
        "id": "M6wtgtx4RYkv",
        "outputId": "eb545b2c-2158-4542-f431-739dd7fddfe8"
      },
      "outputs": [
        {
          "name": "stdout",
          "output_type": "stream",
          "text": [
            "(tensor([[[[-0.3845, -0.3637, -0.3430,  ..., -0.4098, -0.4402, -0.4706],\n",
            "          [-0.3559, -0.3310, -0.3061,  ..., -0.3610, -0.3908, -0.4206],\n",
            "          [-0.3274, -0.2983, -0.2691,  ..., -0.3122, -0.3414, -0.3706],\n",
            "          ...,\n",
            "          [-0.0719, -0.1085, -0.1451,  ..., -0.5777, -0.6146, -0.6515],\n",
            "          [-0.0398, -0.0811, -0.1224,  ..., -0.5734, -0.6116, -0.6498],\n",
            "          [-0.0077, -0.0537, -0.0997,  ..., -0.5690, -0.6085, -0.6481]],\n",
            "\n",
            "         [[-0.3975, -0.4004, -0.4032,  ..., -0.2155, -0.2389, -0.2623],\n",
            "          [-0.3363, -0.3473, -0.3584,  ..., -0.2275, -0.2467, -0.2659],\n",
            "          [-0.2751, -0.2943, -0.3135,  ..., -0.2395, -0.2545, -0.2695],\n",
            "          ...,\n",
            "          [-0.4118, -0.3968, -0.3818,  ..., -0.1524, -0.1195, -0.0865],\n",
            "          [-0.4668, -0.4494, -0.4319,  ..., -0.0926, -0.0505, -0.0085],\n",
            "          [-0.5217, -0.5019, -0.4821,  ..., -0.0327,  0.0184,  0.0694]]],\n",
            "\n",
            "\n",
            "        [[[ 0.0350,  0.0256,  0.0162,  ..., -0.4510, -0.4615, -0.4719],\n",
            "          [ 0.0678,  0.0611,  0.0543,  ..., -0.4019, -0.4131, -0.4243],\n",
            "          [ 0.1006,  0.0965,  0.0924,  ..., -0.3527, -0.3647, -0.3766],\n",
            "          ...,\n",
            "          [-0.0733, -0.0973, -0.1212,  ..., -0.4103, -0.4835, -0.5567],\n",
            "          [-0.1102, -0.1369, -0.1637,  ..., -0.3636, -0.4334, -0.5032],\n",
            "          [-0.1471, -0.1766, -0.2061,  ..., -0.3169, -0.3833, -0.4497]],\n",
            "\n",
            "         [[-0.3818, -0.4477, -0.5135,  ..., -0.4941, -0.5102, -0.5263],\n",
            "          [-0.3650, -0.4245, -0.4840,  ..., -0.4825, -0.4899, -0.4973],\n",
            "          [-0.3482, -0.4014, -0.4545,  ..., -0.4708, -0.4695, -0.4682],\n",
            "          ...,\n",
            "          [-0.2826, -0.2982, -0.3139,  ..., -0.2104, -0.2301, -0.2498],\n",
            "          [-0.2667, -0.2840, -0.3013,  ..., -0.2216, -0.2546, -0.2877],\n",
            "          [-0.2508, -0.2697, -0.2887,  ..., -0.2327, -0.2791, -0.3256]]]],\n",
            "       grad_fn=<UpsampleBilinear2DBackward1>), tensor([[[[-2.3562e-01, -1.8011e-01, -1.2460e-01,  ..., -2.5854e-02,\n",
            "           -3.0285e-02, -3.4717e-02],\n",
            "          [-2.1059e-01, -1.5191e-01, -9.3236e-02,  ..., -2.2077e-02,\n",
            "           -2.4256e-02, -2.6436e-02],\n",
            "          [-1.8556e-01, -1.2372e-01, -6.1877e-02,  ..., -1.8301e-02,\n",
            "           -1.8228e-02, -1.8154e-02],\n",
            "          ...,\n",
            "          [-1.0850e-01, -5.4018e-02,  4.6325e-04,  ...,  1.0994e-01,\n",
            "            1.1059e-01,  1.1124e-01],\n",
            "          [-1.0747e-01, -4.4762e-02,  1.7950e-02,  ...,  1.2555e-01,\n",
            "            1.2456e-01,  1.2357e-01],\n",
            "          [-1.0645e-01, -3.5506e-02,  3.5436e-02,  ...,  1.4116e-01,\n",
            "            1.3853e-01,  1.3590e-01]],\n",
            "\n",
            "         [[-4.4618e-01, -5.0578e-01, -5.6537e-01,  ..., -9.2240e-01,\n",
            "           -8.8839e-01, -8.5437e-01],\n",
            "          [-5.1907e-01, -5.7248e-01, -6.2588e-01,  ..., -8.6933e-01,\n",
            "           -8.3597e-01, -8.0260e-01],\n",
            "          [-5.9195e-01, -6.3917e-01, -6.8639e-01,  ..., -8.1625e-01,\n",
            "           -7.8354e-01, -7.5083e-01],\n",
            "          ...,\n",
            "          [-3.1486e-01, -2.8003e-01, -2.4519e-01,  ..., -6.6675e-02,\n",
            "           -5.1745e-02, -3.6814e-02],\n",
            "          [-2.7692e-01, -2.4373e-01, -2.1055e-01,  ..., -1.0350e-01,\n",
            "           -9.2031e-02, -8.0565e-02],\n",
            "          [-2.3897e-01, -2.0744e-01, -1.7591e-01,  ..., -1.4032e-01,\n",
            "           -1.3232e-01, -1.2431e-01]]],\n",
            "\n",
            "\n",
            "        [[[-4.8650e-02,  1.3345e-02,  7.5340e-02,  ...,  2.4623e-01,\n",
            "            3.0897e-01,  3.7171e-01],\n",
            "          [-1.8957e-03,  6.1210e-02,  1.2431e-01,  ...,  2.3335e-01,\n",
            "            2.8247e-01,  3.3159e-01],\n",
            "          [ 4.4859e-02,  1.0907e-01,  1.7329e-01,  ...,  2.2046e-01,\n",
            "            2.5597e-01,  2.9147e-01],\n",
            "          ...,\n",
            "          [ 4.4781e-01,  4.4760e-01,  4.4740e-01,  ...,  2.7143e-01,\n",
            "            2.3021e-01,  1.8900e-01],\n",
            "          [ 4.5461e-01,  4.5762e-01,  4.6063e-01,  ...,  2.9315e-01,\n",
            "            2.4136e-01,  1.8956e-01],\n",
            "          [ 4.6141e-01,  4.6764e-01,  4.7387e-01,  ...,  3.1487e-01,\n",
            "            2.5250e-01,  1.9012e-01]],\n",
            "\n",
            "         [[-4.3541e-01, -4.7467e-01, -5.1393e-01,  ..., -6.7943e-01,\n",
            "           -6.1661e-01, -5.5378e-01],\n",
            "          [-4.4658e-01, -4.7986e-01, -5.1315e-01,  ..., -6.5794e-01,\n",
            "           -6.0736e-01, -5.5677e-01],\n",
            "          [-4.5775e-01, -4.8506e-01, -5.1237e-01,  ..., -6.3645e-01,\n",
            "           -5.9810e-01, -5.5975e-01],\n",
            "          ...,\n",
            "          [-8.1951e-02, -1.0385e-01, -1.2574e-01,  ...,  9.1332e-02,\n",
            "            1.4607e-01,  2.0080e-01],\n",
            "          [ 1.6661e-02, -2.4548e-02, -6.5756e-02,  ...,  1.4091e-01,\n",
            "            1.9923e-01,  2.5756e-01],\n",
            "          [ 1.1527e-01,  5.4752e-02, -5.7680e-03,  ...,  1.9049e-01,\n",
            "            2.5240e-01,  3.1431e-01]]]], grad_fn=<UpsampleBilinear2DBackward1>))\n"
          ]
        }
      ],
      "source": [
        "batch_size = 2\n",
        "dummy_img = torch.rand(batch_size, 3, 475, 475)\n",
        "\n",
        "outputs = net(dummy_img)\n",
        "print(outputs)#계산되는지 확인"
      ]
    },
    {
      "cell_type": "markdown",
      "metadata": {
        "id": "5h_MHYh2XPI4"
      },
      "source": [
        "## Functions"
      ]
    },
    {
      "cell_type": "markdown",
      "metadata": {
        "id": "oP3taxiYTXaC"
      },
      "source": [
        "### Load Pretrain weights & Fine-tune"
      ]
    },
    {
      "cell_type": "code",
      "execution_count": null,
      "metadata": {
        "colab": {
          "base_uri": "https://localhost:8080/"
        },
        "id": "4Ybrr-M9Rpd3",
        "outputId": "dd5e9e3a-dd2c-4a4e-b5ea-e23fefceb903"
      },
      "outputs": [
        {
          "data": {
            "text/plain": [
              "<All keys matched successfully>"
            ]
          },
          "execution_count": 72,
          "metadata": {},
          "output_type": "execute_result"
        }
      ],
      "source": [
        "psp_net = PSPNet(n_classes = 150)\n",
        "\n",
        "state_dict = torch.load('/content/weights/pspnet50_ADE20K.pth')\n",
        "psp_net.load_state_dict(state_dict)"
      ]
    },
    {
      "cell_type": "code",
      "execution_count": null,
      "metadata": {
        "id": "E341MlBcU1mG"
      },
      "outputs": [],
      "source": [
        "n_classes = 3#background, left, right\n",
        "psp_net.decode_feature.classification = nn.Conv2d(in_channels = 512,\n",
        "                                              out_channels = n_classes,\n",
        "                                              kernel_size = 1,\n",
        "                                              stride = 1,\n",
        "                                              padding = 0)\n",
        "psp_net.aux.classification = nn.Conv2d(in_channels = 256,\n",
        "                                   out_channels = n_classes,\n",
        "                                   kernel_size = 1,\n",
        "                                   stride = 1,\n",
        "                                   padding = 0)"
      ]
    },
    {
      "cell_type": "code",
      "execution_count": null,
      "metadata": {
        "colab": {
          "base_uri": "https://localhost:8080/"
        },
        "id": "redHt5mXVXlm",
        "outputId": "634142ad-8ba4-472f-e16d-c101dad56c5e"
      },
      "outputs": [
        {
          "data": {
            "text/plain": [
              "Conv2d(256, 3, kernel_size=(1, 1), stride=(1, 1))"
            ]
          },
          "execution_count": 74,
          "metadata": {},
          "output_type": "execute_result"
        }
      ],
      "source": [
        "#intinialize replaced conv layers with xavier weights\n",
        "def weights_init(m):\n",
        "  if isinstance(m, nn.Conv2d):\n",
        "    nn.init.xavier_normal_(m.weight.data)\n",
        "    if m.bias is not None:#if bias exists\n",
        "      nn.init.constant_(m.bias, 0.0)\n",
        "psp_net.decode_feature.classification.apply(weights_init)\n",
        "psp_net.aux.classification.apply(weights_init)"
      ]
    },
    {
      "cell_type": "markdown",
      "metadata": {
        "id": "7wcZm2q3YNPr"
      },
      "source": [
        "### PSPLoss = previous PSPLoss + BoundaryLoss\n",
        "\n",
        "**I made the weights on loss trainable**"
      ]
    },
    {
      "cell_type": "code",
      "execution_count": null,
      "metadata": {
        "id": "je2X0yUAf4bm"
      },
      "outputs": [],
      "source": [
        "#learnable loss weight param\n",
        "log_sigma_ce = torch.tensor([1.]).requires_grad_()\n",
        "log_sigma_aux = torch.tensor([0.4]).requires_grad_()"
      ]
    },
    {
      "cell_type": "code",
      "execution_count": null,
      "metadata": {
        "id": "XlHMRjSR9Fbc"
      },
      "outputs": [],
      "source": [
        "import math\n",
        "\n",
        "def sigmoid(x):\n",
        "  return 2*((1 / (1 + math.exp(-x)))+0.5)"
      ]
    },
    {
      "cell_type": "code",
      "source": [
        "class PSPLoss(nn.Module):#PSPLoss = original loss + aux_loss\n",
        "  def __init__(self, aux_weight = 0.4):#0.4: less important than original loss\n",
        "    super(PSPLoss, self).__init__()\n",
        "    self.aux_weight = aux_weight\n",
        "  \n",
        "  def forward(self, outputs, targets):#, log_sigma_ce, log_sigma_aux):#, log_sigma_hd):\n",
        "    loss = DC_and_BD_loss(soft_dice_kwargs= {'batch_dice' : True, 'do_bg' : False, 'smooth' : 1e-5, 'square' : False}, bd_kwargs = {})(outputs[0],targets).cuda()\n",
        "    loss_aux = F.cross_entropy(outputs[1], targets, reduction = 'mean').cuda()\n",
        "    return loss+0.3*loss_aux#PSPLoss\n",
        "    \n",
        "criterion = PSPLoss(0.3).cuda()\n"
      ],
      "metadata": {
        "id": "G1kh-LCRbZQ2"
      },
      "execution_count": null,
      "outputs": []
    },
    {
      "cell_type": "code",
      "execution_count": null,
      "metadata": {
        "id": "seVvTkElWKM8"
      },
      "outputs": [],
      "source": [
        "class PSPLoss(nn.Module):#PSPLoss = original loss + aux_loss\n",
        "  def __init__(self, aux_weight = 0.4):#0.4: less important than original loss\n",
        "    super(PSPLoss, self).__init__()\n",
        "    self.aux_weight = aux_weight\n",
        "  \n",
        "  def forward(self, outputs, targets):#, log_sigma_ce, log_sigma_aux):#, log_sigma_hd):\n",
        "    loss = DC_and_BD_loss(soft_dice_kwargs= {'batch_dice' : True, 'do_bg' : False, 'smooth' : 1e-5, 'square' : False}, bd_kwargs = {})(outputs[0],targets).cuda()\n",
        "    #loss = F.cross_entropy(outputs[0], targets, reduction = 'mean').cuda()\n",
        "    loss_aux = F.cross_entropy(outputs[1], targets, reduction = 'mean').cuda()\n",
        "    #bd_loss = BDLoss()(outputs[0],targets).cuda()\n",
        "    #print(f\"loss: {loss} loss_aux: {loss_aux} bd_loss: {bd_loss}\")\n",
        "    return loss+0.3*loss_aux#PSPLoss\n",
        "    \n",
        "criterion = PSPLoss(0.3).cuda()\n"
      ]
    },
    {
      "cell_type": "code",
      "execution_count": null,
      "metadata": {
        "colab": {
          "base_uri": "https://localhost:8080/"
        },
        "id": "2h32-e8FkLu_",
        "outputId": "78eff9c0-fc57-4c3f-df6d-cd712bbd5d1b"
      },
      "outputs": [
        {
          "data": {
            "text/plain": [
              "PSPLoss()"
            ]
          },
          "execution_count": 78,
          "metadata": {},
          "output_type": "execute_result"
        }
      ],
      "source": [
        "schecriterion"
      ]
    },
    {
      "cell_type": "code",
      "execution_count": null,
      "metadata": {
        "id": "KuyJyiOshFe3"
      },
      "outputs": [],
      "source": [
        "loss_weight_list = [log_sigma_ce, log_sigma_aux]#, log_sigma_hd]"
      ]
    },
    {
      "cell_type": "markdown",
      "metadata": {
        "id": "mVVw-1ACYbg1"
      },
      "source": [
        "### Lr scheduler (cutmix pretrained라서 다 lr을 작게 바꿔줌)\n",
        "\n",
        "Because it's finetuning, set small lr for modules close to input and large lr for Decoder and AuxLoss modules with replaced conv layers.\n",
        "However, as the dataset is different for pre-trained weights, experiment on big lr for modules close to input is worth trying\n"
      ]
    },
    {
      "cell_type": "code",
      "execution_count": null,
      "metadata": {
        "colab": {
          "base_uri": "https://localhost:8080/"
        },
        "id": "yPrTXVH1jEMQ",
        "outputId": "bcc41d89-8739-4fc9-f5e6-11e68e31b8a4"
      },
      "outputs": [
        {
          "data": {
            "text/plain": [
              "False"
            ]
          },
          "execution_count": 89,
          "metadata": {},
          "output_type": "execute_result"
        }
      ],
      "source": [
        "5e-4 > 1e-3"
      ]
    },
    {
      "cell_type": "code",
      "execution_count": null,
      "metadata": {
        "colab": {
          "base_uri": "https://localhost:8080/"
        },
        "id": "XCLoWO6MjHNm",
        "outputId": "22dadf14-b91a-4668-c885-e98d59d4bc63"
      },
      "outputs": [
        {
          "data": {
            "text/plain": [
              "True"
            ]
          },
          "execution_count": 91,
          "metadata": {},
          "output_type": "execute_result"
        }
      ],
      "source": [
        "5e-4 == 0.0005"
      ]
    },
    {
      "cell_type": "code",
      "execution_count": null,
      "metadata": {
        "id": "Xrlq9pJAdFgj"
      },
      "outputs": [],
      "source": [
        "psp_net = PSPNet(n_classes = 3)\n",
        "psp_net.load_state_dict(torch.load('/content/drive/MyDrive/2022/LungSegmentation/PSPNet/learnable_hd_pspnet50_10.pth',map_location = 'cuda:0'))#{'cuda:0':'cpu'}))"
      ]
    },
    {
      "cell_type": "code",
      "execution_count": null,
      "metadata": {
        "id": "rHRXazGFYTma"
      },
      "outputs": [],
      "source": [
        "optimizer = optim.SGD([\n",
        "    {'params':psp_net.feature_conv.parameters(),'lr':0.0005},\n",
        "    {'params':psp_net.feature_res_1.parameters(),'lr':0.0005},\n",
        "    {'params':psp_net.feature_res_2.parameters(),'lr':0.0005},\n",
        "    {'params':psp_net.feature_dilated_res_1.parameters(),'lr':0.0005},\n",
        "    {'params':psp_net.feature_dilated_res_2.parameters(),'lr':0.0005},\n",
        "    {'params':psp_net.pyramid_pooling.parameters(),'lr':0.0005},\n",
        "    {'params':psp_net.decode_feature.parameters(),'lr':0.0005},\n",
        "    {'params':psp_net.aux.parameters(),'lr':0.0005},\n",
        "    {'params':loss_weight_list, 'lr':0.0005},#trainable ratio\n",
        "], momentum = 0.9, weight_decay = 0.0001)"
      ]
    },
    {
      "cell_type": "code",
      "execution_count": null,
      "metadata": {
        "id": "w0hCuwCFccBT"
      },
      "outputs": [],
      "source": [
        "def lambda_epoch(epoch):\n",
        "  max_epoch = 35\n",
        "  return math.pow((1-epoch/max_epoch),0.9)"
      ]
    },
    {
      "cell_type": "code",
      "execution_count": null,
      "metadata": {
        "id": "C5mPxz_fc_CZ"
      },
      "outputs": [],
      "source": [
        "scheduler = optim.lr_scheduler.LambdaLR(optimizer, lr_lambda = lambda_epoch)"
      ]
    },
    {
      "cell_type": "markdown",
      "metadata": {
        "id": "9gY2IBR3tVVz"
      },
      "source": [
        "## Adam + Cosine Annealing"
      ]
    },
    {
      "cell_type": "code",
      "execution_count": null,
      "metadata": {
        "id": "l8GnusHYtS5z"
      },
      "outputs": [],
      "source": [
        "import math\n",
        "from torch.optim import Optimizer\n",
        "class _LRScheduler(object):\n",
        "    def __init__(self, optimizer, last_epoch=-1):\n",
        "        if not isinstance(optimizer, Optimizer):\n",
        "            raise TypeError('{} is not an Optimizer'.format(\n",
        "                type(optimizer).__name__))\n",
        "        self.optimizer = optimizer\n",
        "        if last_epoch == -1:\n",
        "            for group in optimizer.param_groups:\n",
        "                group.setdefault('initial_lr', group['lr'])\n",
        "            last_epoch = 0\n",
        "        else:\n",
        "            for i, group in enumerate(optimizer.param_groups):\n",
        "                if 'initial_lr' not in group:\n",
        "                    raise KeyError(\"param 'initial_lr' is not specified \"\n",
        "                                   \"in param_groups[{}] when resuming an optimizer\".format(i))\n",
        "        self.base_lrs = list(map(lambda group: group['initial_lr'], optimizer.param_groups))\n",
        "        self.step(last_epoch)\n",
        "\n",
        "    def state_dict(self):\n",
        "        \"\"\"Returns the state of the scheduler as a :class:`dict`.\n",
        "        It contains an entry for every variable in self.__dict__ which\n",
        "        is not the optimizer.\n",
        "        \"\"\"\n",
        "        return {key: value for key, value in self.__dict__.items() if key != 'optimizer'}\n",
        "\n",
        "    def load_state_dict(self, state_dict):\n",
        "        \"\"\"Loads the schedulers state.\n",
        "        Arguments:\n",
        "            state_dict (dict): scheduler state. Should be an object returned\n",
        "                from a call to :meth:`state_dict`.\n",
        "        \"\"\"\n",
        "        self.__dict__.update(state_dict)\n",
        "\n",
        "    def get_lr(self):\n",
        "        raise NotImplementedError\n",
        "\n",
        "    def step(self, epoch=None):\n",
        "        if epoch is None:\n",
        "            epoch = self.last_epoch + 1\n",
        "        self.last_epoch = epoch\n",
        "        for param_group, lr in zip(self.optimizer.param_groups, self.get_lr()):\n",
        "            param_group['lr'] = lr"
      ]
    },
    {
      "cell_type": "code",
      "execution_count": null,
      "metadata": {
        "id": "VfoxQ3CYtiKR"
      },
      "outputs": [],
      "source": [
        "class CosineAnnealingWarmUpRestarts(_LRScheduler):\n",
        "    def __init__(self, optimizer, T_0, T_mult=1, eta_max=0.1, T_up=0, gamma=1., last_epoch=-1):\n",
        "        if T_0 <= 0 or not isinstance(T_0, int):\n",
        "            raise ValueError(\"Expected positive integer T_0, but got {}\".format(T_0))\n",
        "        if T_mult < 1 or not isinstance(T_mult, int):\n",
        "            raise ValueError(\"Expected integer T_mult >= 1, but got {}\".format(T_mult))\n",
        "        if T_up < 0 or not isinstance(T_up, int):\n",
        "            raise ValueError(\"Expected positive integer T_up, but got {}\".format(T_up))\n",
        "        self.T_0 = T_0\n",
        "        self.T_mult = T_mult\n",
        "        self.base_eta_max = eta_max\n",
        "        self.eta_max = eta_max\n",
        "        self.T_up = T_up\n",
        "        self.T_i = T_0\n",
        "        self.gamma = gamma\n",
        "        self.cycle = 0\n",
        "        super(CosineAnnealingWarmUpRestarts, self).__init__(optimizer, last_epoch)\n",
        "        self.T_cur = last_epoch\n",
        "    \n",
        "    def get_lr(self):\n",
        "        if self.T_cur == -1:\n",
        "            return self.base_lrs\n",
        "        elif self.T_cur < self.T_up:\n",
        "            return [(self.eta_max - base_lr)*self.T_cur / self.T_up + base_lr for base_lr in self.base_lrs]\n",
        "        else:\n",
        "            return [base_lr + (self.eta_max - base_lr) * (1 + math.cos(math.pi * (self.T_cur-self.T_up) / (self.T_i - self.T_up))) / 2\n",
        "                    for base_lr in self.base_lrs]\n",
        "\n",
        "    def step(self, epoch=None):\n",
        "        if epoch is None:\n",
        "            epoch = self.last_epoch + 1\n",
        "            self.T_cur = self.T_cur + 1\n",
        "            if self.T_cur >= self.T_i:\n",
        "                self.cycle += 1\n",
        "                self.T_cur = self.T_cur - self.T_i\n",
        "                self.T_i = (self.T_i - self.T_up) * self.T_mult + self.T_up\n",
        "        else:\n",
        "            if epoch >= self.T_0:\n",
        "                if self.T_mult == 1:\n",
        "                    self.T_cur = epoch % self.T_0\n",
        "                    self.cycle = epoch // self.T_0\n",
        "                else:\n",
        "                    n = int(math.log((epoch / self.T_0 * (self.T_mult - 1) + 1), self.T_mult))\n",
        "                    self.cycle = n\n",
        "                    self.T_cur = epoch - self.T_0 * (self.T_mult ** n - 1) / (self.T_mult - 1)\n",
        "                    self.T_i = self.T_0 * self.T_mult ** (n)\n",
        "            else:\n",
        "                self.T_i = self.T_0\n",
        "                self.T_cur = epoch\n",
        "                \n",
        "        self.eta_max = self.base_eta_max * (self.gamma**self.cycle)\n",
        "        self.last_epoch = math.floor(epoch)\n",
        "        for param_group, lr in zip(self.optimizer.param_groups, self.get_lr()):\n",
        "            param_group['lr'] = lr"
      ]
    },
    {
      "cell_type": "code",
      "execution_count": null,
      "metadata": {
        "id": "RTfkj5FktL3q"
      },
      "outputs": [],
      "source": [
        "optimizer = optim.Adam(psp_net.parameters(), lr=0.0005)\n",
        "scheduler = optim.lr_scheduler.CosineAnnealingLR(optimizer, T_max=100, eta_min=0)"
      ]
    },
    {
      "cell_type": "markdown",
      "metadata": {
        "id": "RbIiQyXgd-Wo"
      },
      "source": [
        "# Train w/ histogram EQ + learnable BD Loss"
      ]
    },
    {
      "cell_type": "code",
      "execution_count": null,
      "metadata": {
        "id": "z2iDFD0odGAd"
      },
      "outputs": [],
      "source": [
        "# Setup seeds\n",
        "torch.manual_seed(1234)\n",
        "np.random.seed(1234)\n",
        "random.seed(1234)"
      ]
    },
    {
      "cell_type": "code",
      "execution_count": null,
      "metadata": {
        "id": "wwDqCLE8dGHw"
      },
      "outputs": [],
      "source": [
        "def train_model(net, dataloaders_dict, criterion, scheduler, optimizer, num_epochs, loss_weight_list):\n",
        "\n",
        "\n",
        "    # allocate gpu\n",
        "    device = torch.device(\"cuda:0\" if torch.cuda.is_available() else \"cpu\")\n",
        "    net.to(device)\n",
        "    # accelerate model after stabilization\n",
        "    torch.backends.cudnn.benchmark = True\n",
        "\n",
        "    # number of images\n",
        "    num_train_imgs = len(dataloaders_dict[\"train\"].dataset)\n",
        "    num_val_imgs = len(dataloaders_dict[\"val\"].dataset)\n",
        "    batch_size = dataloaders_dict[\"train\"].batch_size\n",
        "    \n",
        "    iteration = 1\n",
        "    logs = []\n",
        "\n",
        "    # multiple minibatch\n",
        "    batch_multiplier = 3\n",
        "\n",
        "    # epoch loop\n",
        "    for epoch in range(num_epochs):\n",
        "\n",
        "        # start time\n",
        "        t_epoch_start = time.time()\n",
        "        t_iter_start = time.time()\n",
        "        epoch_train_loss = 0.0  # sum of epoch loss for training\n",
        "        epoch_val_loss = 0.0  # sum of epoch loss for validation\n",
        "\n",
        "        print('-------------')\n",
        "        print('Epoch {}/{}'.format(epoch+1, num_epochs))\n",
        "        print('-------------')\n",
        "\n",
        "        for phase in [\"train\", \"val\"]:\n",
        "            if phase == 'train':\n",
        "                net.train() \n",
        "                scheduler.step()  # optimize scheduler\n",
        "                optimizer.zero_grad()\n",
        "                print('（train）')\n",
        "\n",
        "            else:\n",
        "                if((epoch+1) % 5 == 0):\n",
        "                    net.eval()   \n",
        "                    print('-------------')\n",
        "                    print('（val）')\n",
        "                else:\n",
        "                    #validate once in five training times\n",
        "                    continue\n",
        "\n",
        "            \n",
        "            count = 0  # multiple minibatch\n",
        "            for imges, anno_class_imges in dataloaders_dict[phase]:\n",
        "                imges = imges.to(device)\n",
        "                anno_class_imges = anno_class_imges.to(device)\n",
        "\n",
        "                \n",
        "              \n",
        "                if (phase == 'train') and (count == 0):\n",
        "                    optimizer.step()\n",
        "                    optimizer.zero_grad()\n",
        "                    count = batch_multiplier\n",
        "                '''\n",
        "                outputs = psp_net(x)\n",
        "  y = outputs[0] \n",
        "  \n",
        "  y = y[0].cpu().detach().numpy()\n",
        "  y = np.argmax(y, axis=0)\n",
        "  anno_predicted = Image.fromarray(np.uint8(y), mode=\"P\")\n",
        "  #anno_predicted = anno_predicted.resize((img_width, img_height), Image.NEAREST)\n",
        "  #print(np.array(anno_class_img).shape,np.array(anno_predicted).shape)\n",
        "  #break\n",
        "  dice = dice_coef(np.array(anno_class_img), np.array(anno_predicted))\n",
        "                '''\n",
        "             \n",
        "                with torch.set_grad_enabled(phase == 'train'):\n",
        "                    outputs = net(imges)\n",
        "                    loss = criterion(\n",
        "                        outputs, anno_class_imges.long()) / batch_multiplier\n",
        "\n",
        "                    if phase == 'train':\n",
        "                        loss.backward() \n",
        "                        count -= 1 \n",
        "                        if (iteration % 10 == 0): \n",
        "                            t_iter_finish = time.time()\n",
        "                            duration = t_iter_finish - t_iter_start\n",
        "                            print('iteration {} || Loss: {:.4f} || 10iter: {:.4f} sec.'.format(\n",
        "                                iteration, loss.item()/batch_size*batch_multiplier, duration))\n",
        "                            t_iter_start = time.time()\n",
        "\n",
        "                        epoch_train_loss += loss.item() * batch_multiplier\n",
        "                        iteration += 1\n",
        "                        \n",
        "\n",
        "                    # validate\n",
        "                    else:\n",
        "                        epoch_val_loss += loss.item() * batch_multiplier\n",
        "\n",
        "        \n",
        "        t_epoch_finish = time.time()\n",
        "        print('-------------')\n",
        "        print('epoch {} || Epoch_TRAIN_Loss:{:.4f} ||Epoch_VAL_Loss:{:.4f}'.format(\n",
        "            epoch+1, epoch_train_loss/num_train_imgs, epoch_val_loss/num_val_imgs))\n",
        "        print('timer:  {:.4f} sec.'.format(t_epoch_finish - t_epoch_start))\n",
        "        t_epoch_start = time.time()\n",
        "        #log_sigma_ce, log_sigma_aux, log_sigma_hd \n",
        "        log_epoch = {'epoch': epoch+1, 'train_loss': epoch_train_loss /\n",
        "                     num_train_imgs,'val_loss': epoch_val_loss/num_val_imgs}\n",
        "        logs.append(log_epoch)\n",
        "        df = pd.DataFrame(logs)\n",
        "        if (epoch+1)%5 == 0:\n",
        "          df.to_csv(f\"/content/drive/MyDrive/2022/LungSegmentation/PSPNet/cosine_log_output{epoch+1}.csv\")\n",
        "          torch.save(net.state_dict(), '/content/drive/MyDrive/2022/LungSegmentation/PSPNet/cosine_pspnet50_' +\n",
        "                str(epoch+1) + '.pth')\n",
        "\n",
        "    # save last model\n",
        "    torch.save(net.state_dict(), '/content/drive/MyDrive/2022/LungSegmentation/PSPNet/cosine_pspnet50_' +\n",
        "               str(epoch+1) + '.pth')"
      ]
    },
    {
      "cell_type": "code",
      "execution_count": null,
      "metadata": {
        "colab": {
          "background_save": true,
          "base_uri": "https://localhost:8080/"
        },
        "id": "HcY7z6LbvEXc",
        "outputId": "013a4297-594c-47ad-ae0b-df5139ce68ab"
      },
      "outputs": [
        {
          "name": "stdout",
          "output_type": "stream",
          "text": [
            "-------------\n",
            "Epoch 1/50\n",
            "-------------\n",
            "（train）\n"
          ]
        },
        {
          "name": "stderr",
          "output_type": "stream",
          "text": [
            "/usr/local/lib/python3.7/dist-packages/torch/optim/lr_scheduler.py:134: UserWarning: Detected call of `lr_scheduler.step()` before `optimizer.step()`. In PyTorch 1.1.0 and later, you should call them in the opposite order: `optimizer.step()` before `lr_scheduler.step()`.  Failure to do this will result in PyTorch skipping the first value of the learning rate schedule. See more details at https://pytorch.org/docs/stable/optim.html#how-to-adjust-learning-rate\n",
            "  \"https://pytorch.org/docs/stable/optim.html#how-to-adjust-learning-rate\", UserWarning)\n",
            "/usr/local/lib/python3.7/dist-packages/ipykernel_launcher.py:25: DeprecationWarning: `np.bool` is a deprecated alias for the builtin `bool`. To silence this warning, use `bool` by itself. Doing this will not modify any behavior and is safe. If you specifically wanted the numpy scalar type, use `np.bool_` here.\n",
            "Deprecated in NumPy 1.20; for more details and guidance: https://numpy.org/devdocs/release/1.20.0-notes.html#deprecations\n"
          ]
        },
        {
          "name": "stdout",
          "output_type": "stream",
          "text": [
            "iteration 10 || Loss: -1.0369 || 10iter: 6.6164 sec.\n",
            "iteration 20 || Loss: -0.8711 || 10iter: 6.5730 sec.\n",
            "iteration 30 || Loss: -1.0432 || 10iter: 6.5842 sec.\n",
            "iteration 40 || Loss: -1.0399 || 10iter: 6.5740 sec.\n",
            "iteration 50 || Loss: -0.8855 || 10iter: 6.5627 sec.\n",
            "iteration 60 || Loss: -1.2240 || 10iter: 6.6239 sec.\n",
            "iteration 70 || Loss: -0.7951 || 10iter: 6.5899 sec.\n",
            "iteration 80 || Loss: -1.2649 || 10iter: 6.6407 sec.\n",
            "iteration 90 || Loss: -0.9398 || 10iter: 6.5845 sec.\n",
            "iteration 100 || Loss: -1.0975 || 10iter: 6.5719 sec.\n",
            "iteration 110 || Loss: -0.8765 || 10iter: 6.5555 sec.\n",
            "iteration 120 || Loss: -0.6896 || 10iter: 6.5966 sec.\n",
            "iteration 130 || Loss: -0.9960 || 10iter: 6.6916 sec.\n",
            "iteration 140 || Loss: -0.9674 || 10iter: 6.6454 sec.\n",
            "iteration 150 || Loss: -0.8689 || 10iter: 6.5893 sec.\n",
            "iteration 160 || Loss: -0.7504 || 10iter: 6.6136 sec.\n",
            "iteration 170 || Loss: -1.0818 || 10iter: 6.5467 sec.\n",
            "iteration 180 || Loss: -1.0605 || 10iter: 6.5783 sec.\n",
            "iteration 190 || Loss: -1.0762 || 10iter: 6.5823 sec.\n",
            "iteration 200 || Loss: -1.0716 || 10iter: 6.5752 sec.\n",
            "iteration 210 || Loss: -0.6870 || 10iter: 6.6017 sec.\n",
            "iteration 220 || Loss: -1.1600 || 10iter: 6.5873 sec.\n",
            "iteration 230 || Loss: -0.7937 || 10iter: 6.6866 sec.\n",
            "iteration 240 || Loss: -0.9823 || 10iter: 6.5853 sec.\n",
            "iteration 250 || Loss: -0.8643 || 10iter: 6.5928 sec.\n",
            "iteration 260 || Loss: -1.0580 || 10iter: 6.5613 sec.\n",
            "-------------\n",
            "epoch 1 || Epoch_TRAIN_Loss:-0.9241 ||Epoch_VAL_Loss:0.0000\n",
            "timer:  182.7163 sec.\n",
            "-------------\n",
            "Epoch 2/50\n",
            "-------------\n",
            "（train）\n",
            "iteration 270 || Loss: -1.1757 || 10iter: 3.1539 sec.\n",
            "iteration 280 || Loss: -0.9275 || 10iter: 6.6965 sec.\n",
            "iteration 290 || Loss: -1.1169 || 10iter: 6.6060 sec.\n",
            "iteration 300 || Loss: -1.0396 || 10iter: 6.6117 sec.\n",
            "iteration 310 || Loss: -0.6372 || 10iter: 6.5778 sec.\n",
            "iteration 320 || Loss: -1.1352 || 10iter: 6.5985 sec.\n",
            "iteration 330 || Loss: -1.1996 || 10iter: 6.6097 sec.\n",
            "iteration 340 || Loss: -1.0421 || 10iter: 6.6675 sec.\n",
            "iteration 350 || Loss: -0.7218 || 10iter: 6.5992 sec.\n",
            "iteration 360 || Loss: -1.0874 || 10iter: 6.5958 sec.\n",
            "iteration 370 || Loss: -0.7029 || 10iter: 6.6144 sec.\n",
            "iteration 380 || Loss: -0.9164 || 10iter: 6.7039 sec.\n",
            "iteration 390 || Loss: -0.8685 || 10iter: 6.6204 sec.\n",
            "iteration 400 || Loss: -1.2106 || 10iter: 6.5668 sec.\n",
            "iteration 410 || Loss: -1.1495 || 10iter: 6.5958 sec.\n",
            "iteration 420 || Loss: -1.2192 || 10iter: 6.5806 sec.\n",
            "iteration 430 || Loss: -0.9251 || 10iter: 6.5660 sec.\n",
            "iteration 440 || Loss: -1.1192 || 10iter: 6.7437 sec.\n",
            "iteration 450 || Loss: -1.0017 || 10iter: 6.6283 sec.\n",
            "iteration 460 || Loss: -0.6884 || 10iter: 6.5790 sec.\n",
            "iteration 470 || Loss: -1.0879 || 10iter: 6.6201 sec.\n",
            "iteration 480 || Loss: -0.6601 || 10iter: 6.5879 sec.\n",
            "iteration 490 || Loss: -0.7761 || 10iter: 6.6589 sec.\n",
            "iteration 500 || Loss: -0.6007 || 10iter: 6.6116 sec.\n",
            "iteration 510 || Loss: -1.1967 || 10iter: 6.5956 sec.\n",
            "iteration 520 || Loss: -1.0991 || 10iter: 6.6047 sec.\n",
            "iteration 530 || Loss: -0.7496 || 10iter: 6.5084 sec.\n",
            "-------------\n",
            "epoch 2 || Epoch_TRAIN_Loss:-0.9394 ||Epoch_VAL_Loss:0.0000\n",
            "timer:  183.2938 sec.\n",
            "-------------\n",
            "Epoch 3/50\n",
            "-------------\n",
            "（train）\n",
            "iteration 540 || Loss: -1.1657 || 10iter: 6.7709 sec.\n",
            "iteration 550 || Loss: -1.1476 || 10iter: 6.5817 sec.\n",
            "iteration 560 || Loss: -1.0040 || 10iter: 6.5925 sec.\n",
            "iteration 570 || Loss: -1.0867 || 10iter: 6.5913 sec.\n",
            "iteration 580 || Loss: -0.9298 || 10iter: 6.5769 sec.\n",
            "iteration 590 || Loss: -1.1797 || 10iter: 6.7053 sec.\n",
            "iteration 600 || Loss: -1.0364 || 10iter: 6.5938 sec.\n",
            "iteration 610 || Loss: -0.9997 || 10iter: 6.5612 sec.\n",
            "iteration 620 || Loss: -1.0975 || 10iter: 6.5691 sec.\n",
            "iteration 630 || Loss: -1.1574 || 10iter: 6.6063 sec.\n",
            "iteration 640 || Loss: -0.9562 || 10iter: 6.6746 sec.\n",
            "iteration 650 || Loss: -1.0120 || 10iter: 6.5881 sec.\n",
            "iteration 660 || Loss: -1.3758 || 10iter: 6.5747 sec.\n",
            "iteration 670 || Loss: -0.9903 || 10iter: 6.5693 sec.\n",
            "iteration 680 || Loss: -1.0046 || 10iter: 6.5653 sec.\n",
            "iteration 690 || Loss: -0.6217 || 10iter: 6.6757 sec.\n",
            "iteration 700 || Loss: -1.1414 || 10iter: 6.5929 sec.\n",
            "iteration 710 || Loss: -0.8728 || 10iter: 6.6072 sec.\n",
            "iteration 720 || Loss: -0.7885 || 10iter: 6.6235 sec.\n",
            "iteration 730 || Loss: -0.9675 || 10iter: 6.5697 sec.\n",
            "iteration 740 || Loss: -1.0617 || 10iter: 6.6659 sec.\n",
            "iteration 750 || Loss: -0.8611 || 10iter: 6.6444 sec.\n",
            "iteration 760 || Loss: -0.7633 || 10iter: 6.5978 sec.\n",
            "iteration 770 || Loss: -0.7160 || 10iter: 6.5894 sec.\n",
            "iteration 780 || Loss: -1.0242 || 10iter: 6.6179 sec.\n",
            "iteration 790 || Loss: -0.7535 || 10iter: 6.5897 sec.\n",
            "-------------\n",
            "epoch 3 || Epoch_TRAIN_Loss:-0.9426 ||Epoch_VAL_Loss:0.0000\n",
            "timer:  183.1286 sec.\n",
            "-------------\n",
            "Epoch 4/50\n",
            "-------------\n",
            "（train）\n",
            "iteration 800 || Loss: -0.9330 || 10iter: 3.1632 sec.\n",
            "iteration 810 || Loss: -0.8983 || 10iter: 6.5942 sec.\n",
            "iteration 820 || Loss: -0.7321 || 10iter: 6.6064 sec.\n",
            "iteration 830 || Loss: -0.8541 || 10iter: 6.6029 sec.\n",
            "iteration 840 || Loss: -0.7689 || 10iter: 6.5788 sec.\n",
            "iteration 850 || Loss: -0.6294 || 10iter: 6.5989 sec.\n",
            "iteration 860 || Loss: -1.1923 || 10iter: 6.6734 sec.\n",
            "iteration 870 || Loss: -0.8377 || 10iter: 6.5960 sec.\n",
            "iteration 880 || Loss: -1.1477 || 10iter: 6.6187 sec.\n",
            "iteration 890 || Loss: -1.0667 || 10iter: 6.5808 sec.\n",
            "iteration 900 || Loss: -1.0080 || 10iter: 6.5773 sec.\n",
            "iteration 910 || Loss: -0.9946 || 10iter: 6.6783 sec.\n",
            "iteration 920 || Loss: -1.1828 || 10iter: 6.6071 sec.\n",
            "iteration 930 || Loss: -0.8955 || 10iter: 6.5829 sec.\n",
            "iteration 940 || Loss: -1.0022 || 10iter: 6.5915 sec.\n",
            "iteration 950 || Loss: -0.7105 || 10iter: 6.5949 sec.\n",
            "iteration 960 || Loss: -0.6397 || 10iter: 6.7047 sec.\n",
            "iteration 970 || Loss: -1.0090 || 10iter: 6.6116 sec.\n",
            "iteration 980 || Loss: -0.9425 || 10iter: 6.5760 sec.\n",
            "iteration 990 || Loss: -0.7543 || 10iter: 6.5501 sec.\n",
            "iteration 1000 || Loss: -0.9671 || 10iter: 6.6041 sec.\n",
            "iteration 1010 || Loss: -0.7665 || 10iter: 6.6864 sec.\n",
            "iteration 1020 || Loss: -1.1108 || 10iter: 6.5832 sec.\n",
            "iteration 1030 || Loss: -1.1438 || 10iter: 6.6084 sec.\n",
            "iteration 1040 || Loss: -0.8212 || 10iter: 6.5688 sec.\n",
            "iteration 1050 || Loss: -1.1003 || 10iter: 6.5657 sec.\n",
            "iteration 1060 || Loss: -1.0356 || 10iter: 6.4893 sec.\n",
            "-------------\n",
            "epoch 4 || Epoch_TRAIN_Loss:-0.9447 ||Epoch_VAL_Loss:0.0000\n",
            "timer:  183.0099 sec.\n",
            "-------------\n",
            "Epoch 5/50\n",
            "-------------\n",
            "（train）\n",
            "iteration 1070 || Loss: -0.9009 || 10iter: 6.6222 sec.\n",
            "iteration 1080 || Loss: -1.2237 || 10iter: 6.5896 sec.\n",
            "iteration 1090 || Loss: -0.9760 || 10iter: 6.5989 sec.\n",
            "iteration 1100 || Loss: -1.0583 || 10iter: 6.5884 sec.\n",
            "iteration 1110 || Loss: -0.9836 || 10iter: 6.5706 sec.\n",
            "iteration 1120 || Loss: -0.8172 || 10iter: 6.5632 sec.\n",
            "iteration 1130 || Loss: -0.9951 || 10iter: 6.5891 sec.\n",
            "iteration 1140 || Loss: -1.5011 || 10iter: 6.6023 sec.\n",
            "iteration 1150 || Loss: -0.9955 || 10iter: 6.5761 sec.\n",
            "iteration 1160 || Loss: -0.9196 || 10iter: 6.5776 sec.\n",
            "iteration 1170 || Loss: -1.1257 || 10iter: 6.5786 sec.\n",
            "iteration 1180 || Loss: -0.9268 || 10iter: 6.5645 sec.\n",
            "iteration 1190 || Loss: -1.2216 || 10iter: 6.6024 sec.\n",
            "iteration 1200 || Loss: -0.8767 || 10iter: 6.5710 sec.\n",
            "iteration 1210 || Loss: -0.9876 || 10iter: 6.5795 sec.\n",
            "iteration 1220 || Loss: -0.7867 || 10iter: 6.5818 sec.\n",
            "iteration 1230 || Loss: -0.7300 || 10iter: 6.5668 sec.\n",
            "iteration 1240 || Loss: -0.8736 || 10iter: 6.5767 sec.\n",
            "iteration 1250 || Loss: -1.1762 || 10iter: 6.5808 sec.\n",
            "iteration 1260 || Loss: -0.9150 || 10iter: 6.5735 sec.\n",
            "iteration 1270 || Loss: -0.9950 || 10iter: 6.5648 sec.\n",
            "iteration 1280 || Loss: -0.9982 || 10iter: 6.6051 sec.\n",
            "iteration 1290 || Loss: -1.0070 || 10iter: 6.5706 sec.\n",
            "iteration 1300 || Loss: -1.1913 || 10iter: 6.5718 sec.\n",
            "iteration 1310 || Loss: -0.8000 || 10iter: 6.6016 sec.\n",
            "iteration 1320 || Loss: -0.7445 || 10iter: 6.5567 sec.\n",
            "-------------\n",
            "（val）\n",
            "-------------\n",
            "epoch 5 || Epoch_TRAIN_Loss:-0.9427 ||Epoch_VAL_Loss:-0.9501\n",
            "timer:  202.4639 sec.\n",
            "-------------\n",
            "Epoch 6/50\n",
            "-------------\n",
            "（train）\n",
            "iteration 1330 || Loss: -1.0388 || 10iter: 3.1487 sec.\n",
            "iteration 1340 || Loss: -1.0735 || 10iter: 6.5943 sec.\n",
            "iteration 1350 || Loss: -1.0363 || 10iter: 6.6294 sec.\n",
            "iteration 1360 || Loss: -1.0528 || 10iter: 6.5844 sec.\n",
            "iteration 1370 || Loss: -0.6200 || 10iter: 6.6195 sec.\n",
            "iteration 1380 || Loss: -1.0548 || 10iter: 6.6185 sec.\n",
            "iteration 1390 || Loss: -0.9484 || 10iter: 6.6207 sec.\n",
            "iteration 1400 || Loss: -0.9922 || 10iter: 6.6084 sec.\n",
            "iteration 1410 || Loss: -0.8207 || 10iter: 6.5973 sec.\n",
            "iteration 1420 || Loss: -0.5552 || 10iter: 6.5853 sec.\n",
            "iteration 1430 || Loss: -0.9786 || 10iter: 6.5955 sec.\n",
            "iteration 1440 || Loss: -0.8067 || 10iter: 6.5954 sec.\n",
            "iteration 1450 || Loss: -0.9226 || 10iter: 6.5800 sec.\n",
            "iteration 1460 || Loss: -1.0334 || 10iter: 6.5857 sec.\n",
            "iteration 1470 || Loss: -0.8062 || 10iter: 6.6158 sec.\n",
            "iteration 1480 || Loss: -0.9028 || 10iter: 6.5867 sec.\n",
            "iteration 1490 || Loss: -0.8854 || 10iter: 6.5732 sec.\n",
            "iteration 1500 || Loss: -0.9106 || 10iter: 6.6003 sec.\n",
            "iteration 1510 || Loss: -0.8569 || 10iter: 6.5643 sec.\n",
            "iteration 1520 || Loss: -1.0423 || 10iter: 6.5710 sec.\n",
            "iteration 1530 || Loss: -1.2790 || 10iter: 6.5897 sec.\n",
            "iteration 1540 || Loss: -1.1488 || 10iter: 6.5731 sec.\n",
            "iteration 1550 || Loss: -0.7490 || 10iter: 6.5647 sec.\n",
            "iteration 1560 || Loss: -0.7413 || 10iter: 6.5999 sec.\n",
            "iteration 1570 || Loss: -1.2232 || 10iter: 6.5948 sec.\n",
            "iteration 1580 || Loss: -0.8981 || 10iter: 6.5722 sec.\n",
            "iteration 1590 || Loss: -1.1662 || 10iter: 6.5634 sec.\n",
            "-------------\n",
            "epoch 6 || Epoch_TRAIN_Loss:-0.9448 ||Epoch_VAL_Loss:0.0000\n",
            "timer:  182.7354 sec.\n",
            "-------------\n",
            "Epoch 7/50\n",
            "-------------\n",
            "（train）\n",
            "iteration 1600 || Loss: -1.0616 || 10iter: 6.6290 sec.\n",
            "iteration 1610 || Loss: -1.0801 || 10iter: 6.5704 sec.\n",
            "iteration 1620 || Loss: -0.9052 || 10iter: 6.5715 sec.\n",
            "iteration 1630 || Loss: -1.2393 || 10iter: 6.6064 sec.\n",
            "iteration 1640 || Loss: -0.9439 || 10iter: 6.5838 sec.\n",
            "iteration 1650 || Loss: -0.9590 || 10iter: 6.5869 sec.\n",
            "iteration 1660 || Loss: -0.5018 || 10iter: 6.5818 sec.\n",
            "iteration 1670 || Loss: -0.8438 || 10iter: 6.5483 sec.\n",
            "iteration 1680 || Loss: -0.5693 || 10iter: 6.5618 sec.\n",
            "iteration 1690 || Loss: -0.8181 || 10iter: 6.5672 sec.\n",
            "iteration 1700 || Loss: -0.9295 || 10iter: 6.5681 sec.\n",
            "iteration 1710 || Loss: -0.9314 || 10iter: 6.5818 sec.\n",
            "iteration 1720 || Loss: -1.1340 || 10iter: 6.6034 sec.\n",
            "iteration 1730 || Loss: -0.6640 || 10iter: 6.5515 sec.\n",
            "iteration 1740 || Loss: -0.6034 || 10iter: 6.5796 sec.\n",
            "iteration 1750 || Loss: -0.9063 || 10iter: 6.6315 sec.\n",
            "iteration 1760 || Loss: -0.6298 || 10iter: 6.5602 sec.\n",
            "iteration 1770 || Loss: -1.0692 || 10iter: 6.5873 sec.\n",
            "iteration 1780 || Loss: -0.6848 || 10iter: 6.5935 sec.\n",
            "iteration 1790 || Loss: -0.7405 || 10iter: 6.5925 sec.\n",
            "iteration 1800 || Loss: -0.7304 || 10iter: 6.5814 sec.\n",
            "iteration 1810 || Loss: -0.6549 || 10iter: 6.6111 sec.\n",
            "iteration 1820 || Loss: -0.7594 || 10iter: 6.5958 sec.\n",
            "iteration 1830 || Loss: -1.1175 || 10iter: 6.6210 sec.\n",
            "iteration 1840 || Loss: -1.0946 || 10iter: 6.6152 sec.\n",
            "iteration 1850 || Loss: -1.1214 || 10iter: 6.6048 sec.\n",
            "-------------\n",
            "epoch 7 || Epoch_TRAIN_Loss:-0.9410 ||Epoch_VAL_Loss:0.0000\n",
            "timer:  182.5304 sec.\n",
            "-------------\n",
            "Epoch 8/50\n",
            "-------------\n",
            "（train）\n",
            "iteration 1860 || Loss: -1.0415 || 10iter: 3.1601 sec.\n",
            "iteration 1870 || Loss: -0.7079 || 10iter: 6.6058 sec.\n",
            "iteration 1880 || Loss: -0.8091 || 10iter: 6.5741 sec.\n",
            "iteration 1890 || Loss: -0.7334 || 10iter: 6.5101 sec.\n",
            "iteration 1900 || Loss: -0.8757 || 10iter: 6.5926 sec.\n",
            "iteration 1910 || Loss: -0.8941 || 10iter: 6.5318 sec.\n",
            "iteration 1920 || Loss: -0.9056 || 10iter: 6.5238 sec.\n",
            "iteration 1930 || Loss: -0.8896 || 10iter: 6.5087 sec.\n",
            "iteration 1940 || Loss: -0.7738 || 10iter: 6.5180 sec.\n",
            "iteration 1950 || Loss: -1.1083 || 10iter: 6.4961 sec.\n",
            "iteration 1960 || Loss: -0.6580 || 10iter: 6.5077 sec.\n",
            "iteration 1970 || Loss: -1.1592 || 10iter: 6.5306 sec.\n",
            "iteration 1980 || Loss: -0.6927 || 10iter: 6.4819 sec.\n",
            "iteration 1990 || Loss: -0.8863 || 10iter: 6.5257 sec.\n",
            "iteration 2000 || Loss: -0.5343 || 10iter: 6.4941 sec.\n",
            "iteration 2010 || Loss: -1.1888 || 10iter: 6.4944 sec.\n",
            "iteration 2020 || Loss: -0.8420 || 10iter: 6.5037 sec.\n",
            "iteration 2030 || Loss: -0.9051 || 10iter: 6.5209 sec.\n",
            "iteration 2040 || Loss: -0.9761 || 10iter: 6.5000 sec.\n",
            "iteration 2050 || Loss: -1.0050 || 10iter: 6.5094 sec.\n",
            "iteration 2060 || Loss: -0.7215 || 10iter: 6.5389 sec.\n",
            "iteration 2070 || Loss: -0.9253 || 10iter: 6.4920 sec.\n",
            "iteration 2080 || Loss: -0.6668 || 10iter: 6.5207 sec.\n",
            "iteration 2090 || Loss: -0.8208 || 10iter: 6.5027 sec.\n",
            "iteration 2100 || Loss: -0.7930 || 10iter: 6.5175 sec.\n",
            "iteration 2110 || Loss: -0.9426 || 10iter: 6.4887 sec.\n",
            "iteration 2120 || Loss: -0.6776 || 10iter: 6.4356 sec.\n",
            "-------------\n",
            "epoch 8 || Epoch_TRAIN_Loss:-0.9377 ||Epoch_VAL_Loss:0.0000\n",
            "timer:  180.7971 sec.\n",
            "-------------\n",
            "Epoch 9/50\n",
            "-------------\n",
            "（train）\n",
            "iteration 2130 || Loss: -0.8671 || 10iter: 6.5269 sec.\n",
            "iteration 2140 || Loss: -1.1669 || 10iter: 6.5160 sec.\n",
            "iteration 2150 || Loss: -0.8392 || 10iter: 6.4849 sec.\n",
            "iteration 2160 || Loss: -0.6596 || 10iter: 6.5248 sec.\n",
            "iteration 2170 || Loss: -0.8660 || 10iter: 6.5156 sec.\n",
            "iteration 2180 || Loss: -0.9976 || 10iter: 6.5031 sec.\n",
            "iteration 2190 || Loss: -1.1402 || 10iter: 6.5173 sec.\n",
            "iteration 2200 || Loss: -1.1817 || 10iter: 6.4863 sec.\n",
            "iteration 2210 || Loss: -0.8871 || 10iter: 6.4933 sec.\n",
            "iteration 2220 || Loss: -0.7706 || 10iter: 6.5177 sec.\n",
            "iteration 2230 || Loss: -1.0348 || 10iter: 6.4940 sec.\n",
            "iteration 2240 || Loss: -0.7099 || 10iter: 6.4878 sec.\n",
            "iteration 2250 || Loss: -1.0884 || 10iter: 6.5153 sec.\n",
            "iteration 2260 || Loss: -0.8433 || 10iter: 6.5155 sec.\n",
            "iteration 2270 || Loss: -0.9676 || 10iter: 6.5004 sec.\n",
            "iteration 2280 || Loss: -0.6335 || 10iter: 6.5345 sec.\n",
            "iteration 2290 || Loss: -0.7395 || 10iter: 6.5242 sec.\n",
            "iteration 2300 || Loss: -1.2019 || 10iter: 6.4994 sec.\n",
            "iteration 2310 || Loss: -0.8774 || 10iter: 6.5143 sec.\n",
            "iteration 2320 || Loss: -0.9144 || 10iter: 6.5121 sec.\n",
            "iteration 2330 || Loss: -0.8597 || 10iter: 6.5413 sec.\n",
            "iteration 2340 || Loss: -1.0800 || 10iter: 6.5467 sec.\n",
            "iteration 2350 || Loss: -1.0115 || 10iter: 6.5167 sec.\n",
            "iteration 2360 || Loss: -0.6856 || 10iter: 6.4850 sec.\n",
            "iteration 2370 || Loss: -0.7339 || 10iter: 6.5195 sec.\n",
            "iteration 2380 || Loss: -0.9194 || 10iter: 6.4877 sec.\n",
            "-------------\n",
            "epoch 9 || Epoch_TRAIN_Loss:-0.9423 ||Epoch_VAL_Loss:0.0000\n",
            "timer:  180.4781 sec.\n",
            "-------------\n",
            "Epoch 10/50\n",
            "-------------\n",
            "（train）\n",
            "iteration 2390 || Loss: -1.0167 || 10iter: 3.0990 sec.\n",
            "iteration 2400 || Loss: -0.4502 || 10iter: 6.4933 sec.\n",
            "iteration 2410 || Loss: -0.8651 || 10iter: 6.5074 sec.\n",
            "iteration 2420 || Loss: -1.0219 || 10iter: 6.5207 sec.\n",
            "iteration 2430 || Loss: -0.9853 || 10iter: 6.5002 sec.\n",
            "iteration 2440 || Loss: -1.2446 || 10iter: 6.5286 sec.\n",
            "iteration 2450 || Loss: -0.7381 || 10iter: 6.5123 sec.\n",
            "iteration 2460 || Loss: -1.0351 || 10iter: 6.4777 sec.\n",
            "iteration 2470 || Loss: -0.8788 || 10iter: 6.5251 sec.\n",
            "iteration 2480 || Loss: -0.9347 || 10iter: 6.5179 sec.\n",
            "iteration 2490 || Loss: -0.9172 || 10iter: 6.5135 sec.\n",
            "iteration 2500 || Loss: -0.9619 || 10iter: 6.5288 sec.\n",
            "iteration 2510 || Loss: -1.2589 || 10iter: 6.5099 sec.\n",
            "iteration 2520 || Loss: -0.9971 || 10iter: 6.5262 sec.\n",
            "iteration 2530 || Loss: -1.2262 || 10iter: 6.4847 sec.\n",
            "iteration 2540 || Loss: -0.9935 || 10iter: 6.5102 sec.\n",
            "iteration 2550 || Loss: -1.2236 || 10iter: 6.5075 sec.\n",
            "iteration 2560 || Loss: -1.0910 || 10iter: 6.5217 sec.\n",
            "iteration 2570 || Loss: -0.6880 || 10iter: 6.5174 sec.\n",
            "iteration 2580 || Loss: -1.0331 || 10iter: 6.5117 sec.\n",
            "iteration 2590 || Loss: -0.8965 || 10iter: 6.5189 sec.\n",
            "iteration 2600 || Loss: -1.1715 || 10iter: 6.4988 sec.\n",
            "iteration 2610 || Loss: -1.1107 || 10iter: 6.5065 sec.\n",
            "iteration 2620 || Loss: -0.6251 || 10iter: 6.5012 sec.\n",
            "iteration 2630 || Loss: -1.0692 || 10iter: 6.5167 sec.\n",
            "iteration 2640 || Loss: -0.7478 || 10iter: 6.5061 sec.\n",
            "iteration 2650 || Loss: -0.9603 || 10iter: 6.4229 sec.\n",
            "-------------\n",
            "（val）\n",
            "-------------\n",
            "epoch 10 || Epoch_TRAIN_Loss:-0.9483 ||Epoch_VAL_Loss:-0.9509\n",
            "timer:  200.2489 sec.\n",
            "-------------\n",
            "Epoch 11/50\n",
            "-------------\n",
            "（train）\n",
            "iteration 2660 || Loss: -0.9594 || 10iter: 6.5463 sec.\n",
            "iteration 2670 || Loss: -0.7343 || 10iter: 6.5912 sec.\n",
            "iteration 2680 || Loss: -0.7211 || 10iter: 6.4912 sec.\n",
            "iteration 2690 || Loss: -0.9965 || 10iter: 6.5269 sec.\n",
            "iteration 2700 || Loss: -0.9652 || 10iter: 6.5093 sec.\n",
            "iteration 2710 || Loss: -0.9023 || 10iter: 6.5176 sec.\n",
            "iteration 2720 || Loss: -1.1652 || 10iter: 6.5363 sec.\n",
            "iteration 2730 || Loss: -0.9676 || 10iter: 6.5095 sec.\n",
            "iteration 2740 || Loss: -0.8936 || 10iter: 6.5003 sec.\n",
            "iteration 2750 || Loss: -1.1038 || 10iter: 6.5392 sec.\n",
            "iteration 2760 || Loss: -1.0102 || 10iter: 6.5097 sec.\n",
            "iteration 2770 || Loss: -0.9524 || 10iter: 6.5028 sec.\n",
            "iteration 2780 || Loss: -1.1734 || 10iter: 6.5344 sec.\n",
            "iteration 2790 || Loss: -0.9528 || 10iter: 6.5132 sec.\n",
            "iteration 2800 || Loss: -1.2700 || 10iter: 6.4865 sec.\n",
            "iteration 2810 || Loss: -0.9359 || 10iter: 6.5268 sec.\n",
            "iteration 2820 || Loss: -0.8008 || 10iter: 6.5187 sec.\n",
            "iteration 2830 || Loss: -1.0047 || 10iter: 6.5162 sec.\n",
            "iteration 2840 || Loss: -0.5730 || 10iter: 6.5351 sec.\n",
            "iteration 2850 || Loss: -0.9755 || 10iter: 6.4818 sec.\n",
            "iteration 2860 || Loss: -0.6690 || 10iter: 6.4863 sec.\n",
            "iteration 2870 || Loss: -1.0782 || 10iter: 6.5561 sec.\n",
            "iteration 2880 || Loss: -1.0222 || 10iter: 6.4871 sec.\n",
            "iteration 2890 || Loss: -1.0726 || 10iter: 6.4875 sec.\n",
            "iteration 2900 || Loss: -0.5260 || 10iter: 6.5002 sec.\n",
            "iteration 2910 || Loss: -1.0507 || 10iter: 6.4853 sec.\n",
            "-------------\n",
            "epoch 11 || Epoch_TRAIN_Loss:-0.9501 ||Epoch_VAL_Loss:0.0000\n",
            "timer:  180.6232 sec.\n",
            "-------------\n",
            "Epoch 12/50\n",
            "-------------\n",
            "（train）\n",
            "iteration 2920 || Loss: -0.8471 || 10iter: 3.0993 sec.\n",
            "iteration 2930 || Loss: -0.8625 || 10iter: 6.4909 sec.\n",
            "iteration 2940 || Loss: -1.0818 || 10iter: 6.5144 sec.\n",
            "iteration 2950 || Loss: -0.9630 || 10iter: 6.5072 sec.\n",
            "iteration 2960 || Loss: -0.7060 || 10iter: 6.5177 sec.\n",
            "iteration 2970 || Loss: -1.2763 || 10iter: 6.5220 sec.\n",
            "iteration 2980 || Loss: -0.7157 || 10iter: 6.5170 sec.\n",
            "iteration 2990 || Loss: -1.0036 || 10iter: 6.5112 sec.\n",
            "iteration 3000 || Loss: -0.9164 || 10iter: 6.5533 sec.\n",
            "iteration 3010 || Loss: -0.7249 || 10iter: 6.5139 sec.\n",
            "iteration 3020 || Loss: -0.9786 || 10iter: 6.5439 sec.\n",
            "iteration 3030 || Loss: -0.8516 || 10iter: 6.5121 sec.\n",
            "iteration 3040 || Loss: -0.8570 || 10iter: 6.5075 sec.\n",
            "iteration 3050 || Loss: -1.0305 || 10iter: 6.4974 sec.\n",
            "iteration 3060 || Loss: -0.7209 || 10iter: 6.5211 sec.\n",
            "iteration 3070 || Loss: -1.2272 || 10iter: 6.4988 sec.\n",
            "iteration 3080 || Loss: -0.9181 || 10iter: 6.4895 sec.\n",
            "iteration 3090 || Loss: -0.9184 || 10iter: 6.5162 sec.\n",
            "iteration 3100 || Loss: -1.2249 || 10iter: 6.5038 sec.\n",
            "iteration 3110 || Loss: -0.5726 || 10iter: 6.5178 sec.\n",
            "iteration 3120 || Loss: -0.9580 || 10iter: 6.4707 sec.\n",
            "iteration 3130 || Loss: -1.4348 || 10iter: 6.4797 sec.\n",
            "iteration 3140 || Loss: -1.0908 || 10iter: 6.5034 sec.\n",
            "iteration 3150 || Loss: -1.0635 || 10iter: 6.5005 sec.\n",
            "iteration 3160 || Loss: -0.7633 || 10iter: 6.4878 sec.\n",
            "iteration 3170 || Loss: -0.8402 || 10iter: 6.4905 sec.\n",
            "iteration 3180 || Loss: -0.8402 || 10iter: 6.3604 sec.\n",
            "-------------\n",
            "epoch 12 || Epoch_TRAIN_Loss:-0.9490 ||Epoch_VAL_Loss:0.0000\n",
            "timer:  180.3426 sec.\n",
            "-------------\n",
            "Epoch 13/50\n",
            "-------------\n",
            "（train）\n",
            "iteration 3190 || Loss: -0.8694 || 10iter: 6.4644 sec.\n",
            "iteration 3200 || Loss: -1.1799 || 10iter: 6.4501 sec.\n",
            "iteration 3210 || Loss: -1.1393 || 10iter: 6.4799 sec.\n",
            "iteration 3220 || Loss: -0.8260 || 10iter: 6.4835 sec.\n",
            "iteration 3230 || Loss: -1.2004 || 10iter: 6.4793 sec.\n",
            "iteration 3240 || Loss: -0.8252 || 10iter: 6.5052 sec.\n",
            "iteration 3250 || Loss: -0.9348 || 10iter: 6.5129 sec.\n",
            "iteration 3260 || Loss: -0.8144 || 10iter: 6.5269 sec.\n",
            "iteration 3270 || Loss: -1.1191 || 10iter: 6.5566 sec.\n",
            "iteration 3280 || Loss: -0.5479 || 10iter: 6.5688 sec.\n",
            "iteration 3290 || Loss: -1.0407 || 10iter: 6.5181 sec.\n",
            "iteration 3300 || Loss: -1.2959 || 10iter: 6.5063 sec.\n",
            "iteration 3310 || Loss: -0.9116 || 10iter: 6.5142 sec.\n",
            "iteration 3320 || Loss: -0.9665 || 10iter: 6.5207 sec.\n",
            "iteration 3330 || Loss: -0.6877 || 10iter: 6.4849 sec.\n",
            "iteration 3340 || Loss: -0.8002 || 10iter: 6.5220 sec.\n",
            "iteration 3350 || Loss: -0.8431 || 10iter: 6.5151 sec.\n",
            "iteration 3360 || Loss: -0.9054 || 10iter: 6.5157 sec.\n",
            "iteration 3370 || Loss: -1.0032 || 10iter: 6.4990 sec.\n",
            "iteration 3380 || Loss: -0.9091 || 10iter: 6.4953 sec.\n",
            "iteration 3390 || Loss: -0.8294 || 10iter: 6.4887 sec.\n",
            "iteration 3400 || Loss: -0.8521 || 10iter: 6.5314 sec.\n",
            "iteration 3410 || Loss: -0.9049 || 10iter: 6.5162 sec.\n",
            "iteration 3420 || Loss: -0.8852 || 10iter: 6.4687 sec.\n",
            "iteration 3430 || Loss: -0.7216 || 10iter: 6.5064 sec.\n",
            "iteration 3440 || Loss: -0.6445 || 10iter: 6.4972 sec.\n",
            "-------------\n",
            "epoch 13 || Epoch_TRAIN_Loss:-0.9497 ||Epoch_VAL_Loss:0.0000\n",
            "timer:  180.3116 sec.\n",
            "-------------\n",
            "Epoch 14/50\n",
            "-------------\n",
            "（train）\n",
            "iteration 3450 || Loss: -1.1741 || 10iter: 3.1157 sec.\n",
            "iteration 3460 || Loss: -0.8082 || 10iter: 6.4894 sec.\n",
            "iteration 3470 || Loss: -0.9075 || 10iter: 6.5169 sec.\n",
            "iteration 3480 || Loss: -0.7441 || 10iter: 6.4827 sec.\n",
            "iteration 3490 || Loss: -1.0369 || 10iter: 6.4883 sec.\n",
            "iteration 3500 || Loss: -0.6092 || 10iter: 6.5052 sec.\n",
            "iteration 3510 || Loss: -1.1376 || 10iter: 6.4697 sec.\n",
            "iteration 3520 || Loss: -1.3455 || 10iter: 6.4736 sec.\n",
            "iteration 3530 || Loss: -1.0105 || 10iter: 6.4968 sec.\n",
            "iteration 3540 || Loss: -0.7766 || 10iter: 6.4949 sec.\n",
            "iteration 3550 || Loss: -1.0720 || 10iter: 6.4611 sec.\n",
            "iteration 3560 || Loss: -0.9923 || 10iter: 6.5093 sec.\n",
            "iteration 3570 || Loss: -0.8908 || 10iter: 6.4655 sec.\n",
            "iteration 3580 || Loss: -1.0703 || 10iter: 6.4640 sec.\n",
            "iteration 3590 || Loss: -0.7879 || 10iter: 6.4989 sec.\n",
            "iteration 3600 || Loss: -1.2586 || 10iter: 6.4919 sec.\n",
            "iteration 3610 || Loss: -1.0211 || 10iter: 6.5125 sec.\n",
            "iteration 3620 || Loss: -0.8824 || 10iter: 6.4943 sec.\n",
            "iteration 3630 || Loss: -1.0993 || 10iter: 6.4833 sec.\n",
            "iteration 3640 || Loss: -0.8763 || 10iter: 6.4782 sec.\n",
            "iteration 3650 || Loss: -0.9020 || 10iter: 6.4827 sec.\n",
            "iteration 3660 || Loss: -0.9027 || 10iter: 6.4816 sec.\n",
            "iteration 3670 || Loss: -1.0750 || 10iter: 6.4808 sec.\n",
            "iteration 3680 || Loss: -0.9358 || 10iter: 6.4781 sec.\n",
            "iteration 3690 || Loss: -0.7495 || 10iter: 6.4618 sec.\n",
            "iteration 3700 || Loss: -0.9350 || 10iter: 6.5015 sec.\n",
            "iteration 3710 || Loss: -1.0526 || 10iter: 6.3759 sec.\n",
            "-------------\n",
            "epoch 14 || Epoch_TRAIN_Loss:-0.9549 ||Epoch_VAL_Loss:0.0000\n",
            "timer:  179.8666 sec.\n",
            "-------------\n",
            "Epoch 15/50\n",
            "-------------\n",
            "（train）\n",
            "iteration 3720 || Loss: -0.9345 || 10iter: 6.4732 sec.\n",
            "iteration 3730 || Loss: -0.6675 || 10iter: 6.4509 sec.\n",
            "iteration 3740 || Loss: -1.1614 || 10iter: 6.4666 sec.\n",
            "iteration 3750 || Loss: -1.0211 || 10iter: 6.4802 sec.\n",
            "iteration 3760 || Loss: -1.0466 || 10iter: 6.4505 sec.\n",
            "iteration 3770 || Loss: -0.8970 || 10iter: 6.4487 sec.\n",
            "iteration 3780 || Loss: -1.1270 || 10iter: 6.4645 sec.\n",
            "iteration 3790 || Loss: -1.1785 || 10iter: 6.4855 sec.\n",
            "iteration 3800 || Loss: -0.8992 || 10iter: 6.4444 sec.\n",
            "iteration 3810 || Loss: -0.8797 || 10iter: 6.4743 sec.\n",
            "iteration 3820 || Loss: -0.8736 || 10iter: 6.4542 sec.\n",
            "iteration 3830 || Loss: -0.7341 || 10iter: 6.4684 sec.\n",
            "iteration 3840 || Loss: -1.1518 || 10iter: 6.5039 sec.\n",
            "iteration 3850 || Loss: -1.0396 || 10iter: 6.4767 sec.\n",
            "iteration 3860 || Loss: -1.0191 || 10iter: 6.4660 sec.\n",
            "iteration 3870 || Loss: -1.0882 || 10iter: 6.4672 sec.\n",
            "iteration 3880 || Loss: -0.4853 || 10iter: 6.4434 sec.\n",
            "iteration 3890 || Loss: -1.3287 || 10iter: 6.4546 sec.\n",
            "iteration 3900 || Loss: -1.0427 || 10iter: 6.4790 sec.\n",
            "iteration 3910 || Loss: -1.0140 || 10iter: 6.4568 sec.\n",
            "iteration 3920 || Loss: -1.0090 || 10iter: 6.4465 sec.\n",
            "iteration 3930 || Loss: -1.0572 || 10iter: 6.4687 sec.\n",
            "iteration 3940 || Loss: -1.3574 || 10iter: 6.4526 sec.\n",
            "iteration 3950 || Loss: -0.9718 || 10iter: 6.4540 sec.\n",
            "iteration 3960 || Loss: -1.1950 || 10iter: 6.4737 sec.\n",
            "iteration 3970 || Loss: -0.9423 || 10iter: 6.4810 sec.\n",
            "-------------\n",
            "（val）\n",
            "-------------\n",
            "epoch 15 || Epoch_TRAIN_Loss:-0.9380 ||Epoch_VAL_Loss:-0.9392\n",
            "timer:  198.7017 sec.\n",
            "-------------\n",
            "Epoch 16/50\n",
            "-------------\n",
            "（train）\n",
            "iteration 3980 || Loss: -0.8485 || 10iter: 3.1000 sec.\n",
            "iteration 3990 || Loss: -0.8569 || 10iter: 6.5430 sec.\n",
            "iteration 4000 || Loss: -1.0273 || 10iter: 6.4826 sec.\n",
            "iteration 4010 || Loss: -0.7101 || 10iter: 6.4472 sec.\n",
            "iteration 4020 || Loss: -0.8687 || 10iter: 6.4715 sec.\n",
            "iteration 4030 || Loss: -1.1170 || 10iter: 6.5087 sec.\n",
            "iteration 4040 || Loss: -0.8158 || 10iter: 6.4879 sec.\n",
            "iteration 4050 || Loss: -1.1188 || 10iter: 6.4625 sec.\n",
            "iteration 4060 || Loss: -0.7665 || 10iter: 6.5033 sec.\n",
            "iteration 4070 || Loss: -1.2548 || 10iter: 6.4936 sec.\n",
            "iteration 4080 || Loss: -0.7221 || 10iter: 6.4684 sec.\n",
            "iteration 4090 || Loss: -1.0639 || 10iter: 6.4955 sec.\n",
            "iteration 4100 || Loss: -0.9604 || 10iter: 6.4520 sec.\n",
            "iteration 4110 || Loss: -0.8545 || 10iter: 6.4608 sec.\n",
            "iteration 4120 || Loss: -0.6628 || 10iter: 6.4776 sec.\n",
            "iteration 4130 || Loss: -0.8551 || 10iter: 6.4617 sec.\n",
            "iteration 4140 || Loss: -0.9555 || 10iter: 6.4697 sec.\n",
            "iteration 4150 || Loss: -1.0032 || 10iter: 6.4860 sec.\n",
            "iteration 4160 || Loss: -0.8259 || 10iter: 6.4779 sec.\n",
            "iteration 4170 || Loss: -1.0163 || 10iter: 6.4891 sec.\n",
            "iteration 4180 || Loss: -0.9157 || 10iter: 6.4883 sec.\n",
            "iteration 4190 || Loss: -1.0143 || 10iter: 6.4714 sec.\n",
            "iteration 4200 || Loss: -0.7210 || 10iter: 6.4948 sec.\n",
            "iteration 4210 || Loss: -1.2608 || 10iter: 6.4903 sec.\n",
            "iteration 4220 || Loss: -0.9632 || 10iter: 6.4493 sec.\n",
            "iteration 4230 || Loss: -0.9453 || 10iter: 6.4541 sec.\n",
            "iteration 4240 || Loss: -0.8880 || 10iter: 6.3687 sec.\n",
            "-------------\n",
            "epoch 16 || Epoch_TRAIN_Loss:-0.9438 ||Epoch_VAL_Loss:0.0000\n",
            "timer:  179.6529 sec.\n",
            "-------------\n",
            "Epoch 17/50\n",
            "-------------\n",
            "（train）\n",
            "iteration 4250 || Loss: -0.8723 || 10iter: 6.4712 sec.\n",
            "iteration 4260 || Loss: -0.8904 || 10iter: 6.4670 sec.\n",
            "iteration 4270 || Loss: -0.7579 || 10iter: 6.4632 sec.\n",
            "iteration 4280 || Loss: -0.8748 || 10iter: 6.4595 sec.\n",
            "iteration 4290 || Loss: -0.7802 || 10iter: 6.4578 sec.\n",
            "iteration 4300 || Loss: -0.6646 || 10iter: 6.4677 sec.\n",
            "iteration 4310 || Loss: -1.2358 || 10iter: 6.5370 sec.\n",
            "iteration 4320 || Loss: -1.0792 || 10iter: 6.4639 sec.\n",
            "iteration 4330 || Loss: -0.9879 || 10iter: 6.4747 sec.\n",
            "iteration 4340 || Loss: -0.6985 || 10iter: 6.4913 sec.\n",
            "iteration 4350 || Loss: -0.7763 || 10iter: 6.4847 sec.\n",
            "iteration 4360 || Loss: -1.1088 || 10iter: 6.4720 sec.\n",
            "iteration 4370 || Loss: -1.1837 || 10iter: 6.4890 sec.\n",
            "iteration 4380 || Loss: -1.1494 || 10iter: 6.4648 sec.\n",
            "iteration 4390 || Loss: -0.9400 || 10iter: 6.4581 sec.\n",
            "iteration 4400 || Loss: -1.2633 || 10iter: 6.4905 sec.\n",
            "iteration 4410 || Loss: -1.0253 || 10iter: 6.4949 sec.\n",
            "iteration 4420 || Loss: -0.7952 || 10iter: 6.4598 sec.\n",
            "iteration 4430 || Loss: -0.7381 || 10iter: 6.4821 sec.\n",
            "iteration 4440 || Loss: -0.8379 || 10iter: 6.4719 sec.\n",
            "iteration 4450 || Loss: -0.9768 || 10iter: 6.4674 sec.\n",
            "iteration 4460 || Loss: -0.8282 || 10iter: 6.4459 sec.\n",
            "iteration 4470 || Loss: -1.0671 || 10iter: 6.4495 sec.\n",
            "iteration 4480 || Loss: -1.2342 || 10iter: 6.4393 sec.\n",
            "iteration 4490 || Loss: -1.0878 || 10iter: 6.4604 sec.\n",
            "iteration 4500 || Loss: -0.9118 || 10iter: 6.4687 sec.\n",
            "-------------\n",
            "epoch 17 || Epoch_TRAIN_Loss:-0.9529 ||Epoch_VAL_Loss:0.0000\n",
            "timer:  179.4344 sec.\n",
            "-------------\n",
            "Epoch 18/50\n",
            "-------------\n",
            "（train）\n",
            "iteration 4510 || Loss: -0.6699 || 10iter: 3.1384 sec.\n",
            "iteration 4520 || Loss: -0.8819 || 10iter: 6.4868 sec.\n",
            "iteration 4530 || Loss: -0.6378 || 10iter: 6.5097 sec.\n",
            "iteration 4540 || Loss: -0.9740 || 10iter: 6.4658 sec.\n",
            "iteration 4550 || Loss: -0.6425 || 10iter: 6.4801 sec.\n",
            "iteration 4560 || Loss: -0.8355 || 10iter: 6.4914 sec.\n",
            "iteration 4570 || Loss: -1.0855 || 10iter: 6.4652 sec.\n",
            "iteration 4580 || Loss: -1.0925 || 10iter: 6.4534 sec.\n",
            "iteration 4590 || Loss: -0.9134 || 10iter: 6.4654 sec.\n",
            "iteration 4600 || Loss: -0.8982 || 10iter: 6.4540 sec.\n",
            "iteration 4610 || Loss: -0.8154 || 10iter: 6.4657 sec.\n",
            "iteration 4620 || Loss: -1.1206 || 10iter: 6.4807 sec.\n",
            "iteration 4630 || Loss: -0.8832 || 10iter: 6.4725 sec.\n",
            "iteration 4640 || Loss: -0.9273 || 10iter: 6.4594 sec.\n",
            "iteration 4650 || Loss: -1.0374 || 10iter: 6.4991 sec.\n",
            "iteration 4660 || Loss: -1.0618 || 10iter: 6.4516 sec.\n",
            "iteration 4670 || Loss: -1.4295 || 10iter: 6.4756 sec.\n",
            "iteration 4680 || Loss: -0.8653 || 10iter: 6.4658 sec.\n",
            "iteration 4690 || Loss: -1.0145 || 10iter: 6.4462 sec.\n",
            "iteration 4700 || Loss: -0.9671 || 10iter: 6.4443 sec.\n",
            "iteration 4710 || Loss: -0.7779 || 10iter: 6.4637 sec.\n",
            "iteration 4720 || Loss: -0.6483 || 10iter: 6.4532 sec.\n",
            "iteration 4730 || Loss: -0.8881 || 10iter: 6.4404 sec.\n",
            "iteration 4740 || Loss: -0.7713 || 10iter: 6.4758 sec.\n",
            "iteration 4750 || Loss: -1.2893 || 10iter: 6.4592 sec.\n",
            "iteration 4760 || Loss: -1.1514 || 10iter: 6.4590 sec.\n",
            "iteration 4770 || Loss: -1.0439 || 10iter: 6.3640 sec.\n",
            "-------------\n",
            "epoch 18 || Epoch_TRAIN_Loss:-0.9527 ||Epoch_VAL_Loss:0.0000\n",
            "timer:  179.3851 sec.\n",
            "-------------\n",
            "Epoch 19/50\n",
            "-------------\n",
            "（train）\n",
            "iteration 4780 || Loss: -0.9982 || 10iter: 6.4847 sec.\n",
            "iteration 4790 || Loss: -1.1083 || 10iter: 6.4757 sec.\n",
            "iteration 4800 || Loss: -1.0007 || 10iter: 6.4855 sec.\n",
            "iteration 4810 || Loss: -0.7501 || 10iter: 6.4860 sec.\n",
            "iteration 4820 || Loss: -0.7910 || 10iter: 6.4474 sec.\n",
            "iteration 4830 || Loss: -0.9770 || 10iter: 6.4774 sec.\n",
            "iteration 4840 || Loss: -0.9425 || 10iter: 6.4842 sec.\n",
            "iteration 4850 || Loss: -0.8813 || 10iter: 6.4494 sec.\n",
            "iteration 4860 || Loss: -0.8472 || 10iter: 6.4527 sec.\n",
            "iteration 4870 || Loss: -0.8786 || 10iter: 6.4696 sec.\n",
            "iteration 4880 || Loss: -0.9466 || 10iter: 6.4620 sec.\n",
            "iteration 4890 || Loss: -0.8591 || 10iter: 6.4866 sec.\n",
            "iteration 4900 || Loss: -0.8324 || 10iter: 6.4790 sec.\n",
            "iteration 4910 || Loss: -0.9732 || 10iter: 6.4707 sec.\n",
            "iteration 4920 || Loss: -1.0666 || 10iter: 6.4581 sec.\n",
            "iteration 4930 || Loss: -0.8036 || 10iter: 6.4635 sec.\n",
            "iteration 4940 || Loss: -1.1240 || 10iter: 6.4424 sec.\n",
            "iteration 4950 || Loss: -0.9577 || 10iter: 6.4595 sec.\n",
            "iteration 4960 || Loss: -1.1265 || 10iter: 6.4781 sec.\n",
            "iteration 4970 || Loss: -0.6706 || 10iter: 6.4546 sec.\n",
            "iteration 4980 || Loss: -1.0259 || 10iter: 6.4523 sec.\n",
            "iteration 4990 || Loss: -1.2262 || 10iter: 6.4539 sec.\n",
            "iteration 5000 || Loss: -1.0182 || 10iter: 6.4466 sec.\n",
            "iteration 5010 || Loss: -1.0192 || 10iter: 6.4805 sec.\n",
            "iteration 5020 || Loss: -0.7798 || 10iter: 6.5015 sec.\n",
            "iteration 5030 || Loss: -0.8210 || 10iter: 6.4470 sec.\n",
            "-------------\n",
            "epoch 19 || Epoch_TRAIN_Loss:-0.9555 ||Epoch_VAL_Loss:0.0000\n",
            "timer:  179.3322 sec.\n",
            "-------------\n",
            "Epoch 20/50\n",
            "-------------\n",
            "（train）\n",
            "iteration 5040 || Loss: -1.0113 || 10iter: 3.1002 sec.\n",
            "iteration 5050 || Loss: -0.8204 || 10iter: 6.4519 sec.\n",
            "iteration 5060 || Loss: -0.7293 || 10iter: 6.4873 sec.\n",
            "iteration 5070 || Loss: -0.9196 || 10iter: 6.4699 sec.\n",
            "iteration 5080 || Loss: -1.0738 || 10iter: 6.4389 sec.\n",
            "iteration 5090 || Loss: -1.1112 || 10iter: 6.4698 sec.\n",
            "iteration 5100 || Loss: -1.0160 || 10iter: 6.4588 sec.\n",
            "iteration 5110 || Loss: -0.7845 || 10iter: 6.4600 sec.\n",
            "iteration 5120 || Loss: -0.9978 || 10iter: 6.5083 sec.\n",
            "iteration 5130 || Loss: -1.1217 || 10iter: 6.4798 sec.\n",
            "iteration 5140 || Loss: -0.7528 || 10iter: 6.4971 sec.\n",
            "iteration 5150 || Loss: -1.0667 || 10iter: 6.6686 sec.\n",
            "iteration 5160 || Loss: -0.6542 || 10iter: 6.4507 sec.\n",
            "iteration 5170 || Loss: -1.0363 || 10iter: 6.4953 sec.\n",
            "iteration 5180 || Loss: -1.0096 || 10iter: 6.5271 sec.\n",
            "iteration 5190 || Loss: -1.1638 || 10iter: 6.5182 sec.\n",
            "iteration 5200 || Loss: -1.0926 || 10iter: 6.4793 sec.\n",
            "iteration 5210 || Loss: -1.0109 || 10iter: 6.4786 sec.\n",
            "iteration 5220 || Loss: -1.2016 || 10iter: 6.4794 sec.\n",
            "iteration 5230 || Loss: -0.7450 || 10iter: 6.4797 sec.\n",
            "iteration 5240 || Loss: -0.8422 || 10iter: 6.4835 sec.\n",
            "iteration 5250 || Loss: -1.2462 || 10iter: 6.4873 sec.\n",
            "iteration 5260 || Loss: -1.0589 || 10iter: 6.5160 sec.\n",
            "iteration 5270 || Loss: -1.2149 || 10iter: 6.4797 sec.\n",
            "iteration 5280 || Loss: -0.8470 || 10iter: 6.5008 sec.\n",
            "iteration 5290 || Loss: -1.0889 || 10iter: 6.4962 sec.\n",
            "iteration 5300 || Loss: -0.8147 || 10iter: 6.3975 sec.\n",
            "-------------\n",
            "（val）\n",
            "-------------\n",
            "epoch 20 || Epoch_TRAIN_Loss:-0.9571 ||Epoch_VAL_Loss:-0.9527\n",
            "timer:  199.6088 sec.\n",
            "-------------\n",
            "Epoch 21/50\n",
            "-------------\n",
            "（train）\n",
            "iteration 5310 || Loss: -1.0397 || 10iter: 6.5661 sec.\n",
            "iteration 5320 || Loss: -0.8254 || 10iter: 6.5416 sec.\n",
            "iteration 5330 || Loss: -1.0601 || 10iter: 6.4972 sec.\n",
            "iteration 5340 || Loss: -1.0130 || 10iter: 6.5050 sec.\n",
            "iteration 5350 || Loss: -1.1327 || 10iter: 6.4767 sec.\n",
            "iteration 5360 || Loss: -1.3084 || 10iter: 6.4738 sec.\n",
            "iteration 5370 || Loss: -1.1972 || 10iter: 6.5096 sec.\n",
            "iteration 5380 || Loss: -1.3952 || 10iter: 6.4708 sec.\n",
            "iteration 5390 || Loss: -1.0095 || 10iter: 6.4864 sec.\n",
            "iteration 5400 || Loss: -0.8950 || 10iter: 6.5190 sec.\n",
            "iteration 5410 || Loss: -1.0597 || 10iter: 6.4674 sec.\n",
            "iteration 5420 || Loss: -0.5668 || 10iter: 6.4770 sec.\n",
            "iteration 5430 || Loss: -0.9375 || 10iter: 6.4882 sec.\n",
            "iteration 5440 || Loss: -0.7499 || 10iter: 6.4598 sec.\n",
            "iteration 5450 || Loss: -1.0759 || 10iter: 6.4774 sec.\n",
            "iteration 5460 || Loss: -1.0172 || 10iter: 6.5308 sec.\n",
            "iteration 5470 || Loss: -0.6268 || 10iter: 6.4699 sec.\n",
            "iteration 5480 || Loss: -1.0972 || 10iter: 6.4582 sec.\n",
            "iteration 5490 || Loss: -1.1109 || 10iter: 6.4864 sec.\n",
            "iteration 5500 || Loss: -0.6247 || 10iter: 6.4731 sec.\n",
            "iteration 5510 || Loss: -1.0738 || 10iter: 6.4807 sec.\n",
            "iteration 5520 || Loss: -1.0020 || 10iter: 6.4873 sec.\n",
            "iteration 5530 || Loss: -0.6293 || 10iter: 6.4838 sec.\n",
            "iteration 5540 || Loss: -1.2775 || 10iter: 6.4878 sec.\n",
            "iteration 5550 || Loss: -1.1968 || 10iter: 6.4840 sec.\n",
            "iteration 5560 || Loss: -0.9177 || 10iter: 6.4656 sec.\n",
            "-------------\n",
            "epoch 21 || Epoch_TRAIN_Loss:-0.9585 ||Epoch_VAL_Loss:0.0000\n",
            "timer:  179.9080 sec.\n",
            "-------------\n",
            "Epoch 22/50\n",
            "-------------\n",
            "（train）\n",
            "iteration 5570 || Loss: -0.8967 || 10iter: 3.1015 sec.\n",
            "iteration 5580 || Loss: -0.8252 || 10iter: 6.4864 sec.\n",
            "iteration 5590 || Loss: -1.0328 || 10iter: 6.4874 sec.\n",
            "iteration 5600 || Loss: -0.8811 || 10iter: 6.4735 sec.\n",
            "iteration 5610 || Loss: -1.2269 || 10iter: 6.4724 sec.\n",
            "iteration 5620 || Loss: -1.2314 || 10iter: 6.4902 sec.\n",
            "iteration 5630 || Loss: -0.8622 || 10iter: 6.4649 sec.\n",
            "iteration 5640 || Loss: -1.0333 || 10iter: 6.4771 sec.\n",
            "iteration 5650 || Loss: -1.0227 || 10iter: 6.4840 sec.\n",
            "iteration 5660 || Loss: -1.0461 || 10iter: 6.4726 sec.\n",
            "iteration 5670 || Loss: -1.0407 || 10iter: 6.4892 sec.\n",
            "iteration 5680 || Loss: -1.2039 || 10iter: 6.5447 sec.\n",
            "iteration 5690 || Loss: -1.2174 || 10iter: 6.4936 sec.\n",
            "iteration 5700 || Loss: -1.1330 || 10iter: 6.4855 sec.\n",
            "iteration 5710 || Loss: -0.9134 || 10iter: 6.4912 sec.\n",
            "iteration 5720 || Loss: -0.7018 || 10iter: 6.4856 sec.\n",
            "iteration 5730 || Loss: -0.7899 || 10iter: 6.5037 sec.\n",
            "iteration 5740 || Loss: -1.2232 || 10iter: 6.4946 sec.\n",
            "iteration 5750 || Loss: -1.1033 || 10iter: 6.4794 sec.\n",
            "iteration 5760 || Loss: -0.7658 || 10iter: 6.4730 sec.\n",
            "iteration 5770 || Loss: -0.9307 || 10iter: 6.4795 sec.\n",
            "iteration 5780 || Loss: -1.1305 || 10iter: 6.4686 sec.\n",
            "iteration 5790 || Loss: -0.9673 || 10iter: 6.4678 sec.\n",
            "iteration 5800 || Loss: -0.9947 || 10iter: 6.4971 sec.\n",
            "iteration 5810 || Loss: -0.9970 || 10iter: 6.4725 sec.\n",
            "iteration 5820 || Loss: -0.6079 || 10iter: 6.4655 sec.\n",
            "iteration 5830 || Loss: -1.3027 || 10iter: 6.3616 sec.\n",
            "-------------\n",
            "epoch 22 || Epoch_TRAIN_Loss:-0.9593 ||Epoch_VAL_Loss:0.0000\n",
            "timer:  179.7700 sec.\n",
            "-------------\n",
            "Epoch 23/50\n",
            "-------------\n",
            "（train）\n",
            "iteration 5840 || Loss: -0.7008 || 10iter: 6.4892 sec.\n",
            "iteration 5850 || Loss: -1.2513 || 10iter: 6.4807 sec.\n",
            "iteration 5860 || Loss: -0.9564 || 10iter: 6.5001 sec.\n",
            "iteration 5870 || Loss: -1.0734 || 10iter: 6.5088 sec.\n",
            "iteration 5880 || Loss: -1.0146 || 10iter: 6.4901 sec.\n",
            "iteration 5890 || Loss: -0.9802 || 10iter: 6.4675 sec.\n",
            "iteration 5900 || Loss: -0.7281 || 10iter: 6.4908 sec.\n",
            "iteration 5910 || Loss: -0.7591 || 10iter: 6.4631 sec.\n",
            "iteration 5920 || Loss: -0.7723 || 10iter: 6.4869 sec.\n",
            "iteration 5930 || Loss: -1.4151 || 10iter: 6.5026 sec.\n",
            "iteration 5940 || Loss: -0.8169 || 10iter: 6.4743 sec.\n",
            "iteration 5950 || Loss: -1.0741 || 10iter: 6.4734 sec.\n",
            "iteration 5960 || Loss: -1.0687 || 10iter: 6.5051 sec.\n",
            "iteration 5970 || Loss: -1.0487 || 10iter: 6.4779 sec.\n",
            "iteration 5980 || Loss: -1.0045 || 10iter: 6.4945 sec.\n",
            "iteration 5990 || Loss: -1.0656 || 10iter: 6.4835 sec.\n",
            "iteration 6000 || Loss: -0.8489 || 10iter: 6.4616 sec.\n",
            "iteration 6010 || Loss: -0.6903 || 10iter: 6.4767 sec.\n",
            "iteration 6020 || Loss: -0.9537 || 10iter: 6.4929 sec.\n",
            "iteration 6030 || Loss: -0.6552 || 10iter: 6.4814 sec.\n",
            "iteration 6040 || Loss: -0.8573 || 10iter: 6.4651 sec.\n",
            "iteration 6050 || Loss: -0.9344 || 10iter: 6.4998 sec.\n",
            "iteration 6060 || Loss: -0.9438 || 10iter: 6.4754 sec.\n",
            "iteration 6070 || Loss: -0.8374 || 10iter: 6.4727 sec.\n",
            "iteration 6080 || Loss: -0.9420 || 10iter: 6.4778 sec.\n",
            "iteration 6090 || Loss: -0.9268 || 10iter: 6.4669 sec.\n",
            "-------------\n",
            "epoch 23 || Epoch_TRAIN_Loss:-0.9592 ||Epoch_VAL_Loss:0.0000\n",
            "timer:  179.7389 sec.\n",
            "-------------\n",
            "Epoch 24/50\n",
            "-------------\n",
            "（train）\n",
            "iteration 6100 || Loss: -1.0021 || 10iter: 3.0993 sec.\n",
            "iteration 6110 || Loss: -1.0101 || 10iter: 6.4683 sec.\n",
            "iteration 6120 || Loss: -1.0162 || 10iter: 6.4857 sec.\n",
            "iteration 6130 || Loss: -1.1960 || 10iter: 6.4800 sec.\n",
            "iteration 6140 || Loss: -1.0103 || 10iter: 6.4655 sec.\n",
            "iteration 6150 || Loss: -0.7918 || 10iter: 6.4878 sec.\n",
            "iteration 6160 || Loss: -1.0339 || 10iter: 6.4593 sec.\n",
            "iteration 6170 || Loss: -0.8585 || 10iter: 6.4895 sec.\n",
            "iteration 6180 || Loss: -0.8769 || 10iter: 6.4906 sec.\n",
            "iteration 6190 || Loss: -0.7621 || 10iter: 6.4632 sec.\n",
            "iteration 6200 || Loss: -0.7117 || 10iter: 6.4542 sec.\n",
            "iteration 6210 || Loss: -1.1283 || 10iter: 6.4782 sec.\n",
            "iteration 6220 || Loss: -0.8471 || 10iter: 6.4780 sec.\n",
            "iteration 6230 || Loss: -1.2449 || 10iter: 6.4657 sec.\n",
            "iteration 6240 || Loss: -1.0935 || 10iter: 6.4822 sec.\n",
            "iteration 6250 || Loss: -0.7359 || 10iter: 6.4477 sec.\n",
            "iteration 6260 || Loss: -1.0142 || 10iter: 6.4519 sec.\n",
            "iteration 6270 || Loss: -0.7414 || 10iter: 6.4753 sec.\n",
            "iteration 6280 || Loss: -1.0179 || 10iter: 6.4679 sec.\n",
            "iteration 6290 || Loss: -0.5120 || 10iter: 6.4812 sec.\n",
            "iteration 6300 || Loss: -0.8779 || 10iter: 6.5049 sec.\n",
            "iteration 6310 || Loss: -1.2143 || 10iter: 6.4925 sec.\n",
            "iteration 6320 || Loss: -1.2518 || 10iter: 6.4785 sec.\n",
            "iteration 6330 || Loss: -1.0750 || 10iter: 6.4886 sec.\n",
            "iteration 6340 || Loss: -1.1066 || 10iter: 6.4613 sec.\n",
            "iteration 6350 || Loss: -1.0570 || 10iter: 6.4602 sec.\n",
            "iteration 6360 || Loss: -0.9621 || 10iter: 6.3857 sec.\n",
            "-------------\n",
            "epoch 24 || Epoch_TRAIN_Loss:-0.9599 ||Epoch_VAL_Loss:0.0000\n",
            "timer:  179.5326 sec.\n",
            "-------------\n",
            "Epoch 25/50\n",
            "-------------\n",
            "（train）\n",
            "iteration 6370 || Loss: -0.8444 || 10iter: 6.4867 sec.\n",
            "iteration 6380 || Loss: -0.7141 || 10iter: 6.4602 sec.\n",
            "iteration 6390 || Loss: -1.3587 || 10iter: 6.4747 sec.\n",
            "iteration 6400 || Loss: -0.7462 || 10iter: 6.5015 sec.\n",
            "iteration 6410 || Loss: -0.8516 || 10iter: 6.4857 sec.\n",
            "iteration 6420 || Loss: -1.1292 || 10iter: 6.4839 sec.\n",
            "iteration 6430 || Loss: -1.0158 || 10iter: 6.4741 sec.\n",
            "iteration 6440 || Loss: -1.1486 || 10iter: 6.4750 sec.\n",
            "iteration 6450 || Loss: -0.9191 || 10iter: 6.4873 sec.\n",
            "iteration 6460 || Loss: -1.0638 || 10iter: 6.4824 sec.\n",
            "iteration 6470 || Loss: -0.9240 || 10iter: 6.4664 sec.\n",
            "iteration 6480 || Loss: -0.9305 || 10iter: 6.5039 sec.\n",
            "iteration 6490 || Loss: -0.7654 || 10iter: 6.4874 sec.\n",
            "iteration 6500 || Loss: -0.9290 || 10iter: 6.4719 sec.\n",
            "iteration 6510 || Loss: -1.1555 || 10iter: 6.4715 sec.\n",
            "iteration 6520 || Loss: -1.0273 || 10iter: 6.4769 sec.\n",
            "iteration 6530 || Loss: -1.2354 || 10iter: 6.4962 sec.\n",
            "iteration 6540 || Loss: -1.3011 || 10iter: 6.4740 sec.\n",
            "iteration 6550 || Loss: -0.8240 || 10iter: 6.4770 sec.\n",
            "iteration 6560 || Loss: -1.0393 || 10iter: 6.4507 sec.\n",
            "iteration 6570 || Loss: -1.0848 || 10iter: 6.4547 sec.\n",
            "iteration 6580 || Loss: -1.1470 || 10iter: 6.4785 sec.\n",
            "iteration 6590 || Loss: -1.0242 || 10iter: 6.4610 sec.\n",
            "iteration 6600 || Loss: -0.8972 || 10iter: 6.4756 sec.\n",
            "iteration 6610 || Loss: -1.2512 || 10iter: 6.4810 sec.\n",
            "iteration 6620 || Loss: -1.1243 || 10iter: 6.4822 sec.\n",
            "-------------\n",
            "（val）\n",
            "-------------\n",
            "epoch 25 || Epoch_TRAIN_Loss:-0.9603 ||Epoch_VAL_Loss:-0.9510\n",
            "timer:  199.2367 sec.\n",
            "-------------\n",
            "Epoch 26/50\n",
            "-------------\n",
            "（train）\n",
            "iteration 6630 || Loss: -0.8687 || 10iter: 3.0845 sec.\n",
            "iteration 6640 || Loss: -0.9327 || 10iter: 6.5431 sec.\n",
            "iteration 6650 || Loss: -0.9886 || 10iter: 6.4768 sec.\n",
            "iteration 6660 || Loss: -1.2489 || 10iter: 6.4805 sec.\n",
            "iteration 6670 || Loss: -0.8241 || 10iter: 6.4709 sec.\n",
            "iteration 6680 || Loss: -1.0444 || 10iter: 6.4925 sec.\n",
            "iteration 6690 || Loss: -0.7390 || 10iter: 6.4690 sec.\n",
            "iteration 6700 || Loss: -1.3042 || 10iter: 6.4751 sec.\n",
            "iteration 6710 || Loss: -0.8438 || 10iter: 6.4915 sec.\n",
            "iteration 6720 || Loss: -1.2354 || 10iter: 6.4862 sec.\n",
            "iteration 6730 || Loss: -1.0962 || 10iter: 6.4989 sec.\n",
            "iteration 6740 || Loss: -1.2396 || 10iter: 6.5390 sec.\n",
            "iteration 6750 || Loss: -0.7085 || 10iter: 6.5289 sec.\n",
            "iteration 6760 || Loss: -0.9927 || 10iter: 6.4685 sec.\n",
            "iteration 6770 || Loss: -0.9294 || 10iter: 6.4884 sec.\n",
            "iteration 6780 || Loss: -0.9092 || 10iter: 6.4771 sec.\n",
            "iteration 6790 || Loss: -0.8195 || 10iter: 6.4733 sec.\n",
            "iteration 6800 || Loss: -0.8446 || 10iter: 6.4939 sec.\n",
            "iteration 6810 || Loss: -1.0187 || 10iter: 6.4650 sec.\n",
            "iteration 6820 || Loss: -0.9527 || 10iter: 6.4701 sec.\n",
            "iteration 6830 || Loss: -0.8995 || 10iter: 6.4911 sec.\n",
            "iteration 6840 || Loss: -0.8345 || 10iter: 6.4634 sec.\n",
            "iteration 6850 || Loss: -0.7924 || 10iter: 6.4760 sec.\n",
            "iteration 6860 || Loss: -0.9831 || 10iter: 6.4841 sec.\n",
            "iteration 6870 || Loss: -1.1285 || 10iter: 6.4728 sec.\n",
            "iteration 6880 || Loss: -0.9226 || 10iter: 6.4715 sec.\n",
            "iteration 6890 || Loss: -0.9058 || 10iter: 6.3856 sec.\n",
            "-------------\n",
            "epoch 26 || Epoch_TRAIN_Loss:-0.9606 ||Epoch_VAL_Loss:0.0000\n",
            "timer:  179.8019 sec.\n",
            "-------------\n",
            "Epoch 27/50\n",
            "-------------\n",
            "（train）\n",
            "iteration 6900 || Loss: -1.2451 || 10iter: 6.4912 sec.\n",
            "iteration 6910 || Loss: -0.8386 || 10iter: 6.4787 sec.\n",
            "iteration 6920 || Loss: -0.8768 || 10iter: 6.4692 sec.\n",
            "iteration 6930 || Loss: -1.0331 || 10iter: 6.4837 sec.\n",
            "iteration 6940 || Loss: -1.0014 || 10iter: 6.4763 sec.\n",
            "iteration 6950 || Loss: -1.2705 || 10iter: 6.4792 sec.\n",
            "iteration 6960 || Loss: -0.7578 || 10iter: 6.4829 sec.\n",
            "iteration 6970 || Loss: -0.5716 || 10iter: 6.4874 sec.\n",
            "iteration 6980 || Loss: -0.8037 || 10iter: 6.5001 sec.\n",
            "iteration 6990 || Loss: -0.9630 || 10iter: 6.4894 sec.\n",
            "iteration 7000 || Loss: -0.8968 || 10iter: 6.4678 sec.\n",
            "iteration 7010 || Loss: -1.0828 || 10iter: 6.4736 sec.\n",
            "iteration 7020 || Loss: -1.0026 || 10iter: 6.4907 sec.\n",
            "iteration 7030 || Loss: -0.9933 || 10iter: 6.4427 sec.\n",
            "iteration 7040 || Loss: -0.9016 || 10iter: 6.4737 sec.\n",
            "iteration 7050 || Loss: -0.8483 || 10iter: 6.4957 sec.\n",
            "iteration 7060 || Loss: -1.2027 || 10iter: 6.4597 sec.\n",
            "iteration 7070 || Loss: -1.0670 || 10iter: 6.4981 sec.\n",
            "iteration 7080 || Loss: -1.0515 || 10iter: 6.4885 sec.\n",
            "iteration 7090 || Loss: -1.0180 || 10iter: 6.4998 sec.\n",
            "iteration 7100 || Loss: -1.1316 || 10iter: 6.4808 sec.\n",
            "iteration 7110 || Loss: -0.9371 || 10iter: 6.5051 sec.\n",
            "iteration 7120 || Loss: -0.9646 || 10iter: 6.4745 sec.\n",
            "iteration 7130 || Loss: -0.8642 || 10iter: 6.4774 sec.\n",
            "iteration 7140 || Loss: -0.8094 || 10iter: 6.4621 sec.\n",
            "iteration 7150 || Loss: -1.1067 || 10iter: 6.4608 sec.\n",
            "-------------\n",
            "epoch 27 || Epoch_TRAIN_Loss:-0.9608 ||Epoch_VAL_Loss:0.0000\n",
            "timer:  179.6790 sec.\n",
            "-------------\n",
            "Epoch 28/50\n",
            "-------------\n",
            "（train）\n",
            "iteration 7160 || Loss: -1.0219 || 10iter: 3.0868 sec.\n",
            "iteration 7170 || Loss: -0.9910 || 10iter: 6.4704 sec.\n",
            "iteration 7180 || Loss: -1.0181 || 10iter: 6.4788 sec.\n",
            "iteration 7190 || Loss: -0.8312 || 10iter: 6.4937 sec.\n",
            "iteration 7200 || Loss: -1.1351 || 10iter: 6.4996 sec.\n",
            "iteration 7210 || Loss: -0.9683 || 10iter: 6.5205 sec.\n",
            "iteration 7220 || Loss: -0.5978 || 10iter: 6.4796 sec.\n",
            "iteration 7230 || Loss: -1.1380 || 10iter: 6.4496 sec.\n",
            "iteration 7240 || Loss: -0.7148 || 10iter: 6.4849 sec.\n",
            "iteration 7250 || Loss: -0.7779 || 10iter: 6.4851 sec.\n",
            "iteration 7260 || Loss: -0.8426 || 10iter: 6.4789 sec.\n",
            "iteration 7270 || Loss: -1.0543 || 10iter: 6.4749 sec.\n",
            "iteration 7280 || Loss: -1.1785 || 10iter: 6.4557 sec.\n",
            "iteration 7290 || Loss: -1.1254 || 10iter: 6.4658 sec.\n",
            "iteration 7300 || Loss: -1.0278 || 10iter: 6.4783 sec.\n",
            "iteration 7310 || Loss: -0.8736 || 10iter: 6.4585 sec.\n",
            "iteration 7320 || Loss: -0.6701 || 10iter: 6.4535 sec.\n",
            "iteration 7330 || Loss: -1.4657 || 10iter: 6.4867 sec.\n",
            "iteration 7340 || Loss: -0.8922 || 10iter: 6.4575 sec.\n",
            "iteration 7350 || Loss: -1.0540 || 10iter: 6.4587 sec.\n",
            "iteration 7360 || Loss: -1.0048 || 10iter: 6.4878 sec.\n",
            "iteration 7370 || Loss: -1.2811 || 10iter: 6.4922 sec.\n",
            "iteration 7380 || Loss: -0.8474 || 10iter: 6.4542 sec.\n",
            "iteration 7390 || Loss: -0.8284 || 10iter: 6.4842 sec.\n",
            "iteration 7400 || Loss: -1.0343 || 10iter: 6.4410 sec.\n",
            "iteration 7410 || Loss: -0.6682 || 10iter: 6.4529 sec.\n",
            "iteration 7420 || Loss: -0.8141 || 10iter: 6.3697 sec.\n",
            "-------------\n",
            "epoch 28 || Epoch_TRAIN_Loss:-0.9613 ||Epoch_VAL_Loss:0.0000\n",
            "timer:  179.4920 sec.\n",
            "-------------\n",
            "Epoch 29/50\n",
            "-------------\n",
            "（train）\n",
            "iteration 7430 || Loss: -1.0485 || 10iter: 6.4919 sec.\n",
            "iteration 7440 || Loss: -1.2290 || 10iter: 6.4551 sec.\n",
            "iteration 7450 || Loss: -0.8639 || 10iter: 6.4834 sec.\n",
            "iteration 7460 || Loss: -0.9566 || 10iter: 6.4959 sec.\n",
            "iteration 7470 || Loss: -1.1660 || 10iter: 6.4550 sec.\n",
            "iteration 7480 || Loss: -1.0392 || 10iter: 6.4895 sec.\n",
            "iteration 7490 || Loss: -1.1653 || 10iter: 6.4861 sec.\n",
            "iteration 7500 || Loss: -0.9981 || 10iter: 6.4767 sec.\n",
            "iteration 7510 || Loss: -0.9377 || 10iter: 6.4767 sec.\n",
            "iteration 7520 || Loss: -1.2358 || 10iter: 6.4848 sec.\n",
            "iteration 7530 || Loss: -0.9579 || 10iter: 6.4714 sec.\n",
            "iteration 7540 || Loss: -1.1233 || 10iter: 6.4669 sec.\n",
            "iteration 7550 || Loss: -1.0796 || 10iter: 6.4723 sec.\n",
            "iteration 7560 || Loss: -1.3430 || 10iter: 6.4963 sec.\n",
            "iteration 7570 || Loss: -0.6277 || 10iter: 6.4910 sec.\n",
            "iteration 7580 || Loss: -0.8291 || 10iter: 6.4850 sec.\n",
            "iteration 7590 || Loss: -0.9883 || 10iter: 6.4641 sec.\n",
            "iteration 7600 || Loss: -0.9211 || 10iter: 6.4585 sec.\n",
            "iteration 7610 || Loss: -1.2212 || 10iter: 6.4959 sec.\n",
            "iteration 7620 || Loss: -1.0757 || 10iter: 6.4989 sec.\n",
            "iteration 7630 || Loss: -1.1576 || 10iter: 6.4708 sec.\n",
            "iteration 7640 || Loss: -0.9103 || 10iter: 6.4954 sec.\n",
            "iteration 7650 || Loss: -0.7388 || 10iter: 6.4909 sec.\n",
            "iteration 7660 || Loss: -0.7284 || 10iter: 6.4909 sec.\n",
            "iteration 7670 || Loss: -1.1259 || 10iter: 6.5082 sec.\n",
            "iteration 7680 || Loss: -1.2380 || 10iter: 6.4764 sec.\n",
            "-------------\n",
            "epoch 29 || Epoch_TRAIN_Loss:-0.9616 ||Epoch_VAL_Loss:0.0000\n",
            "timer:  179.7215 sec.\n",
            "-------------\n",
            "Epoch 30/50\n",
            "-------------\n",
            "（train）\n",
            "iteration 7690 || Loss: -1.0698 || 10iter: 3.1152 sec.\n",
            "iteration 7700 || Loss: -0.7693 || 10iter: 6.4638 sec.\n",
            "iteration 7710 || Loss: -1.3695 || 10iter: 6.4896 sec.\n",
            "iteration 7720 || Loss: -0.8150 || 10iter: 6.4717 sec.\n",
            "iteration 7730 || Loss: -1.2358 || 10iter: 6.4756 sec.\n",
            "iteration 7740 || Loss: -0.9114 || 10iter: 6.4876 sec.\n",
            "iteration 7750 || Loss: -0.9170 || 10iter: 6.4636 sec.\n",
            "iteration 7760 || Loss: -1.2469 || 10iter: 6.4722 sec.\n",
            "iteration 7770 || Loss: -1.0263 || 10iter: 6.4861 sec.\n",
            "iteration 7780 || Loss: -1.0694 || 10iter: 6.4903 sec.\n",
            "iteration 7790 || Loss: -1.4172 || 10iter: 6.4786 sec.\n",
            "iteration 7800 || Loss: -1.2516 || 10iter: 6.4986 sec.\n",
            "iteration 7810 || Loss: -0.6555 || 10iter: 6.4729 sec.\n",
            "iteration 7820 || Loss: -0.6511 || 10iter: 6.4635 sec.\n",
            "iteration 7830 || Loss: -0.7443 || 10iter: 6.5031 sec.\n",
            "iteration 7840 || Loss: -1.1095 || 10iter: 6.4682 sec.\n",
            "iteration 7850 || Loss: -0.8699 || 10iter: 6.4696 sec.\n",
            "iteration 7860 || Loss: -0.8689 || 10iter: 6.4890 sec.\n",
            "iteration 7870 || Loss: -0.7340 || 10iter: 6.4904 sec.\n",
            "iteration 7880 || Loss: -0.6343 || 10iter: 6.4924 sec.\n",
            "iteration 7890 || Loss: -0.8802 || 10iter: 6.4838 sec.\n",
            "iteration 7900 || Loss: -1.1809 || 10iter: 6.4758 sec.\n",
            "iteration 7910 || Loss: -0.7004 || 10iter: 6.4507 sec.\n",
            "iteration 7920 || Loss: -1.0161 || 10iter: 6.4955 sec.\n",
            "iteration 7930 || Loss: -0.9330 || 10iter: 6.4780 sec.\n",
            "iteration 7940 || Loss: -1.1656 || 10iter: 6.4653 sec.\n",
            "iteration 7950 || Loss: -1.2333 || 10iter: 6.3608 sec.\n",
            "-------------\n",
            "（val）\n",
            "-------------\n",
            "epoch 30 || Epoch_TRAIN_Loss:-0.9532 ||Epoch_VAL_Loss:-0.9498\n",
            "timer:  199.1331 sec.\n",
            "-------------\n",
            "Epoch 31/50\n",
            "-------------\n",
            "（train）\n",
            "iteration 7960 || Loss: -0.9930 || 10iter: 6.5138 sec.\n",
            "iteration 7970 || Loss: -0.9496 || 10iter: 6.5057 sec.\n",
            "iteration 7980 || Loss: -0.8298 || 10iter: 6.4838 sec.\n",
            "iteration 7990 || Loss: -0.9594 || 10iter: 6.4818 sec.\n",
            "iteration 8000 || Loss: -1.1246 || 10iter: 6.4829 sec.\n",
            "iteration 8010 || Loss: -0.9050 || 10iter: 6.4712 sec.\n",
            "iteration 8020 || Loss: -0.6582 || 10iter: 6.5061 sec.\n",
            "iteration 8030 || Loss: -1.5022 || 10iter: 6.4510 sec.\n",
            "iteration 8040 || Loss: -0.7874 || 10iter: 6.4768 sec.\n",
            "iteration 8050 || Loss: -1.1973 || 10iter: 6.4738 sec.\n",
            "iteration 8060 || Loss: -1.0547 || 10iter: 6.4605 sec.\n",
            "iteration 8070 || Loss: -0.9359 || 10iter: 6.4742 sec.\n",
            "iteration 8080 || Loss: -0.9411 || 10iter: 6.5051 sec.\n",
            "iteration 8090 || Loss: -1.2557 || 10iter: 6.5046 sec.\n",
            "iteration 8100 || Loss: -1.1424 || 10iter: 6.4776 sec.\n",
            "iteration 8110 || Loss: -1.0733 || 10iter: 6.4987 sec.\n",
            "iteration 8120 || Loss: -0.6918 || 10iter: 6.4774 sec.\n",
            "iteration 8130 || Loss: -1.2820 || 10iter: 6.4941 sec.\n",
            "iteration 8140 || Loss: -0.9626 || 10iter: 6.4892 sec.\n",
            "iteration 8150 || Loss: -0.7982 || 10iter: 6.4795 sec.\n",
            "iteration 8160 || Loss: -1.2477 || 10iter: 6.4854 sec.\n",
            "iteration 8170 || Loss: -1.2243 || 10iter: 6.4874 sec.\n",
            "iteration 8180 || Loss: -1.0621 || 10iter: 6.4493 sec.\n",
            "iteration 8190 || Loss: -0.8439 || 10iter: 6.4568 sec.\n",
            "iteration 8200 || Loss: -0.9374 || 10iter: 6.4906 sec.\n",
            "iteration 8210 || Loss: -0.7665 || 10iter: 6.4949 sec.\n",
            "-------------\n",
            "epoch 31 || Epoch_TRAIN_Loss:-0.9511 ||Epoch_VAL_Loss:0.0000\n",
            "timer:  179.7373 sec.\n",
            "-------------\n",
            "Epoch 32/50\n",
            "-------------\n",
            "（train）\n",
            "iteration 8220 || Loss: -0.8788 || 10iter: 3.0844 sec.\n",
            "iteration 8230 || Loss: -1.0838 || 10iter: 6.4686 sec.\n",
            "iteration 8240 || Loss: -1.1221 || 10iter: 6.5022 sec.\n",
            "iteration 8250 || Loss: -0.7565 || 10iter: 6.5178 sec.\n",
            "iteration 8260 || Loss: -0.8928 || 10iter: 6.4860 sec.\n",
            "iteration 8270 || Loss: -1.1993 || 10iter: 6.4741 sec.\n",
            "iteration 8280 || Loss: -1.0951 || 10iter: 6.4358 sec.\n",
            "iteration 8290 || Loss: -1.2144 || 10iter: 6.4689 sec.\n",
            "iteration 8300 || Loss: -1.0771 || 10iter: 6.4800 sec.\n",
            "iteration 8310 || Loss: -1.2360 || 10iter: 6.4706 sec.\n",
            "iteration 8320 || Loss: -0.6834 || 10iter: 6.4554 sec.\n",
            "iteration 8330 || Loss: -1.0380 || 10iter: 6.4744 sec.\n",
            "iteration 8340 || Loss: -1.1993 || 10iter: 6.4617 sec.\n",
            "iteration 8350 || Loss: -1.0635 || 10iter: 6.4605 sec.\n",
            "iteration 8360 || Loss: -1.2101 || 10iter: 6.5056 sec.\n",
            "iteration 8370 || Loss: -1.0145 || 10iter: 6.4975 sec.\n",
            "iteration 8380 || Loss: -0.9729 || 10iter: 6.4622 sec.\n",
            "iteration 8390 || Loss: -0.8662 || 10iter: 6.4816 sec.\n",
            "iteration 8400 || Loss: -0.9767 || 10iter: 6.4701 sec.\n",
            "iteration 8410 || Loss: -0.8011 || 10iter: 6.4625 sec.\n",
            "iteration 8420 || Loss: -1.0799 || 10iter: 6.4866 sec.\n",
            "iteration 8430 || Loss: -0.8289 || 10iter: 6.4536 sec.\n",
            "iteration 8440 || Loss: -0.8898 || 10iter: 6.4772 sec.\n",
            "iteration 8450 || Loss: -0.8996 || 10iter: 6.4881 sec.\n",
            "iteration 8460 || Loss: -0.9759 || 10iter: 6.4823 sec.\n",
            "iteration 8470 || Loss: -0.7946 || 10iter: 6.4860 sec.\n",
            "iteration 8480 || Loss: -0.8560 || 10iter: 6.3758 sec.\n",
            "-------------\n",
            "epoch 32 || Epoch_TRAIN_Loss:-0.9573 ||Epoch_VAL_Loss:0.0000\n",
            "timer:  179.5582 sec.\n",
            "-------------\n",
            "Epoch 33/50\n",
            "-------------\n",
            "（train）\n",
            "iteration 8490 || Loss: -0.9575 || 10iter: 6.5000 sec.\n",
            "iteration 8500 || Loss: -1.2025 || 10iter: 6.4704 sec.\n",
            "iteration 8510 || Loss: -0.9870 || 10iter: 6.4604 sec.\n",
            "iteration 8520 || Loss: -0.9905 || 10iter: 6.4777 sec.\n",
            "iteration 8530 || Loss: -0.9326 || 10iter: 6.4700 sec.\n",
            "iteration 8540 || Loss: -0.9560 || 10iter: 6.4757 sec.\n",
            "iteration 8550 || Loss: -1.2603 || 10iter: 6.5070 sec.\n",
            "iteration 8560 || Loss: -1.2248 || 10iter: 6.4740 sec.\n",
            "iteration 8570 || Loss: -0.9993 || 10iter: 6.4761 sec.\n",
            "iteration 8580 || Loss: -0.8799 || 10iter: 6.5179 sec.\n",
            "iteration 8590 || Loss: -1.1047 || 10iter: 6.4495 sec.\n",
            "iteration 8600 || Loss: -1.0171 || 10iter: 6.4581 sec.\n",
            "iteration 8610 || Loss: -0.9999 || 10iter: 6.4810 sec.\n",
            "iteration 8620 || Loss: -0.8425 || 10iter: 6.4753 sec.\n",
            "iteration 8630 || Loss: -0.6332 || 10iter: 6.4617 sec.\n",
            "iteration 8640 || Loss: -0.6990 || 10iter: 6.5025 sec.\n",
            "iteration 8650 || Loss: -1.2618 || 10iter: 6.4704 sec.\n",
            "iteration 8660 || Loss: -1.3852 || 10iter: 6.4609 sec.\n",
            "iteration 8670 || Loss: -0.9881 || 10iter: 6.4717 sec.\n",
            "iteration 8680 || Loss: -0.9186 || 10iter: 6.4736 sec.\n",
            "iteration 8690 || Loss: -0.6897 || 10iter: 6.4650 sec.\n",
            "iteration 8700 || Loss: -0.8482 || 10iter: 6.4910 sec.\n",
            "iteration 8710 || Loss: -1.0192 || 10iter: 6.4889 sec.\n",
            "iteration 8720 || Loss: -1.1516 || 10iter: 6.4706 sec.\n",
            "iteration 8730 || Loss: -1.0959 || 10iter: 6.4810 sec.\n",
            "iteration 8740 || Loss: -1.0284 || 10iter: 6.4701 sec.\n",
            "-------------\n",
            "epoch 33 || Epoch_TRAIN_Loss:-0.9594 ||Epoch_VAL_Loss:0.0000\n",
            "timer:  179.5762 sec.\n",
            "-------------\n",
            "Epoch 34/50\n",
            "-------------\n",
            "（train）\n",
            "iteration 8750 || Loss: -0.6097 || 10iter: 3.0955 sec.\n",
            "iteration 8760 || Loss: -0.7692 || 10iter: 6.4634 sec.\n",
            "iteration 8770 || Loss: -1.0987 || 10iter: 6.4898 sec.\n",
            "iteration 8780 || Loss: -1.0879 || 10iter: 6.4905 sec.\n",
            "iteration 8790 || Loss: -1.0402 || 10iter: 6.4766 sec.\n",
            "iteration 8800 || Loss: -0.5735 || 10iter: 6.4779 sec.\n",
            "iteration 8810 || Loss: -1.3403 || 10iter: 6.4855 sec.\n",
            "iteration 8820 || Loss: -0.8364 || 10iter: 6.4663 sec.\n",
            "iteration 8830 || Loss: -0.9652 || 10iter: 6.5205 sec.\n",
            "iteration 8840 || Loss: -0.9084 || 10iter: 6.4739 sec.\n",
            "iteration 8850 || Loss: -0.9769 || 10iter: 6.4741 sec.\n",
            "iteration 8860 || Loss: -0.8600 || 10iter: 6.4896 sec.\n",
            "iteration 8870 || Loss: -0.9209 || 10iter: 6.4598 sec.\n",
            "iteration 8880 || Loss: -1.0437 || 10iter: 6.4739 sec.\n",
            "iteration 8890 || Loss: -0.6961 || 10iter: 6.4817 sec.\n",
            "iteration 8900 || Loss: -0.9303 || 10iter: 6.4840 sec.\n",
            "iteration 8910 || Loss: -1.1607 || 10iter: 6.4576 sec.\n",
            "iteration 8920 || Loss: -0.9540 || 10iter: 6.4875 sec.\n",
            "iteration 8930 || Loss: -0.9863 || 10iter: 6.4794 sec.\n",
            "iteration 8940 || Loss: -0.8294 || 10iter: 6.4620 sec.\n",
            "iteration 8950 || Loss: -0.8517 || 10iter: 6.4813 sec.\n",
            "iteration 8960 || Loss: -0.7797 || 10iter: 6.4895 sec.\n",
            "iteration 8970 || Loss: -0.8794 || 10iter: 6.4958 sec.\n",
            "iteration 8980 || Loss: -0.9623 || 10iter: 6.4795 sec.\n",
            "iteration 8990 || Loss: -0.9872 || 10iter: 6.4658 sec.\n",
            "iteration 9000 || Loss: -1.1219 || 10iter: 6.4888 sec.\n",
            "iteration 9010 || Loss: -0.9410 || 10iter: 6.3951 sec.\n",
            "-------------\n",
            "epoch 34 || Epoch_TRAIN_Loss:-0.9600 ||Epoch_VAL_Loss:0.0000\n",
            "timer:  179.6801 sec.\n",
            "-------------\n",
            "Epoch 35/50\n",
            "-------------\n",
            "（train）\n",
            "iteration 9020 || Loss: -0.7450 || 10iter: 6.4774 sec.\n",
            "iteration 9030 || Loss: -0.9132 || 10iter: 6.4470 sec.\n",
            "iteration 9040 || Loss: -0.9953 || 10iter: 6.4653 sec.\n",
            "iteration 9050 || Loss: -1.0387 || 10iter: 6.5006 sec.\n",
            "iteration 9060 || Loss: -1.4721 || 10iter: 6.4667 sec.\n",
            "iteration 9070 || Loss: -0.8578 || 10iter: 6.4640 sec.\n",
            "iteration 9080 || Loss: -1.0462 || 10iter: 6.5107 sec.\n",
            "iteration 9090 || Loss: -0.8084 || 10iter: 6.4716 sec.\n",
            "iteration 9100 || Loss: -0.6750 || 10iter: 6.4681 sec.\n",
            "iteration 9110 || Loss: -1.2467 || 10iter: 6.4906 sec.\n",
            "iteration 9120 || Loss: -1.1923 || 10iter: 6.4690 sec.\n",
            "iteration 9130 || Loss: -1.2252 || 10iter: 6.4680 sec.\n",
            "iteration 9140 || Loss: -0.8658 || 10iter: 6.4683 sec.\n",
            "iteration 9150 || Loss: -0.5253 || 10iter: 6.4691 sec.\n",
            "iteration 9160 || Loss: -1.0834 || 10iter: 6.4655 sec.\n",
            "iteration 9170 || Loss: -0.9175 || 10iter: 6.4820 sec.\n",
            "iteration 9180 || Loss: -0.8593 || 10iter: 6.4858 sec.\n",
            "iteration 9190 || Loss: -0.6391 || 10iter: 6.4630 sec.\n",
            "iteration 9200 || Loss: -1.0357 || 10iter: 6.4845 sec.\n",
            "iteration 9210 || Loss: -1.1261 || 10iter: 6.4821 sec.\n",
            "iteration 9220 || Loss: -0.7938 || 10iter: 6.4667 sec.\n",
            "iteration 9230 || Loss: -1.2533 || 10iter: 6.4788 sec.\n",
            "iteration 9240 || Loss: -0.7558 || 10iter: 6.4430 sec.\n",
            "iteration 9250 || Loss: -1.1017 || 10iter: 6.4642 sec.\n",
            "iteration 9260 || Loss: -0.9715 || 10iter: 6.4843 sec.\n",
            "iteration 9270 || Loss: -1.0948 || 10iter: 6.4751 sec.\n",
            "-------------\n",
            "（val）\n",
            "-------------\n",
            "epoch 35 || Epoch_TRAIN_Loss:-0.9605 ||Epoch_VAL_Loss:-0.9509\n",
            "timer:  198.9792 sec.\n",
            "-------------\n",
            "Epoch 36/50\n",
            "-------------\n",
            "（train）\n",
            "iteration 9280 || Loss: -1.0505 || 10iter: 3.0952 sec.\n",
            "iteration 9290 || Loss: -0.9108 || 10iter: 6.5106 sec.\n",
            "iteration 9300 || Loss: -0.8557 || 10iter: 6.5083 sec.\n",
            "iteration 9310 || Loss: -0.8190 || 10iter: 6.4788 sec.\n",
            "iteration 9320 || Loss: -1.0725 || 10iter: 6.4544 sec.\n",
            "iteration 9330 || Loss: -1.0168 || 10iter: 6.5052 sec.\n",
            "iteration 9340 || Loss: -0.9975 || 10iter: 6.4735 sec.\n",
            "iteration 9350 || Loss: -0.9832 || 10iter: 6.4581 sec.\n",
            "iteration 9360 || Loss: -0.7325 || 10iter: 6.4676 sec.\n",
            "iteration 9370 || Loss: -0.9871 || 10iter: 6.4773 sec.\n",
            "iteration 9380 || Loss: -1.2708 || 10iter: 6.4584 sec.\n",
            "iteration 9390 || Loss: -0.8525 || 10iter: 6.4677 sec.\n",
            "iteration 9400 || Loss: -0.5096 || 10iter: 6.4481 sec.\n",
            "iteration 9410 || Loss: -0.9748 || 10iter: 6.5133 sec.\n",
            "iteration 9420 || Loss: -0.8381 || 10iter: 6.5089 sec.\n",
            "iteration 9430 || Loss: -0.8529 || 10iter: 6.4642 sec.\n",
            "iteration 9440 || Loss: -0.8579 || 10iter: 6.4642 sec.\n",
            "iteration 9450 || Loss: -1.2401 || 10iter: 6.4785 sec.\n",
            "iteration 9460 || Loss: -0.9371 || 10iter: 6.4688 sec.\n",
            "iteration 9470 || Loss: -1.1527 || 10iter: 6.4527 sec.\n",
            "iteration 9480 || Loss: -1.2453 || 10iter: 6.4702 sec.\n",
            "iteration 9490 || Loss: -1.0875 || 10iter: 6.4586 sec.\n",
            "iteration 9500 || Loss: -1.0599 || 10iter: 6.4662 sec.\n",
            "iteration 9510 || Loss: -0.9059 || 10iter: 6.4851 sec.\n",
            "iteration 9520 || Loss: -1.0896 || 10iter: 6.4470 sec.\n",
            "iteration 9530 || Loss: -0.9463 || 10iter: 6.4733 sec.\n",
            "iteration 9540 || Loss: -0.7354 || 10iter: 6.3785 sec.\n",
            "-------------\n",
            "epoch 36 || Epoch_TRAIN_Loss:-0.9610 ||Epoch_VAL_Loss:0.0000\n",
            "timer:  179.5245 sec.\n",
            "-------------\n",
            "Epoch 37/50\n",
            "-------------\n",
            "（train）\n",
            "iteration 9550 || Loss: -0.9773 || 10iter: 6.4813 sec.\n",
            "iteration 9560 || Loss: -0.8379 || 10iter: 6.4651 sec.\n",
            "iteration 9570 || Loss: -0.9460 || 10iter: 6.4678 sec.\n",
            "iteration 9580 || Loss: -0.7237 || 10iter: 6.4902 sec.\n",
            "iteration 9590 || Loss: -0.8205 || 10iter: 6.4745 sec.\n",
            "iteration 9600 || Loss: -1.1553 || 10iter: 6.4730 sec.\n",
            "iteration 9610 || Loss: -0.8445 || 10iter: 6.4806 sec.\n",
            "iteration 9620 || Loss: -1.3302 || 10iter: 6.4527 sec.\n",
            "iteration 9630 || Loss: -0.7183 || 10iter: 6.4682 sec.\n",
            "iteration 9640 || Loss: -0.9362 || 10iter: 6.4904 sec.\n",
            "iteration 9650 || Loss: -1.0771 || 10iter: 6.4671 sec.\n",
            "iteration 9660 || Loss: -0.9598 || 10iter: 6.4994 sec.\n",
            "iteration 9670 || Loss: -0.9320 || 10iter: 6.4814 sec.\n",
            "iteration 9680 || Loss: -0.7412 || 10iter: 6.4531 sec.\n",
            "iteration 9690 || Loss: -1.3031 || 10iter: 6.4825 sec.\n",
            "iteration 9700 || Loss: -0.8745 || 10iter: 6.4838 sec.\n",
            "iteration 9710 || Loss: -1.0255 || 10iter: 6.4681 sec.\n",
            "iteration 9720 || Loss: -0.9453 || 10iter: 6.4906 sec.\n",
            "iteration 9730 || Loss: -0.8518 || 10iter: 6.4700 sec.\n",
            "iteration 9740 || Loss: -1.1107 || 10iter: 6.4764 sec.\n",
            "iteration 9750 || Loss: -1.3468 || 10iter: 6.4846 sec.\n",
            "iteration 9760 || Loss: -1.1133 || 10iter: 6.4677 sec.\n",
            "iteration 9770 || Loss: -0.9678 || 10iter: 6.4727 sec.\n",
            "iteration 9780 || Loss: -0.8361 || 10iter: 6.4854 sec.\n",
            "iteration 9790 || Loss: -0.7165 || 10iter: 6.4661 sec.\n",
            "iteration 9800 || Loss: -0.9871 || 10iter: 6.4524 sec.\n",
            "-------------\n",
            "epoch 37 || Epoch_TRAIN_Loss:-0.9620 ||Epoch_VAL_Loss:0.0000\n",
            "timer:  179.5139 sec.\n",
            "-------------\n",
            "Epoch 38/50\n",
            "-------------\n",
            "（train）\n",
            "iteration 9810 || Loss: -0.8206 || 10iter: 3.0877 sec.\n",
            "iteration 9820 || Loss: -0.8636 || 10iter: 6.4474 sec.\n",
            "iteration 9830 || Loss: -0.9867 || 10iter: 6.4702 sec.\n",
            "iteration 9840 || Loss: -0.9420 || 10iter: 6.4645 sec.\n",
            "iteration 9850 || Loss: -0.8595 || 10iter: 6.4529 sec.\n",
            "iteration 9860 || Loss: -0.9829 || 10iter: 6.4952 sec.\n",
            "iteration 9870 || Loss: -0.8831 || 10iter: 6.4694 sec.\n",
            "iteration 9880 || Loss: -1.2136 || 10iter: 6.4770 sec.\n",
            "iteration 9890 || Loss: -0.6807 || 10iter: 6.5243 sec.\n",
            "iteration 9900 || Loss: -1.0697 || 10iter: 6.4976 sec.\n",
            "iteration 9910 || Loss: -0.9857 || 10iter: 6.4619 sec.\n",
            "iteration 9920 || Loss: -0.7810 || 10iter: 6.4893 sec.\n",
            "iteration 9930 || Loss: -1.1298 || 10iter: 6.4767 sec.\n",
            "iteration 9940 || Loss: -1.3199 || 10iter: 6.4887 sec.\n",
            "iteration 9950 || Loss: -0.6007 || 10iter: 6.4899 sec.\n",
            "iteration 9960 || Loss: -0.9889 || 10iter: 6.4852 sec.\n",
            "iteration 9970 || Loss: -1.2749 || 10iter: 6.4669 sec.\n",
            "iteration 9980 || Loss: -0.8340 || 10iter: 6.4948 sec.\n",
            "iteration 9990 || Loss: -0.7869 || 10iter: 6.4704 sec.\n",
            "iteration 10000 || Loss: -1.1540 || 10iter: 6.4746 sec.\n",
            "iteration 10010 || Loss: -1.2494 || 10iter: 6.4803 sec.\n",
            "iteration 10020 || Loss: -0.8618 || 10iter: 6.4666 sec.\n",
            "iteration 10030 || Loss: -0.8275 || 10iter: 6.4791 sec.\n",
            "iteration 10040 || Loss: -1.0154 || 10iter: 6.5048 sec.\n",
            "iteration 10050 || Loss: -1.1887 || 10iter: 6.4701 sec.\n",
            "iteration 10060 || Loss: -0.8690 || 10iter: 6.4565 sec.\n",
            "iteration 10070 || Loss: -0.9850 || 10iter: 6.3639 sec.\n",
            "-------------\n",
            "epoch 38 || Epoch_TRAIN_Loss:-0.9622 ||Epoch_VAL_Loss:0.0000\n",
            "timer:  179.6026 sec.\n",
            "-------------\n",
            "Epoch 39/50\n",
            "-------------\n",
            "（train）\n",
            "iteration 10080 || Loss: -0.7145 || 10iter: 6.4889 sec.\n",
            "iteration 10090 || Loss: -1.0941 || 10iter: 6.4782 sec.\n",
            "iteration 10100 || Loss: -0.9087 || 10iter: 6.4881 sec.\n",
            "iteration 10110 || Loss: -0.8780 || 10iter: 6.4991 sec.\n",
            "iteration 10120 || Loss: -0.7099 || 10iter: 6.4602 sec.\n",
            "iteration 10130 || Loss: -0.9967 || 10iter: 6.4863 sec.\n",
            "iteration 10140 || Loss: -0.7261 || 10iter: 6.5248 sec.\n",
            "iteration 10150 || Loss: -0.8202 || 10iter: 6.4527 sec.\n",
            "iteration 10160 || Loss: -0.7911 || 10iter: 6.4635 sec.\n",
            "iteration 10170 || Loss: -0.8303 || 10iter: 6.4810 sec.\n",
            "iteration 10180 || Loss: -0.7439 || 10iter: 6.4753 sec.\n",
            "iteration 10190 || Loss: -0.8348 || 10iter: 6.4712 sec.\n",
            "iteration 10200 || Loss: -0.9760 || 10iter: 6.4807 sec.\n",
            "iteration 10210 || Loss: -1.1176 || 10iter: 6.4573 sec.\n",
            "iteration 10220 || Loss: -1.1783 || 10iter: 6.4570 sec.\n",
            "iteration 10230 || Loss: -0.8744 || 10iter: 6.4907 sec.\n",
            "iteration 10240 || Loss: -0.6510 || 10iter: 6.4895 sec.\n",
            "iteration 10250 || Loss: -1.0061 || 10iter: 6.4830 sec.\n",
            "iteration 10260 || Loss: -0.9439 || 10iter: 6.5086 sec.\n",
            "iteration 10270 || Loss: -0.6838 || 10iter: 6.4684 sec.\n",
            "iteration 10280 || Loss: -1.2768 || 10iter: 6.4766 sec.\n",
            "iteration 10290 || Loss: -0.9630 || 10iter: 6.5091 sec.\n",
            "iteration 10300 || Loss: -0.9178 || 10iter: 6.4707 sec.\n",
            "iteration 10310 || Loss: -0.8368 || 10iter: 6.4741 sec.\n",
            "iteration 10320 || Loss: -0.6890 || 10iter: 6.4826 sec.\n",
            "iteration 10330 || Loss: -1.0333 || 10iter: 6.4952 sec.\n",
            "-------------\n",
            "epoch 39 || Epoch_TRAIN_Loss:-0.9622 ||Epoch_VAL_Loss:0.0000\n",
            "timer:  179.6969 sec.\n",
            "-------------\n",
            "Epoch 40/50\n",
            "-------------\n",
            "（train）\n",
            "iteration 10340 || Loss: -0.8699 || 10iter: 3.0986 sec.\n",
            "iteration 10350 || Loss: -0.9718 || 10iter: 6.5075 sec.\n",
            "iteration 10360 || Loss: -0.8569 || 10iter: 6.5082 sec.\n",
            "iteration 10370 || Loss: -0.8426 || 10iter: 6.4993 sec.\n",
            "iteration 10380 || Loss: -0.7499 || 10iter: 6.4858 sec.\n",
            "iteration 10390 || Loss: -1.0848 || 10iter: 6.4861 sec.\n",
            "iteration 10400 || Loss: -0.7586 || 10iter: 6.4663 sec.\n",
            "iteration 10410 || Loss: -0.9116 || 10iter: 6.4620 sec.\n",
            "iteration 10420 || Loss: -1.0466 || 10iter: 6.4739 sec.\n",
            "iteration 10430 || Loss: -1.0216 || 10iter: 6.4798 sec.\n",
            "iteration 10440 || Loss: -1.0333 || 10iter: 6.4604 sec.\n",
            "iteration 10450 || Loss: -1.3916 || 10iter: 6.4901 sec.\n",
            "iteration 10460 || Loss: -1.0197 || 10iter: 6.4655 sec.\n",
            "iteration 10470 || Loss: -0.8923 || 10iter: 6.4901 sec.\n",
            "iteration 10480 || Loss: -0.7908 || 10iter: 6.4866 sec.\n",
            "iteration 10490 || Loss: -0.9015 || 10iter: 6.4776 sec.\n",
            "iteration 10500 || Loss: -0.7343 || 10iter: 6.4639 sec.\n",
            "iteration 10510 || Loss: -0.7391 || 10iter: 6.4947 sec.\n",
            "iteration 10520 || Loss: -0.7555 || 10iter: 6.4776 sec.\n",
            "iteration 10530 || Loss: -0.8954 || 10iter: 6.4659 sec.\n",
            "iteration 10540 || Loss: -0.7299 || 10iter: 6.4976 sec.\n",
            "iteration 10550 || Loss: -1.4218 || 10iter: 6.4758 sec.\n",
            "iteration 10560 || Loss: -0.7874 || 10iter: 6.4816 sec.\n",
            "iteration 10570 || Loss: -1.1094 || 10iter: 6.4712 sec.\n",
            "iteration 10580 || Loss: -1.0275 || 10iter: 6.4751 sec.\n",
            "iteration 10590 || Loss: -0.9273 || 10iter: 6.4601 sec.\n",
            "iteration 10600 || Loss: -0.9907 || 10iter: 6.3956 sec.\n",
            "-------------\n",
            "（val）\n",
            "-------------\n",
            "epoch 40 || Epoch_TRAIN_Loss:-0.9630 ||Epoch_VAL_Loss:-0.9499\n",
            "timer:  199.2497 sec.\n",
            "-------------\n",
            "Epoch 41/50\n",
            "-------------\n",
            "（train）\n",
            "iteration 10610 || Loss: -0.6940 || 10iter: 6.4954 sec.\n",
            "iteration 10620 || Loss: -0.8633 || 10iter: 6.5130 sec.\n",
            "iteration 10630 || Loss: -1.0358 || 10iter: 6.4527 sec.\n",
            "iteration 10640 || Loss: -0.7796 || 10iter: 6.4771 sec.\n",
            "iteration 10650 || Loss: -0.6928 || 10iter: 6.4535 sec.\n",
            "iteration 10660 || Loss: -0.9181 || 10iter: 6.4833 sec.\n",
            "iteration 10670 || Loss: -1.0173 || 10iter: 6.4877 sec.\n",
            "iteration 10680 || Loss: -1.1420 || 10iter: 6.4549 sec.\n",
            "iteration 10690 || Loss: -0.9085 || 10iter: 6.4765 sec.\n",
            "iteration 10700 || Loss: -0.9211 || 10iter: 6.5201 sec.\n",
            "iteration 10710 || Loss: -0.7245 || 10iter: 6.4538 sec.\n",
            "iteration 10720 || Loss: -1.1671 || 10iter: 6.4599 sec.\n",
            "iteration 10730 || Loss: -1.0198 || 10iter: 6.5100 sec.\n",
            "iteration 10740 || Loss: -1.1591 || 10iter: 6.4614 sec.\n",
            "iteration 10750 || Loss: -1.3231 || 10iter: 6.4824 sec.\n",
            "iteration 10760 || Loss: -0.8639 || 10iter: 6.4964 sec.\n",
            "iteration 10770 || Loss: -0.8346 || 10iter: 6.4744 sec.\n",
            "iteration 10780 || Loss: -1.0206 || 10iter: 6.4908 sec.\n",
            "iteration 10790 || Loss: -0.8371 || 10iter: 6.5244 sec.\n",
            "iteration 10800 || Loss: -1.1049 || 10iter: 6.4699 sec.\n",
            "iteration 10810 || Loss: -1.0838 || 10iter: 6.4728 sec.\n",
            "iteration 10820 || Loss: -0.6824 || 10iter: 6.4805 sec.\n",
            "iteration 10830 || Loss: -0.7692 || 10iter: 6.4575 sec.\n",
            "iteration 10840 || Loss: -0.8406 || 10iter: 6.4688 sec.\n",
            "iteration 10850 || Loss: -0.6910 || 10iter: 6.4768 sec.\n",
            "iteration 10860 || Loss: -0.7117 || 10iter: 6.4749 sec.\n",
            "-------------\n",
            "epoch 41 || Epoch_TRAIN_Loss:-0.9622 ||Epoch_VAL_Loss:0.0000\n",
            "timer:  179.6362 sec.\n",
            "-------------\n",
            "Epoch 42/50\n",
            "-------------\n",
            "（train）\n",
            "iteration 10870 || Loss: -1.1338 || 10iter: 3.0874 sec.\n",
            "iteration 10880 || Loss: -0.7703 || 10iter: 6.4657 sec.\n",
            "iteration 10890 || Loss: -1.0778 || 10iter: 6.4838 sec.\n",
            "iteration 10900 || Loss: -1.0555 || 10iter: 6.4594 sec.\n",
            "iteration 10910 || Loss: -0.6404 || 10iter: 6.4744 sec.\n",
            "iteration 10920 || Loss: -0.8609 || 10iter: 6.4911 sec.\n",
            "iteration 10930 || Loss: -1.1974 || 10iter: 6.4722 sec.\n",
            "iteration 10940 || Loss: -1.2655 || 10iter: 6.4943 sec.\n",
            "iteration 10950 || Loss: -0.7355 || 10iter: 6.4905 sec.\n",
            "iteration 10960 || Loss: -1.2912 || 10iter: 6.4762 sec.\n",
            "iteration 10970 || Loss: -0.7288 || 10iter: 6.4552 sec.\n",
            "iteration 10980 || Loss: -0.9937 || 10iter: 6.4877 sec.\n",
            "iteration 10990 || Loss: -0.8799 || 10iter: 6.4500 sec.\n",
            "iteration 11000 || Loss: -1.1537 || 10iter: 6.4537 sec.\n",
            "iteration 11010 || Loss: -0.6378 || 10iter: 6.4887 sec.\n",
            "iteration 11020 || Loss: -0.9219 || 10iter: 6.4630 sec.\n",
            "iteration 11030 || Loss: -1.0412 || 10iter: 6.4736 sec.\n",
            "iteration 11040 || Loss: -0.7139 || 10iter: 6.4856 sec.\n",
            "iteration 11050 || Loss: -0.7557 || 10iter: 6.4949 sec.\n",
            "iteration 11060 || Loss: -0.6775 || 10iter: 6.5029 sec.\n",
            "iteration 11070 || Loss: -0.6309 || 10iter: 6.4763 sec.\n",
            "iteration 11080 || Loss: -0.5793 || 10iter: 6.4502 sec.\n",
            "iteration 11090 || Loss: -1.2229 || 10iter: 6.4800 sec.\n",
            "iteration 11100 || Loss: -1.1146 || 10iter: 6.4869 sec.\n",
            "iteration 11110 || Loss: -1.0829 || 10iter: 6.4582 sec.\n",
            "iteration 11120 || Loss: -1.3524 || 10iter: 6.4432 sec.\n",
            "iteration 11130 || Loss: -0.8882 || 10iter: 6.3663 sec.\n",
            "-------------\n",
            "epoch 42 || Epoch_TRAIN_Loss:-0.9591 ||Epoch_VAL_Loss:0.0000\n",
            "timer:  179.4998 sec.\n",
            "-------------\n",
            "Epoch 43/50\n",
            "-------------\n",
            "（train）\n",
            "iteration 11140 || Loss: -0.6860 || 10iter: 6.4887 sec.\n",
            "iteration 11150 || Loss: -0.7322 || 10iter: 6.5051 sec.\n",
            "iteration 11160 || Loss: -0.7751 || 10iter: 6.4764 sec.\n",
            "iteration 11170 || Loss: -1.0496 || 10iter: 6.4999 sec.\n",
            "iteration 11180 || Loss: -1.0978 || 10iter: 6.4810 sec.\n",
            "iteration 11190 || Loss: -0.6450 || 10iter: 6.4570 sec.\n",
            "iteration 11200 || Loss: -1.0530 || 10iter: 6.4789 sec.\n",
            "iteration 11210 || Loss: -0.9584 || 10iter: 6.4715 sec.\n",
            "iteration 11220 || Loss: -0.9798 || 10iter: 6.4749 sec.\n",
            "iteration 11230 || Loss: -0.6180 || 10iter: 6.5124 sec.\n",
            "iteration 11240 || Loss: -0.7628 || 10iter: 6.4761 sec.\n",
            "iteration 11250 || Loss: -0.8427 || 10iter: 6.4771 sec.\n",
            "iteration 11260 || Loss: -1.1191 || 10iter: 6.4803 sec.\n",
            "iteration 11270 || Loss: -0.9527 || 10iter: 6.4871 sec.\n",
            "iteration 11280 || Loss: -1.1655 || 10iter: 6.4692 sec.\n",
            "iteration 11290 || Loss: -0.7585 || 10iter: 6.4894 sec.\n",
            "iteration 11300 || Loss: -1.1741 || 10iter: 6.4705 sec.\n",
            "iteration 11310 || Loss: -0.9820 || 10iter: 6.4957 sec.\n",
            "iteration 11320 || Loss: -1.3130 || 10iter: 6.5076 sec.\n",
            "iteration 11330 || Loss: -0.6132 || 10iter: 6.4691 sec.\n",
            "iteration 11340 || Loss: -0.9251 || 10iter: 6.4877 sec.\n",
            "iteration 11350 || Loss: -0.9184 || 10iter: 6.4680 sec.\n",
            "iteration 11360 || Loss: -0.4243 || 10iter: 6.4641 sec.\n",
            "iteration 11370 || Loss: -1.1941 || 10iter: 6.4668 sec.\n",
            "iteration 11380 || Loss: -0.9352 || 10iter: 6.4939 sec.\n",
            "iteration 11390 || Loss: -1.2069 || 10iter: 6.4644 sec.\n",
            "-------------\n",
            "epoch 43 || Epoch_TRAIN_Loss:-0.9625 ||Epoch_VAL_Loss:0.0000\n",
            "timer:  179.6811 sec.\n",
            "-------------\n",
            "Epoch 44/50\n",
            "-------------\n",
            "（train）\n",
            "iteration 11400 || Loss: -0.8347 || 10iter: 3.0852 sec.\n",
            "iteration 11410 || Loss: -1.2566 || 10iter: 6.4746 sec.\n",
            "iteration 11420 || Loss: -0.9933 || 10iter: 6.5048 sec.\n",
            "iteration 11430 || Loss: -1.0688 || 10iter: 6.4760 sec.\n",
            "iteration 11440 || Loss: -0.7742 || 10iter: 6.4557 sec.\n",
            "iteration 11450 || Loss: -1.0645 || 10iter: 6.4794 sec.\n",
            "iteration 11460 || Loss: -1.3113 || 10iter: 6.4962 sec.\n",
            "iteration 11470 || Loss: -0.9381 || 10iter: 6.4533 sec.\n",
            "iteration 11480 || Loss: -1.1729 || 10iter: 6.4883 sec.\n",
            "iteration 11490 || Loss: -0.7043 || 10iter: 6.4574 sec.\n",
            "iteration 11500 || Loss: -0.9048 || 10iter: 6.4648 sec.\n",
            "iteration 11510 || Loss: -0.9570 || 10iter: 6.4798 sec.\n",
            "iteration 11520 || Loss: -1.0317 || 10iter: 6.4745 sec.\n",
            "iteration 11530 || Loss: -1.1340 || 10iter: 6.4989 sec.\n",
            "iteration 11540 || Loss: -0.8575 || 10iter: 6.5167 sec.\n",
            "iteration 11550 || Loss: -0.8329 || 10iter: 6.4757 sec.\n",
            "iteration 11560 || Loss: -0.7813 || 10iter: 6.4705 sec.\n",
            "iteration 11570 || Loss: -0.5947 || 10iter: 6.4897 sec.\n",
            "iteration 11580 || Loss: -1.3265 || 10iter: 6.4747 sec.\n",
            "iteration 11590 || Loss: -0.7454 || 10iter: 6.4656 sec.\n",
            "iteration 11600 || Loss: -0.8006 || 10iter: 6.4754 sec.\n",
            "iteration 11610 || Loss: -1.0277 || 10iter: 6.4564 sec.\n",
            "iteration 11620 || Loss: -0.8474 || 10iter: 6.4467 sec.\n",
            "iteration 11630 || Loss: -1.1437 || 10iter: 6.4922 sec.\n",
            "iteration 11640 || Loss: -0.8358 || 10iter: 6.4602 sec.\n",
            "iteration 11650 || Loss: -1.0763 || 10iter: 6.4880 sec.\n",
            "iteration 11660 || Loss: -0.8916 || 10iter: 6.3897 sec.\n",
            "-------------\n",
            "epoch 44 || Epoch_TRAIN_Loss:-0.9629 ||Epoch_VAL_Loss:0.0000\n",
            "timer:  179.5868 sec.\n",
            "-------------\n",
            "Epoch 45/50\n",
            "-------------\n",
            "（train）\n",
            "iteration 11670 || Loss: -1.0798 || 10iter: 6.4998 sec.\n",
            "iteration 11680 || Loss: -1.0597 || 10iter: 6.5077 sec.\n",
            "iteration 11690 || Loss: -1.1243 || 10iter: 6.4839 sec.\n",
            "iteration 11700 || Loss: -0.9239 || 10iter: 6.4670 sec.\n",
            "iteration 11710 || Loss: -0.8724 || 10iter: 6.4590 sec.\n",
            "iteration 11720 || Loss: -0.9125 || 10iter: 6.4668 sec.\n",
            "iteration 11730 || Loss: -0.7602 || 10iter: 6.4691 sec.\n",
            "iteration 11740 || Loss: -1.1773 || 10iter: 6.4731 sec.\n",
            "iteration 11750 || Loss: -1.2113 || 10iter: 6.4719 sec.\n",
            "iteration 11760 || Loss: -1.1640 || 10iter: 6.4909 sec.\n",
            "iteration 11770 || Loss: -0.9240 || 10iter: 6.4655 sec.\n",
            "iteration 11780 || Loss: -1.0018 || 10iter: 6.4627 sec.\n",
            "iteration 11790 || Loss: -1.3478 || 10iter: 6.4620 sec.\n",
            "iteration 11800 || Loss: -1.2324 || 10iter: 6.4650 sec.\n",
            "iteration 11810 || Loss: -0.9714 || 10iter: 6.4611 sec.\n",
            "iteration 11820 || Loss: -1.0870 || 10iter: 6.4874 sec.\n",
            "iteration 11830 || Loss: -0.9859 || 10iter: 6.4618 sec.\n",
            "iteration 11840 || Loss: -0.7966 || 10iter: 6.4853 sec.\n",
            "iteration 11850 || Loss: -0.7705 || 10iter: 6.4700 sec.\n",
            "iteration 11860 || Loss: -0.9145 || 10iter: 6.4895 sec.\n",
            "iteration 11870 || Loss: -0.8043 || 10iter: 6.4656 sec.\n",
            "iteration 11880 || Loss: -1.1041 || 10iter: 6.5149 sec.\n",
            "iteration 11890 || Loss: -1.0407 || 10iter: 6.4725 sec.\n",
            "iteration 11900 || Loss: -1.1117 || 10iter: 6.4718 sec.\n",
            "iteration 11910 || Loss: -0.8727 || 10iter: 6.4825 sec.\n",
            "iteration 11920 || Loss: -1.0838 || 10iter: 6.4613 sec.\n",
            "-------------\n",
            "（val）\n",
            "-------------\n",
            "epoch 45 || Epoch_TRAIN_Loss:-0.9633 ||Epoch_VAL_Loss:-0.9483\n",
            "timer:  199.0750 sec.\n",
            "-------------\n",
            "Epoch 46/50\n",
            "-------------\n",
            "（train）\n",
            "iteration 11930 || Loss: -0.9633 || 10iter: 3.0934 sec.\n",
            "iteration 11940 || Loss: -0.8509 || 10iter: 6.4875 sec.\n",
            "iteration 11950 || Loss: -0.9751 || 10iter: 6.4819 sec.\n",
            "iteration 11960 || Loss: -1.0314 || 10iter: 6.4692 sec.\n",
            "iteration 11970 || Loss: -0.9211 || 10iter: 6.4910 sec.\n",
            "iteration 11980 || Loss: -1.0869 || 10iter: 6.4961 sec.\n",
            "iteration 11990 || Loss: -0.9207 || 10iter: 6.4756 sec.\n",
            "iteration 12000 || Loss: -1.0383 || 10iter: 6.4728 sec.\n",
            "iteration 12010 || Loss: -0.8207 || 10iter: 6.4829 sec.\n",
            "iteration 12020 || Loss: -0.9355 || 10iter: 6.4503 sec.\n",
            "iteration 12030 || Loss: -1.1208 || 10iter: 6.4538 sec.\n",
            "iteration 12040 || Loss: -0.8662 || 10iter: 6.4695 sec.\n",
            "iteration 12050 || Loss: -1.2488 || 10iter: 6.4595 sec.\n",
            "iteration 12060 || Loss: -0.9380 || 10iter: 6.4916 sec.\n",
            "iteration 12070 || Loss: -1.0591 || 10iter: 6.4798 sec.\n",
            "iteration 12080 || Loss: -0.9861 || 10iter: 6.4753 sec.\n",
            "iteration 12090 || Loss: -1.1084 || 10iter: 6.4970 sec.\n",
            "iteration 12100 || Loss: -0.8154 || 10iter: 6.5210 sec.\n",
            "iteration 12110 || Loss: -0.8289 || 10iter: 6.4800 sec.\n",
            "iteration 12120 || Loss: -1.0877 || 10iter: 6.4690 sec.\n",
            "iteration 12130 || Loss: -0.9981 || 10iter: 6.4973 sec.\n",
            "iteration 12140 || Loss: -1.0649 || 10iter: 6.4611 sec.\n",
            "iteration 12150 || Loss: -0.9146 || 10iter: 6.4563 sec.\n",
            "iteration 12160 || Loss: -0.8816 || 10iter: 6.4996 sec.\n",
            "iteration 12170 || Loss: -1.5504 || 10iter: 6.4696 sec.\n",
            "iteration 12180 || Loss: -1.1514 || 10iter: 6.4678 sec.\n",
            "iteration 12190 || Loss: -1.1253 || 10iter: 6.3742 sec.\n",
            "-------------\n",
            "epoch 46 || Epoch_TRAIN_Loss:-0.9641 ||Epoch_VAL_Loss:0.0000\n",
            "timer:  179.6073 sec.\n",
            "-------------\n",
            "Epoch 47/50\n",
            "-------------\n",
            "（train）\n",
            "iteration 12200 || Loss: -0.8185 || 10iter: 6.4732 sec.\n",
            "iteration 12210 || Loss: -0.8036 || 10iter: 6.4728 sec.\n",
            "iteration 12220 || Loss: -1.0751 || 10iter: 6.4893 sec.\n",
            "iteration 12230 || Loss: -1.0483 || 10iter: 6.4796 sec.\n",
            "iteration 12240 || Loss: -0.8156 || 10iter: 6.4581 sec.\n",
            "iteration 12250 || Loss: -1.1984 || 10iter: 6.4551 sec.\n",
            "iteration 12260 || Loss: -0.8582 || 10iter: 6.4898 sec.\n",
            "iteration 12270 || Loss: -0.6308 || 10iter: 6.4684 sec.\n",
            "iteration 12280 || Loss: -1.0149 || 10iter: 6.4906 sec.\n",
            "iteration 12290 || Loss: -1.2878 || 10iter: 6.4815 sec.\n",
            "iteration 12300 || Loss: -0.8600 || 10iter: 6.4533 sec.\n",
            "iteration 12310 || Loss: -1.0269 || 10iter: 6.4674 sec.\n",
            "iteration 12320 || Loss: -1.2278 || 10iter: 6.4755 sec.\n",
            "iteration 12330 || Loss: -1.0199 || 10iter: 6.4758 sec.\n",
            "iteration 12340 || Loss: -0.9863 || 10iter: 6.4736 sec.\n",
            "iteration 12350 || Loss: -1.0952 || 10iter: 6.4653 sec.\n",
            "iteration 12360 || Loss: -1.5644 || 10iter: 6.4802 sec.\n",
            "iteration 12370 || Loss: -1.1516 || 10iter: 6.4664 sec.\n",
            "iteration 12380 || Loss: -1.0503 || 10iter: 6.4618 sec.\n",
            "iteration 12390 || Loss: -1.2925 || 10iter: 6.4414 sec.\n",
            "iteration 12400 || Loss: -0.8062 || 10iter: 6.4608 sec.\n",
            "iteration 12410 || Loss: -0.7099 || 10iter: 6.4664 sec.\n",
            "iteration 12420 || Loss: -0.6233 || 10iter: 6.4560 sec.\n",
            "iteration 12430 || Loss: -0.8713 || 10iter: 6.4565 sec.\n",
            "iteration 12440 || Loss: -1.1756 || 10iter: 6.4813 sec.\n",
            "iteration 12450 || Loss: -0.7563 || 10iter: 6.4773 sec.\n",
            "-------------\n",
            "epoch 47 || Epoch_TRAIN_Loss:-0.9637 ||Epoch_VAL_Loss:0.0000\n",
            "timer:  179.4005 sec.\n",
            "-------------\n",
            "Epoch 48/50\n",
            "-------------\n",
            "（train）\n",
            "iteration 12460 || Loss: -1.1016 || 10iter: 3.1042 sec.\n",
            "iteration 12470 || Loss: -0.9428 || 10iter: 6.4652 sec.\n",
            "iteration 12480 || Loss: -0.8612 || 10iter: 6.5052 sec.\n",
            "iteration 12490 || Loss: -0.7810 || 10iter: 6.4872 sec.\n",
            "iteration 12500 || Loss: -1.3967 || 10iter: 6.4688 sec.\n",
            "iteration 12510 || Loss: -1.0864 || 10iter: 6.4842 sec.\n",
            "iteration 12520 || Loss: -0.6895 || 10iter: 6.4616 sec.\n",
            "iteration 12530 || Loss: -1.0627 || 10iter: 6.4602 sec.\n",
            "iteration 12540 || Loss: -0.7540 || 10iter: 6.4910 sec.\n",
            "iteration 12550 || Loss: -1.0444 || 10iter: 6.4569 sec.\n",
            "iteration 12560 || Loss: -1.0065 || 10iter: 6.4548 sec.\n",
            "iteration 12570 || Loss: -0.8686 || 10iter: 6.5009 sec.\n",
            "iteration 12580 || Loss: -1.0764 || 10iter: 6.4800 sec.\n",
            "iteration 12590 || Loss: -0.6959 || 10iter: 6.4584 sec.\n",
            "iteration 12600 || Loss: -1.0132 || 10iter: 6.4807 sec.\n",
            "iteration 12610 || Loss: -1.1346 || 10iter: 6.4635 sec.\n",
            "iteration 12620 || Loss: -1.0014 || 10iter: 6.4595 sec.\n",
            "iteration 12630 || Loss: -1.1384 || 10iter: 6.4869 sec.\n",
            "iteration 12640 || Loss: -0.8274 || 10iter: 6.4516 sec.\n",
            "iteration 12650 || Loss: -0.7445 || 10iter: 6.4628 sec.\n",
            "iteration 12660 || Loss: -1.0637 || 10iter: 6.4793 sec.\n",
            "iteration 12670 || Loss: -0.8279 || 10iter: 6.4646 sec.\n",
            "iteration 12680 || Loss: -1.0254 || 10iter: 6.4981 sec.\n",
            "iteration 12690 || Loss: -0.8494 || 10iter: 6.5003 sec.\n",
            "iteration 12700 || Loss: -0.8380 || 10iter: 6.4734 sec.\n",
            "iteration 12710 || Loss: -0.6910 || 10iter: 6.4632 sec.\n",
            "iteration 12720 || Loss: -0.8699 || 10iter: 6.3773 sec.\n",
            "-------------\n",
            "epoch 48 || Epoch_TRAIN_Loss:-0.9643 ||Epoch_VAL_Loss:0.0000\n",
            "timer:  179.5453 sec.\n",
            "-------------\n",
            "Epoch 49/50\n",
            "-------------\n",
            "（train）\n",
            "iteration 12730 || Loss: -0.9609 || 10iter: 6.4716 sec.\n",
            "iteration 12740 || Loss: -0.8579 || 10iter: 6.4580 sec.\n",
            "iteration 12750 || Loss: -0.9670 || 10iter: 6.4915 sec.\n",
            "iteration 12760 || Loss: -0.9269 || 10iter: 6.5009 sec.\n",
            "iteration 12770 || Loss: -1.0347 || 10iter: 6.4692 sec.\n",
            "iteration 12780 || Loss: -1.1433 || 10iter: 6.4564 sec.\n",
            "iteration 12790 || Loss: -1.0598 || 10iter: 6.4960 sec.\n",
            "iteration 12800 || Loss: -1.2470 || 10iter: 6.4649 sec.\n",
            "iteration 12810 || Loss: -1.1562 || 10iter: 6.5183 sec.\n",
            "iteration 12820 || Loss: -1.0803 || 10iter: 6.4880 sec.\n",
            "iteration 12830 || Loss: -1.2329 || 10iter: 6.4858 sec.\n",
            "iteration 12840 || Loss: -1.1754 || 10iter: 6.4774 sec.\n",
            "iteration 12850 || Loss: -0.7737 || 10iter: 6.4841 sec.\n",
            "iteration 12860 || Loss: -1.2140 || 10iter: 6.4655 sec.\n",
            "iteration 12870 || Loss: -1.1302 || 10iter: 6.4464 sec.\n",
            "iteration 12880 || Loss: -0.6587 || 10iter: 6.5011 sec.\n",
            "iteration 12890 || Loss: -0.8551 || 10iter: 6.4615 sec.\n",
            "iteration 12900 || Loss: -0.7461 || 10iter: 6.4726 sec.\n",
            "iteration 12910 || Loss: -0.8216 || 10iter: 6.4633 sec.\n",
            "iteration 12920 || Loss: -0.8861 || 10iter: 6.4614 sec.\n",
            "iteration 12930 || Loss: -0.9767 || 10iter: 6.4796 sec.\n",
            "iteration 12940 || Loss: -1.0884 || 10iter: 6.4954 sec.\n",
            "iteration 12950 || Loss: -1.4326 || 10iter: 6.4609 sec.\n",
            "iteration 12960 || Loss: -1.0827 || 10iter: 6.4609 sec.\n",
            "iteration 12970 || Loss: -0.8761 || 10iter: 6.4858 sec.\n",
            "iteration 12980 || Loss: -0.6293 || 10iter: 6.4524 sec.\n",
            "-------------\n",
            "epoch 49 || Epoch_TRAIN_Loss:-0.9650 ||Epoch_VAL_Loss:0.0000\n",
            "timer:  179.5472 sec.\n",
            "-------------\n",
            "Epoch 50/50\n",
            "-------------\n",
            "（train）\n",
            "iteration 12990 || Loss: -0.9984 || 10iter: 3.0949 sec.\n",
            "iteration 13000 || Loss: -1.0378 || 10iter: 6.4595 sec.\n",
            "iteration 13010 || Loss: -0.9174 || 10iter: 6.4789 sec.\n",
            "iteration 13020 || Loss: -0.8333 || 10iter: 6.4762 sec.\n",
            "iteration 13030 || Loss: -0.7989 || 10iter: 6.4744 sec.\n",
            "iteration 13040 || Loss: -0.8160 || 10iter: 6.4891 sec.\n",
            "iteration 13050 || Loss: -1.0866 || 10iter: 6.4778 sec.\n",
            "iteration 13060 || Loss: -1.1091 || 10iter: 6.4555 sec.\n",
            "iteration 13070 || Loss: -1.2353 || 10iter: 6.4999 sec.\n",
            "iteration 13080 || Loss: -0.8926 || 10iter: 6.4684 sec.\n",
            "iteration 13090 || Loss: -0.9057 || 10iter: 6.5059 sec.\n",
            "iteration 13100 || Loss: -1.0268 || 10iter: 6.4767 sec.\n",
            "iteration 13110 || Loss: -0.6763 || 10iter: 6.4735 sec.\n",
            "iteration 13120 || Loss: -1.3995 || 10iter: 6.4878 sec.\n",
            "iteration 13130 || Loss: -1.1920 || 10iter: 6.4644 sec.\n",
            "iteration 13140 || Loss: -0.7917 || 10iter: 6.4502 sec.\n",
            "iteration 13150 || Loss: -0.8852 || 10iter: 6.4598 sec.\n",
            "iteration 13160 || Loss: -0.9616 || 10iter: 6.4802 sec.\n",
            "iteration 13170 || Loss: -0.8064 || 10iter: 6.5006 sec.\n",
            "iteration 13180 || Loss: -0.9686 || 10iter: 6.4630 sec.\n",
            "iteration 13190 || Loss: -1.4121 || 10iter: 6.4815 sec.\n",
            "iteration 13200 || Loss: -1.1871 || 10iter: 6.4785 sec.\n",
            "iteration 13210 || Loss: -0.7431 || 10iter: 6.4630 sec.\n",
            "iteration 13220 || Loss: -1.3004 || 10iter: 6.4774 sec.\n",
            "iteration 13230 || Loss: -0.8536 || 10iter: 6.4613 sec.\n",
            "iteration 13240 || Loss: -0.8173 || 10iter: 6.4566 sec.\n",
            "iteration 13250 || Loss: -0.9730 || 10iter: 6.3552 sec.\n",
            "-------------\n",
            "（val）\n",
            "-------------\n",
            "epoch 50 || Epoch_TRAIN_Loss:-0.9649 ||Epoch_VAL_Loss:-0.9461\n",
            "timer:  199.0906 sec.\n"
          ]
        }
      ],
      "source": [
        "import time\n",
        "num_epochs = 50\n",
        "train_model(psp_net, dataloaders_dict, criterion, scheduler, optimizer, num_epochs, loss_weight_list)#histogramEQ+learnable hd_loss pre-trained with hd"
      ]
    },
    {
      "cell_type": "code",
      "execution_count": null,
      "metadata": {
        "colab": {
          "base_uri": "https://localhost:8080/"
        },
        "id": "lfnQpEzqqe3k",
        "outputId": "df4f4526-8a64-482c-b449-c97db2d01da9"
      },
      "outputs": [
        {
          "data": {
            "text/plain": [
              "PSPNet(\n",
              "  (feature_conv): FeatureMap_convolution(\n",
              "    (cbnr_1): conv2DBatchNormRelu(\n",
              "      (conv): Conv2d(3, 64, kernel_size=(3, 3), stride=(2, 2), padding=(1, 1), bias=False)\n",
              "      (batchnorm): BatchNorm2d(64, eps=1e-05, momentum=0.1, affine=True, track_running_stats=True)\n",
              "      (relu): ReLU(inplace=True)\n",
              "    )\n",
              "    (cbnr_2): conv2DBatchNormRelu(\n",
              "      (conv): Conv2d(64, 64, kernel_size=(3, 3), stride=(1, 1), padding=(1, 1), bias=False)\n",
              "      (batchnorm): BatchNorm2d(64, eps=1e-05, momentum=0.1, affine=True, track_running_stats=True)\n",
              "      (relu): ReLU(inplace=True)\n",
              "    )\n",
              "    (cbnr_3): conv2DBatchNormRelu(\n",
              "      (conv): Conv2d(64, 128, kernel_size=(3, 3), stride=(1, 1), padding=(1, 1), bias=False)\n",
              "      (batchnorm): BatchNorm2d(128, eps=1e-05, momentum=0.1, affine=True, track_running_stats=True)\n",
              "      (relu): ReLU(inplace=True)\n",
              "    )\n",
              "    (maxpool): MaxPool2d(kernel_size=3, stride=2, padding=1, dilation=1, ceil_mode=False)\n",
              "  )\n",
              "  (feature_res_1): ResidualBlockPSP(\n",
              "    (block1): bottleNeckPSP(\n",
              "      (cbr_1): conv2DBatchNormRelu(\n",
              "        (conv): Conv2d(128, 64, kernel_size=(1, 1), stride=(1, 1), bias=False)\n",
              "        (batchnorm): BatchNorm2d(64, eps=1e-05, momentum=0.1, affine=True, track_running_stats=True)\n",
              "        (relu): ReLU(inplace=True)\n",
              "      )\n",
              "      (cbr_2): conv2DBatchNormRelu(\n",
              "        (conv): Conv2d(64, 64, kernel_size=(3, 3), stride=(1, 1), padding=(1, 1), bias=False)\n",
              "        (batchnorm): BatchNorm2d(64, eps=1e-05, momentum=0.1, affine=True, track_running_stats=True)\n",
              "        (relu): ReLU(inplace=True)\n",
              "      )\n",
              "      (cb_3): conv2DBatchNorm(\n",
              "        (conv): Conv2d(64, 256, kernel_size=(1, 1), stride=(1, 1), bias=False)\n",
              "        (batchnorm): BatchNorm2d(256, eps=1e-05, momentum=0.1, affine=True, track_running_stats=True)\n",
              "      )\n",
              "      (cb_residual): conv2DBatchNorm(\n",
              "        (conv): Conv2d(128, 256, kernel_size=(1, 1), stride=(1, 1), bias=False)\n",
              "        (batchnorm): BatchNorm2d(256, eps=1e-05, momentum=0.1, affine=True, track_running_stats=True)\n",
              "      )\n",
              "      (relu): ReLU(inplace=True)\n",
              "    )\n",
              "    (block2): bottleNeckIdentifyPSP(\n",
              "      (cbr_1): conv2DBatchNormRelu(\n",
              "        (conv): Conv2d(256, 64, kernel_size=(1, 1), stride=(1, 1), bias=False)\n",
              "        (batchnorm): BatchNorm2d(64, eps=1e-05, momentum=0.1, affine=True, track_running_stats=True)\n",
              "        (relu): ReLU(inplace=True)\n",
              "      )\n",
              "      (cbr_2): conv2DBatchNormRelu(\n",
              "        (conv): Conv2d(64, 64, kernel_size=(3, 3), stride=(1, 1), padding=(1, 1), bias=False)\n",
              "        (batchnorm): BatchNorm2d(64, eps=1e-05, momentum=0.1, affine=True, track_running_stats=True)\n",
              "        (relu): ReLU(inplace=True)\n",
              "      )\n",
              "      (cb_3): conv2DBatchNorm(\n",
              "        (conv): Conv2d(64, 256, kernel_size=(1, 1), stride=(1, 1), bias=False)\n",
              "        (batchnorm): BatchNorm2d(256, eps=1e-05, momentum=0.1, affine=True, track_running_stats=True)\n",
              "      )\n",
              "      (relu): ReLU(inplace=True)\n",
              "    )\n",
              "    (block3): bottleNeckIdentifyPSP(\n",
              "      (cbr_1): conv2DBatchNormRelu(\n",
              "        (conv): Conv2d(256, 64, kernel_size=(1, 1), stride=(1, 1), bias=False)\n",
              "        (batchnorm): BatchNorm2d(64, eps=1e-05, momentum=0.1, affine=True, track_running_stats=True)\n",
              "        (relu): ReLU(inplace=True)\n",
              "      )\n",
              "      (cbr_2): conv2DBatchNormRelu(\n",
              "        (conv): Conv2d(64, 64, kernel_size=(3, 3), stride=(1, 1), padding=(1, 1), bias=False)\n",
              "        (batchnorm): BatchNorm2d(64, eps=1e-05, momentum=0.1, affine=True, track_running_stats=True)\n",
              "        (relu): ReLU(inplace=True)\n",
              "      )\n",
              "      (cb_3): conv2DBatchNorm(\n",
              "        (conv): Conv2d(64, 256, kernel_size=(1, 1), stride=(1, 1), bias=False)\n",
              "        (batchnorm): BatchNorm2d(256, eps=1e-05, momentum=0.1, affine=True, track_running_stats=True)\n",
              "      )\n",
              "      (relu): ReLU(inplace=True)\n",
              "    )\n",
              "  )\n",
              "  (feature_res_2): ResidualBlockPSP(\n",
              "    (block1): bottleNeckPSP(\n",
              "      (cbr_1): conv2DBatchNormRelu(\n",
              "        (conv): Conv2d(256, 128, kernel_size=(1, 1), stride=(1, 1), bias=False)\n",
              "        (batchnorm): BatchNorm2d(128, eps=1e-05, momentum=0.1, affine=True, track_running_stats=True)\n",
              "        (relu): ReLU(inplace=True)\n",
              "      )\n",
              "      (cbr_2): conv2DBatchNormRelu(\n",
              "        (conv): Conv2d(128, 128, kernel_size=(3, 3), stride=(2, 2), padding=(1, 1), bias=False)\n",
              "        (batchnorm): BatchNorm2d(128, eps=1e-05, momentum=0.1, affine=True, track_running_stats=True)\n",
              "        (relu): ReLU(inplace=True)\n",
              "      )\n",
              "      (cb_3): conv2DBatchNorm(\n",
              "        (conv): Conv2d(128, 512, kernel_size=(1, 1), stride=(1, 1), bias=False)\n",
              "        (batchnorm): BatchNorm2d(512, eps=1e-05, momentum=0.1, affine=True, track_running_stats=True)\n",
              "      )\n",
              "      (cb_residual): conv2DBatchNorm(\n",
              "        (conv): Conv2d(256, 512, kernel_size=(1, 1), stride=(2, 2), bias=False)\n",
              "        (batchnorm): BatchNorm2d(512, eps=1e-05, momentum=0.1, affine=True, track_running_stats=True)\n",
              "      )\n",
              "      (relu): ReLU(inplace=True)\n",
              "    )\n",
              "    (block2): bottleNeckIdentifyPSP(\n",
              "      (cbr_1): conv2DBatchNormRelu(\n",
              "        (conv): Conv2d(512, 128, kernel_size=(1, 1), stride=(1, 1), bias=False)\n",
              "        (batchnorm): BatchNorm2d(128, eps=1e-05, momentum=0.1, affine=True, track_running_stats=True)\n",
              "        (relu): ReLU(inplace=True)\n",
              "      )\n",
              "      (cbr_2): conv2DBatchNormRelu(\n",
              "        (conv): Conv2d(128, 128, kernel_size=(3, 3), stride=(1, 1), padding=(1, 1), bias=False)\n",
              "        (batchnorm): BatchNorm2d(128, eps=1e-05, momentum=0.1, affine=True, track_running_stats=True)\n",
              "        (relu): ReLU(inplace=True)\n",
              "      )\n",
              "      (cb_3): conv2DBatchNorm(\n",
              "        (conv): Conv2d(128, 512, kernel_size=(1, 1), stride=(1, 1), bias=False)\n",
              "        (batchnorm): BatchNorm2d(512, eps=1e-05, momentum=0.1, affine=True, track_running_stats=True)\n",
              "      )\n",
              "      (relu): ReLU(inplace=True)\n",
              "    )\n",
              "    (block3): bottleNeckIdentifyPSP(\n",
              "      (cbr_1): conv2DBatchNormRelu(\n",
              "        (conv): Conv2d(512, 128, kernel_size=(1, 1), stride=(1, 1), bias=False)\n",
              "        (batchnorm): BatchNorm2d(128, eps=1e-05, momentum=0.1, affine=True, track_running_stats=True)\n",
              "        (relu): ReLU(inplace=True)\n",
              "      )\n",
              "      (cbr_2): conv2DBatchNormRelu(\n",
              "        (conv): Conv2d(128, 128, kernel_size=(3, 3), stride=(1, 1), padding=(1, 1), bias=False)\n",
              "        (batchnorm): BatchNorm2d(128, eps=1e-05, momentum=0.1, affine=True, track_running_stats=True)\n",
              "        (relu): ReLU(inplace=True)\n",
              "      )\n",
              "      (cb_3): conv2DBatchNorm(\n",
              "        (conv): Conv2d(128, 512, kernel_size=(1, 1), stride=(1, 1), bias=False)\n",
              "        (batchnorm): BatchNorm2d(512, eps=1e-05, momentum=0.1, affine=True, track_running_stats=True)\n",
              "      )\n",
              "      (relu): ReLU(inplace=True)\n",
              "    )\n",
              "    (block4): bottleNeckIdentifyPSP(\n",
              "      (cbr_1): conv2DBatchNormRelu(\n",
              "        (conv): Conv2d(512, 128, kernel_size=(1, 1), stride=(1, 1), bias=False)\n",
              "        (batchnorm): BatchNorm2d(128, eps=1e-05, momentum=0.1, affine=True, track_running_stats=True)\n",
              "        (relu): ReLU(inplace=True)\n",
              "      )\n",
              "      (cbr_2): conv2DBatchNormRelu(\n",
              "        (conv): Conv2d(128, 128, kernel_size=(3, 3), stride=(1, 1), padding=(1, 1), bias=False)\n",
              "        (batchnorm): BatchNorm2d(128, eps=1e-05, momentum=0.1, affine=True, track_running_stats=True)\n",
              "        (relu): ReLU(inplace=True)\n",
              "      )\n",
              "      (cb_3): conv2DBatchNorm(\n",
              "        (conv): Conv2d(128, 512, kernel_size=(1, 1), stride=(1, 1), bias=False)\n",
              "        (batchnorm): BatchNorm2d(512, eps=1e-05, momentum=0.1, affine=True, track_running_stats=True)\n",
              "      )\n",
              "      (relu): ReLU(inplace=True)\n",
              "    )\n",
              "  )\n",
              "  (feature_dilated_res_1): ResidualBlockPSP(\n",
              "    (block1): bottleNeckPSP(\n",
              "      (cbr_1): conv2DBatchNormRelu(\n",
              "        (conv): Conv2d(512, 256, kernel_size=(1, 1), stride=(1, 1), bias=False)\n",
              "        (batchnorm): BatchNorm2d(256, eps=1e-05, momentum=0.1, affine=True, track_running_stats=True)\n",
              "        (relu): ReLU(inplace=True)\n",
              "      )\n",
              "      (cbr_2): conv2DBatchNormRelu(\n",
              "        (conv): Conv2d(256, 256, kernel_size=(3, 3), stride=(1, 1), padding=(2, 2), dilation=(2, 2), bias=False)\n",
              "        (batchnorm): BatchNorm2d(256, eps=1e-05, momentum=0.1, affine=True, track_running_stats=True)\n",
              "        (relu): ReLU(inplace=True)\n",
              "      )\n",
              "      (cb_3): conv2DBatchNorm(\n",
              "        (conv): Conv2d(256, 1024, kernel_size=(1, 1), stride=(1, 1), bias=False)\n",
              "        (batchnorm): BatchNorm2d(1024, eps=1e-05, momentum=0.1, affine=True, track_running_stats=True)\n",
              "      )\n",
              "      (cb_residual): conv2DBatchNorm(\n",
              "        (conv): Conv2d(512, 1024, kernel_size=(1, 1), stride=(1, 1), bias=False)\n",
              "        (batchnorm): BatchNorm2d(1024, eps=1e-05, momentum=0.1, affine=True, track_running_stats=True)\n",
              "      )\n",
              "      (relu): ReLU(inplace=True)\n",
              "    )\n",
              "    (block2): bottleNeckIdentifyPSP(\n",
              "      (cbr_1): conv2DBatchNormRelu(\n",
              "        (conv): Conv2d(1024, 256, kernel_size=(1, 1), stride=(1, 1), bias=False)\n",
              "        (batchnorm): BatchNorm2d(256, eps=1e-05, momentum=0.1, affine=True, track_running_stats=True)\n",
              "        (relu): ReLU(inplace=True)\n",
              "      )\n",
              "      (cbr_2): conv2DBatchNormRelu(\n",
              "        (conv): Conv2d(256, 256, kernel_size=(3, 3), stride=(1, 1), padding=(2, 2), dilation=(2, 2), bias=False)\n",
              "        (batchnorm): BatchNorm2d(256, eps=1e-05, momentum=0.1, affine=True, track_running_stats=True)\n",
              "        (relu): ReLU(inplace=True)\n",
              "      )\n",
              "      (cb_3): conv2DBatchNorm(\n",
              "        (conv): Conv2d(256, 1024, kernel_size=(1, 1), stride=(1, 1), bias=False)\n",
              "        (batchnorm): BatchNorm2d(1024, eps=1e-05, momentum=0.1, affine=True, track_running_stats=True)\n",
              "      )\n",
              "      (relu): ReLU(inplace=True)\n",
              "    )\n",
              "    (block3): bottleNeckIdentifyPSP(\n",
              "      (cbr_1): conv2DBatchNormRelu(\n",
              "        (conv): Conv2d(1024, 256, kernel_size=(1, 1), stride=(1, 1), bias=False)\n",
              "        (batchnorm): BatchNorm2d(256, eps=1e-05, momentum=0.1, affine=True, track_running_stats=True)\n",
              "        (relu): ReLU(inplace=True)\n",
              "      )\n",
              "      (cbr_2): conv2DBatchNormRelu(\n",
              "        (conv): Conv2d(256, 256, kernel_size=(3, 3), stride=(1, 1), padding=(2, 2), dilation=(2, 2), bias=False)\n",
              "        (batchnorm): BatchNorm2d(256, eps=1e-05, momentum=0.1, affine=True, track_running_stats=True)\n",
              "        (relu): ReLU(inplace=True)\n",
              "      )\n",
              "      (cb_3): conv2DBatchNorm(\n",
              "        (conv): Conv2d(256, 1024, kernel_size=(1, 1), stride=(1, 1), bias=False)\n",
              "        (batchnorm): BatchNorm2d(1024, eps=1e-05, momentum=0.1, affine=True, track_running_stats=True)\n",
              "      )\n",
              "      (relu): ReLU(inplace=True)\n",
              "    )\n",
              "    (block4): bottleNeckIdentifyPSP(\n",
              "      (cbr_1): conv2DBatchNormRelu(\n",
              "        (conv): Conv2d(1024, 256, kernel_size=(1, 1), stride=(1, 1), bias=False)\n",
              "        (batchnorm): BatchNorm2d(256, eps=1e-05, momentum=0.1, affine=True, track_running_stats=True)\n",
              "        (relu): ReLU(inplace=True)\n",
              "      )\n",
              "      (cbr_2): conv2DBatchNormRelu(\n",
              "        (conv): Conv2d(256, 256, kernel_size=(3, 3), stride=(1, 1), padding=(2, 2), dilation=(2, 2), bias=False)\n",
              "        (batchnorm): BatchNorm2d(256, eps=1e-05, momentum=0.1, affine=True, track_running_stats=True)\n",
              "        (relu): ReLU(inplace=True)\n",
              "      )\n",
              "      (cb_3): conv2DBatchNorm(\n",
              "        (conv): Conv2d(256, 1024, kernel_size=(1, 1), stride=(1, 1), bias=False)\n",
              "        (batchnorm): BatchNorm2d(1024, eps=1e-05, momentum=0.1, affine=True, track_running_stats=True)\n",
              "      )\n",
              "      (relu): ReLU(inplace=True)\n",
              "    )\n",
              "    (block5): bottleNeckIdentifyPSP(\n",
              "      (cbr_1): conv2DBatchNormRelu(\n",
              "        (conv): Conv2d(1024, 256, kernel_size=(1, 1), stride=(1, 1), bias=False)\n",
              "        (batchnorm): BatchNorm2d(256, eps=1e-05, momentum=0.1, affine=True, track_running_stats=True)\n",
              "        (relu): ReLU(inplace=True)\n",
              "      )\n",
              "      (cbr_2): conv2DBatchNormRelu(\n",
              "        (conv): Conv2d(256, 256, kernel_size=(3, 3), stride=(1, 1), padding=(2, 2), dilation=(2, 2), bias=False)\n",
              "        (batchnorm): BatchNorm2d(256, eps=1e-05, momentum=0.1, affine=True, track_running_stats=True)\n",
              "        (relu): ReLU(inplace=True)\n",
              "      )\n",
              "      (cb_3): conv2DBatchNorm(\n",
              "        (conv): Conv2d(256, 1024, kernel_size=(1, 1), stride=(1, 1), bias=False)\n",
              "        (batchnorm): BatchNorm2d(1024, eps=1e-05, momentum=0.1, affine=True, track_running_stats=True)\n",
              "      )\n",
              "      (relu): ReLU(inplace=True)\n",
              "    )\n",
              "    (block6): bottleNeckIdentifyPSP(\n",
              "      (cbr_1): conv2DBatchNormRelu(\n",
              "        (conv): Conv2d(1024, 256, kernel_size=(1, 1), stride=(1, 1), bias=False)\n",
              "        (batchnorm): BatchNorm2d(256, eps=1e-05, momentum=0.1, affine=True, track_running_stats=True)\n",
              "        (relu): ReLU(inplace=True)\n",
              "      )\n",
              "      (cbr_2): conv2DBatchNormRelu(\n",
              "        (conv): Conv2d(256, 256, kernel_size=(3, 3), stride=(1, 1), padding=(2, 2), dilation=(2, 2), bias=False)\n",
              "        (batchnorm): BatchNorm2d(256, eps=1e-05, momentum=0.1, affine=True, track_running_stats=True)\n",
              "        (relu): ReLU(inplace=True)\n",
              "      )\n",
              "      (cb_3): conv2DBatchNorm(\n",
              "        (conv): Conv2d(256, 1024, kernel_size=(1, 1), stride=(1, 1), bias=False)\n",
              "        (batchnorm): BatchNorm2d(1024, eps=1e-05, momentum=0.1, affine=True, track_running_stats=True)\n",
              "      )\n",
              "      (relu): ReLU(inplace=True)\n",
              "    )\n",
              "  )\n",
              "  (feature_dilated_res_2): ResidualBlockPSP(\n",
              "    (block1): bottleNeckPSP(\n",
              "      (cbr_1): conv2DBatchNormRelu(\n",
              "        (conv): Conv2d(1024, 512, kernel_size=(1, 1), stride=(1, 1), bias=False)\n",
              "        (batchnorm): BatchNorm2d(512, eps=1e-05, momentum=0.1, affine=True, track_running_stats=True)\n",
              "        (relu): ReLU(inplace=True)\n",
              "      )\n",
              "      (cbr_2): conv2DBatchNormRelu(\n",
              "        (conv): Conv2d(512, 512, kernel_size=(3, 3), stride=(1, 1), padding=(4, 4), dilation=(4, 4), bias=False)\n",
              "        (batchnorm): BatchNorm2d(512, eps=1e-05, momentum=0.1, affine=True, track_running_stats=True)\n",
              "        (relu): ReLU(inplace=True)\n",
              "      )\n",
              "      (cb_3): conv2DBatchNorm(\n",
              "        (conv): Conv2d(512, 2048, kernel_size=(1, 1), stride=(1, 1), bias=False)\n",
              "        (batchnorm): BatchNorm2d(2048, eps=1e-05, momentum=0.1, affine=True, track_running_stats=True)\n",
              "      )\n",
              "      (cb_residual): conv2DBatchNorm(\n",
              "        (conv): Conv2d(1024, 2048, kernel_size=(1, 1), stride=(1, 1), bias=False)\n",
              "        (batchnorm): BatchNorm2d(2048, eps=1e-05, momentum=0.1, affine=True, track_running_stats=True)\n",
              "      )\n",
              "      (relu): ReLU(inplace=True)\n",
              "    )\n",
              "    (block2): bottleNeckIdentifyPSP(\n",
              "      (cbr_1): conv2DBatchNormRelu(\n",
              "        (conv): Conv2d(2048, 512, kernel_size=(1, 1), stride=(1, 1), bias=False)\n",
              "        (batchnorm): BatchNorm2d(512, eps=1e-05, momentum=0.1, affine=True, track_running_stats=True)\n",
              "        (relu): ReLU(inplace=True)\n",
              "      )\n",
              "      (cbr_2): conv2DBatchNormRelu(\n",
              "        (conv): Conv2d(512, 512, kernel_size=(3, 3), stride=(1, 1), padding=(4, 4), dilation=(4, 4), bias=False)\n",
              "        (batchnorm): BatchNorm2d(512, eps=1e-05, momentum=0.1, affine=True, track_running_stats=True)\n",
              "        (relu): ReLU(inplace=True)\n",
              "      )\n",
              "      (cb_3): conv2DBatchNorm(\n",
              "        (conv): Conv2d(512, 2048, kernel_size=(1, 1), stride=(1, 1), bias=False)\n",
              "        (batchnorm): BatchNorm2d(2048, eps=1e-05, momentum=0.1, affine=True, track_running_stats=True)\n",
              "      )\n",
              "      (relu): ReLU(inplace=True)\n",
              "    )\n",
              "    (block3): bottleNeckIdentifyPSP(\n",
              "      (cbr_1): conv2DBatchNormRelu(\n",
              "        (conv): Conv2d(2048, 512, kernel_size=(1, 1), stride=(1, 1), bias=False)\n",
              "        (batchnorm): BatchNorm2d(512, eps=1e-05, momentum=0.1, affine=True, track_running_stats=True)\n",
              "        (relu): ReLU(inplace=True)\n",
              "      )\n",
              "      (cbr_2): conv2DBatchNormRelu(\n",
              "        (conv): Conv2d(512, 512, kernel_size=(3, 3), stride=(1, 1), padding=(4, 4), dilation=(4, 4), bias=False)\n",
              "        (batchnorm): BatchNorm2d(512, eps=1e-05, momentum=0.1, affine=True, track_running_stats=True)\n",
              "        (relu): ReLU(inplace=True)\n",
              "      )\n",
              "      (cb_3): conv2DBatchNorm(\n",
              "        (conv): Conv2d(512, 2048, kernel_size=(1, 1), stride=(1, 1), bias=False)\n",
              "        (batchnorm): BatchNorm2d(2048, eps=1e-05, momentum=0.1, affine=True, track_running_stats=True)\n",
              "      )\n",
              "      (relu): ReLU(inplace=True)\n",
              "    )\n",
              "  )\n",
              "  (pyramid_pooling): PyramidPooling(\n",
              "    (avpool_1): AdaptiveAvgPool2d(output_size=6)\n",
              "    (cbr_1): conv2DBatchNormRelu(\n",
              "      (conv): Conv2d(2048, 512, kernel_size=(1, 1), stride=(1, 1), bias=False)\n",
              "      (batchnorm): BatchNorm2d(512, eps=1e-05, momentum=0.1, affine=True, track_running_stats=True)\n",
              "      (relu): ReLU(inplace=True)\n",
              "    )\n",
              "    (avpool_2): AdaptiveAvgPool2d(output_size=3)\n",
              "    (cbr_2): conv2DBatchNormRelu(\n",
              "      (conv): Conv2d(2048, 512, kernel_size=(1, 1), stride=(1, 1), bias=False)\n",
              "      (batchnorm): BatchNorm2d(512, eps=1e-05, momentum=0.1, affine=True, track_running_stats=True)\n",
              "      (relu): ReLU(inplace=True)\n",
              "    )\n",
              "    (avpool_3): AdaptiveAvgPool2d(output_size=2)\n",
              "    (cbr_3): conv2DBatchNormRelu(\n",
              "      (conv): Conv2d(2048, 512, kernel_size=(1, 1), stride=(1, 1), bias=False)\n",
              "      (batchnorm): BatchNorm2d(512, eps=1e-05, momentum=0.1, affine=True, track_running_stats=True)\n",
              "      (relu): ReLU(inplace=True)\n",
              "    )\n",
              "    (avpool_4): AdaptiveAvgPool2d(output_size=1)\n",
              "    (cbr_4): conv2DBatchNormRelu(\n",
              "      (conv): Conv2d(2048, 512, kernel_size=(1, 1), stride=(1, 1), bias=False)\n",
              "      (batchnorm): BatchNorm2d(512, eps=1e-05, momentum=0.1, affine=True, track_running_stats=True)\n",
              "      (relu): ReLU(inplace=True)\n",
              "    )\n",
              "  )\n",
              "  (decode_feature): DecodePSPFeature(\n",
              "    (cbr): conv2DBatchNormRelu(\n",
              "      (conv): Conv2d(4096, 512, kernel_size=(3, 3), stride=(1, 1), padding=(1, 1), bias=False)\n",
              "      (batchnorm): BatchNorm2d(512, eps=1e-05, momentum=0.1, affine=True, track_running_stats=True)\n",
              "      (relu): ReLU(inplace=True)\n",
              "    )\n",
              "    (dropout): Dropout2d(p=0.1, inplace=False)\n",
              "    (classification): Conv2d(512, 3, kernel_size=(1, 1), stride=(1, 1))\n",
              "  )\n",
              "  (aux): AuxiliaryPSPlayers(\n",
              "    (cbr): conv2DBatchNormRelu(\n",
              "      (conv): Conv2d(1024, 256, kernel_size=(3, 3), stride=(1, 1), padding=(1, 1), bias=False)\n",
              "      (batchnorm): BatchNorm2d(256, eps=1e-05, momentum=0.1, affine=True, track_running_stats=True)\n",
              "      (relu): ReLU(inplace=True)\n",
              "    )\n",
              "    (dropout): Dropout2d(p=0.1, inplace=False)\n",
              "    (classification): Conv2d(256, 3, kernel_size=(1, 1), stride=(1, 1))\n",
              "  )\n",
              ")"
            ]
          },
          "execution_count": 86,
          "metadata": {},
          "output_type": "execute_result"
        }
      ],
      "source": [
        "num_epochs = 35\n",
        "psp_net = PSPNet(n_classes = 3)\n",
        "psp_net.load_state_dict(torch.load('/content/drive/MyDrive/2022/LungSegmentation/PSPNet/learnable_hd_pspnet50_10.pth',map_location = 'cuda:0'))#{'cuda:0':'cpu'}))\n",
        "psp_net.cuda()"
      ]
    },
    {
      "cell_type": "code",
      "execution_count": null,
      "metadata": {
        "colab": {
          "base_uri": "https://localhost:8080/",
          "height": 1000
        },
        "id": "0XE9SpwLqidq",
        "outputId": "6f6a4c27-07a9-4997-d829-73dfecf447c9"
      },
      "outputs": [
        {
          "name": "stdout",
          "output_type": "stream",
          "text": [
            "-------------\n",
            "Epoch 1/30\n",
            "-------------\n",
            "（train）\n"
          ]
        },
        {
          "name": "stderr",
          "output_type": "stream",
          "text": [
            "/usr/local/lib/python3.7/dist-packages/torch/optim/lr_scheduler.py:134: UserWarning: Detected call of `lr_scheduler.step()` before `optimizer.step()`. In PyTorch 1.1.0 and later, you should call them in the opposite order: `optimizer.step()` before `lr_scheduler.step()`.  Failure to do this will result in PyTorch skipping the first value of the learning rate schedule. See more details at https://pytorch.org/docs/stable/optim.html#how-to-adjust-learning-rate\n",
            "  \"https://pytorch.org/docs/stable/optim.html#how-to-adjust-learning-rate\", UserWarning)\n",
            "/usr/local/lib/python3.7/dist-packages/ipykernel_launcher.py:25: DeprecationWarning: `np.bool` is a deprecated alias for the builtin `bool`. To silence this warning, use `bool` by itself. Doing this will not modify any behavior and is safe. If you specifically wanted the numpy scalar type, use `np.bool_` here.\n",
            "Deprecated in NumPy 1.20; for more details and guidance: https://numpy.org/devdocs/release/1.20.0-notes.html#deprecations\n"
          ]
        },
        {
          "name": "stdout",
          "output_type": "stream",
          "text": [
            "iteration 10 || Loss: -0.5442 || 10iter: 21.4676 sec.\n",
            "iteration 20 || Loss: -0.5436 || 10iter: 14.9226 sec.\n",
            "iteration 30 || Loss: -1.0423 || 10iter: 14.9151 sec.\n",
            "iteration 40 || Loss: -1.0180 || 10iter: 13.2107 sec.\n",
            "iteration 50 || Loss: -1.1915 || 10iter: 13.8204 sec.\n",
            "iteration 60 || Loss: -1.2362 || 10iter: 14.5338 sec.\n",
            "iteration 70 || Loss: -0.6924 || 10iter: 12.8887 sec.\n",
            "iteration 80 || Loss: -0.8037 || 10iter: 12.8009 sec.\n",
            "iteration 90 || Loss: -1.1270 || 10iter: 13.0255 sec.\n",
            "iteration 100 || Loss: -1.0507 || 10iter: 13.0213 sec.\n",
            "iteration 110 || Loss: -0.6610 || 10iter: 12.4277 sec.\n",
            "iteration 120 || Loss: -0.9415 || 10iter: 10.6230 sec.\n",
            "iteration 130 || Loss: -0.5842 || 10iter: 11.7653 sec.\n",
            "iteration 140 || Loss: -0.8149 || 10iter: 12.0185 sec.\n",
            "iteration 150 || Loss: -0.9805 || 10iter: 12.0550 sec.\n",
            "iteration 160 || Loss: -1.0721 || 10iter: 11.0954 sec.\n",
            "iteration 170 || Loss: -1.0403 || 10iter: 11.2483 sec.\n",
            "iteration 180 || Loss: -0.8320 || 10iter: 10.7302 sec.\n",
            "iteration 190 || Loss: -1.1200 || 10iter: 11.2305 sec.\n",
            "iteration 200 || Loss: -1.0684 || 10iter: 10.6700 sec.\n",
            "iteration 210 || Loss: -0.8577 || 10iter: 11.0143 sec.\n",
            "iteration 220 || Loss: -0.8158 || 10iter: 9.5247 sec.\n",
            "iteration 230 || Loss: -0.8353 || 10iter: 9.8930 sec.\n",
            "iteration 240 || Loss: -0.6269 || 10iter: 9.6245 sec.\n",
            "iteration 250 || Loss: -0.5649 || 10iter: 10.2708 sec.\n",
            "iteration 260 || Loss: -0.9188 || 10iter: 10.0378 sec.\n",
            "-------------\n",
            "epoch 1 || Epoch_TRAIN_Loss:-0.8621 ||Epoch_VAL_Loss:0.0000\n",
            "timer:  328.7565 sec.\n",
            "-------------\n",
            "Epoch 2/30\n",
            "-------------\n",
            "（train）\n",
            "iteration 270 || Loss: -0.9437 || 10iter: 3.4364 sec.\n",
            "iteration 280 || Loss: -0.9224 || 10iter: 6.8465 sec.\n",
            "iteration 290 || Loss: -0.5708 || 10iter: 6.8424 sec.\n",
            "iteration 300 || Loss: -1.2111 || 10iter: 6.8798 sec.\n",
            "iteration 310 || Loss: -0.9180 || 10iter: 6.8808 sec.\n",
            "iteration 320 || Loss: -0.5683 || 10iter: 6.8300 sec.\n",
            "iteration 330 || Loss: -0.7672 || 10iter: 6.8406 sec.\n",
            "iteration 340 || Loss: -0.6167 || 10iter: 6.8683 sec.\n",
            "iteration 350 || Loss: -0.8180 || 10iter: 6.8673 sec.\n",
            "iteration 360 || Loss: -1.0280 || 10iter: 6.8480 sec.\n",
            "iteration 370 || Loss: -0.8346 || 10iter: 6.8496 sec.\n",
            "iteration 380 || Loss: -0.8024 || 10iter: 6.8523 sec.\n",
            "iteration 390 || Loss: -0.8831 || 10iter: 6.8381 sec.\n",
            "iteration 400 || Loss: -0.6954 || 10iter: 6.8633 sec.\n",
            "iteration 410 || Loss: -0.6545 || 10iter: 6.8544 sec.\n",
            "iteration 420 || Loss: -0.6476 || 10iter: 6.8413 sec.\n",
            "iteration 430 || Loss: -0.7413 || 10iter: 6.8772 sec.\n",
            "iteration 440 || Loss: -1.1521 || 10iter: 6.8725 sec.\n",
            "iteration 450 || Loss: -1.1677 || 10iter: 6.8604 sec.\n",
            "iteration 460 || Loss: -0.9050 || 10iter: 6.8872 sec.\n",
            "iteration 470 || Loss: -0.6064 || 10iter: 6.8571 sec.\n",
            "iteration 480 || Loss: -1.5480 || 10iter: 6.8929 sec.\n",
            "iteration 490 || Loss: -0.6584 || 10iter: 6.8852 sec.\n",
            "iteration 500 || Loss: -0.9938 || 10iter: 6.8747 sec.\n",
            "iteration 510 || Loss: -0.9539 || 10iter: 6.8570 sec.\n",
            "iteration 520 || Loss: -0.8516 || 10iter: 6.8653 sec.\n",
            "iteration 530 || Loss: -0.8887 || 10iter: 6.6398 sec.\n",
            "-------------\n",
            "epoch 2 || Epoch_TRAIN_Loss:-0.8617 ||Epoch_VAL_Loss:0.0000\n",
            "timer:  181.6163 sec.\n",
            "-------------\n",
            "Epoch 3/30\n",
            "-------------\n",
            "（train）\n",
            "iteration 540 || Loss: -0.9552 || 10iter: 6.8777 sec.\n",
            "iteration 550 || Loss: -0.7969 || 10iter: 6.8476 sec.\n",
            "iteration 560 || Loss: -1.0809 || 10iter: 6.8645 sec.\n",
            "iteration 570 || Loss: -0.8564 || 10iter: 6.8661 sec.\n",
            "iteration 580 || Loss: -0.7990 || 10iter: 6.8607 sec.\n",
            "iteration 590 || Loss: -0.7159 || 10iter: 6.8822 sec.\n",
            "iteration 600 || Loss: -0.8281 || 10iter: 6.8396 sec.\n",
            "iteration 610 || Loss: -1.1540 || 10iter: 6.8771 sec.\n",
            "iteration 620 || Loss: -1.1673 || 10iter: 6.8648 sec.\n",
            "iteration 630 || Loss: -0.8823 || 10iter: 6.8524 sec.\n",
            "iteration 640 || Loss: -1.0059 || 10iter: 6.8683 sec.\n",
            "iteration 650 || Loss: -1.0056 || 10iter: 6.8484 sec.\n",
            "iteration 660 || Loss: -1.0960 || 10iter: 6.8681 sec.\n",
            "iteration 670 || Loss: -0.9121 || 10iter: 6.8753 sec.\n",
            "iteration 680 || Loss: -1.4991 || 10iter: 6.9007 sec.\n",
            "iteration 690 || Loss: -0.9769 || 10iter: 6.9029 sec.\n",
            "iteration 700 || Loss: -0.8749 || 10iter: 6.8565 sec.\n",
            "iteration 710 || Loss: -0.6084 || 10iter: 6.8435 sec.\n",
            "iteration 720 || Loss: -0.8242 || 10iter: 6.8864 sec.\n",
            "iteration 730 || Loss: -1.4248 || 10iter: 6.8512 sec.\n",
            "iteration 740 || Loss: -0.8874 || 10iter: 6.8536 sec.\n",
            "iteration 750 || Loss: -0.7547 || 10iter: 6.8688 sec.\n",
            "iteration 760 || Loss: -0.8854 || 10iter: 6.8752 sec.\n",
            "iteration 770 || Loss: -0.6300 || 10iter: 6.8647 sec.\n",
            "iteration 780 || Loss: -1.3270 || 10iter: 6.8592 sec.\n",
            "iteration 790 || Loss: -0.2250 || 10iter: 6.8576 sec.\n",
            "-------------\n",
            "epoch 3 || Epoch_TRAIN_Loss:-0.8616 ||Epoch_VAL_Loss:0.0000\n",
            "timer:  181.7222 sec.\n",
            "-------------\n",
            "Epoch 4/30\n",
            "-------------\n",
            "（train）\n",
            "iteration 800 || Loss: -0.8096 || 10iter: 3.4153 sec.\n",
            "iteration 810 || Loss: -0.9450 || 10iter: 6.8595 sec.\n",
            "iteration 820 || Loss: -0.7087 || 10iter: 6.8451 sec.\n",
            "iteration 830 || Loss: -1.0741 || 10iter: 6.8864 sec.\n",
            "iteration 840 || Loss: -0.8921 || 10iter: 6.8762 sec.\n",
            "iteration 850 || Loss: -0.6871 || 10iter: 6.8653 sec.\n",
            "iteration 860 || Loss: -0.9596 || 10iter: 6.8452 sec.\n",
            "iteration 870 || Loss: -0.7617 || 10iter: 6.8770 sec.\n",
            "iteration 880 || Loss: -0.7919 || 10iter: 6.8521 sec.\n",
            "iteration 890 || Loss: -0.8377 || 10iter: 6.8262 sec.\n",
            "iteration 900 || Loss: -0.8785 || 10iter: 6.8836 sec.\n",
            "iteration 910 || Loss: -0.7492 || 10iter: 6.8742 sec.\n",
            "iteration 920 || Loss: -0.8214 || 10iter: 6.8439 sec.\n",
            "iteration 930 || Loss: -1.0840 || 10iter: 6.8251 sec.\n",
            "iteration 940 || Loss: -0.8312 || 10iter: 6.8704 sec.\n",
            "iteration 950 || Loss: -1.0299 || 10iter: 6.8531 sec.\n",
            "iteration 960 || Loss: -0.8083 || 10iter: 6.8681 sec.\n",
            "iteration 970 || Loss: -1.1179 || 10iter: 6.8600 sec.\n",
            "iteration 980 || Loss: -0.9526 || 10iter: 6.8444 sec.\n",
            "iteration 990 || Loss: -0.8010 || 10iter: 6.8746 sec.\n",
            "iteration 1000 || Loss: -0.9822 || 10iter: 6.8486 sec.\n",
            "iteration 1010 || Loss: -0.7696 || 10iter: 6.8635 sec.\n",
            "iteration 1020 || Loss: -0.4734 || 10iter: 6.8554 sec.\n",
            "iteration 1030 || Loss: -0.5200 || 10iter: 6.8597 sec.\n",
            "iteration 1040 || Loss: -0.7618 || 10iter: 6.8922 sec.\n",
            "iteration 1050 || Loss: -0.9467 || 10iter: 6.8615 sec.\n",
            "iteration 1060 || Loss: -1.0950 || 10iter: 6.6536 sec.\n",
            "-------------\n",
            "epoch 4 || Epoch_TRAIN_Loss:-0.8610 ||Epoch_VAL_Loss:0.0000\n",
            "timer:  181.5875 sec.\n",
            "-------------\n",
            "Epoch 5/30\n",
            "-------------\n",
            "（train）\n",
            "iteration 1070 || Loss: -1.1625 || 10iter: 6.8569 sec.\n",
            "iteration 1080 || Loss: -1.0900 || 10iter: 6.8846 sec.\n",
            "iteration 1090 || Loss: -1.2155 || 10iter: 6.8394 sec.\n",
            "iteration 1100 || Loss: -0.7610 || 10iter: 6.8535 sec.\n",
            "iteration 1110 || Loss: -0.9589 || 10iter: 6.8421 sec.\n",
            "iteration 1120 || Loss: -0.9324 || 10iter: 6.8588 sec.\n",
            "iteration 1130 || Loss: -0.5578 || 10iter: 6.8610 sec.\n",
            "iteration 1140 || Loss: -0.9438 || 10iter: 6.8524 sec.\n",
            "iteration 1150 || Loss: -1.0038 || 10iter: 6.8465 sec.\n",
            "iteration 1160 || Loss: -1.0316 || 10iter: 6.8422 sec.\n",
            "iteration 1170 || Loss: -0.7685 || 10iter: 6.8343 sec.\n",
            "iteration 1180 || Loss: -0.6800 || 10iter: 6.8881 sec.\n",
            "iteration 1190 || Loss: -0.8572 || 10iter: 6.8660 sec.\n",
            "iteration 1200 || Loss: -0.9116 || 10iter: 6.8550 sec.\n",
            "iteration 1210 || Loss: -1.0446 || 10iter: 6.8704 sec.\n",
            "iteration 1220 || Loss: -0.7741 || 10iter: 6.8697 sec.\n",
            "iteration 1230 || Loss: -0.7115 || 10iter: 6.8677 sec.\n",
            "iteration 1240 || Loss: -0.7861 || 10iter: 6.8623 sec.\n",
            "iteration 1250 || Loss: -0.6250 || 10iter: 6.8723 sec.\n",
            "iteration 1260 || Loss: -0.8209 || 10iter: 6.8759 sec.\n",
            "iteration 1270 || Loss: -0.9409 || 10iter: 6.8754 sec.\n",
            "iteration 1280 || Loss: -0.8590 || 10iter: 6.8783 sec.\n",
            "iteration 1290 || Loss: -1.0274 || 10iter: 6.8832 sec.\n",
            "iteration 1300 || Loss: -0.9181 || 10iter: 6.8927 sec.\n",
            "iteration 1310 || Loss: -0.9930 || 10iter: 6.8893 sec.\n",
            "iteration 1320 || Loss: -1.0279 || 10iter: 6.8695 sec.\n",
            "-------------\n",
            "（val）\n",
            "-------------\n",
            "epoch 5 || Epoch_TRAIN_Loss:-0.8606 ||Epoch_VAL_Loss:-0.9219\n",
            "timer:  232.4954 sec.\n",
            "-------------\n",
            "Epoch 6/30\n",
            "-------------\n",
            "（train）\n",
            "iteration 1330 || Loss: -0.8484 || 10iter: 3.5333 sec.\n",
            "iteration 1340 || Loss: -0.7754 || 10iter: 6.8937 sec.\n",
            "iteration 1350 || Loss: -0.8268 || 10iter: 6.8628 sec.\n",
            "iteration 1360 || Loss: -0.7605 || 10iter: 6.8839 sec.\n",
            "iteration 1370 || Loss: -1.0433 || 10iter: 6.8657 sec.\n",
            "iteration 1380 || Loss: -0.6913 || 10iter: 6.8559 sec.\n",
            "iteration 1390 || Loss: -1.0406 || 10iter: 6.8471 sec.\n",
            "iteration 1400 || Loss: -0.7649 || 10iter: 6.8706 sec.\n",
            "iteration 1410 || Loss: -0.5383 || 10iter: 6.9005 sec.\n",
            "iteration 1420 || Loss: -0.7493 || 10iter: 6.8809 sec.\n",
            "iteration 1430 || Loss: -1.2091 || 10iter: 6.8635 sec.\n",
            "iteration 1440 || Loss: -1.0029 || 10iter: 6.8680 sec.\n",
            "iteration 1450 || Loss: -0.7318 || 10iter: 6.8980 sec.\n",
            "iteration 1460 || Loss: -0.7857 || 10iter: 6.8719 sec.\n",
            "iteration 1470 || Loss: -0.8313 || 10iter: 6.8635 sec.\n",
            "iteration 1480 || Loss: -1.2845 || 10iter: 6.8853 sec.\n",
            "iteration 1490 || Loss: -0.8450 || 10iter: 6.8542 sec.\n",
            "iteration 1500 || Loss: -0.6618 || 10iter: 6.8810 sec.\n",
            "iteration 1510 || Loss: -0.6428 || 10iter: 6.8564 sec.\n",
            "iteration 1520 || Loss: -0.7634 || 10iter: 6.8660 sec.\n",
            "iteration 1530 || Loss: -0.6539 || 10iter: 6.8882 sec.\n",
            "iteration 1540 || Loss: -0.6281 || 10iter: 6.8892 sec.\n",
            "iteration 1550 || Loss: -0.9316 || 10iter: 6.8885 sec.\n",
            "iteration 1560 || Loss: -1.0205 || 10iter: 6.8793 sec.\n",
            "iteration 1570 || Loss: -0.9666 || 10iter: 6.8715 sec.\n",
            "iteration 1580 || Loss: -1.1343 || 10iter: 6.8947 sec.\n",
            "iteration 1590 || Loss: -0.6842 || 10iter: 6.6437 sec.\n",
            "-------------\n",
            "epoch 6 || Epoch_TRAIN_Loss:-0.8626 ||Epoch_VAL_Loss:0.0000\n",
            "timer:  182.0641 sec.\n",
            "-------------\n",
            "Epoch 7/30\n",
            "-------------\n",
            "（train）\n",
            "iteration 1600 || Loss: -0.8785 || 10iter: 6.8688 sec.\n",
            "iteration 1610 || Loss: -0.7725 || 10iter: 6.8700 sec.\n",
            "iteration 1620 || Loss: -0.3717 || 10iter: 6.8447 sec.\n",
            "iteration 1630 || Loss: -0.7952 || 10iter: 6.8562 sec.\n",
            "iteration 1640 || Loss: -0.7606 || 10iter: 6.8562 sec.\n",
            "iteration 1650 || Loss: -1.0262 || 10iter: 6.8726 sec.\n",
            "iteration 1660 || Loss: -1.1055 || 10iter: 6.8512 sec.\n",
            "iteration 1670 || Loss: -1.1194 || 10iter: 6.8680 sec.\n",
            "iteration 1680 || Loss: -0.7906 || 10iter: 6.8671 sec.\n",
            "iteration 1690 || Loss: -0.7276 || 10iter: 6.8444 sec.\n",
            "iteration 1700 || Loss: -1.1067 || 10iter: 6.8802 sec.\n",
            "iteration 1710 || Loss: -0.8800 || 10iter: 6.8815 sec.\n",
            "iteration 1720 || Loss: -1.0218 || 10iter: 6.8991 sec.\n",
            "iteration 1730 || Loss: -0.9801 || 10iter: 6.8580 sec.\n",
            "iteration 1740 || Loss: -0.7970 || 10iter: 6.8509 sec.\n",
            "iteration 1750 || Loss: -0.9703 || 10iter: 6.8577 sec.\n",
            "iteration 1760 || Loss: -1.0701 || 10iter: 6.8812 sec.\n",
            "iteration 1770 || Loss: -0.6963 || 10iter: 6.8326 sec.\n",
            "iteration 1780 || Loss: -0.6133 || 10iter: 6.8388 sec.\n",
            "iteration 1790 || Loss: -1.0163 || 10iter: 6.8498 sec.\n",
            "iteration 1800 || Loss: -0.7062 || 10iter: 6.8529 sec.\n",
            "iteration 1810 || Loss: -0.9943 || 10iter: 6.8662 sec.\n",
            "iteration 1820 || Loss: -1.2571 || 10iter: 6.8716 sec.\n",
            "iteration 1830 || Loss: -0.8158 || 10iter: 6.8860 sec.\n",
            "iteration 1840 || Loss: -0.7414 || 10iter: 6.8609 sec.\n",
            "iteration 1850 || Loss: -0.5602 || 10iter: 6.8996 sec.\n",
            "-------------\n",
            "epoch 7 || Epoch_TRAIN_Loss:-0.8591 ||Epoch_VAL_Loss:0.0000\n",
            "timer:  181.6981 sec.\n",
            "-------------\n",
            "Epoch 8/30\n",
            "-------------\n",
            "（train）\n",
            "iteration 1860 || Loss: -0.7966 || 10iter: 3.4444 sec.\n",
            "iteration 1870 || Loss: -0.6669 || 10iter: 6.8866 sec.\n",
            "iteration 1880 || Loss: -0.5728 || 10iter: 6.8732 sec.\n",
            "iteration 1890 || Loss: -1.0175 || 10iter: 6.8768 sec.\n",
            "iteration 1900 || Loss: -0.8515 || 10iter: 6.8718 sec.\n",
            "iteration 1910 || Loss: -0.6419 || 10iter: 6.8620 sec.\n",
            "iteration 1920 || Loss: -1.0463 || 10iter: 6.8583 sec.\n",
            "iteration 1930 || Loss: -0.7372 || 10iter: 6.8677 sec.\n",
            "iteration 1940 || Loss: -1.0211 || 10iter: 6.9013 sec.\n",
            "iteration 1950 || Loss: -0.8383 || 10iter: 6.8660 sec.\n",
            "iteration 1960 || Loss: -0.9582 || 10iter: 6.8596 sec.\n",
            "iteration 1970 || Loss: -1.1692 || 10iter: 6.8605 sec.\n",
            "iteration 1980 || Loss: -1.0856 || 10iter: 6.8597 sec.\n",
            "iteration 1990 || Loss: -0.7178 || 10iter: 6.8552 sec.\n",
            "iteration 2000 || Loss: -0.6425 || 10iter: 6.8829 sec.\n",
            "iteration 2010 || Loss: -0.9569 || 10iter: 6.8721 sec.\n",
            "iteration 2020 || Loss: -1.0505 || 10iter: 6.8604 sec.\n",
            "iteration 2030 || Loss: -0.7486 || 10iter: 6.8754 sec.\n",
            "iteration 2040 || Loss: -0.5428 || 10iter: 6.8967 sec.\n",
            "iteration 2050 || Loss: -1.0772 || 10iter: 6.8506 sec.\n",
            "iteration 2060 || Loss: -0.8144 || 10iter: 6.9307 sec.\n",
            "iteration 2070 || Loss: -0.9167 || 10iter: 6.9022 sec.\n",
            "iteration 2080 || Loss: -0.7345 || 10iter: 6.8791 sec.\n",
            "iteration 2090 || Loss: -0.8889 || 10iter: 6.9083 sec.\n",
            "iteration 2100 || Loss: -1.1255 || 10iter: 6.8791 sec.\n",
            "iteration 2110 || Loss: -1.0116 || 10iter: 6.8616 sec.\n",
            "iteration 2120 || Loss: -0.9358 || 10iter: 6.6532 sec.\n",
            "-------------\n",
            "epoch 8 || Epoch_TRAIN_Loss:-0.8608 ||Epoch_VAL_Loss:0.0000\n",
            "timer:  182.0054 sec.\n",
            "-------------\n",
            "Epoch 9/30\n",
            "-------------\n",
            "（train）\n",
            "iteration 2130 || Loss: -0.7765 || 10iter: 6.8841 sec.\n",
            "iteration 2140 || Loss: -0.7845 || 10iter: 6.8931 sec.\n",
            "iteration 2150 || Loss: -0.9550 || 10iter: 6.8881 sec.\n",
            "iteration 2160 || Loss: -0.9919 || 10iter: 6.8649 sec.\n",
            "iteration 2170 || Loss: -0.4573 || 10iter: 6.8740 sec.\n",
            "iteration 2180 || Loss: -1.0372 || 10iter: 6.8559 sec.\n",
            "iteration 2190 || Loss: -0.8148 || 10iter: 6.8346 sec.\n",
            "iteration 2200 || Loss: -0.8368 || 10iter: 6.8574 sec.\n",
            "iteration 2210 || Loss: -0.9463 || 10iter: 6.8432 sec.\n",
            "iteration 2220 || Loss: -0.7366 || 10iter: 6.8754 sec.\n",
            "iteration 2230 || Loss: -1.0407 || 10iter: 6.8422 sec.\n",
            "iteration 2240 || Loss: -0.7510 || 10iter: 6.8478 sec.\n",
            "iteration 2250 || Loss: -1.0140 || 10iter: 6.8581 sec.\n",
            "iteration 2260 || Loss: -0.8793 || 10iter: 6.8781 sec.\n",
            "iteration 2270 || Loss: -0.6355 || 10iter: 6.8933 sec.\n",
            "iteration 2280 || Loss: -0.6603 || 10iter: 6.8652 sec.\n",
            "iteration 2290 || Loss: -0.9249 || 10iter: 6.8686 sec.\n",
            "iteration 2300 || Loss: -0.9587 || 10iter: 6.8749 sec.\n",
            "iteration 2310 || Loss: -0.7721 || 10iter: 6.8696 sec.\n",
            "iteration 2320 || Loss: -0.9980 || 10iter: 6.8873 sec.\n",
            "iteration 2330 || Loss: -1.0466 || 10iter: 6.8899 sec.\n",
            "iteration 2340 || Loss: -0.5469 || 10iter: 6.8834 sec.\n",
            "iteration 2350 || Loss: -0.9631 || 10iter: 6.8832 sec.\n",
            "iteration 2360 || Loss: -0.9296 || 10iter: 6.8497 sec.\n",
            "iteration 2370 || Loss: -1.0704 || 10iter: 6.8562 sec.\n",
            "iteration 2380 || Loss: -1.0003 || 10iter: 6.8479 sec.\n",
            "-------------\n",
            "epoch 9 || Epoch_TRAIN_Loss:-0.8614 ||Epoch_VAL_Loss:0.0000\n",
            "timer:  181.8057 sec.\n",
            "-------------\n",
            "Epoch 10/30\n",
            "-------------\n",
            "（train）\n",
            "iteration 2390 || Loss: -0.7377 || 10iter: 3.4611 sec.\n",
            "iteration 2400 || Loss: -0.9117 || 10iter: 6.8547 sec.\n",
            "iteration 2410 || Loss: -0.8314 || 10iter: 6.8553 sec.\n",
            "iteration 2420 || Loss: -0.7633 || 10iter: 6.8876 sec.\n",
            "iteration 2430 || Loss: -1.0844 || 10iter: 6.8842 sec.\n",
            "iteration 2440 || Loss: -1.2659 || 10iter: 6.8675 sec.\n",
            "iteration 2450 || Loss: -1.0694 || 10iter: 6.8626 sec.\n",
            "iteration 2460 || Loss: -1.2141 || 10iter: 6.8620 sec.\n",
            "iteration 2470 || Loss: -1.3153 || 10iter: 6.8649 sec.\n",
            "iteration 2480 || Loss: -0.8812 || 10iter: 6.8464 sec.\n",
            "iteration 2490 || Loss: -0.4887 || 10iter: 6.8659 sec.\n",
            "iteration 2500 || Loss: -0.9048 || 10iter: 6.8655 sec.\n",
            "iteration 2510 || Loss: -0.9623 || 10iter: 6.8478 sec.\n",
            "iteration 2520 || Loss: -0.9203 || 10iter: 6.8516 sec.\n",
            "iteration 2530 || Loss: -1.0815 || 10iter: 6.8637 sec.\n",
            "iteration 2540 || Loss: -1.0553 || 10iter: 6.8687 sec.\n",
            "iteration 2550 || Loss: -0.6859 || 10iter: 6.8546 sec.\n",
            "iteration 2560 || Loss: -0.6196 || 10iter: 6.8664 sec.\n",
            "iteration 2570 || Loss: -1.3319 || 10iter: 6.8572 sec.\n",
            "iteration 2580 || Loss: -0.7915 || 10iter: 6.8652 sec.\n",
            "iteration 2590 || Loss: -0.5974 || 10iter: 6.8599 sec.\n",
            "iteration 2600 || Loss: -0.4412 || 10iter: 6.8503 sec.\n",
            "iteration 2610 || Loss: -0.8847 || 10iter: 6.8736 sec.\n",
            "iteration 2620 || Loss: -0.8772 || 10iter: 6.8555 sec.\n",
            "iteration 2630 || Loss: -1.0260 || 10iter: 6.8723 sec.\n",
            "iteration 2640 || Loss: -1.0301 || 10iter: 6.8586 sec.\n",
            "iteration 2650 || Loss: -0.7746 || 10iter: 6.6418 sec.\n",
            "-------------\n",
            "（val）\n",
            "-------------\n",
            "epoch 10 || Epoch_TRAIN_Loss:-0.8606 ||Epoch_VAL_Loss:-0.9200\n",
            "timer:  201.8966 sec.\n",
            "-------------\n",
            "Epoch 11/30\n",
            "-------------\n",
            "（train）\n",
            "iteration 2660 || Loss: -0.8195 || 10iter: 6.9658 sec.\n",
            "iteration 2670 || Loss: -0.8663 || 10iter: 6.8920 sec.\n",
            "iteration 2680 || Loss: -1.2377 || 10iter: 6.8808 sec.\n",
            "iteration 2690 || Loss: -0.6250 || 10iter: 6.8467 sec.\n",
            "iteration 2700 || Loss: -0.8922 || 10iter: 6.8346 sec.\n",
            "iteration 2710 || Loss: -1.1749 || 10iter: 6.8851 sec.\n",
            "iteration 2720 || Loss: -1.3244 || 10iter: 6.8671 sec.\n",
            "iteration 2730 || Loss: -0.9155 || 10iter: 6.9052 sec.\n",
            "iteration 2740 || Loss: -0.6751 || 10iter: 6.9061 sec.\n",
            "iteration 2750 || Loss: -1.1454 || 10iter: 6.8790 sec.\n",
            "iteration 2760 || Loss: -0.7217 || 10iter: 6.8815 sec.\n",
            "iteration 2770 || Loss: -1.3377 || 10iter: 6.8613 sec.\n",
            "iteration 2780 || Loss: -1.1325 || 10iter: 6.8769 sec.\n",
            "iteration 2790 || Loss: -1.0396 || 10iter: 6.8712 sec.\n",
            "iteration 2800 || Loss: -0.8305 || 10iter: 6.8785 sec.\n",
            "iteration 2810 || Loss: -0.8782 || 10iter: 6.8654 sec.\n",
            "iteration 2820 || Loss: -1.0618 || 10iter: 6.8781 sec.\n",
            "iteration 2830 || Loss: -1.0327 || 10iter: 6.8595 sec.\n",
            "iteration 2840 || Loss: -0.6364 || 10iter: 6.8713 sec.\n",
            "iteration 2850 || Loss: -0.5540 || 10iter: 6.8684 sec.\n",
            "iteration 2860 || Loss: -1.1759 || 10iter: 6.8862 sec.\n",
            "iteration 2870 || Loss: -0.7744 || 10iter: 6.8581 sec.\n",
            "iteration 2880 || Loss: -0.8413 || 10iter: 6.8658 sec.\n",
            "iteration 2890 || Loss: -0.9600 || 10iter: 6.8653 sec.\n",
            "iteration 2900 || Loss: -1.1208 || 10iter: 6.8308 sec.\n",
            "iteration 2910 || Loss: -0.7989 || 10iter: 6.8491 sec.\n",
            "-------------\n",
            "epoch 11 || Epoch_TRAIN_Loss:-0.8638 ||Epoch_VAL_Loss:0.0000\n",
            "timer:  181.9686 sec.\n",
            "-------------\n",
            "Epoch 12/30\n",
            "-------------\n",
            "（train）\n",
            "iteration 2920 || Loss: -0.8440 || 10iter: 3.4290 sec.\n",
            "iteration 2930 || Loss: -0.9724 || 10iter: 6.8686 sec.\n",
            "iteration 2940 || Loss: -0.5068 || 10iter: 6.8555 sec.\n",
            "iteration 2950 || Loss: -0.7014 || 10iter: 6.8765 sec.\n",
            "iteration 2960 || Loss: -0.7585 || 10iter: 6.8555 sec.\n",
            "iteration 2970 || Loss: -0.6600 || 10iter: 6.8998 sec.\n",
            "iteration 2980 || Loss: -1.2261 || 10iter: 6.8930 sec.\n",
            "iteration 2990 || Loss: -0.8992 || 10iter: 6.8646 sec.\n",
            "iteration 3000 || Loss: -0.7525 || 10iter: 6.8764 sec.\n",
            "iteration 3010 || Loss: -0.8608 || 10iter: 6.8511 sec.\n",
            "iteration 3020 || Loss: -0.9317 || 10iter: 6.8685 sec.\n",
            "iteration 3030 || Loss: -0.7951 || 10iter: 6.8888 sec.\n",
            "iteration 3040 || Loss: -1.1277 || 10iter: 6.8550 sec.\n",
            "iteration 3050 || Loss: -0.7482 || 10iter: 6.8708 sec.\n",
            "iteration 3060 || Loss: -0.8607 || 10iter: 6.8706 sec.\n",
            "iteration 3070 || Loss: -0.8719 || 10iter: 6.8525 sec.\n",
            "iteration 3080 || Loss: -0.9557 || 10iter: 6.8603 sec.\n",
            "iteration 3090 || Loss: -0.9734 || 10iter: 6.8857 sec.\n",
            "iteration 3100 || Loss: -0.8276 || 10iter: 6.8964 sec.\n",
            "iteration 3110 || Loss: -1.0494 || 10iter: 6.8685 sec.\n",
            "iteration 3120 || Loss: -0.7507 || 10iter: 6.8754 sec.\n",
            "iteration 3130 || Loss: -0.8930 || 10iter: 6.8434 sec.\n",
            "iteration 3140 || Loss: -1.0718 || 10iter: 6.8521 sec.\n",
            "iteration 3150 || Loss: -1.0708 || 10iter: 6.8485 sec.\n",
            "iteration 3160 || Loss: -0.8310 || 10iter: 6.8578 sec.\n",
            "iteration 3170 || Loss: -0.9511 || 10iter: 6.8555 sec.\n",
            "iteration 3180 || Loss: -1.0478 || 10iter: 6.6427 sec.\n",
            "-------------\n",
            "epoch 12 || Epoch_TRAIN_Loss:-0.8620 ||Epoch_VAL_Loss:0.0000\n",
            "timer:  181.7708 sec.\n",
            "-------------\n",
            "Epoch 13/30\n",
            "-------------\n",
            "（train）\n",
            "iteration 3190 || Loss: -0.8868 || 10iter: 6.8880 sec.\n",
            "iteration 3200 || Loss: -0.7411 || 10iter: 6.9092 sec.\n",
            "iteration 3210 || Loss: -0.8499 || 10iter: 6.8885 sec.\n",
            "iteration 3220 || Loss: -1.0024 || 10iter: 6.8751 sec.\n",
            "iteration 3230 || Loss: -1.1065 || 10iter: 6.8455 sec.\n",
            "iteration 3240 || Loss: -1.3352 || 10iter: 6.8779 sec.\n",
            "iteration 3250 || Loss: -1.2248 || 10iter: 6.8548 sec.\n",
            "iteration 3260 || Loss: -0.8548 || 10iter: 6.8813 sec.\n",
            "iteration 3270 || Loss: -0.5557 || 10iter: 6.8561 sec.\n",
            "iteration 3280 || Loss: -1.0628 || 10iter: 6.8840 sec.\n",
            "iteration 3290 || Loss: -0.7186 || 10iter: 6.8763 sec.\n",
            "iteration 3300 || Loss: -0.8147 || 10iter: 6.8556 sec.\n",
            "iteration 3310 || Loss: -0.8040 || 10iter: 6.8729 sec.\n",
            "iteration 3320 || Loss: -0.5779 || 10iter: 6.8597 sec.\n",
            "iteration 3330 || Loss: -0.9687 || 10iter: 6.8666 sec.\n",
            "iteration 3340 || Loss: -0.6539 || 10iter: 6.8675 sec.\n",
            "iteration 3350 || Loss: -0.6550 || 10iter: 6.8668 sec.\n",
            "iteration 3360 || Loss: -0.8399 || 10iter: 6.8799 sec.\n",
            "iteration 3370 || Loss: -0.6060 || 10iter: 6.8701 sec.\n",
            "iteration 3380 || Loss: -1.0733 || 10iter: 6.8533 sec.\n",
            "iteration 3390 || Loss: -0.8795 || 10iter: 6.9841 sec.\n",
            "iteration 3400 || Loss: -1.0138 || 10iter: 6.8361 sec.\n",
            "iteration 3410 || Loss: -1.0069 || 10iter: 6.8699 sec.\n",
            "iteration 3420 || Loss: -0.4757 || 10iter: 6.8995 sec.\n",
            "iteration 3430 || Loss: -0.8230 || 10iter: 6.9658 sec.\n",
            "iteration 3440 || Loss: -0.9452 || 10iter: 6.9496 sec.\n",
            "-------------\n",
            "epoch 13 || Epoch_TRAIN_Loss:-0.8611 ||Epoch_VAL_Loss:0.0000\n",
            "timer:  182.1959 sec.\n",
            "-------------\n",
            "Epoch 14/30\n",
            "-------------\n",
            "（train）\n",
            "iteration 3450 || Loss: -0.8597 || 10iter: 3.4759 sec.\n",
            "iteration 3460 || Loss: -0.7489 || 10iter: 6.9468 sec.\n",
            "iteration 3470 || Loss: -1.0796 || 10iter: 6.9265 sec.\n",
            "iteration 3480 || Loss: -0.7562 || 10iter: 7.0268 sec.\n",
            "iteration 3490 || Loss: -0.6483 || 10iter: 6.8822 sec.\n",
            "iteration 3500 || Loss: -0.9567 || 10iter: 6.8427 sec.\n",
            "iteration 3510 || Loss: -0.6884 || 10iter: 6.8459 sec.\n",
            "iteration 3520 || Loss: -0.6996 || 10iter: 6.8936 sec.\n",
            "iteration 3530 || Loss: -0.8407 || 10iter: 6.8545 sec.\n",
            "iteration 3540 || Loss: -1.0053 || 10iter: 6.8598 sec.\n",
            "iteration 3550 || Loss: -0.8772 || 10iter: 6.8734 sec.\n",
            "iteration 3560 || Loss: -0.9760 || 10iter: 6.8792 sec.\n",
            "iteration 3570 || Loss: -0.7119 || 10iter: 6.8735 sec.\n",
            "iteration 3580 || Loss: -1.1175 || 10iter: 6.8858 sec.\n",
            "iteration 3590 || Loss: -1.1429 || 10iter: 6.8653 sec.\n",
            "iteration 3600 || Loss: -0.9975 || 10iter: 6.8357 sec.\n",
            "iteration 3610 || Loss: -0.8201 || 10iter: 6.8503 sec.\n",
            "iteration 3620 || Loss: -1.1323 || 10iter: 6.8695 sec.\n",
            "iteration 3630 || Loss: -1.0288 || 10iter: 6.8920 sec.\n",
            "iteration 3640 || Loss: -0.9985 || 10iter: 6.8803 sec.\n",
            "iteration 3650 || Loss: -1.0927 || 10iter: 6.8986 sec.\n",
            "iteration 3660 || Loss: -0.5972 || 10iter: 6.9114 sec.\n",
            "iteration 3670 || Loss: -0.8215 || 10iter: 6.8664 sec.\n",
            "iteration 3680 || Loss: -0.6911 || 10iter: 6.8872 sec.\n",
            "iteration 3690 || Loss: -0.7917 || 10iter: 6.8847 sec.\n",
            "iteration 3700 || Loss: -0.9942 || 10iter: 6.8638 sec.\n",
            "iteration 3710 || Loss: -0.6193 || 10iter: 6.6462 sec.\n",
            "-------------\n",
            "epoch 14 || Epoch_TRAIN_Loss:-0.8622 ||Epoch_VAL_Loss:0.0000\n",
            "timer:  182.2237 sec.\n",
            "-------------\n",
            "Epoch 15/30\n",
            "-------------\n",
            "（train）\n",
            "iteration 3720 || Loss: -1.2341 || 10iter: 6.8557 sec.\n",
            "iteration 3730 || Loss: -0.8849 || 10iter: 6.8709 sec.\n",
            "iteration 3740 || Loss: -0.7840 || 10iter: 6.8686 sec.\n",
            "iteration 3750 || Loss: -0.6261 || 10iter: 6.8534 sec.\n",
            "iteration 3760 || Loss: -1.0567 || 10iter: 6.8562 sec.\n",
            "iteration 3770 || Loss: -0.9860 || 10iter: 6.8802 sec.\n",
            "iteration 3780 || Loss: -0.7682 || 10iter: 6.8620 sec.\n",
            "iteration 3790 || Loss: -0.9836 || 10iter: 6.8781 sec.\n",
            "iteration 3800 || Loss: -1.0694 || 10iter: 6.8599 sec.\n",
            "iteration 3810 || Loss: -0.8361 || 10iter: 6.8519 sec.\n",
            "iteration 3820 || Loss: -1.1078 || 10iter: 6.8800 sec.\n",
            "iteration 3830 || Loss: -0.8204 || 10iter: 6.8424 sec.\n",
            "iteration 3840 || Loss: -1.0035 || 10iter: 6.8757 sec.\n",
            "iteration 3850 || Loss: -0.8237 || 10iter: 6.8696 sec.\n",
            "iteration 3860 || Loss: -0.9311 || 10iter: 6.8760 sec.\n",
            "iteration 3870 || Loss: -0.9490 || 10iter: 6.8846 sec.\n",
            "iteration 3880 || Loss: -0.6705 || 10iter: 6.8291 sec.\n",
            "iteration 3890 || Loss: -0.8539 || 10iter: 6.8771 sec.\n",
            "iteration 3900 || Loss: -0.9383 || 10iter: 6.8617 sec.\n",
            "iteration 3910 || Loss: -0.9780 || 10iter: 6.8507 sec.\n",
            "iteration 3920 || Loss: -0.9244 || 10iter: 6.8644 sec.\n",
            "iteration 3930 || Loss: -0.9427 || 10iter: 6.8480 sec.\n",
            "iteration 3940 || Loss: -0.7930 || 10iter: 6.9259 sec.\n",
            "iteration 3950 || Loss: -0.6270 || 10iter: 6.8504 sec.\n",
            "iteration 3960 || Loss: -0.8650 || 10iter: 6.8642 sec.\n",
            "iteration 3970 || Loss: -0.9700 || 10iter: 6.8634 sec.\n",
            "-------------\n",
            "（val）\n",
            "-------------\n",
            "epoch 15 || Epoch_TRAIN_Loss:-0.8618 ||Epoch_VAL_Loss:-0.9156\n",
            "timer:  201.9772 sec.\n",
            "-------------\n",
            "Epoch 16/30\n",
            "-------------\n",
            "（train）\n",
            "iteration 3980 || Loss: -0.9936 || 10iter: 3.4429 sec.\n",
            "iteration 3990 || Loss: -0.9886 || 10iter: 6.9004 sec.\n",
            "iteration 4000 || Loss: -0.6478 || 10iter: 6.9440 sec.\n",
            "iteration 4010 || Loss: -1.1623 || 10iter: 6.8515 sec.\n",
            "iteration 4020 || Loss: -0.6249 || 10iter: 6.8942 sec.\n",
            "iteration 4030 || Loss: -1.2445 || 10iter: 6.8687 sec.\n",
            "iteration 4040 || Loss: -0.4737 || 10iter: 6.8715 sec.\n",
            "iteration 4050 || Loss: -0.8197 || 10iter: 6.8635 sec.\n",
            "iteration 4060 || Loss: -1.0507 || 10iter: 6.8658 sec.\n",
            "iteration 4070 || Loss: -1.2412 || 10iter: 6.8996 sec.\n",
            "iteration 4080 || Loss: -1.3142 || 10iter: 6.8614 sec.\n",
            "iteration 4090 || Loss: -0.7608 || 10iter: 6.8655 sec.\n",
            "iteration 4100 || Loss: -1.0220 || 10iter: 6.8823 sec.\n",
            "iteration 4110 || Loss: -0.8149 || 10iter: 6.8701 sec.\n",
            "iteration 4120 || Loss: -0.6652 || 10iter: 6.8817 sec.\n",
            "iteration 4130 || Loss: -0.7384 || 10iter: 6.8842 sec.\n",
            "iteration 4140 || Loss: -0.6835 || 10iter: 6.8409 sec.\n",
            "iteration 4150 || Loss: -0.4843 || 10iter: 6.8691 sec.\n",
            "iteration 4160 || Loss: -1.0760 || 10iter: 6.8770 sec.\n",
            "iteration 4170 || Loss: -0.9295 || 10iter: 6.8559 sec.\n",
            "iteration 4180 || Loss: -0.6801 || 10iter: 6.8459 sec.\n",
            "iteration 4190 || Loss: -1.0306 || 10iter: 6.8722 sec.\n",
            "iteration 4200 || Loss: -1.1398 || 10iter: 6.8622 sec.\n",
            "iteration 4210 || Loss: -0.8115 || 10iter: 6.8546 sec.\n",
            "iteration 4220 || Loss: -1.0236 || 10iter: 6.8516 sec.\n",
            "iteration 4230 || Loss: -0.7883 || 10iter: 6.8576 sec.\n",
            "iteration 4240 || Loss: -0.9540 || 10iter: 6.6263 sec.\n",
            "-------------\n",
            "epoch 16 || Epoch_TRAIN_Loss:-0.8615 ||Epoch_VAL_Loss:0.0000\n",
            "timer:  181.8674 sec.\n",
            "-------------\n",
            "Epoch 17/30\n",
            "-------------\n",
            "（train）\n",
            "iteration 4250 || Loss: -1.1176 || 10iter: 6.8471 sec.\n",
            "iteration 4260 || Loss: -0.8669 || 10iter: 6.8889 sec.\n",
            "iteration 4270 || Loss: -0.8607 || 10iter: 6.8558 sec.\n",
            "iteration 4280 || Loss: -0.8209 || 10iter: 6.8979 sec.\n",
            "iteration 4290 || Loss: -0.8234 || 10iter: 6.8567 sec.\n",
            "iteration 4300 || Loss: -1.1780 || 10iter: 6.8673 sec.\n",
            "iteration 4310 || Loss: -0.9706 || 10iter: 6.8539 sec.\n",
            "iteration 4320 || Loss: -0.8807 || 10iter: 6.8287 sec.\n",
            "iteration 4330 || Loss: -0.8999 || 10iter: 6.8337 sec.\n",
            "iteration 4340 || Loss: -0.9742 || 10iter: 6.8387 sec.\n",
            "iteration 4350 || Loss: -0.8105 || 10iter: 6.8488 sec.\n",
            "iteration 4360 || Loss: -0.4623 || 10iter: 6.8283 sec.\n",
            "iteration 4370 || Loss: -1.1733 || 10iter: 6.8320 sec.\n",
            "iteration 4380 || Loss: -0.7929 || 10iter: 6.8659 sec.\n",
            "iteration 4390 || Loss: -0.8643 || 10iter: 6.8228 sec.\n",
            "iteration 4400 || Loss: -0.7021 || 10iter: 6.8187 sec.\n",
            "iteration 4410 || Loss: -0.9494 || 10iter: 6.8500 sec.\n",
            "iteration 4420 || Loss: -1.0210 || 10iter: 6.8246 sec.\n",
            "iteration 4430 || Loss: -0.8638 || 10iter: 6.8692 sec.\n",
            "iteration 4440 || Loss: -0.9032 || 10iter: 6.8301 sec.\n",
            "iteration 4450 || Loss: -0.4350 || 10iter: 6.8844 sec.\n",
            "iteration 4460 || Loss: -1.0456 || 10iter: 6.8596 sec.\n",
            "iteration 4470 || Loss: -0.9766 || 10iter: 6.8686 sec.\n",
            "iteration 4480 || Loss: -1.0611 || 10iter: 6.8491 sec.\n",
            "iteration 4490 || Loss: -0.7146 || 10iter: 6.8606 sec.\n",
            "iteration 4500 || Loss: -0.1785 || 10iter: 6.8508 sec.\n",
            "-------------\n",
            "epoch 17 || Epoch_TRAIN_Loss:-0.8612 ||Epoch_VAL_Loss:0.0000\n",
            "timer:  181.3596 sec.\n",
            "-------------\n",
            "Epoch 18/30\n",
            "-------------\n",
            "（train）\n",
            "iteration 4510 || Loss: -0.6342 || 10iter: 3.4226 sec.\n",
            "iteration 4520 || Loss: -0.6639 || 10iter: 6.8789 sec.\n",
            "iteration 4530 || Loss: -1.1130 || 10iter: 6.8562 sec.\n",
            "iteration 4540 || Loss: -0.9300 || 10iter: 6.8183 sec.\n",
            "iteration 4550 || Loss: -0.8784 || 10iter: 6.8370 sec.\n",
            "iteration 4560 || Loss: -0.8615 || 10iter: 6.8408 sec.\n",
            "iteration 4570 || Loss: -0.8306 || 10iter: 6.8528 sec.\n",
            "iteration 4580 || Loss: -0.9472 || 10iter: 6.8580 sec.\n",
            "iteration 4590 || Loss: -1.0018 || 10iter: 6.8444 sec.\n",
            "iteration 4600 || Loss: -0.9058 || 10iter: 6.8427 sec.\n",
            "iteration 4610 || Loss: -1.0628 || 10iter: 6.8437 sec.\n",
            "iteration 4620 || Loss: -0.6624 || 10iter: 6.8108 sec.\n",
            "iteration 4630 || Loss: -0.7770 || 10iter: 6.8720 sec.\n",
            "iteration 4640 || Loss: -0.8021 || 10iter: 6.8345 sec.\n",
            "iteration 4650 || Loss: -0.6606 || 10iter: 6.8543 sec.\n",
            "iteration 4660 || Loss: -0.7574 || 10iter: 6.8492 sec.\n",
            "iteration 4670 || Loss: -1.1644 || 10iter: 6.8290 sec.\n",
            "iteration 4680 || Loss: -1.2784 || 10iter: 6.8237 sec.\n",
            "iteration 4690 || Loss: -0.8250 || 10iter: 6.8315 sec.\n",
            "iteration 4700 || Loss: -0.8237 || 10iter: 6.8405 sec.\n",
            "iteration 4710 || Loss: -0.9328 || 10iter: 6.8454 sec.\n",
            "iteration 4720 || Loss: -0.9223 || 10iter: 6.8318 sec.\n",
            "iteration 4730 || Loss: -1.0123 || 10iter: 6.8050 sec.\n",
            "iteration 4740 || Loss: -0.8960 || 10iter: 6.8185 sec.\n",
            "iteration 4750 || Loss: -1.1108 || 10iter: 6.8076 sec.\n",
            "iteration 4760 || Loss: -0.6583 || 10iter: 6.8131 sec.\n",
            "iteration 4770 || Loss: -1.2435 || 10iter: 6.6068 sec.\n",
            "-------------\n",
            "epoch 18 || Epoch_TRAIN_Loss:-0.8635 ||Epoch_VAL_Loss:0.0000\n",
            "timer:  180.9782 sec.\n",
            "-------------\n",
            "Epoch 19/30\n",
            "-------------\n",
            "（train）\n",
            "iteration 4780 || Loss: -0.8763 || 10iter: 6.8111 sec.\n",
            "iteration 4790 || Loss: -0.9340 || 10iter: 6.8425 sec.\n",
            "iteration 4800 || Loss: -0.7966 || 10iter: 6.8364 sec.\n",
            "iteration 4810 || Loss: -0.7792 || 10iter: 6.8243 sec.\n",
            "iteration 4820 || Loss: -0.7816 || 10iter: 6.8340 sec.\n",
            "iteration 4830 || Loss: -0.1923 || 10iter: 6.8634 sec.\n",
            "iteration 4840 || Loss: -0.6912 || 10iter: 6.8323 sec.\n",
            "iteration 4850 || Loss: -0.6961 || 10iter: 6.8383 sec.\n",
            "iteration 4860 || Loss: -1.0328 || 10iter: 6.8424 sec.\n",
            "iteration 4870 || Loss: -0.8324 || 10iter: 6.8363 sec.\n",
            "iteration 4880 || Loss: -0.9828 || 10iter: 6.8456 sec.\n",
            "iteration 4890 || Loss: -1.1563 || 10iter: 6.8569 sec.\n",
            "iteration 4900 || Loss: -0.6730 || 10iter: 6.8289 sec.\n",
            "iteration 4910 || Loss: -0.9357 || 10iter: 6.8579 sec.\n",
            "iteration 4920 || Loss: -0.9133 || 10iter: 6.8420 sec.\n",
            "iteration 4930 || Loss: -0.6014 || 10iter: 6.8586 sec.\n",
            "iteration 4940 || Loss: -1.0628 || 10iter: 6.8432 sec.\n",
            "iteration 4950 || Loss: -1.3328 || 10iter: 6.8140 sec.\n",
            "iteration 4960 || Loss: -0.8557 || 10iter: 6.8574 sec.\n",
            "iteration 4970 || Loss: -0.9107 || 10iter: 6.8736 sec.\n",
            "iteration 4980 || Loss: -1.0808 || 10iter: 6.8723 sec.\n",
            "iteration 4990 || Loss: -1.3803 || 10iter: 6.8649 sec.\n",
            "iteration 5000 || Loss: -1.1252 || 10iter: 6.8326 sec.\n",
            "iteration 5010 || Loss: -1.0597 || 10iter: 6.8369 sec.\n",
            "iteration 5020 || Loss: -1.0222 || 10iter: 6.8549 sec.\n",
            "iteration 5030 || Loss: -0.5829 || 10iter: 6.8303 sec.\n",
            "-------------\n",
            "epoch 19 || Epoch_TRAIN_Loss:-0.8627 ||Epoch_VAL_Loss:0.0000\n",
            "timer:  181.1295 sec.\n",
            "-------------\n",
            "Epoch 20/30\n",
            "-------------\n",
            "（train）\n",
            "iteration 5040 || Loss: -0.7392 || 10iter: 3.4369 sec.\n",
            "iteration 5050 || Loss: -0.8038 || 10iter: 6.8322 sec.\n",
            "iteration 5060 || Loss: -0.7354 || 10iter: 6.8562 sec.\n",
            "iteration 5070 || Loss: -0.8406 || 10iter: 6.8583 sec.\n",
            "iteration 5080 || Loss: -1.0046 || 10iter: 6.8320 sec.\n",
            "iteration 5090 || Loss: -0.8459 || 10iter: 6.8251 sec.\n",
            "iteration 5100 || Loss: -1.0697 || 10iter: 6.8149 sec.\n",
            "iteration 5110 || Loss: -1.0075 || 10iter: 6.8608 sec.\n",
            "iteration 5120 || Loss: -0.5951 || 10iter: 6.8510 sec.\n",
            "iteration 5130 || Loss: -1.0653 || 10iter: 6.8453 sec.\n",
            "iteration 5140 || Loss: -0.8450 || 10iter: 6.8766 sec.\n",
            "iteration 5150 || Loss: -0.6906 || 10iter: 6.8255 sec.\n",
            "iteration 5160 || Loss: -0.9387 || 10iter: 6.8651 sec.\n",
            "iteration 5170 || Loss: -1.1483 || 10iter: 6.8653 sec.\n",
            "iteration 5180 || Loss: -0.9191 || 10iter: 6.8489 sec.\n",
            "iteration 5190 || Loss: -0.9093 || 10iter: 6.8247 sec.\n",
            "iteration 5200 || Loss: -0.9061 || 10iter: 6.8434 sec.\n",
            "iteration 5210 || Loss: -0.6152 || 10iter: 6.8213 sec.\n",
            "iteration 5220 || Loss: -0.9037 || 10iter: 6.8428 sec.\n",
            "iteration 5230 || Loss: -0.7213 || 10iter: 6.8321 sec.\n",
            "iteration 5240 || Loss: -0.8264 || 10iter: 6.8486 sec.\n",
            "iteration 5250 || Loss: -0.8656 || 10iter: 6.8530 sec.\n",
            "iteration 5260 || Loss: -1.0963 || 10iter: 6.8290 sec.\n",
            "iteration 5270 || Loss: -0.8756 || 10iter: 6.8209 sec.\n",
            "iteration 5280 || Loss: -0.9623 || 10iter: 6.8369 sec.\n",
            "iteration 5290 || Loss: -0.9341 || 10iter: 6.8457 sec.\n",
            "iteration 5300 || Loss: -0.9875 || 10iter: 6.6124 sec.\n",
            "-------------\n",
            "（val）\n",
            "-------------\n",
            "epoch 20 || Epoch_TRAIN_Loss:-0.8596 ||Epoch_VAL_Loss:-0.9195\n",
            "timer:  201.2188 sec.\n",
            "-------------\n",
            "Epoch 21/30\n",
            "-------------\n",
            "（train）\n",
            "iteration 5310 || Loss: -0.7069 || 10iter: 6.8505 sec.\n",
            "iteration 5320 || Loss: -1.0977 || 10iter: 6.8866 sec.\n",
            "iteration 5330 || Loss: -0.8353 || 10iter: 6.8408 sec.\n",
            "iteration 5340 || Loss: -1.0358 || 10iter: 6.8342 sec.\n",
            "iteration 5350 || Loss: -0.3472 || 10iter: 6.8405 sec.\n",
            "iteration 5360 || Loss: -0.7782 || 10iter: 6.8419 sec.\n",
            "iteration 5370 || Loss: -0.8345 || 10iter: 6.8465 sec.\n",
            "iteration 5380 || Loss: -0.6722 || 10iter: 6.8572 sec.\n",
            "iteration 5390 || Loss: -0.9481 || 10iter: 6.8940 sec.\n",
            "iteration 5400 || Loss: -0.9468 || 10iter: 6.8638 sec.\n",
            "iteration 5410 || Loss: -0.9111 || 10iter: 6.8340 sec.\n",
            "iteration 5420 || Loss: -0.7463 || 10iter: 6.8358 sec.\n",
            "iteration 5430 || Loss: -1.0015 || 10iter: 6.8427 sec.\n",
            "iteration 5440 || Loss: -0.5646 || 10iter: 6.8395 sec.\n",
            "iteration 5450 || Loss: -0.7283 || 10iter: 6.8139 sec.\n",
            "iteration 5460 || Loss: -0.9712 || 10iter: 6.8775 sec.\n",
            "iteration 5470 || Loss: -0.7868 || 10iter: 6.8310 sec.\n",
            "iteration 5480 || Loss: -0.8064 || 10iter: 6.8750 sec.\n",
            "iteration 5490 || Loss: -0.9813 || 10iter: 6.8556 sec.\n",
            "iteration 5500 || Loss: -1.0760 || 10iter: 6.8766 sec.\n",
            "iteration 5510 || Loss: -0.7290 || 10iter: 6.8543 sec.\n",
            "iteration 5520 || Loss: -1.1758 || 10iter: 6.8281 sec.\n",
            "iteration 5530 || Loss: -0.8645 || 10iter: 6.8400 sec.\n",
            "iteration 5540 || Loss: -0.8487 || 10iter: 6.8283 sec.\n",
            "iteration 5550 || Loss: -1.0277 || 10iter: 6.8448 sec.\n"
          ]
        },
        {
          "ename": "KeyboardInterrupt",
          "evalue": "ignored",
          "output_type": "error",
          "traceback": [
            "\u001b[0;31m---------------------------------------------------------------------------\u001b[0m",
            "\u001b[0;31mKeyboardInterrupt\u001b[0m                         Traceback (most recent call last)",
            "\u001b[0;32m<ipython-input-88-dfb6f2310238>\u001b[0m in \u001b[0;36m<module>\u001b[0;34m()\u001b[0m\n\u001b[1;32m      1\u001b[0m \u001b[0;32mimport\u001b[0m \u001b[0mtime\u001b[0m\u001b[0;34m\u001b[0m\u001b[0;34m\u001b[0m\u001b[0m\n\u001b[0;32m----> 2\u001b[0;31m \u001b[0mtrain_model\u001b[0m\u001b[0;34m(\u001b[0m\u001b[0mpsp_net\u001b[0m\u001b[0;34m,\u001b[0m \u001b[0mdataloaders_dict\u001b[0m\u001b[0;34m,\u001b[0m \u001b[0mcriterion\u001b[0m\u001b[0;34m,\u001b[0m \u001b[0mscheduler\u001b[0m\u001b[0;34m,\u001b[0m \u001b[0moptimizer\u001b[0m\u001b[0;34m,\u001b[0m \u001b[0mnum_epochs\u001b[0m\u001b[0;34m,\u001b[0m \u001b[0mloss_weight_list\u001b[0m\u001b[0;34m)\u001b[0m\u001b[0;31m#histogramEQ+learnable hd_loss pre-trained with hd\u001b[0m\u001b[0;34m\u001b[0m\u001b[0;34m\u001b[0m\u001b[0m\n\u001b[0m",
            "\u001b[0;32m<ipython-input-84-157c89378f84>\u001b[0m in \u001b[0;36mtrain_model\u001b[0;34m(net, dataloaders_dict, criterion, scheduler, optimizer, num_epochs, loss_weight_list)\u001b[0m\n\u001b[1;32m     81\u001b[0m \u001b[0;34m\u001b[0m\u001b[0m\n\u001b[1;32m     82\u001b[0m                     \u001b[0;32mif\u001b[0m \u001b[0mphase\u001b[0m \u001b[0;34m==\u001b[0m \u001b[0;34m'train'\u001b[0m\u001b[0;34m:\u001b[0m\u001b[0;34m\u001b[0m\u001b[0;34m\u001b[0m\u001b[0m\n\u001b[0;32m---> 83\u001b[0;31m                         \u001b[0mloss\u001b[0m\u001b[0;34m.\u001b[0m\u001b[0mbackward\u001b[0m\u001b[0;34m(\u001b[0m\u001b[0;34m)\u001b[0m\u001b[0;34m\u001b[0m\u001b[0;34m\u001b[0m\u001b[0m\n\u001b[0m\u001b[1;32m     84\u001b[0m                         \u001b[0mcount\u001b[0m \u001b[0;34m-=\u001b[0m \u001b[0;36m1\u001b[0m\u001b[0;34m\u001b[0m\u001b[0;34m\u001b[0m\u001b[0m\n\u001b[1;32m     85\u001b[0m                         \u001b[0;32mif\u001b[0m \u001b[0;34m(\u001b[0m\u001b[0miteration\u001b[0m \u001b[0;34m%\u001b[0m \u001b[0;36m10\u001b[0m \u001b[0;34m==\u001b[0m \u001b[0;36m0\u001b[0m\u001b[0;34m)\u001b[0m\u001b[0;34m:\u001b[0m\u001b[0;34m\u001b[0m\u001b[0;34m\u001b[0m\u001b[0m\n",
            "\u001b[0;32m/usr/local/lib/python3.7/dist-packages/torch/tensor.py\u001b[0m in \u001b[0;36mbackward\u001b[0;34m(self, gradient, retain_graph, create_graph, inputs)\u001b[0m\n\u001b[1;32m    243\u001b[0m                 \u001b[0mcreate_graph\u001b[0m\u001b[0;34m=\u001b[0m\u001b[0mcreate_graph\u001b[0m\u001b[0;34m,\u001b[0m\u001b[0;34m\u001b[0m\u001b[0;34m\u001b[0m\u001b[0m\n\u001b[1;32m    244\u001b[0m                 inputs=inputs)\n\u001b[0;32m--> 245\u001b[0;31m         \u001b[0mtorch\u001b[0m\u001b[0;34m.\u001b[0m\u001b[0mautograd\u001b[0m\u001b[0;34m.\u001b[0m\u001b[0mbackward\u001b[0m\u001b[0;34m(\u001b[0m\u001b[0mself\u001b[0m\u001b[0;34m,\u001b[0m \u001b[0mgradient\u001b[0m\u001b[0;34m,\u001b[0m \u001b[0mretain_graph\u001b[0m\u001b[0;34m,\u001b[0m \u001b[0mcreate_graph\u001b[0m\u001b[0;34m,\u001b[0m \u001b[0minputs\u001b[0m\u001b[0;34m=\u001b[0m\u001b[0minputs\u001b[0m\u001b[0;34m)\u001b[0m\u001b[0;34m\u001b[0m\u001b[0;34m\u001b[0m\u001b[0m\n\u001b[0m\u001b[1;32m    246\u001b[0m \u001b[0;34m\u001b[0m\u001b[0m\n\u001b[1;32m    247\u001b[0m     \u001b[0;32mdef\u001b[0m \u001b[0mregister_hook\u001b[0m\u001b[0;34m(\u001b[0m\u001b[0mself\u001b[0m\u001b[0;34m,\u001b[0m \u001b[0mhook\u001b[0m\u001b[0;34m)\u001b[0m\u001b[0;34m:\u001b[0m\u001b[0;34m\u001b[0m\u001b[0;34m\u001b[0m\u001b[0m\n",
            "\u001b[0;32m/usr/local/lib/python3.7/dist-packages/torch/autograd/__init__.py\u001b[0m in \u001b[0;36mbackward\u001b[0;34m(tensors, grad_tensors, retain_graph, create_graph, grad_variables, inputs)\u001b[0m\n\u001b[1;32m    145\u001b[0m     Variable._execution_engine.run_backward(\n\u001b[1;32m    146\u001b[0m         \u001b[0mtensors\u001b[0m\u001b[0;34m,\u001b[0m \u001b[0mgrad_tensors_\u001b[0m\u001b[0;34m,\u001b[0m \u001b[0mretain_graph\u001b[0m\u001b[0;34m,\u001b[0m \u001b[0mcreate_graph\u001b[0m\u001b[0;34m,\u001b[0m \u001b[0minputs\u001b[0m\u001b[0;34m,\u001b[0m\u001b[0;34m\u001b[0m\u001b[0;34m\u001b[0m\u001b[0m\n\u001b[0;32m--> 147\u001b[0;31m         allow_unreachable=True, accumulate_grad=True)  # allow_unreachable flag\n\u001b[0m\u001b[1;32m    148\u001b[0m \u001b[0;34m\u001b[0m\u001b[0m\n\u001b[1;32m    149\u001b[0m \u001b[0;34m\u001b[0m\u001b[0m\n",
            "\u001b[0;31mKeyboardInterrupt\u001b[0m: "
          ]
        }
      ],
      "source": [
        "import time\n",
        "train_model(psp_net, dataloaders_dict, criterion, scheduler, optimizer, num_epochs, loss_weight_list)#histogramEQ+learnable hd_loss pre-trained with hd"
      ]
    },
    {
      "cell_type": "code",
      "execution_count": null,
      "metadata": {
        "id": "lUdIaXAAqmlg"
      },
      "outputs": [],
      "source": [
        ""
      ]
    },
    {
      "cell_type": "code",
      "execution_count": null,
      "metadata": {
        "id": "vvVHsZG0rYmg"
      },
      "outputs": [],
      "source": [
        "def train_model_cpu(net, dataloaders_dict, criterion, scheduler, optimizer, num_epochs, loss_weight_list):\n",
        "\n",
        "    log_sigma_ce, log_sigma_aux = loss_weight_list[0],loss_weight_list[1]#,loss_weight_list[2]\n",
        "\n",
        "    # allocate gpu\n",
        "    device = torch.device(\"cpu\")\n",
        "    net.to(device)\n",
        "    log_sigma_ce, log_sigma_aux = log_sigma_ce.to(device), log_sigma_aux.to(device)#, log_sigma_hd.to(device)\n",
        "    # accelerate model after stabilization\n",
        "    torch.backends.cudnn.benchmark = True\n",
        "\n",
        "    # number of images\n",
        "    num_train_imgs = len(dataloaders_dict[\"train\"].dataset)\n",
        "    num_val_imgs = len(dataloaders_dict[\"val\"].dataset)\n",
        "    batch_size = dataloaders_dict[\"train\"].batch_size\n",
        "    \n",
        "    iteration = 1\n",
        "    logs = []\n",
        "\n",
        "    # multiple minibatch\n",
        "    batch_multiplier = 3\n",
        "\n",
        "    # epoch loop\n",
        "    for epoch in range(num_epochs):\n",
        "\n",
        "        # start time\n",
        "        t_epoch_start = time.time()\n",
        "        t_iter_start = time.time()\n",
        "        epoch_train_loss = 0.0  # sum of epoch loss for training\n",
        "        epoch_val_loss = 0.0  # sum of epoch loss for validation\n",
        "\n",
        "        print('-------------')\n",
        "        print('Epoch {}/{}'.format(epoch+1, num_epochs))\n",
        "        print('-------------')\n",
        "\n",
        "        for phase in [\"train\", \"val\"]:\n",
        "            if phase == 'train':\n",
        "                net.train() \n",
        "                scheduler.step()  # optimize scheduler\n",
        "                optimizer.zero_grad()\n",
        "                print('（train）')\n",
        "\n",
        "            else:\n",
        "                if((epoch+1) % 5 == 0):\n",
        "                    net.eval()   \n",
        "                    print('-------------')\n",
        "                    print('（val）')\n",
        "                else:\n",
        "                    #validate once in five training times\n",
        "                    continue\n",
        "\n",
        "            \n",
        "            count = 0  # multiple minibatch\n",
        "            for imges, anno_class_imges in dataloaders_dict[phase]:\n",
        "                imges = imges.to(device)\n",
        "                anno_class_imges = anno_class_imges.to(device)\n",
        "\n",
        "                \n",
        "              \n",
        "                if (phase == 'train') and (count == 0):\n",
        "                    optimizer.step()\n",
        "                    optimizer.zero_grad()\n",
        "                    count = batch_multiplier\n",
        "                '''\n",
        "                outputs = psp_net(x)\n",
        "  y = outputs[0] \n",
        "  \n",
        "  y = y[0].cpu().detach().numpy()\n",
        "  y = np.argmax(y, axis=0)\n",
        "  anno_predicted = Image.fromarray(np.uint8(y), mode=\"P\")\n",
        "  #anno_predicted = anno_predicted.resize((img_width, img_height), Image.NEAREST)\n",
        "  #print(np.array(anno_class_img).shape,np.array(anno_predicted).shape)\n",
        "  #break\n",
        "  dice = dice_coef(np.array(anno_class_img), np.array(anno_predicted))\n",
        "                '''\n",
        "             \n",
        "                with torch.set_grad_enabled(phase == 'train'):\n",
        "                    outputs = net(imges)\n",
        "                    loss = criterion(\n",
        "                        outputs, anno_class_imges.long(),log_sigma_ce, log_sigma_aux ) / batch_multiplier\n",
        "\n",
        "                    if phase == 'train':\n",
        "                        loss.backward() \n",
        "                        count -= 1 \n",
        "                        if (iteration % 10 == 0): \n",
        "                            t_iter_finish = time.time()\n",
        "                            duration = t_iter_finish - t_iter_start\n",
        "                            print('iteration {} || Loss: {:.4f} || 10iter: {:.4f} sec.'.format(\n",
        "                                iteration, loss.item()/batch_size*batch_multiplier, duration))\n",
        "                            t_iter_start = time.time()\n",
        "\n",
        "                        epoch_train_loss += loss.item() * batch_multiplier\n",
        "                        iteration += 1\n",
        "                        \n",
        "\n",
        "                    # validate\n",
        "                    else:\n",
        "                        epoch_val_loss += loss.item() * batch_multiplier\n",
        "\n",
        "        \n",
        "        t_epoch_finish = time.time()\n",
        "        print('-------------')\n",
        "        print('epoch {} || Epoch_TRAIN_Loss:{:.4f} ||Epoch_VAL_Loss:{:.4f}'.format(\n",
        "            epoch+1, epoch_train_loss/num_train_imgs, epoch_val_loss/num_val_imgs))\n",
        "        print('timer:  {:.4f} sec.'.format(t_epoch_finish - t_epoch_start))\n",
        "        t_epoch_start = time.time()\n",
        "        #log_sigma_ce, log_sigma_aux, log_sigma_hd \n",
        "        log_epoch = {'epoch': epoch+1, 'train_loss': epoch_train_loss /\n",
        "                     num_train_imgs,'val_loss': epoch_val_loss/num_val_imgs, 'ce w':log_sigma_ce, 'aux_w':log_sigma_aux}\n",
        "        logs.append(log_epoch)\n",
        "        df = pd.DataFrame(logs)\n",
        "        if (epoch+1)%5 == 0:\n",
        "          df.to_csv(f\"/content/drive/MyDrive/2022/LungSegmentation/PSPNet/learnable_hd_log_output{epoch+1}.csv\")\n",
        "          torch.save(net.state_dict(), '/content/drive/MyDrive/2022/LungSegmentation/PSPNet/learnable_hd_pspnet50_' +\n",
        "                str(epoch+1) + '.pth')\n",
        "\n",
        "    # save last model\n",
        "    torch.save(net.state_dict(), '/content/drive/MyDrive/2022/LungSegmentation/PSPNet/learnable_hd_pspnet50_' +\n",
        "               str(epoch+1) + '.pth')"
      ]
    },
    {
      "cell_type": "code",
      "execution_count": null,
      "metadata": {
        "id": "fLhEmaFUgeAP"
      },
      "outputs": [],
      "source": [
        "import time\n",
        "num_epochs = 35"
      ]
    },
    {
      "cell_type": "code",
      "execution_count": null,
      "metadata": {
        "colab": {
          "base_uri": "https://localhost:8080/"
        },
        "id": "UDr-9bn7yKPi",
        "outputId": "3136ba69-87e1-4992-b5a2-00ec1d373bdb"
      },
      "outputs": [
        {
          "data": {
            "text/plain": [
              "[tensor([1.], requires_grad=True), tensor([0.4000], requires_grad=True)]"
            ]
          },
          "execution_count": 162,
          "metadata": {},
          "output_type": "execute_result"
        }
      ],
      "source": [
        "loss_weight_list"
      ]
    },
    {
      "cell_type": "code",
      "execution_count": null,
      "metadata": {
        "colab": {
          "base_uri": "https://localhost:8080/"
        },
        "id": "gqJNgQNhyops",
        "outputId": "b80bc74c-3a2e-4b5b-df82-05a0400caf81"
      },
      "outputs": [
        {
          "data": {
            "text/plain": [
              "<All keys matched successfully>"
            ]
          },
          "execution_count": 68,
          "metadata": {},
          "output_type": "execute_result"
        }
      ],
      "source": [
        "psp_net = PSPNet(n_classes = 3)\n",
        "psp_net.load_state_dict(torch.load('/content/drive/MyDrive/2022/LungSegmentation/PSPNet/again_again_hd_pspnet50_10.pth',map_location = {'cuda:0':'cpu'}))"
      ]
    },
    {
      "cell_type": "code",
      "execution_count": null,
      "metadata": {
        "colab": {
          "base_uri": "https://localhost:8080/"
        },
        "id": "7lxaFNmyrRwf",
        "outputId": "4416f498-53e8-4d8a-c815-ffbf0a2c2218"
      },
      "outputs": [
        {
          "data": {
            "text/plain": [
              "<All keys matched successfully>"
            ]
          },
          "execution_count": 76,
          "metadata": {},
          "output_type": "execute_result"
        }
      ],
      "source": [
        "psp_net = PSPNet(n_classes = 3)\n",
        "psp_net.load_state_dict(torch.load('/content/drive/MyDrive/2022/LungSegmentation/PSPNet/learnable_hd_pspnet50_10.pth',map_location = 'cdua:0'))#{'cuda:0':'cpu'}))"
      ]
    },
    {
      "cell_type": "code",
      "execution_count": null,
      "metadata": {
        "colab": {
          "base_uri": "https://localhost:8080/"
        },
        "id": "VnRtM3DBrWKc",
        "outputId": "d38c6b71-19f0-472a-e8b8-4638ca13af55"
      },
      "outputs": [
        {
          "name": "stdout",
          "output_type": "stream",
          "text": [
            "-------------\n",
            "Epoch 1/35\n",
            "-------------\n",
            "（train）\n"
          ]
        },
        {
          "name": "stderr",
          "output_type": "stream",
          "text": [
            "/usr/local/lib/python3.7/dist-packages/ipykernel_launcher.py:25: DeprecationWarning: `np.bool` is a deprecated alias for the builtin `bool`. To silence this warning, use `bool` by itself. Doing this will not modify any behavior and is safe. If you specifically wanted the numpy scalar type, use `np.bool_` here.\n",
            "Deprecated in NumPy 1.20; for more details and guidance: https://numpy.org/devdocs/release/1.20.0-notes.html#deprecations\n"
          ]
        },
        {
          "name": "stdout",
          "output_type": "stream",
          "text": [
            "iteration 10 || Loss: -0.5089 || 10iter: 322.9426 sec.\n",
            "iteration 20 || Loss: -0.7391 || 10iter: 328.8856 sec.\n",
            "iteration 30 || Loss: -0.7373 || 10iter: 322.5745 sec.\n",
            "iteration 40 || Loss: -0.8946 || 10iter: 329.7250 sec.\n",
            "iteration 50 || Loss: -0.9907 || 10iter: 328.1645 sec.\n",
            "iteration 60 || Loss: -0.8228 || 10iter: 323.9546 sec.\n",
            "iteration 70 || Loss: -0.8103 || 10iter: 324.2679 sec.\n",
            "iteration 80 || Loss: -0.7303 || 10iter: 324.1558 sec.\n",
            "iteration 90 || Loss: -0.6474 || 10iter: 318.4490 sec.\n",
            "iteration 100 || Loss: -0.9047 || 10iter: 317.0622 sec.\n",
            "iteration 110 || Loss: -0.9757 || 10iter: 318.9424 sec.\n",
            "iteration 120 || Loss: -0.6345 || 10iter: 312.4602 sec.\n",
            "iteration 130 || Loss: -1.1336 || 10iter: 315.9364 sec.\n",
            "iteration 140 || Loss: -0.8731 || 10iter: 315.2623 sec.\n",
            "iteration 150 || Loss: -0.7398 || 10iter: 318.1720 sec.\n",
            "iteration 160 || Loss: -0.6270 || 10iter: 315.7718 sec.\n",
            "iteration 170 || Loss: -0.9169 || 10iter: 318.1306 sec.\n",
            "iteration 180 || Loss: -0.9356 || 10iter: 320.6923 sec.\n",
            "iteration 190 || Loss: -1.0462 || 10iter: 315.1588 sec.\n",
            "iteration 200 || Loss: -0.9710 || 10iter: 318.4105 sec.\n",
            "iteration 210 || Loss: -1.3195 || 10iter: 309.2975 sec.\n",
            "iteration 220 || Loss: -0.9723 || 10iter: 312.4007 sec.\n",
            "iteration 230 || Loss: -0.9495 || 10iter: 317.9169 sec.\n",
            "iteration 240 || Loss: -1.0925 || 10iter: 319.2682 sec.\n",
            "iteration 250 || Loss: -1.0549 || 10iter: 312.9952 sec.\n",
            "iteration 260 || Loss: -0.8657 || 10iter: 312.8717 sec.\n",
            "-------------\n",
            "epoch 1 || Epoch_TRAIN_Loss:-0.8846 ||Epoch_VAL_Loss:0.0000\n",
            "timer:  8439.2128 sec.\n",
            "-------------\n",
            "Epoch 2/35\n",
            "-------------\n",
            "（train）\n",
            "iteration 270 || Loss: -0.7685 || 10iter: 165.7678 sec.\n",
            "iteration 280 || Loss: -0.5810 || 10iter: 305.2042 sec.\n",
            "iteration 290 || Loss: -0.7398 || 10iter: 310.6777 sec.\n",
            "iteration 300 || Loss: -0.7049 || 10iter: 308.9468 sec.\n",
            "iteration 310 || Loss: -0.8662 || 10iter: 312.4649 sec.\n",
            "iteration 320 || Loss: -0.8507 || 10iter: 313.7806 sec.\n",
            "iteration 330 || Loss: -0.7607 || 10iter: 312.4834 sec.\n",
            "iteration 340 || Loss: -0.6136 || 10iter: 310.7063 sec.\n",
            "iteration 350 || Loss: -0.7221 || 10iter: 313.1474 sec.\n",
            "iteration 360 || Loss: -1.0080 || 10iter: 312.2896 sec.\n",
            "iteration 370 || Loss: -0.9094 || 10iter: 311.5375 sec.\n"
          ]
        }
      ],
      "source": [
        "train_model_cpu(psp_net, dataloaders_dict, criterion, scheduler, optimizer, num_epochs, loss_weight_list)#histogramEQ+learnable hd_loss pre-trained with hd"
      ]
    },
    {
      "cell_type": "code",
      "execution_count": null,
      "metadata": {
        "colab": {
          "base_uri": "https://localhost:8080/",
          "height": 846
        },
        "id": "_GGJpFSHxgVZ",
        "outputId": "64d59b1b-9eea-4238-9f50-02e979d8e675"
      },
      "outputs": [
        {
          "name": "stdout",
          "output_type": "stream",
          "text": [
            "-------------\n",
            "Epoch 1/35\n",
            "-------------\n",
            "（train）\n"
          ]
        },
        {
          "name": "stderr",
          "output_type": "stream",
          "text": [
            "/usr/local/lib/python3.7/dist-packages/torch/optim/lr_scheduler.py:134: UserWarning: Detected call of `lr_scheduler.step()` before `optimizer.step()`. In PyTorch 1.1.0 and later, you should call them in the opposite order: `optimizer.step()` before `lr_scheduler.step()`.  Failure to do this will result in PyTorch skipping the first value of the learning rate schedule. See more details at https://pytorch.org/docs/stable/optim.html#how-to-adjust-learning-rate\n",
            "  \"https://pytorch.org/docs/stable/optim.html#how-to-adjust-learning-rate\", UserWarning)\n",
            "/usr/local/lib/python3.7/dist-packages/ipykernel_launcher.py:25: DeprecationWarning: `np.bool` is a deprecated alias for the builtin `bool`. To silence this warning, use `bool` by itself. Doing this will not modify any behavior and is safe. If you specifically wanted the numpy scalar type, use `np.bool_` here.\n",
            "Deprecated in NumPy 1.20; for more details and guidance: https://numpy.org/devdocs/release/1.20.0-notes.html#deprecations\n"
          ]
        },
        {
          "name": "stdout",
          "output_type": "stream",
          "text": [
            "iteration 10 || Loss: -0.0002 || 10iter: 24.8693 sec.\n",
            "iteration 20 || Loss: 0.0123 || 10iter: 12.7374 sec.\n",
            "iteration 30 || Loss: 0.0165 || 10iter: 12.9022 sec.\n",
            "iteration 40 || Loss: 0.0416 || 10iter: 14.1699 sec.\n",
            "iteration 50 || Loss: 0.0106 || 10iter: 11.9705 sec.\n",
            "iteration 60 || Loss: 0.0056 || 10iter: 12.4364 sec.\n",
            "iteration 70 || Loss: 0.0143 || 10iter: 14.3912 sec.\n",
            "iteration 80 || Loss: 0.0411 || 10iter: 14.7417 sec.\n",
            "iteration 90 || Loss: 0.0001 || 10iter: 12.0773 sec.\n",
            "iteration 100 || Loss: 0.0069 || 10iter: 14.3063 sec.\n",
            "iteration 110 || Loss: 0.0076 || 10iter: 14.0821 sec.\n",
            "iteration 120 || Loss: 0.0254 || 10iter: 12.4842 sec.\n",
            "iteration 130 || Loss: 0.0115 || 10iter: 13.0857 sec.\n",
            "iteration 140 || Loss: 0.0046 || 10iter: 12.3025 sec.\n",
            "iteration 150 || Loss: 0.0280 || 10iter: 12.3530 sec.\n",
            "iteration 160 || Loss: 0.0040 || 10iter: 13.6218 sec.\n",
            "iteration 170 || Loss: 0.0082 || 10iter: 13.2069 sec.\n",
            "iteration 180 || Loss: 0.0233 || 10iter: 13.5126 sec.\n",
            "iteration 190 || Loss: 0.0245 || 10iter: 14.6275 sec.\n"
          ]
        },
        {
          "ename": "KeyboardInterrupt",
          "evalue": "ignored",
          "output_type": "error",
          "traceback": [
            "\u001b[0;31m---------------------------------------------------------------------------\u001b[0m",
            "\u001b[0;31mKeyboardInterrupt\u001b[0m                         Traceback (most recent call last)",
            "\u001b[0;32m<ipython-input-69-53cf08b2c16d>\u001b[0m in \u001b[0;36m<module>\u001b[0;34m()\u001b[0m\n\u001b[0;32m----> 1\u001b[0;31m \u001b[0mtrain_model\u001b[0m\u001b[0;34m(\u001b[0m\u001b[0mpsp_net\u001b[0m\u001b[0;34m,\u001b[0m \u001b[0mdataloaders_dict\u001b[0m\u001b[0;34m,\u001b[0m \u001b[0mcriterion\u001b[0m\u001b[0;34m,\u001b[0m \u001b[0mscheduler\u001b[0m\u001b[0;34m,\u001b[0m \u001b[0moptimizer\u001b[0m\u001b[0;34m,\u001b[0m \u001b[0mnum_epochs\u001b[0m\u001b[0;34m,\u001b[0m \u001b[0mloss_weight_list\u001b[0m\u001b[0;34m)\u001b[0m\u001b[0;31m#histogramEQ+learnable hd_loss pre-trained with hd\u001b[0m\u001b[0;34m\u001b[0m\u001b[0;34m\u001b[0m\u001b[0m\n\u001b[0m",
            "\u001b[0;32m<ipython-input-65-145cf06f9693>\u001b[0m in \u001b[0;36mtrain_model\u001b[0;34m(net, dataloaders_dict, criterion, scheduler, optimizer, num_epochs, loss_weight_list)\u001b[0m\n\u001b[1;32m     52\u001b[0m \u001b[0;34m\u001b[0m\u001b[0m\n\u001b[1;32m     53\u001b[0m             \u001b[0mcount\u001b[0m \u001b[0;34m=\u001b[0m \u001b[0;36m0\u001b[0m  \u001b[0;31m# multiple minibatch\u001b[0m\u001b[0;34m\u001b[0m\u001b[0;34m\u001b[0m\u001b[0m\n\u001b[0;32m---> 54\u001b[0;31m             \u001b[0;32mfor\u001b[0m \u001b[0mimges\u001b[0m\u001b[0;34m,\u001b[0m \u001b[0manno_class_imges\u001b[0m \u001b[0;32min\u001b[0m \u001b[0mdataloaders_dict\u001b[0m\u001b[0;34m[\u001b[0m\u001b[0mphase\u001b[0m\u001b[0;34m]\u001b[0m\u001b[0;34m:\u001b[0m\u001b[0;34m\u001b[0m\u001b[0;34m\u001b[0m\u001b[0m\n\u001b[0m\u001b[1;32m     55\u001b[0m                 \u001b[0mimges\u001b[0m \u001b[0;34m=\u001b[0m \u001b[0mimges\u001b[0m\u001b[0;34m.\u001b[0m\u001b[0mto\u001b[0m\u001b[0;34m(\u001b[0m\u001b[0mdevice\u001b[0m\u001b[0;34m)\u001b[0m\u001b[0;34m\u001b[0m\u001b[0;34m\u001b[0m\u001b[0m\n\u001b[1;32m     56\u001b[0m                 \u001b[0manno_class_imges\u001b[0m \u001b[0;34m=\u001b[0m \u001b[0manno_class_imges\u001b[0m\u001b[0;34m.\u001b[0m\u001b[0mto\u001b[0m\u001b[0;34m(\u001b[0m\u001b[0mdevice\u001b[0m\u001b[0;34m)\u001b[0m\u001b[0;34m\u001b[0m\u001b[0;34m\u001b[0m\u001b[0m\n",
            "\u001b[0;32m/usr/local/lib/python3.7/dist-packages/torch/utils/data/dataloader.py\u001b[0m in \u001b[0;36m__next__\u001b[0;34m(self)\u001b[0m\n\u001b[1;32m    515\u001b[0m             \u001b[0;32mif\u001b[0m \u001b[0mself\u001b[0m\u001b[0;34m.\u001b[0m\u001b[0m_sampler_iter\u001b[0m \u001b[0;32mis\u001b[0m \u001b[0;32mNone\u001b[0m\u001b[0;34m:\u001b[0m\u001b[0;34m\u001b[0m\u001b[0;34m\u001b[0m\u001b[0m\n\u001b[1;32m    516\u001b[0m                 \u001b[0mself\u001b[0m\u001b[0;34m.\u001b[0m\u001b[0m_reset\u001b[0m\u001b[0;34m(\u001b[0m\u001b[0;34m)\u001b[0m\u001b[0;34m\u001b[0m\u001b[0;34m\u001b[0m\u001b[0m\n\u001b[0;32m--> 517\u001b[0;31m             \u001b[0mdata\u001b[0m \u001b[0;34m=\u001b[0m \u001b[0mself\u001b[0m\u001b[0;34m.\u001b[0m\u001b[0m_next_data\u001b[0m\u001b[0;34m(\u001b[0m\u001b[0;34m)\u001b[0m\u001b[0;34m\u001b[0m\u001b[0;34m\u001b[0m\u001b[0m\n\u001b[0m\u001b[1;32m    518\u001b[0m             \u001b[0mself\u001b[0m\u001b[0;34m.\u001b[0m\u001b[0m_num_yielded\u001b[0m \u001b[0;34m+=\u001b[0m \u001b[0;36m1\u001b[0m\u001b[0;34m\u001b[0m\u001b[0;34m\u001b[0m\u001b[0m\n\u001b[1;32m    519\u001b[0m             \u001b[0;32mif\u001b[0m \u001b[0mself\u001b[0m\u001b[0;34m.\u001b[0m\u001b[0m_dataset_kind\u001b[0m \u001b[0;34m==\u001b[0m \u001b[0m_DatasetKind\u001b[0m\u001b[0;34m.\u001b[0m\u001b[0mIterable\u001b[0m \u001b[0;32mand\u001b[0m\u001b[0;31m \u001b[0m\u001b[0;31m\\\u001b[0m\u001b[0;34m\u001b[0m\u001b[0;34m\u001b[0m\u001b[0m\n",
            "\u001b[0;32m/usr/local/lib/python3.7/dist-packages/torch/utils/data/dataloader.py\u001b[0m in \u001b[0;36m_next_data\u001b[0;34m(self)\u001b[0m\n\u001b[1;32m    555\u001b[0m     \u001b[0;32mdef\u001b[0m \u001b[0m_next_data\u001b[0m\u001b[0;34m(\u001b[0m\u001b[0mself\u001b[0m\u001b[0;34m)\u001b[0m\u001b[0;34m:\u001b[0m\u001b[0;34m\u001b[0m\u001b[0;34m\u001b[0m\u001b[0m\n\u001b[1;32m    556\u001b[0m         \u001b[0mindex\u001b[0m \u001b[0;34m=\u001b[0m \u001b[0mself\u001b[0m\u001b[0;34m.\u001b[0m\u001b[0m_next_index\u001b[0m\u001b[0;34m(\u001b[0m\u001b[0;34m)\u001b[0m  \u001b[0;31m# may raise StopIteration\u001b[0m\u001b[0;34m\u001b[0m\u001b[0;34m\u001b[0m\u001b[0m\n\u001b[0;32m--> 557\u001b[0;31m         \u001b[0mdata\u001b[0m \u001b[0;34m=\u001b[0m \u001b[0mself\u001b[0m\u001b[0;34m.\u001b[0m\u001b[0m_dataset_fetcher\u001b[0m\u001b[0;34m.\u001b[0m\u001b[0mfetch\u001b[0m\u001b[0;34m(\u001b[0m\u001b[0mindex\u001b[0m\u001b[0;34m)\u001b[0m  \u001b[0;31m# may raise StopIteration\u001b[0m\u001b[0;34m\u001b[0m\u001b[0;34m\u001b[0m\u001b[0m\n\u001b[0m\u001b[1;32m    558\u001b[0m         \u001b[0;32mif\u001b[0m \u001b[0mself\u001b[0m\u001b[0;34m.\u001b[0m\u001b[0m_pin_memory\u001b[0m\u001b[0;34m:\u001b[0m\u001b[0;34m\u001b[0m\u001b[0;34m\u001b[0m\u001b[0m\n\u001b[1;32m    559\u001b[0m             \u001b[0mdata\u001b[0m \u001b[0;34m=\u001b[0m \u001b[0m_utils\u001b[0m\u001b[0;34m.\u001b[0m\u001b[0mpin_memory\u001b[0m\u001b[0;34m.\u001b[0m\u001b[0mpin_memory\u001b[0m\u001b[0;34m(\u001b[0m\u001b[0mdata\u001b[0m\u001b[0;34m)\u001b[0m\u001b[0;34m\u001b[0m\u001b[0;34m\u001b[0m\u001b[0m\n",
            "\u001b[0;32m/usr/local/lib/python3.7/dist-packages/torch/utils/data/_utils/fetch.py\u001b[0m in \u001b[0;36mfetch\u001b[0;34m(self, possibly_batched_index)\u001b[0m\n\u001b[1;32m     42\u001b[0m     \u001b[0;32mdef\u001b[0m \u001b[0mfetch\u001b[0m\u001b[0;34m(\u001b[0m\u001b[0mself\u001b[0m\u001b[0;34m,\u001b[0m \u001b[0mpossibly_batched_index\u001b[0m\u001b[0;34m)\u001b[0m\u001b[0;34m:\u001b[0m\u001b[0;34m\u001b[0m\u001b[0;34m\u001b[0m\u001b[0m\n\u001b[1;32m     43\u001b[0m         \u001b[0;32mif\u001b[0m \u001b[0mself\u001b[0m\u001b[0;34m.\u001b[0m\u001b[0mauto_collation\u001b[0m\u001b[0;34m:\u001b[0m\u001b[0;34m\u001b[0m\u001b[0;34m\u001b[0m\u001b[0m\n\u001b[0;32m---> 44\u001b[0;31m             \u001b[0mdata\u001b[0m \u001b[0;34m=\u001b[0m \u001b[0;34m[\u001b[0m\u001b[0mself\u001b[0m\u001b[0;34m.\u001b[0m\u001b[0mdataset\u001b[0m\u001b[0;34m[\u001b[0m\u001b[0midx\u001b[0m\u001b[0;34m]\u001b[0m \u001b[0;32mfor\u001b[0m \u001b[0midx\u001b[0m \u001b[0;32min\u001b[0m \u001b[0mpossibly_batched_index\u001b[0m\u001b[0;34m]\u001b[0m\u001b[0;34m\u001b[0m\u001b[0;34m\u001b[0m\u001b[0m\n\u001b[0m\u001b[1;32m     45\u001b[0m         \u001b[0;32melse\u001b[0m\u001b[0;34m:\u001b[0m\u001b[0;34m\u001b[0m\u001b[0;34m\u001b[0m\u001b[0m\n\u001b[1;32m     46\u001b[0m             \u001b[0mdata\u001b[0m \u001b[0;34m=\u001b[0m \u001b[0mself\u001b[0m\u001b[0;34m.\u001b[0m\u001b[0mdataset\u001b[0m\u001b[0;34m[\u001b[0m\u001b[0mpossibly_batched_index\u001b[0m\u001b[0;34m]\u001b[0m\u001b[0;34m\u001b[0m\u001b[0;34m\u001b[0m\u001b[0m\n",
            "\u001b[0;32m/usr/local/lib/python3.7/dist-packages/torch/utils/data/_utils/fetch.py\u001b[0m in \u001b[0;36m<listcomp>\u001b[0;34m(.0)\u001b[0m\n\u001b[1;32m     42\u001b[0m     \u001b[0;32mdef\u001b[0m \u001b[0mfetch\u001b[0m\u001b[0;34m(\u001b[0m\u001b[0mself\u001b[0m\u001b[0;34m,\u001b[0m \u001b[0mpossibly_batched_index\u001b[0m\u001b[0;34m)\u001b[0m\u001b[0;34m:\u001b[0m\u001b[0;34m\u001b[0m\u001b[0;34m\u001b[0m\u001b[0m\n\u001b[1;32m     43\u001b[0m         \u001b[0;32mif\u001b[0m \u001b[0mself\u001b[0m\u001b[0;34m.\u001b[0m\u001b[0mauto_collation\u001b[0m\u001b[0;34m:\u001b[0m\u001b[0;34m\u001b[0m\u001b[0;34m\u001b[0m\u001b[0m\n\u001b[0;32m---> 44\u001b[0;31m             \u001b[0mdata\u001b[0m \u001b[0;34m=\u001b[0m \u001b[0;34m[\u001b[0m\u001b[0mself\u001b[0m\u001b[0;34m.\u001b[0m\u001b[0mdataset\u001b[0m\u001b[0;34m[\u001b[0m\u001b[0midx\u001b[0m\u001b[0;34m]\u001b[0m \u001b[0;32mfor\u001b[0m \u001b[0midx\u001b[0m \u001b[0;32min\u001b[0m \u001b[0mpossibly_batched_index\u001b[0m\u001b[0;34m]\u001b[0m\u001b[0;34m\u001b[0m\u001b[0;34m\u001b[0m\u001b[0m\n\u001b[0m\u001b[1;32m     45\u001b[0m         \u001b[0;32melse\u001b[0m\u001b[0;34m:\u001b[0m\u001b[0;34m\u001b[0m\u001b[0;34m\u001b[0m\u001b[0m\n\u001b[1;32m     46\u001b[0m             \u001b[0mdata\u001b[0m \u001b[0;34m=\u001b[0m \u001b[0mself\u001b[0m\u001b[0;34m.\u001b[0m\u001b[0mdataset\u001b[0m\u001b[0;34m[\u001b[0m\u001b[0mpossibly_batched_index\u001b[0m\u001b[0;34m]\u001b[0m\u001b[0;34m\u001b[0m\u001b[0;34m\u001b[0m\u001b[0m\n",
            "\u001b[0;32m/usr/local/lib/python3.7/dist-packages/torch/utils/data/dataset.py\u001b[0m in \u001b[0;36m__getitem__\u001b[0;34m(self, idx)\u001b[0m\n\u001b[1;32m    217\u001b[0m         \u001b[0;32melse\u001b[0m\u001b[0;34m:\u001b[0m\u001b[0;34m\u001b[0m\u001b[0;34m\u001b[0m\u001b[0m\n\u001b[1;32m    218\u001b[0m             \u001b[0msample_idx\u001b[0m \u001b[0;34m=\u001b[0m \u001b[0midx\u001b[0m \u001b[0;34m-\u001b[0m \u001b[0mself\u001b[0m\u001b[0;34m.\u001b[0m\u001b[0mcumulative_sizes\u001b[0m\u001b[0;34m[\u001b[0m\u001b[0mdataset_idx\u001b[0m \u001b[0;34m-\u001b[0m \u001b[0;36m1\u001b[0m\u001b[0;34m]\u001b[0m\u001b[0;34m\u001b[0m\u001b[0;34m\u001b[0m\u001b[0m\n\u001b[0;32m--> 219\u001b[0;31m         \u001b[0;32mreturn\u001b[0m \u001b[0mself\u001b[0m\u001b[0;34m.\u001b[0m\u001b[0mdatasets\u001b[0m\u001b[0;34m[\u001b[0m\u001b[0mdataset_idx\u001b[0m\u001b[0;34m]\u001b[0m\u001b[0;34m[\u001b[0m\u001b[0msample_idx\u001b[0m\u001b[0;34m]\u001b[0m\u001b[0;34m\u001b[0m\u001b[0;34m\u001b[0m\u001b[0m\n\u001b[0m\u001b[1;32m    220\u001b[0m \u001b[0;34m\u001b[0m\u001b[0m\n\u001b[1;32m    221\u001b[0m     \u001b[0;34m@\u001b[0m\u001b[0mproperty\u001b[0m\u001b[0;34m\u001b[0m\u001b[0;34m\u001b[0m\u001b[0m\n",
            "\u001b[0;32m<ipython-input-25-004fff75f1db>\u001b[0m in \u001b[0;36m__getitem__\u001b[0;34m(self, index)\u001b[0m\n\u001b[1;32m     11\u001b[0m \u001b[0;34m\u001b[0m\u001b[0m\n\u001b[1;32m     12\u001b[0m   \u001b[0;32mdef\u001b[0m \u001b[0m__getitem__\u001b[0m\u001b[0;34m(\u001b[0m\u001b[0mself\u001b[0m\u001b[0;34m,\u001b[0m \u001b[0mindex\u001b[0m\u001b[0;34m)\u001b[0m\u001b[0;34m:\u001b[0m\u001b[0;34m\u001b[0m\u001b[0;34m\u001b[0m\u001b[0m\n\u001b[0;32m---> 13\u001b[0;31m         \u001b[0mimg\u001b[0m\u001b[0;34m,\u001b[0m \u001b[0manno_class_img\u001b[0m \u001b[0;34m=\u001b[0m \u001b[0mself\u001b[0m\u001b[0;34m.\u001b[0m\u001b[0mpull_item\u001b[0m\u001b[0;34m(\u001b[0m\u001b[0mindex\u001b[0m\u001b[0;34m)\u001b[0m\u001b[0;34m\u001b[0m\u001b[0;34m\u001b[0m\u001b[0m\n\u001b[0m\u001b[1;32m     14\u001b[0m         \u001b[0;32mreturn\u001b[0m \u001b[0mimg\u001b[0m\u001b[0;34m,\u001b[0m \u001b[0manno_class_img\u001b[0m\u001b[0;34m\u001b[0m\u001b[0;34m\u001b[0m\u001b[0m\n\u001b[1;32m     15\u001b[0m \u001b[0;34m\u001b[0m\u001b[0m\n",
            "\u001b[0;32m<ipython-input-25-004fff75f1db>\u001b[0m in \u001b[0;36mpull_item\u001b[0;34m(self, index)\u001b[0m\n\u001b[1;32m     16\u001b[0m   \u001b[0;32mdef\u001b[0m \u001b[0mpull_item\u001b[0m\u001b[0;34m(\u001b[0m\u001b[0mself\u001b[0m\u001b[0;34m,\u001b[0m \u001b[0mindex\u001b[0m\u001b[0;34m)\u001b[0m\u001b[0;34m:\u001b[0m\u001b[0;34m\u001b[0m\u001b[0;34m\u001b[0m\u001b[0m\n\u001b[1;32m     17\u001b[0m         \u001b[0mimage_file_path\u001b[0m \u001b[0;34m=\u001b[0m \u001b[0mself\u001b[0m\u001b[0;34m.\u001b[0m\u001b[0mimg_list\u001b[0m\u001b[0;34m[\u001b[0m\u001b[0mindex\u001b[0m\u001b[0;34m]\u001b[0m\u001b[0;34m\u001b[0m\u001b[0;34m\u001b[0m\u001b[0m\n\u001b[0;32m---> 18\u001b[0;31m         \u001b[0moriginal_img\u001b[0m \u001b[0;34m=\u001b[0m \u001b[0mImage\u001b[0m\u001b[0;34m.\u001b[0m\u001b[0mopen\u001b[0m\u001b[0;34m(\u001b[0m\u001b[0mimage_file_path\u001b[0m\u001b[0;34m)\u001b[0m\u001b[0;31m#height, width, channel\u001b[0m\u001b[0;34m\u001b[0m\u001b[0;34m\u001b[0m\u001b[0m\n\u001b[0m\u001b[1;32m     19\u001b[0m         \u001b[0mimg\u001b[0m \u001b[0;34m=\u001b[0m \u001b[0mImage\u001b[0m\u001b[0;34m.\u001b[0m\u001b[0mopen\u001b[0m\u001b[0;34m(\u001b[0m\u001b[0mimage_file_path\u001b[0m\u001b[0;34m)\u001b[0m\u001b[0;34m\u001b[0m\u001b[0;34m\u001b[0m\u001b[0m\n\u001b[1;32m     20\u001b[0m         \u001b[0manno_file_path\u001b[0m \u001b[0;34m=\u001b[0m \u001b[0mself\u001b[0m\u001b[0;34m.\u001b[0m\u001b[0manno_list\u001b[0m\u001b[0;34m[\u001b[0m\u001b[0mindex\u001b[0m\u001b[0;34m]\u001b[0m\u001b[0;34m\u001b[0m\u001b[0;34m\u001b[0m\u001b[0m\n",
            "\u001b[0;32m/usr/local/lib/python3.7/dist-packages/PIL/Image.py\u001b[0m in \u001b[0;36mopen\u001b[0;34m(fp, mode)\u001b[0m\n\u001b[1;32m   2850\u001b[0m         \u001b[0mexclusive_fp\u001b[0m \u001b[0;34m=\u001b[0m \u001b[0;32mTrue\u001b[0m\u001b[0;34m\u001b[0m\u001b[0;34m\u001b[0m\u001b[0m\n\u001b[1;32m   2851\u001b[0m \u001b[0;34m\u001b[0m\u001b[0m\n\u001b[0;32m-> 2852\u001b[0;31m     \u001b[0mprefix\u001b[0m \u001b[0;34m=\u001b[0m \u001b[0mfp\u001b[0m\u001b[0;34m.\u001b[0m\u001b[0mread\u001b[0m\u001b[0;34m(\u001b[0m\u001b[0;36m16\u001b[0m\u001b[0;34m)\u001b[0m\u001b[0;34m\u001b[0m\u001b[0;34m\u001b[0m\u001b[0m\n\u001b[0m\u001b[1;32m   2853\u001b[0m \u001b[0;34m\u001b[0m\u001b[0m\n\u001b[1;32m   2854\u001b[0m     \u001b[0mpreinit\u001b[0m\u001b[0;34m(\u001b[0m\u001b[0;34m)\u001b[0m\u001b[0;34m\u001b[0m\u001b[0;34m\u001b[0m\u001b[0m\n",
            "\u001b[0;31mKeyboardInterrupt\u001b[0m: "
          ]
        }
      ],
      "source": [
        "train_model(psp_net, dataloaders_dict, criterion, scheduler, optimizer, num_epochs, loss_weight_list)#histogramEQ+learnable hd_loss pre-trained with hd"
      ]
    },
    {
      "cell_type": "code",
      "execution_count": null,
      "metadata": {
        "id": "xGdXylRAQFuX"
      },
      "outputs": [],
      "source": [
        "#psp_net = PSPNet(n_classes = 3)\n",
        "#state_dict = torch.load('/content/drive/MyDrive/2022/LungSegmentation/PSPNet/cutmix_pspnet50_25.pth')\n",
        "#psp_net.load_state_dict(torch.load('/content/drive/MyDrive/2022/LungSegmentation/PSPNet/cutmix_pspnet50_25.pth',map_location = {'cuda:0':'cpu'}))\n",
        "#psp_net.load_state_dict(state_dict)"
      ]
    },
    {
      "cell_type": "code",
      "execution_count": null,
      "metadata": {
        "id": "c5NN5NM2V3xF"
      },
      "outputs": [],
      "source": [
        "#train_model(psp_net, dataloaders_dict, criterion, scheduler, optimizer, num_epochs=num_epochs)#again again hd_loss pre-trained with hd"
      ]
    },
    {
      "cell_type": "code",
      "execution_count": null,
      "metadata": {
        "id": "bmx4z8XuPcR6"
      },
      "outputs": [],
      "source": [
        "##train_model(psp_net, dataloaders_dict, criterion, scheduler, optimizer, num_epochs=num_epochs)#again hd_loss pre-trained with hd"
      ]
    },
    {
      "cell_type": "code",
      "execution_count": null,
      "metadata": {
        "id": "Qp6SVrpGJ4yx"
      },
      "outputs": [],
      "source": [
        "#train_model(psp_net, dataloaders_dict, criterion, scheduler, optimizer, num_epochs=num_epochs)#hd_loss"
      ]
    },
    {
      "cell_type": "code",
      "execution_count": null,
      "metadata": {
        "id": "vBvNzWmSKvZ4"
      },
      "outputs": [],
      "source": [
        ""
      ]
    },
    {
      "cell_type": "code",
      "execution_count": null,
      "metadata": {
        "id": "gTDLWcwoCtnE"
      },
      "outputs": [],
      "source": [
        "train_model(psp_net, dataloaders_dict, criterion, scheduler, optimizer, num_epochs=num_epochs)#cutmix"
      ]
    },
    {
      "cell_type": "code",
      "execution_count": null,
      "metadata": {
        "id": "FMuH1rF3Ehrn"
      },
      "outputs": [],
      "source": [
        "psp_net.load_state_dict(torch.load(''))"
      ]
    },
    {
      "cell_type": "markdown",
      "metadata": {
        "id": "6gb8nI58XzHG"
      },
      "source": [
        "## Again Again Results"
      ]
    },
    {
      "cell_type": "code",
      "execution_count": null,
      "metadata": {
        "id": "p2eTivRKX3C6"
      },
      "outputs": [],
      "source": [
        "psp_net = PSPNet(n_classes = 3)\n",
        "#state_dict = torch.load('/content/drive/MyDrive/2022/LungSegmentation/PSPNet/cutmix_pspnet50_25.pth')\n",
        "psp_net.load_state_dict(torch.load('/content/drive/MyDrive/2022/LungSegmentation/PSPNet/again_again_hd_pspnet50_10.pth',map_location = {'cuda:0':'cpu'}))\n",
        "#psp_net.load_state_dict(state_dict)"
      ]
    },
    {
      "cell_type": "code",
      "execution_count": null,
      "metadata": {
        "id": "1PUKBdosX7oh"
      },
      "outputs": [],
      "source": [
        "psp_net.cuda()"
      ]
    },
    {
      "cell_type": "code",
      "execution_count": null,
      "metadata": {
        "id": "qhAY2oIXX84W"
      },
      "outputs": [],
      "source": [
        "val_dataloader = data.DataLoader(val_dataset, batch_size = 1, shuffle = False)"
      ]
    },
    {
      "cell_type": "code",
      "execution_count": null,
      "metadata": {
        "colab": {
          "base_uri": "https://localhost:8080/",
          "height": 401
        },
        "id": "fuC6k80EX-aW",
        "outputId": "9989c687-d25d-48f1-8dc2-eaa532cdd512"
      },
      "outputs": [
        {
          "ename": "RuntimeError",
          "evalue": "ignored",
          "output_type": "error",
          "traceback": [
            "\u001b[0;31m---------------------------------------------------------------------------\u001b[0m",
            "\u001b[0;31mRuntimeError\u001b[0m                              Traceback (most recent call last)",
            "\u001b[0;32m<ipython-input-99-0254269afbf3>\u001b[0m in \u001b[0;36m<module>\u001b[0;34m()\u001b[0m\n\u001b[1;32m      7\u001b[0m   \u001b[0;31m#print(x_.size())\u001b[0m\u001b[0;34m\u001b[0m\u001b[0;34m\u001b[0m\u001b[0;34m\u001b[0m\u001b[0m\n\u001b[1;32m      8\u001b[0m   \u001b[0mx_\u001b[0m \u001b[0;34m=\u001b[0m \u001b[0mimg\u001b[0m\u001b[0;34m.\u001b[0m\u001b[0mcuda\u001b[0m\u001b[0;34m(\u001b[0m\u001b[0;34m)\u001b[0m\u001b[0;34m\u001b[0m\u001b[0;34m\u001b[0m\u001b[0m\n\u001b[0;32m----> 9\u001b[0;31m   \u001b[0moutputs\u001b[0m \u001b[0;34m=\u001b[0m \u001b[0mpsp_net\u001b[0m\u001b[0;34m(\u001b[0m\u001b[0mx_\u001b[0m\u001b[0;34m)\u001b[0m\u001b[0;34m\u001b[0m\u001b[0;34m\u001b[0m\u001b[0m\n\u001b[0m\u001b[1;32m     10\u001b[0m   \u001b[0my\u001b[0m \u001b[0;34m=\u001b[0m \u001b[0moutputs\u001b[0m\u001b[0;34m[\u001b[0m\u001b[0;36m0\u001b[0m\u001b[0;34m]\u001b[0m\u001b[0;34m\u001b[0m\u001b[0;34m\u001b[0m\u001b[0m\n\u001b[1;32m     11\u001b[0m \u001b[0;34m\u001b[0m\u001b[0m\n",
            "\u001b[0;32m/usr/local/lib/python3.7/dist-packages/torch/nn/modules/module.py\u001b[0m in \u001b[0;36m_call_impl\u001b[0;34m(self, *input, **kwargs)\u001b[0m\n\u001b[1;32m    887\u001b[0m             \u001b[0mresult\u001b[0m \u001b[0;34m=\u001b[0m \u001b[0mself\u001b[0m\u001b[0;34m.\u001b[0m\u001b[0m_slow_forward\u001b[0m\u001b[0;34m(\u001b[0m\u001b[0;34m*\u001b[0m\u001b[0minput\u001b[0m\u001b[0;34m,\u001b[0m \u001b[0;34m**\u001b[0m\u001b[0mkwargs\u001b[0m\u001b[0;34m)\u001b[0m\u001b[0;34m\u001b[0m\u001b[0;34m\u001b[0m\u001b[0m\n\u001b[1;32m    888\u001b[0m         \u001b[0;32melse\u001b[0m\u001b[0;34m:\u001b[0m\u001b[0;34m\u001b[0m\u001b[0;34m\u001b[0m\u001b[0m\n\u001b[0;32m--> 889\u001b[0;31m             \u001b[0mresult\u001b[0m \u001b[0;34m=\u001b[0m \u001b[0mself\u001b[0m\u001b[0;34m.\u001b[0m\u001b[0mforward\u001b[0m\u001b[0;34m(\u001b[0m\u001b[0;34m*\u001b[0m\u001b[0minput\u001b[0m\u001b[0;34m,\u001b[0m \u001b[0;34m**\u001b[0m\u001b[0mkwargs\u001b[0m\u001b[0;34m)\u001b[0m\u001b[0;34m\u001b[0m\u001b[0;34m\u001b[0m\u001b[0m\n\u001b[0m\u001b[1;32m    890\u001b[0m         for hook in itertools.chain(\n\u001b[1;32m    891\u001b[0m                 \u001b[0m_global_forward_hooks\u001b[0m\u001b[0;34m.\u001b[0m\u001b[0mvalues\u001b[0m\u001b[0;34m(\u001b[0m\u001b[0;34m)\u001b[0m\u001b[0;34m,\u001b[0m\u001b[0;34m\u001b[0m\u001b[0;34m\u001b[0m\u001b[0m\n",
            "\u001b[0;32m<ipython-input-40-013bc97ab85c>\u001b[0m in \u001b[0;36mforward\u001b[0;34m(self, x)\u001b[0m\n\u001b[1;32m     29\u001b[0m \u001b[0;34m\u001b[0m\u001b[0m\n\u001b[1;32m     30\u001b[0m     \u001b[0;32mdef\u001b[0m \u001b[0mforward\u001b[0m\u001b[0;34m(\u001b[0m\u001b[0mself\u001b[0m\u001b[0;34m,\u001b[0m \u001b[0mx\u001b[0m\u001b[0;34m)\u001b[0m\u001b[0;34m:\u001b[0m\u001b[0;34m\u001b[0m\u001b[0;34m\u001b[0m\u001b[0m\n\u001b[0;32m---> 31\u001b[0;31m         \u001b[0mx\u001b[0m \u001b[0;34m=\u001b[0m \u001b[0mself\u001b[0m\u001b[0;34m.\u001b[0m\u001b[0mfeature_conv\u001b[0m\u001b[0;34m(\u001b[0m\u001b[0mx\u001b[0m\u001b[0;34m)\u001b[0m\u001b[0;34m\u001b[0m\u001b[0;34m\u001b[0m\u001b[0m\n\u001b[0m\u001b[1;32m     32\u001b[0m         \u001b[0mx\u001b[0m \u001b[0;34m=\u001b[0m \u001b[0mself\u001b[0m\u001b[0;34m.\u001b[0m\u001b[0mfeature_res_1\u001b[0m\u001b[0;34m(\u001b[0m\u001b[0mx\u001b[0m\u001b[0;34m)\u001b[0m\u001b[0;34m\u001b[0m\u001b[0;34m\u001b[0m\u001b[0m\n\u001b[1;32m     33\u001b[0m         \u001b[0mx\u001b[0m \u001b[0;34m=\u001b[0m \u001b[0mself\u001b[0m\u001b[0;34m.\u001b[0m\u001b[0mfeature_res_2\u001b[0m\u001b[0;34m(\u001b[0m\u001b[0mx\u001b[0m\u001b[0;34m)\u001b[0m\u001b[0;34m\u001b[0m\u001b[0;34m\u001b[0m\u001b[0m\n",
            "\u001b[0;32m/usr/local/lib/python3.7/dist-packages/torch/nn/modules/module.py\u001b[0m in \u001b[0;36m_call_impl\u001b[0;34m(self, *input, **kwargs)\u001b[0m\n\u001b[1;32m    887\u001b[0m             \u001b[0mresult\u001b[0m \u001b[0;34m=\u001b[0m \u001b[0mself\u001b[0m\u001b[0;34m.\u001b[0m\u001b[0m_slow_forward\u001b[0m\u001b[0;34m(\u001b[0m\u001b[0;34m*\u001b[0m\u001b[0minput\u001b[0m\u001b[0;34m,\u001b[0m \u001b[0;34m**\u001b[0m\u001b[0mkwargs\u001b[0m\u001b[0;34m)\u001b[0m\u001b[0;34m\u001b[0m\u001b[0;34m\u001b[0m\u001b[0m\n\u001b[1;32m    888\u001b[0m         \u001b[0;32melse\u001b[0m\u001b[0;34m:\u001b[0m\u001b[0;34m\u001b[0m\u001b[0;34m\u001b[0m\u001b[0m\n\u001b[0;32m--> 889\u001b[0;31m             \u001b[0mresult\u001b[0m \u001b[0;34m=\u001b[0m \u001b[0mself\u001b[0m\u001b[0;34m.\u001b[0m\u001b[0mforward\u001b[0m\u001b[0;34m(\u001b[0m\u001b[0;34m*\u001b[0m\u001b[0minput\u001b[0m\u001b[0;34m,\u001b[0m \u001b[0;34m**\u001b[0m\u001b[0mkwargs\u001b[0m\u001b[0;34m)\u001b[0m\u001b[0;34m\u001b[0m\u001b[0;34m\u001b[0m\u001b[0m\n\u001b[0m\u001b[1;32m    890\u001b[0m         for hook in itertools.chain(\n\u001b[1;32m    891\u001b[0m                 \u001b[0m_global_forward_hooks\u001b[0m\u001b[0;34m.\u001b[0m\u001b[0mvalues\u001b[0m\u001b[0;34m(\u001b[0m\u001b[0;34m)\u001b[0m\u001b[0;34m,\u001b[0m\u001b[0;34m\u001b[0m\u001b[0;34m\u001b[0m\u001b[0m\n",
            "\u001b[0;32m<ipython-input-42-6c1f5ffbb29f>\u001b[0m in \u001b[0;36mforward\u001b[0;34m(self, x)\u001b[0m\n\u001b[1;32m     23\u001b[0m     \u001b[0;32mdef\u001b[0m \u001b[0mforward\u001b[0m\u001b[0;34m(\u001b[0m\u001b[0mself\u001b[0m\u001b[0;34m,\u001b[0m \u001b[0mx\u001b[0m\u001b[0;34m)\u001b[0m\u001b[0;34m:\u001b[0m\u001b[0;34m\u001b[0m\u001b[0;34m\u001b[0m\u001b[0m\n\u001b[1;32m     24\u001b[0m         \u001b[0mx\u001b[0m \u001b[0;34m=\u001b[0m \u001b[0mself\u001b[0m\u001b[0;34m.\u001b[0m\u001b[0mcbnr_1\u001b[0m\u001b[0;34m(\u001b[0m\u001b[0mx\u001b[0m\u001b[0;34m)\u001b[0m\u001b[0;34m\u001b[0m\u001b[0;34m\u001b[0m\u001b[0m\n\u001b[0;32m---> 25\u001b[0;31m         \u001b[0mx\u001b[0m \u001b[0;34m=\u001b[0m \u001b[0mself\u001b[0m\u001b[0;34m.\u001b[0m\u001b[0mcbnr_2\u001b[0m\u001b[0;34m(\u001b[0m\u001b[0mx\u001b[0m\u001b[0;34m)\u001b[0m\u001b[0;34m\u001b[0m\u001b[0;34m\u001b[0m\u001b[0m\n\u001b[0m\u001b[1;32m     26\u001b[0m         \u001b[0mx\u001b[0m \u001b[0;34m=\u001b[0m \u001b[0mself\u001b[0m\u001b[0;34m.\u001b[0m\u001b[0mcbnr_3\u001b[0m\u001b[0;34m(\u001b[0m\u001b[0mx\u001b[0m\u001b[0;34m)\u001b[0m\u001b[0;34m\u001b[0m\u001b[0;34m\u001b[0m\u001b[0m\n\u001b[1;32m     27\u001b[0m         \u001b[0moutputs\u001b[0m \u001b[0;34m=\u001b[0m \u001b[0mself\u001b[0m\u001b[0;34m.\u001b[0m\u001b[0mmaxpool\u001b[0m\u001b[0;34m(\u001b[0m\u001b[0mx\u001b[0m\u001b[0;34m)\u001b[0m\u001b[0;34m\u001b[0m\u001b[0;34m\u001b[0m\u001b[0m\n",
            "\u001b[0;32m/usr/local/lib/python3.7/dist-packages/torch/nn/modules/module.py\u001b[0m in \u001b[0;36m_call_impl\u001b[0;34m(self, *input, **kwargs)\u001b[0m\n\u001b[1;32m    887\u001b[0m             \u001b[0mresult\u001b[0m \u001b[0;34m=\u001b[0m \u001b[0mself\u001b[0m\u001b[0;34m.\u001b[0m\u001b[0m_slow_forward\u001b[0m\u001b[0;34m(\u001b[0m\u001b[0;34m*\u001b[0m\u001b[0minput\u001b[0m\u001b[0;34m,\u001b[0m \u001b[0;34m**\u001b[0m\u001b[0mkwargs\u001b[0m\u001b[0;34m)\u001b[0m\u001b[0;34m\u001b[0m\u001b[0;34m\u001b[0m\u001b[0m\n\u001b[1;32m    888\u001b[0m         \u001b[0;32melse\u001b[0m\u001b[0;34m:\u001b[0m\u001b[0;34m\u001b[0m\u001b[0;34m\u001b[0m\u001b[0m\n\u001b[0;32m--> 889\u001b[0;31m             \u001b[0mresult\u001b[0m \u001b[0;34m=\u001b[0m \u001b[0mself\u001b[0m\u001b[0;34m.\u001b[0m\u001b[0mforward\u001b[0m\u001b[0;34m(\u001b[0m\u001b[0;34m*\u001b[0m\u001b[0minput\u001b[0m\u001b[0;34m,\u001b[0m \u001b[0;34m**\u001b[0m\u001b[0mkwargs\u001b[0m\u001b[0;34m)\u001b[0m\u001b[0;34m\u001b[0m\u001b[0;34m\u001b[0m\u001b[0m\n\u001b[0m\u001b[1;32m    890\u001b[0m         for hook in itertools.chain(\n\u001b[1;32m    891\u001b[0m                 \u001b[0m_global_forward_hooks\u001b[0m\u001b[0;34m.\u001b[0m\u001b[0mvalues\u001b[0m\u001b[0;34m(\u001b[0m\u001b[0;34m)\u001b[0m\u001b[0;34m,\u001b[0m\u001b[0;34m\u001b[0m\u001b[0;34m\u001b[0m\u001b[0m\n",
            "\u001b[0;32m<ipython-input-41-5333b5f4698c>\u001b[0m in \u001b[0;36mforward\u001b[0;34m(self, x)\u001b[0m\n\u001b[1;32m     10\u001b[0m     \u001b[0;32mdef\u001b[0m \u001b[0mforward\u001b[0m\u001b[0;34m(\u001b[0m\u001b[0mself\u001b[0m\u001b[0;34m,\u001b[0m \u001b[0mx\u001b[0m\u001b[0;34m)\u001b[0m\u001b[0;34m:\u001b[0m\u001b[0;34m\u001b[0m\u001b[0;34m\u001b[0m\u001b[0m\n\u001b[1;32m     11\u001b[0m         \u001b[0mx\u001b[0m \u001b[0;34m=\u001b[0m \u001b[0mself\u001b[0m\u001b[0;34m.\u001b[0m\u001b[0mconv\u001b[0m\u001b[0;34m(\u001b[0m\u001b[0mx\u001b[0m\u001b[0;34m)\u001b[0m\u001b[0;34m\u001b[0m\u001b[0;34m\u001b[0m\u001b[0m\n\u001b[0;32m---> 12\u001b[0;31m         \u001b[0mx\u001b[0m \u001b[0;34m=\u001b[0m \u001b[0mself\u001b[0m\u001b[0;34m.\u001b[0m\u001b[0mbatchnorm\u001b[0m\u001b[0;34m(\u001b[0m\u001b[0mx\u001b[0m\u001b[0;34m)\u001b[0m\u001b[0;34m\u001b[0m\u001b[0;34m\u001b[0m\u001b[0m\n\u001b[0m\u001b[1;32m     13\u001b[0m         \u001b[0moutputs\u001b[0m \u001b[0;34m=\u001b[0m \u001b[0mself\u001b[0m\u001b[0;34m.\u001b[0m\u001b[0mrelu\u001b[0m\u001b[0;34m(\u001b[0m\u001b[0mx\u001b[0m\u001b[0;34m)\u001b[0m\u001b[0;34m\u001b[0m\u001b[0;34m\u001b[0m\u001b[0m\n\u001b[1;32m     14\u001b[0m \u001b[0;34m\u001b[0m\u001b[0m\n",
            "\u001b[0;32m/usr/local/lib/python3.7/dist-packages/torch/nn/modules/module.py\u001b[0m in \u001b[0;36m_call_impl\u001b[0;34m(self, *input, **kwargs)\u001b[0m\n\u001b[1;32m    887\u001b[0m             \u001b[0mresult\u001b[0m \u001b[0;34m=\u001b[0m \u001b[0mself\u001b[0m\u001b[0;34m.\u001b[0m\u001b[0m_slow_forward\u001b[0m\u001b[0;34m(\u001b[0m\u001b[0;34m*\u001b[0m\u001b[0minput\u001b[0m\u001b[0;34m,\u001b[0m \u001b[0;34m**\u001b[0m\u001b[0mkwargs\u001b[0m\u001b[0;34m)\u001b[0m\u001b[0;34m\u001b[0m\u001b[0;34m\u001b[0m\u001b[0m\n\u001b[1;32m    888\u001b[0m         \u001b[0;32melse\u001b[0m\u001b[0;34m:\u001b[0m\u001b[0;34m\u001b[0m\u001b[0;34m\u001b[0m\u001b[0m\n\u001b[0;32m--> 889\u001b[0;31m             \u001b[0mresult\u001b[0m \u001b[0;34m=\u001b[0m \u001b[0mself\u001b[0m\u001b[0;34m.\u001b[0m\u001b[0mforward\u001b[0m\u001b[0;34m(\u001b[0m\u001b[0;34m*\u001b[0m\u001b[0minput\u001b[0m\u001b[0;34m,\u001b[0m \u001b[0;34m**\u001b[0m\u001b[0mkwargs\u001b[0m\u001b[0;34m)\u001b[0m\u001b[0;34m\u001b[0m\u001b[0;34m\u001b[0m\u001b[0m\n\u001b[0m\u001b[1;32m    890\u001b[0m         for hook in itertools.chain(\n\u001b[1;32m    891\u001b[0m                 \u001b[0m_global_forward_hooks\u001b[0m\u001b[0;34m.\u001b[0m\u001b[0mvalues\u001b[0m\u001b[0;34m(\u001b[0m\u001b[0;34m)\u001b[0m\u001b[0;34m,\u001b[0m\u001b[0;34m\u001b[0m\u001b[0;34m\u001b[0m\u001b[0m\n",
            "\u001b[0;32m/usr/local/lib/python3.7/dist-packages/torch/nn/modules/batchnorm.py\u001b[0m in \u001b[0;36mforward\u001b[0;34m(self, input)\u001b[0m\n\u001b[1;32m    138\u001b[0m             \u001b[0mself\u001b[0m\u001b[0;34m.\u001b[0m\u001b[0mrunning_mean\u001b[0m \u001b[0;32mif\u001b[0m \u001b[0;32mnot\u001b[0m \u001b[0mself\u001b[0m\u001b[0;34m.\u001b[0m\u001b[0mtraining\u001b[0m \u001b[0;32mor\u001b[0m \u001b[0mself\u001b[0m\u001b[0;34m.\u001b[0m\u001b[0mtrack_running_stats\u001b[0m \u001b[0;32melse\u001b[0m \u001b[0;32mNone\u001b[0m\u001b[0;34m,\u001b[0m\u001b[0;34m\u001b[0m\u001b[0;34m\u001b[0m\u001b[0m\n\u001b[1;32m    139\u001b[0m             \u001b[0mself\u001b[0m\u001b[0;34m.\u001b[0m\u001b[0mrunning_var\u001b[0m \u001b[0;32mif\u001b[0m \u001b[0;32mnot\u001b[0m \u001b[0mself\u001b[0m\u001b[0;34m.\u001b[0m\u001b[0mtraining\u001b[0m \u001b[0;32mor\u001b[0m \u001b[0mself\u001b[0m\u001b[0;34m.\u001b[0m\u001b[0mtrack_running_stats\u001b[0m \u001b[0;32melse\u001b[0m \u001b[0;32mNone\u001b[0m\u001b[0;34m,\u001b[0m\u001b[0;34m\u001b[0m\u001b[0;34m\u001b[0m\u001b[0m\n\u001b[0;32m--> 140\u001b[0;31m             self.weight, self.bias, bn_training, exponential_average_factor, self.eps)\n\u001b[0m\u001b[1;32m    141\u001b[0m \u001b[0;34m\u001b[0m\u001b[0m\n\u001b[1;32m    142\u001b[0m \u001b[0;34m\u001b[0m\u001b[0m\n",
            "\u001b[0;32m/usr/local/lib/python3.7/dist-packages/torch/nn/functional.py\u001b[0m in \u001b[0;36mbatch_norm\u001b[0;34m(input, running_mean, running_var, weight, bias, training, momentum, eps)\u001b[0m\n\u001b[1;32m   2148\u001b[0m \u001b[0;34m\u001b[0m\u001b[0m\n\u001b[1;32m   2149\u001b[0m     return torch.batch_norm(\n\u001b[0;32m-> 2150\u001b[0;31m         \u001b[0minput\u001b[0m\u001b[0;34m,\u001b[0m \u001b[0mweight\u001b[0m\u001b[0;34m,\u001b[0m \u001b[0mbias\u001b[0m\u001b[0;34m,\u001b[0m \u001b[0mrunning_mean\u001b[0m\u001b[0;34m,\u001b[0m \u001b[0mrunning_var\u001b[0m\u001b[0;34m,\u001b[0m \u001b[0mtraining\u001b[0m\u001b[0;34m,\u001b[0m \u001b[0mmomentum\u001b[0m\u001b[0;34m,\u001b[0m \u001b[0meps\u001b[0m\u001b[0;34m,\u001b[0m \u001b[0mtorch\u001b[0m\u001b[0;34m.\u001b[0m\u001b[0mbackends\u001b[0m\u001b[0;34m.\u001b[0m\u001b[0mcudnn\u001b[0m\u001b[0;34m.\u001b[0m\u001b[0menabled\u001b[0m\u001b[0;34m\u001b[0m\u001b[0;34m\u001b[0m\u001b[0m\n\u001b[0m\u001b[1;32m   2151\u001b[0m     )\n\u001b[1;32m   2152\u001b[0m \u001b[0;34m\u001b[0m\u001b[0m\n",
            "\u001b[0;31mRuntimeError\u001b[0m: CUDA out of memory. Tried to allocate 14.00 MiB (GPU 0; 15.90 GiB total capacity; 14.64 GiB already allocated; 3.75 MiB free; 14.93 GiB reserved in total by PyTorch)"
          ]
        }
      ],
      "source": [
        "left_lung_dice = 0.0\n",
        "right_lung_dice = 0.0\n",
        "psp_net.eval()\n",
        "for img, anno_class_img in val_dataloader:\n",
        "  #img_index = i\n",
        "  #x_ = img.unsqueeze(0).cuda()\n",
        "  #print(x_.size())\n",
        "  x_ = img.cuda()\n",
        "  outputs = psp_net(x_)\n",
        "  y = outputs[0]\n",
        "  \n",
        "  y = y[0].cpu().detach().numpy()\n",
        "  y = np.argmax(y, axis=0)\n",
        "  anno_predicted = Image.fromarray(np.uint8(y), mode=\"P\")\n",
        "  \n",
        "  left_anno_class_img = np.array(anno_class_img)\n",
        "  left_anno_class_img[left_anno_class_img == 2] = 0\n",
        "  left_anno_predicted = np.array(anno_predicted)\n",
        "  left_anno_predicted[left_anno_predicted == 2] = 0\n",
        "\n",
        "  right_anno_class_img = np.array(anno_class_img)\n",
        "  right_anno_class_img[right_anno_class_img == 1] = 0\n",
        "  right_anno_predicted = np.array(anno_predicted)\n",
        "  right_anno_predicted[right_anno_predicted == 1] = 0\n",
        "  \n",
        "  left_dice = dice_coef(left_anno_class_img, left_anno_predicted)\n",
        "  right_dice = dice_coef(right_anno_class_img, right_anno_predicted)\n",
        "  left_lung_dice += left_dice\n",
        "  right_lung_dice += right_dice"
      ]
    },
    {
      "cell_type": "code",
      "execution_count": null,
      "metadata": {
        "id": "3hy5lHubYASN"
      },
      "outputs": [],
      "source": [
        "left = left_lung_dice/len(val_dataset)\n",
        "right = right_lung_dice/len(val_dataset)\n",
        "print(f\"dice coefficient for PSPNet on hd loss: left lung {left_lung_dice/len(val_dataset)} right lung: {right_lung_dice/len(val_dataset)} mean dice: {0.5*(left+right)}\")"
      ]
    },
    {
      "cell_type": "code",
      "execution_count": null,
      "metadata": {
        "id": "HpIlji7_YD1h"
      },
      "outputs": [],
      "source": [
        "cutmix_df = pd.read_csv('/content/drive/MyDrive/2022/LungSegmentation/PSPNet/again_again_hd_log_output10.csv')\n",
        "cutmix_df.tail()"
      ]
    },
    {
      "cell_type": "code",
      "execution_count": null,
      "metadata": {
        "id": "X3xQMnN2YFY-"
      },
      "outputs": [],
      "source": [
        "plt.plot(cutmix_df['train_loss'])\n",
        "plt.show()"
      ]
    },
    {
      "cell_type": "markdown",
      "metadata": {
        "id": "2Y-7UV3GDpnM"
      },
      "source": [
        "## Again Results"
      ]
    },
    {
      "cell_type": "code",
      "execution_count": null,
      "metadata": {
        "id": "ZrkpYfGKDs6p"
      },
      "outputs": [],
      "source": [
        "psp_net = PSPNet(n_classes = 3)\n",
        "#state_dict = torch.load('/content/drive/MyDrive/2022/LungSegmentation/PSPNet/cutmix_pspnet50_25.pth')\n",
        "psp_net.load_state_dict(torch.load('/content/drive/MyDrive/2022/LungSegmentation/PSPNet/again_hd_pspnet50_10.pth',map_location = {'cuda:0':'cpu'}))\n",
        "#psp_net.load_state_dict(state_dict)"
      ]
    },
    {
      "cell_type": "code",
      "execution_count": null,
      "metadata": {
        "id": "rrRtWF7Vatly"
      },
      "outputs": [],
      "source": [
        "psp_net.cuda()"
      ]
    },
    {
      "cell_type": "code",
      "execution_count": null,
      "metadata": {
        "id": "fai8VdnIdtpu"
      },
      "outputs": [],
      "source": [
        "val_dataloader = data.DataLoader(val_dataset, batch_size = 1, shuffle = False)"
      ]
    },
    {
      "cell_type": "code",
      "execution_count": null,
      "metadata": {
        "id": "pGKKIdxTDxzc"
      },
      "outputs": [],
      "source": [
        "left_lung_dice = 0.0\n",
        "right_lung_dice = 0.0\n",
        "psp_net.eval()\n",
        "for img, anno_class_img in val_dataloader:\n",
        "  img_index = i\n",
        "  #x_ = img.unsqueeze(0).cuda()\n",
        "  #print(x_.size())\n",
        "  x_ = img.cuda()\n",
        "  outputs = psp_net(x_)\n",
        "  y = outputs[0]\n",
        "  \n",
        "  y = y[0].cpu().detach().numpy()\n",
        "  y = np.argmax(y, axis=0)\n",
        "  anno_predicted = Image.fromarray(np.uint8(y), mode=\"P\")\n",
        "  \n",
        "  left_anno_class_img = np.array(anno_class_img)\n",
        "  left_anno_class_img[left_anno_class_img == 2] = 0\n",
        "  left_anno_predicted = np.array(anno_predicted)\n",
        "  left_anno_predicted[left_anno_predicted == 2] = 0\n",
        "\n",
        "  right_anno_class_img = np.array(anno_class_img)\n",
        "  right_anno_class_img[right_anno_class_img == 1] = 0\n",
        "  right_anno_predicted = np.array(anno_predicted)\n",
        "  right_anno_predicted[right_anno_predicted == 1] = 0\n",
        "  \n",
        "  left_dice = dice_coef(left_anno_class_img, left_anno_predicted)\n",
        "  right_dice = dice_coef(right_anno_class_img, right_anno_predicted)\n",
        "  left_lung_dice += left_dice\n",
        "  right_lung_dice += right_dice"
      ]
    },
    {
      "cell_type": "code",
      "execution_count": null,
      "metadata": {
        "id": "YzHwBxTIE-5G"
      },
      "outputs": [],
      "source": [
        "left = left_lung_dice/len(val_dataset)\n",
        "right = right_lung_dice/len(val_dataset)\n",
        "print(f\"dice coefficient for PSPNet on hd loss: left lung {left_lung_dice/len(val_dataset)} right lung: {right_lung_dice/len(val_dataset)} mean dice: {0.5*(left+right)}\")"
      ]
    },
    {
      "cell_type": "code",
      "execution_count": null,
      "metadata": {
        "id": "aCIqLw2Vep_6"
      },
      "outputs": [],
      "source": [
        "cutmix_df = pd.read_csv('/content/drive/MyDrive/2022/LungSegmentation/PSPNet/again_hd_log_output10.csv')\n",
        "cutmix_df.tail()"
      ]
    },
    {
      "cell_type": "code",
      "execution_count": null,
      "metadata": {
        "id": "UFMoed_Ke61y"
      },
      "outputs": [],
      "source": [
        "plt.plot(cutmix_df['train_loss'])\n",
        "plt.show()"
      ]
    },
    {
      "cell_type": "code",
      "execution_count": null,
      "metadata": {
        "id": "TkNPtJh1gfyq"
      },
      "outputs": [],
      "source": [
        "train_model(psp_net, dataloaders_dict, criterion, scheduler, optimizer, num_epochs=num_epochs)"
      ]
    },
    {
      "cell_type": "code",
      "execution_count": null,
      "metadata": {
        "id": "vGm2eFKSopsz"
      },
      "outputs": [],
      "source": [
        "pd.read_csv('log_output30.csv').tail)"
      ]
    },
    {
      "cell_type": "code",
      "execution_count": null,
      "metadata": {
        "id": "6n_CYaEopsXm"
      },
      "outputs": [],
      "source": [
        "!cp /content/weights/pspnet50_10.pth /content/drive/MyDrive/2022/LungSegmentation/PSPNet/"
      ]
    },
    {
      "cell_type": "code",
      "execution_count": null,
      "metadata": {
        "id": "yS2Ia7KbEh_C"
      },
      "outputs": [],
      "source": [
        "!cp /content/log_output30.csv /content/drive/MyDrive/2022/LungSegmentation/PSPNet/"
      ]
    },
    {
      "cell_type": "markdown",
      "metadata": {
        "id": "mK3ss7xxYKWp"
      },
      "source": [
        "# Inference again again"
      ]
    },
    {
      "cell_type": "code",
      "execution_count": null,
      "metadata": {
        "id": "_MSedtSNYNdX"
      },
      "outputs": [],
      "source": [
        "val_img_list,val_anno_list = test_img_list,test_anno_list\n",
        "img_index = 4\n",
        "for i in range(img_index):\n",
        "  img_index = i\n",
        "  fig, (ax1, ax2, ax3) = plt.subplots(1, 3,figsize=(10, 5))\n",
        "  image_file_path = val_img_list[img_index]\n",
        "  img_original = Image.open(image_file_path)   \n",
        "  img_width, img_height = img_original.size\n",
        "  ax1.set_title(\"input\")\n",
        "  ax1.imshow(img_original)\n",
        "  ax1.axis('off')\n",
        "  \n",
        "  anno_file_path = val_anno_list[img_index]\n",
        "  anno_class_img = Image.open(anno_file_path) \n",
        "  p_palette = anno_class_img.getpalette()\n",
        "  ax2.set_title(\"target\")\n",
        "  ax2.imshow(anno_class_img)\n",
        "  ax2.axis('off')\n",
        "\n",
        "  psp_net.cuda()\n",
        "  psp_net.eval()\n",
        "\n",
        "  img, anno_class_img = val_dataset.__getitem__(img_index)\n",
        "  x = img.unsqueeze(0).cuda() \n",
        "  outputs = psp_net(x)\n",
        "  y = outputs[0] \n",
        "  \n",
        "  y = y[0].cpu().detach().numpy()\n",
        "  y = np.argmax(y, axis=0)\n",
        "  anno_predicted = Image.fromarray(np.uint8(y), mode=\"P\")\n",
        "  #anno_predicted = anno_predicted.resize((img_width, img_height), Image.NEAREST)\n",
        "  #print(np.array(anno_class_img).shape,np.array(anno_predicted).shape)\n",
        "  #break\n",
        "  \n",
        "  left_anno_class_img = np.array(anno_class_img)\n",
        "  left_anno_class_img[left_anno_class_img == 2] = 0\n",
        "  left_anno_predicted = np.array(anno_predicted)\n",
        "  left_anno_predicted[left_anno_predicted == 2] = 0\n",
        "\n",
        "  right_anno_class_img = np.array(anno_class_img)\n",
        "  right_anno_class_img[right_anno_class_img == 1] = 0\n",
        "  right_anno_predicted = np.array(anno_predicted)\n",
        "  right_anno_predicted[right_anno_predicted == 1] = 0\n",
        "  \n",
        "  left_dice = dice_coef(left_anno_class_img, left_anno_predicted)\n",
        "  right_dice = dice_coef(right_anno_class_img, right_anno_predicted)\n",
        "  ax3.set_title(f\"predicted (dice for left lung: {str(left_dice)[:4]} right: {str(right_dice)[:4]})\")\n",
        "  ax3.imshow(np.array(anno_predicted))\n",
        "  ax3.axis('off')\n",
        "  \n",
        "  \n",
        "  #ax3.show()"
      ]
    },
    {
      "cell_type": "markdown",
      "metadata": {
        "id": "mb_DZ7AApb7J"
      },
      "source": [
        "# Inference again"
      ]
    },
    {
      "cell_type": "code",
      "execution_count": null,
      "metadata": {
        "colab": {
          "base_uri": "https://localhost:8080/"
        },
        "id": "i9v4Y8glpWHe",
        "outputId": "512ea922-5091-48d0-aef0-992842f1ce7a"
      },
      "outputs": [
        {
          "data": {
            "text/plain": [
              "<All keys matched successfully>"
            ]
          },
          "execution_count": 62,
          "metadata": {},
          "output_type": "execute_result"
        }
      ],
      "source": [
        "#psp_net.load_state_dict(torch.load('/content/drive/MyDrive/2022/LungSegmentation/PSPNet/again_aug_pspnet50_50.pth',map_location = {'cuda:0':'cpu'}))"
      ]
    },
    {
      "cell_type": "code",
      "execution_count": null,
      "metadata": {
        "id": "wosZcEaCurCp"
      },
      "outputs": [],
      "source": [
        "val_img_list,val_anno_list = test_img_list,test_anno_list"
      ]
    },
    {
      "cell_type": "code",
      "execution_count": null,
      "metadata": {
        "colab": {
          "base_uri": "https://localhost:8080/",
          "height": 922
        },
        "id": "3C-vzoTuupPs",
        "outputId": "4f80cbb7-3fb5-45bb-df19-f22eef098f10"
      },
      "outputs": [
        {
          "name": "stderr",
          "output_type": "stream",
          "text": [
            "/usr/local/lib/python3.7/dist-packages/ipykernel_launcher.py:4: DeprecationWarning: `np.bool` is a deprecated alias for the builtin `bool`. To silence this warning, use `bool` by itself. Doing this will not modify any behavior and is safe. If you specifically wanted the numpy scalar type, use `np.bool_` here.\n",
            "Deprecated in NumPy 1.20; for more details and guidance: https://numpy.org/devdocs/release/1.20.0-notes.html#deprecations\n",
            "  after removing the cwd from sys.path.\n",
            "/usr/local/lib/python3.7/dist-packages/ipykernel_launcher.py:5: DeprecationWarning: `np.bool` is a deprecated alias for the builtin `bool`. To silence this warning, use `bool` by itself. Doing this will not modify any behavior and is safe. If you specifically wanted the numpy scalar type, use `np.bool_` here.\n",
            "Deprecated in NumPy 1.20; for more details and guidance: https://numpy.org/devdocs/release/1.20.0-notes.html#deprecations\n",
            "  \"\"\"\n"
          ]
        },
        {
          "data": {
            "image/png": "[encoded data removed]",
            "text/plain": [
              "<Figure size 720x360 with 3 Axes>"
            ]
          },
          "metadata": {},
          "output_type": "display_data"
        },
        {
          "data": {
            "image/png": "[encoded data removed]",
            "text/plain": [
              "<Figure size 720x360 with 3 Axes>"
            ]
          },
          "metadata": {},
          "output_type": "display_data"
        },
        {
          "data": {
            "image/png": "[encoded data removed]",
            "text/plain": [
              "<Figure size 720x360 with 3 Axes>"
            ]
          },
          "metadata": {},
          "output_type": "display_data"
        },
        {
          "data": {
            "image/png": "[encoded data removed]",
            "text/plain": [
              "<Figure size 720x360 with 3 Axes>"
            ]
          },
          "metadata": {},
          "output_type": "display_data"
        }
      ],
      "source": [
        "img_index = 4\n",
        "for i in range(img_index):\n",
        "  img_index = i\n",
        "  fig, (ax1, ax2, ax3) = plt.subplots(1, 3,figsize=(10, 5))\n",
        "  image_file_path = val_img_list[img_index]\n",
        "  img_original = Image.open(image_file_path)   \n",
        "  img_width, img_height = img_original.size\n",
        "  ax1.set_title(\"input\")\n",
        "  ax1.imshow(img_original)\n",
        "  ax1.axis('off')\n",
        "  \n",
        "  anno_file_path = val_anno_list[img_index]\n",
        "  anno_class_img = Image.open(anno_file_path) \n",
        "  p_palette = anno_class_img.getpalette()\n",
        "  ax2.set_title(\"target\")\n",
        "  ax2.imshow(anno_class_img)\n",
        "  ax2.axis('off')\n",
        "\n",
        "  psp_net.cuda()\n",
        "  psp_net.eval()\n",
        "\n",
        "  img, anno_class_img = val_dataset.__getitem__(img_index)\n",
        "  x = img.unsqueeze(0).cuda() \n",
        "  outputs = psp_net(x)\n",
        "  y = outputs[0] \n",
        "  \n",
        "  y = y[0].cpu().detach().numpy()\n",
        "  y = np.argmax(y, axis=0)\n",
        "  anno_predicted = Image.fromarray(np.uint8(y), mode=\"P\")\n",
        "  #anno_predicted = anno_predicted.resize((img_width, img_height), Image.NEAREST)\n",
        "  #print(np.array(anno_class_img).shape,np.array(anno_predicted).shape)\n",
        "  #break\n",
        "  \n",
        "  left_anno_class_img = np.array(anno_class_img)\n",
        "  left_anno_class_img[left_anno_class_img == 2] = 0\n",
        "  left_anno_predicted = np.array(anno_predicted)\n",
        "  left_anno_predicted[left_anno_predicted == 2] = 0\n",
        "\n",
        "  right_anno_class_img = np.array(anno_class_img)\n",
        "  right_anno_class_img[right_anno_class_img == 1] = 0\n",
        "  right_anno_predicted = np.array(anno_predicted)\n",
        "  right_anno_predicted[right_anno_predicted == 1] = 0\n",
        "  \n",
        "  left_dice = dice_coef(left_anno_class_img, left_anno_predicted)\n",
        "  right_dice = dice_coef(right_anno_class_img, right_anno_predicted)\n",
        "  ax3.set_title(f\"predicted (dice for left lung: {str(left_dice)[:4]} right: {str(right_dice)[:4]})\")\n",
        "  ax3.imshow(np.array(anno_predicted))\n",
        "  ax3.axis('off')\n",
        "  \n",
        "  \n",
        "  #ax3.show()"
      ]
    },
    {
      "cell_type": "markdown",
      "metadata": {
        "id": "DFrg8swH-gC9"
      },
      "source": [
        "# Results"
      ]
    },
    {
      "cell_type": "code",
      "execution_count": null,
      "metadata": {
        "colab": {
          "base_uri": "https://localhost:8080/",
          "height": 377
        },
        "id": "yZupfpL9-usR",
        "outputId": "14c1ccd4-2b19-4a08-d950-ec3fed3d6a91"
      },
      "outputs": [
        {
          "ename": "RuntimeError",
          "evalue": "ignored",
          "output_type": "error",
          "traceback": [
            "\u001b[0;31m---------------------------------------------------------------------------\u001b[0m",
            "\u001b[0;31mRuntimeError\u001b[0m                              Traceback (most recent call last)",
            "\u001b[0;32m<ipython-input-77-e71163342201>\u001b[0m in \u001b[0;36m<module>\u001b[0;34m()\u001b[0m\n\u001b[1;32m      5\u001b[0m   \u001b[0mimg_index\u001b[0m \u001b[0;34m=\u001b[0m \u001b[0mi\u001b[0m\u001b[0;34m\u001b[0m\u001b[0;34m\u001b[0m\u001b[0m\n\u001b[1;32m      6\u001b[0m   \u001b[0mimg\u001b[0m\u001b[0;34m,\u001b[0m \u001b[0manno_class_img\u001b[0m \u001b[0;34m=\u001b[0m \u001b[0mval_dataset\u001b[0m\u001b[0;34m.\u001b[0m\u001b[0m__getitem__\u001b[0m\u001b[0;34m(\u001b[0m\u001b[0mimg_index\u001b[0m\u001b[0;34m)\u001b[0m\u001b[0;34m\u001b[0m\u001b[0;34m\u001b[0m\u001b[0m\n\u001b[0;32m----> 7\u001b[0;31m   \u001b[0mx\u001b[0m \u001b[0;34m=\u001b[0m \u001b[0mimg\u001b[0m\u001b[0;34m.\u001b[0m\u001b[0munsqueeze\u001b[0m\u001b[0;34m(\u001b[0m\u001b[0;36m0\u001b[0m\u001b[0;34m)\u001b[0m\u001b[0;34m.\u001b[0m\u001b[0mcuda\u001b[0m\u001b[0;34m(\u001b[0m\u001b[0;34m)\u001b[0m\u001b[0;34m\u001b[0m\u001b[0;34m\u001b[0m\u001b[0m\n\u001b[0m\u001b[1;32m      8\u001b[0m   \u001b[0moutputs\u001b[0m \u001b[0;34m=\u001b[0m \u001b[0mpsp_net\u001b[0m\u001b[0;34m(\u001b[0m\u001b[0mx\u001b[0m\u001b[0;34m)\u001b[0m\u001b[0;34m\u001b[0m\u001b[0;34m\u001b[0m\u001b[0m\n\u001b[1;32m      9\u001b[0m   \u001b[0my\u001b[0m \u001b[0;34m=\u001b[0m \u001b[0moutputs\u001b[0m\u001b[0;34m[\u001b[0m\u001b[0;36m0\u001b[0m\u001b[0;34m]\u001b[0m\u001b[0;34m\u001b[0m\u001b[0;34m\u001b[0m\u001b[0m\n",
            "\u001b[0;32m/usr/local/lib/python3.7/dist-packages/torch/cuda/__init__.py\u001b[0m in \u001b[0;36m_lazy_init\u001b[0;34m()\u001b[0m\n\u001b[1;32m    215\u001b[0m         \u001b[0;31m# This function throws if there's a driver initialization error, no GPUs\u001b[0m\u001b[0;34m\u001b[0m\u001b[0;34m\u001b[0m\u001b[0;34m\u001b[0m\u001b[0m\n\u001b[1;32m    216\u001b[0m         \u001b[0;31m# are found or any other error occurs\u001b[0m\u001b[0;34m\u001b[0m\u001b[0;34m\u001b[0m\u001b[0;34m\u001b[0m\u001b[0m\n\u001b[0;32m--> 217\u001b[0;31m         \u001b[0mtorch\u001b[0m\u001b[0;34m.\u001b[0m\u001b[0m_C\u001b[0m\u001b[0;34m.\u001b[0m\u001b[0m_cuda_init\u001b[0m\u001b[0;34m(\u001b[0m\u001b[0;34m)\u001b[0m\u001b[0;34m\u001b[0m\u001b[0;34m\u001b[0m\u001b[0m\n\u001b[0m\u001b[1;32m    218\u001b[0m         \u001b[0;31m# Some of the queued calls may reentrantly call _lazy_init();\u001b[0m\u001b[0;34m\u001b[0m\u001b[0;34m\u001b[0m\u001b[0;34m\u001b[0m\u001b[0m\n\u001b[1;32m    219\u001b[0m         \u001b[0;31m# we need to just return without initializing in that case.\u001b[0m\u001b[0;34m\u001b[0m\u001b[0;34m\u001b[0m\u001b[0;34m\u001b[0m\u001b[0m\n",
            "\u001b[0;31mRuntimeError\u001b[0m: No CUDA GPUs are available"
          ]
        }
      ],
      "source": [
        "left_lung_dice = 0.0\n",
        "right_lung_dice = 0.0\n",
        "psp_net.eval()\n",
        "for i in range(len(val_dataset)):\n",
        "  img_index = i\n",
        "  img, anno_class_img = val_dataset.__getitem__(img_index)\n",
        "  x = img.unsqueeze(0).cuda() \n",
        "  outputs = psp_net(x)\n",
        "  y = outputs[0] \n",
        "  \n",
        "  y = y[0].cpu().detach().numpy()\n",
        "  y = np.argmax(y, axis=0)\n",
        "  anno_predicted = Image.fromarray(np.uint8(y), mode=\"P\")\n",
        "  \n",
        "  left_anno_class_img = np.array(anno_class_img)\n",
        "  left_anno_class_img[left_anno_class_img == 2] = 0\n",
        "  left_anno_predicted = np.array(anno_predicted)\n",
        "  left_anno_predicted[left_anno_predicted == 2] = 0\n",
        "\n",
        "  right_anno_class_img = np.array(anno_class_img)\n",
        "  right_anno_class_img[right_anno_class_img == 1] = 0\n",
        "  right_anno_predicted = np.array(anno_predicted)\n",
        "  right_anno_predicted[right_anno_predicted == 1] = 0\n",
        "  \n",
        "  left_dice = dice_coef(left_anno_class_img, left_anno_predicted)\n",
        "  right_dice = dice_coef(right_anno_class_img, right_anno_predicted)\n",
        "  left_lung_dice += left_dice\n",
        "  right_lung_dice += right_dice"
      ]
    },
    {
      "cell_type": "code",
      "execution_count": null,
      "metadata": {
        "colab": {
          "base_uri": "https://localhost:8080/"
        },
        "id": "QwgZQT5hDZes",
        "outputId": "b1e0451e-8b41-4cdd-8947-cf13f3cb8863"
      },
      "outputs": [
        {
          "name": "stdout",
          "output_type": "stream",
          "text": [
            "dice coefficient for PSPNet: left lung 0.9538515486106128 right lung: 0.931253878578914 mean dice: 0.9425527135947633\n"
          ]
        }
      ],
      "source": [
        "left = left_lung_dice/len(val_dataset)\n",
        "right = right_lung_dice/len(val_dataset)\n",
        "print(f\"dice coefficient for PSPNet: left lung {left_lung_dice/len(val_dataset)} right lung: {right_lung_dice/len(val_dataset)} mean dice: {0.5*(left+right)}\")"
      ]
    },
    {
      "cell_type": "markdown",
      "metadata": {
        "id": "BivW6wsJsxel"
      },
      "source": [
        "# Train again"
      ]
    },
    {
      "cell_type": "code",
      "execution_count": null,
      "metadata": {
        "id": "bHECSN6isy89"
      },
      "outputs": [],
      "source": [
        "optimizer = optim.SGD([\n",
        "    {'params':psp_net.feature_conv.parameters(),'lr':1e-3},\n",
        "    {'params':psp_net.feature_res_1.parameters(),'lr':1e-3},\n",
        "    {'params':psp_net.feature_res_2.parameters(),'lr':1e-3},\n",
        "    {'params':psp_net.feature_dilated_res_1.parameters(),'lr':1e-3},\n",
        "    {'params':psp_net.feature_dilated_res_2.parameters(),'lr':1e-3},\n",
        "    {'params':psp_net.pyramid_pooling.parameters(),'lr':1e-3},\n",
        "    {'params':psp_net.decode_feature.parameters(),'lr':1e-2},\n",
        "    {'params':psp_net.aux.parameters(),'lr':1e-2},\n",
        "], momentum = 0.9, weight_decay = 0.0001)"
      ]
    },
    {
      "cell_type": "code",
      "execution_count": null,
      "metadata": {
        "id": "TK-RlndetYcb"
      },
      "outputs": [],
      "source": [
        "def lambda_epoch(epoch):\n",
        "  max_epoch = 50\n",
        "  return math.pow((1-epoch/max_epoch),0.9)"
      ]
    },
    {
      "cell_type": "code",
      "execution_count": null,
      "metadata": {
        "id": "7WqZQb9xs0SE"
      },
      "outputs": [],
      "source": [
        "scheduler = optim.lr_scheduler.LambdaLR(optimizer, lr_lambda = lambda_epoch)"
      ]
    },
    {
      "cell_type": "code",
      "execution_count": null,
      "metadata": {
        "colab": {
          "base_uri": "https://localhost:8080/"
        },
        "id": "MHp71ijfs7BO",
        "outputId": "40bb2f26-2c43-4cdc-edaa-7a2b26abd22a"
      },
      "outputs": [
        {
          "name": "stdout",
          "output_type": "stream",
          "text": [
            "-------------\n",
            "Epoch 1/50\n",
            "-------------\n",
            "（train）\n"
          ]
        },
        {
          "name": "stderr",
          "output_type": "stream",
          "text": [
            "/usr/local/lib/python3.7/dist-packages/torch/optim/lr_scheduler.py:136: UserWarning: Detected call of `lr_scheduler.step()` before `optimizer.step()`. In PyTorch 1.1.0 and later, you should call them in the opposite order: `optimizer.step()` before `lr_scheduler.step()`.  Failure to do this will result in PyTorch skipping the first value of the learning rate schedule. See more details at https://pytorch.org/docs/stable/optim.html#how-to-adjust-learning-rate\n",
            "  \"https://pytorch.org/docs/stable/optim.html#how-to-adjust-learning-rate\", UserWarning)\n"
          ]
        },
        {
          "name": "stdout",
          "output_type": "stream",
          "text": [
            "iteration 10 || Loss: 0.0116 || 10iter: 11.4335 sec.\n",
            "iteration 20 || Loss: 0.0106 || 10iter: 11.3558 sec.\n",
            "iteration 30 || Loss: 0.0115 || 10iter: 11.4399 sec.\n",
            "iteration 40 || Loss: 0.0146 || 10iter: 11.8902 sec.\n",
            "iteration 50 || Loss: 0.0074 || 10iter: 11.5610 sec.\n",
            "iteration 60 || Loss: 0.0118 || 10iter: 11.3921 sec.\n",
            "iteration 70 || Loss: 0.0086 || 10iter: 11.3945 sec.\n",
            "iteration 80 || Loss: 0.0084 || 10iter: 11.6236 sec.\n",
            "iteration 90 || Loss: 0.0084 || 10iter: 11.3290 sec.\n",
            "iteration 100 || Loss: 0.0066 || 10iter: 11.3182 sec.\n",
            "-------------\n",
            "epoch 1 || Epoch_TRAIN_Loss:0.0102 ||Epoch_VAL_Loss:0.0000\n",
            "timer:  124.8537 sec.\n",
            "-------------\n",
            "Epoch 2/50\n",
            "-------------\n",
            "（train）\n",
            "iteration 110 || Loss: 0.0108 || 10iter: 11.5862 sec.\n",
            "iteration 120 || Loss: 0.0117 || 10iter: 11.5347 sec.\n",
            "iteration 130 || Loss: 0.0122 || 10iter: 11.5861 sec.\n",
            "iteration 140 || Loss: 0.0073 || 10iter: 11.4497 sec.\n",
            "iteration 150 || Loss: 0.0109 || 10iter: 11.6573 sec.\n",
            "iteration 160 || Loss: 0.0116 || 10iter: 11.5937 sec.\n",
            "iteration 170 || Loss: 0.0078 || 10iter: 11.6156 sec.\n",
            "iteration 180 || Loss: 0.0094 || 10iter: 11.5418 sec.\n",
            "iteration 190 || Loss: 0.0123 || 10iter: 11.5831 sec.\n",
            "iteration 200 || Loss: 0.0079 || 10iter: 11.3836 sec.\n",
            "-------------\n",
            "epoch 2 || Epoch_TRAIN_Loss:0.0101 ||Epoch_VAL_Loss:0.0000\n",
            "timer:  125.7113 sec.\n",
            "-------------\n",
            "Epoch 3/50\n",
            "-------------\n",
            "（train）\n",
            "iteration 210 || Loss: 0.0119 || 10iter: 11.6392 sec.\n",
            "iteration 220 || Loss: 0.0098 || 10iter: 11.6436 sec.\n",
            "iteration 230 || Loss: 0.0080 || 10iter: 11.7574 sec.\n",
            "iteration 240 || Loss: 0.0090 || 10iter: 11.7521 sec.\n",
            "iteration 250 || Loss: 0.0128 || 10iter: 11.7808 sec.\n",
            "iteration 260 || Loss: 0.0090 || 10iter: 11.7896 sec.\n",
            "iteration 270 || Loss: 0.0084 || 10iter: 11.7501 sec.\n",
            "iteration 280 || Loss: 0.0096 || 10iter: 11.6485 sec.\n",
            "iteration 290 || Loss: 0.0105 || 10iter: 11.6100 sec.\n",
            "iteration 300 || Loss: 0.0088 || 10iter: 11.5619 sec.\n",
            "-------------\n",
            "epoch 3 || Epoch_TRAIN_Loss:0.0098 ||Epoch_VAL_Loss:0.0000\n",
            "timer:  127.0712 sec.\n",
            "-------------\n",
            "Epoch 4/50\n",
            "-------------\n",
            "（train）\n",
            "iteration 310 || Loss: 0.0092 || 10iter: 11.7548 sec.\n",
            "iteration 320 || Loss: 0.0077 || 10iter: 11.6476 sec.\n",
            "iteration 330 || Loss: 0.0130 || 10iter: 11.7068 sec.\n",
            "iteration 340 || Loss: 0.0102 || 10iter: 11.5672 sec.\n",
            "iteration 350 || Loss: 0.0087 || 10iter: 11.7619 sec.\n",
            "iteration 360 || Loss: 0.0105 || 10iter: 11.6650 sec.\n",
            "iteration 370 || Loss: 0.0089 || 10iter: 11.6702 sec.\n",
            "iteration 380 || Loss: 0.0127 || 10iter: 11.6809 sec.\n",
            "iteration 390 || Loss: 0.0101 || 10iter: 11.5974 sec.\n",
            "iteration 400 || Loss: 0.0107 || 10iter: 11.4579 sec.\n",
            "-------------\n",
            "epoch 4 || Epoch_TRAIN_Loss:0.0097 ||Epoch_VAL_Loss:0.0000\n",
            "timer:  126.6446 sec.\n",
            "-------------\n",
            "Epoch 5/50\n",
            "-------------\n",
            "（train）\n",
            "iteration 410 || Loss: 0.0088 || 10iter: 11.5952 sec.\n",
            "iteration 420 || Loss: 0.0088 || 10iter: 11.4903 sec.\n",
            "iteration 430 || Loss: 0.0098 || 10iter: 11.7916 sec.\n",
            "iteration 440 || Loss: 0.0087 || 10iter: 11.9608 sec.\n",
            "iteration 450 || Loss: 0.0118 || 10iter: 11.6007 sec.\n",
            "iteration 460 || Loss: 0.0079 || 10iter: 11.6140 sec.\n",
            "iteration 470 || Loss: 0.0078 || 10iter: 11.5354 sec.\n",
            "iteration 480 || Loss: 0.0078 || 10iter: 11.6364 sec.\n",
            "iteration 490 || Loss: 0.0094 || 10iter: 11.8550 sec.\n",
            "iteration 500 || Loss: 0.0065 || 10iter: 11.6786 sec.\n",
            "-------------\n",
            "（val）\n",
            "-------------\n",
            "epoch 5 || Epoch_TRAIN_Loss:0.0095 ||Epoch_VAL_Loss:0.0149\n",
            "timer:  137.4413 sec.\n",
            "-------------\n",
            "Epoch 6/50\n",
            "-------------\n",
            "（train）\n",
            "iteration 510 || Loss: 0.0099 || 10iter: 11.8232 sec.\n",
            "iteration 520 || Loss: 0.0115 || 10iter: 11.8865 sec.\n",
            "iteration 530 || Loss: 0.0094 || 10iter: 11.6996 sec.\n",
            "iteration 540 || Loss: 0.0120 || 10iter: 11.5230 sec.\n",
            "iteration 550 || Loss: 0.0077 || 10iter: 11.4543 sec.\n",
            "iteration 560 || Loss: 0.0107 || 10iter: 11.5368 sec.\n",
            "iteration 570 || Loss: 0.0091 || 10iter: 11.4729 sec.\n",
            "iteration 580 || Loss: 0.0090 || 10iter: 11.3416 sec.\n",
            "iteration 590 || Loss: 0.0121 || 10iter: 11.3450 sec.\n",
            "iteration 600 || Loss: 0.0072 || 10iter: 11.3746 sec.\n",
            "-------------\n",
            "epoch 6 || Epoch_TRAIN_Loss:0.0093 ||Epoch_VAL_Loss:0.0000\n",
            "timer:  125.6400 sec.\n",
            "-------------\n",
            "Epoch 7/50\n",
            "-------------\n",
            "（train）\n",
            "iteration 610 || Loss: 0.0078 || 10iter: 11.4648 sec.\n",
            "iteration 620 || Loss: 0.0089 || 10iter: 11.3578 sec.\n",
            "iteration 630 || Loss: 0.0068 || 10iter: 11.4583 sec.\n",
            "iteration 640 || Loss: 0.0095 || 10iter: 11.4494 sec.\n",
            "iteration 650 || Loss: 0.0077 || 10iter: 11.4453 sec.\n",
            "iteration 660 || Loss: 0.0098 || 10iter: 11.3561 sec.\n",
            "iteration 670 || Loss: 0.0085 || 10iter: 11.4146 sec.\n",
            "iteration 680 || Loss: 0.0091 || 10iter: 11.3290 sec.\n",
            "iteration 690 || Loss: 0.0096 || 10iter: 11.3248 sec.\n",
            "iteration 700 || Loss: 0.0082 || 10iter: 11.2499 sec.\n",
            "-------------\n",
            "epoch 7 || Epoch_TRAIN_Loss:0.0092 ||Epoch_VAL_Loss:0.0000\n",
            "timer:  124.0464 sec.\n",
            "-------------\n",
            "Epoch 8/50\n",
            "-------------\n",
            "（train）\n",
            "iteration 710 || Loss: 0.0093 || 10iter: 11.3922 sec.\n",
            "iteration 720 || Loss: 0.0069 || 10iter: 11.3291 sec.\n",
            "iteration 730 || Loss: 0.0081 || 10iter: 11.2805 sec.\n",
            "iteration 740 || Loss: 0.0076 || 10iter: 11.3496 sec.\n",
            "iteration 750 || Loss: 0.0092 || 10iter: 11.4236 sec.\n",
            "iteration 760 || Loss: 0.0075 || 10iter: 11.4157 sec.\n",
            "iteration 770 || Loss: 0.0084 || 10iter: 11.3580 sec.\n",
            "iteration 780 || Loss: 0.0085 || 10iter: 11.4352 sec.\n",
            "iteration 790 || Loss: 0.0083 || 10iter: 11.7776 sec.\n",
            "iteration 800 || Loss: 0.0096 || 10iter: 11.8819 sec.\n",
            "-------------\n",
            "epoch 8 || Epoch_TRAIN_Loss:0.0091 ||Epoch_VAL_Loss:0.0000\n",
            "timer:  124.8031 sec.\n",
            "-------------\n",
            "Epoch 9/50\n",
            "-------------\n",
            "（train）\n",
            "iteration 810 || Loss: 0.0085 || 10iter: 12.2145 sec.\n",
            "iteration 820 || Loss: 0.0096 || 10iter: 12.0269 sec.\n",
            "iteration 830 || Loss: 0.0082 || 10iter: 12.0182 sec.\n",
            "iteration 840 || Loss: 0.0096 || 10iter: 11.9882 sec.\n",
            "iteration 850 || Loss: 0.0076 || 10iter: 11.9612 sec.\n",
            "iteration 860 || Loss: 0.0070 || 10iter: 11.9771 sec.\n",
            "iteration 870 || Loss: 0.0077 || 10iter: 12.0912 sec.\n",
            "iteration 880 || Loss: 0.0079 || 10iter: 12.0415 sec.\n",
            "iteration 890 || Loss: 0.0096 || 10iter: 12.0228 sec.\n",
            "iteration 900 || Loss: 0.0089 || 10iter: 11.8880 sec.\n",
            "-------------\n",
            "epoch 9 || Epoch_TRAIN_Loss:0.0090 ||Epoch_VAL_Loss:0.0000\n",
            "timer:  130.3294 sec.\n",
            "-------------\n",
            "Epoch 10/50\n",
            "-------------\n",
            "（train）\n",
            "iteration 910 || Loss: 0.0072 || 10iter: 12.1615 sec.\n",
            "iteration 920 || Loss: 0.0080 || 10iter: 11.9869 sec.\n",
            "iteration 930 || Loss: 0.0083 || 10iter: 11.8715 sec.\n",
            "iteration 940 || Loss: 0.0085 || 10iter: 11.9258 sec.\n",
            "iteration 950 || Loss: 0.0094 || 10iter: 11.6023 sec.\n",
            "iteration 960 || Loss: 0.0083 || 10iter: 11.5192 sec.\n",
            "iteration 970 || Loss: 0.0082 || 10iter: 11.5272 sec.\n",
            "iteration 980 || Loss: 0.0076 || 10iter: 11.5562 sec.\n",
            "iteration 990 || Loss: 0.0105 || 10iter: 11.5199 sec.\n",
            "iteration 1000 || Loss: 0.0062 || 10iter: 11.4589 sec.\n",
            "-------------\n",
            "（val）\n",
            "-------------\n",
            "epoch 10 || Epoch_TRAIN_Loss:0.0090 ||Epoch_VAL_Loss:0.0147\n",
            "timer:  136.9965 sec.\n",
            "-------------\n",
            "Epoch 11/50\n",
            "-------------\n",
            "（train）\n",
            "iteration 1010 || Loss: 0.0080 || 10iter: 11.5999 sec.\n",
            "iteration 1020 || Loss: 0.0084 || 10iter: 11.5142 sec.\n",
            "iteration 1030 || Loss: 0.0089 || 10iter: 11.5115 sec.\n",
            "iteration 1040 || Loss: 0.0071 || 10iter: 11.5712 sec.\n",
            "iteration 1050 || Loss: 0.0085 || 10iter: 11.5154 sec.\n",
            "iteration 1060 || Loss: 0.0114 || 10iter: 11.4979 sec.\n",
            "iteration 1070 || Loss: 0.0069 || 10iter: 11.5912 sec.\n",
            "iteration 1080 || Loss: 0.0078 || 10iter: 11.5500 sec.\n",
            "iteration 1090 || Loss: 0.0066 || 10iter: 11.5686 sec.\n",
            "iteration 1100 || Loss: 0.0196 || 10iter: 11.4564 sec.\n",
            "-------------\n",
            "epoch 11 || Epoch_TRAIN_Loss:0.0088 ||Epoch_VAL_Loss:0.0000\n",
            "timer:  125.5603 sec.\n",
            "-------------\n",
            "Epoch 12/50\n",
            "-------------\n",
            "（train）\n",
            "iteration 1110 || Loss: 0.0081 || 10iter: 11.6876 sec.\n",
            "iteration 1120 || Loss: 0.0126 || 10iter: 11.4899 sec.\n",
            "iteration 1130 || Loss: 0.0091 || 10iter: 11.4439 sec.\n",
            "iteration 1140 || Loss: 0.0085 || 10iter: 11.4273 sec.\n",
            "iteration 1150 || Loss: 0.0079 || 10iter: 11.4344 sec.\n",
            "iteration 1160 || Loss: 0.0116 || 10iter: 11.4833 sec.\n",
            "iteration 1170 || Loss: 0.0096 || 10iter: 11.5763 sec.\n",
            "iteration 1180 || Loss: 0.0093 || 10iter: 11.5478 sec.\n",
            "iteration 1190 || Loss: 0.0068 || 10iter: 11.5722 sec.\n",
            "iteration 1200 || Loss: 0.0087 || 10iter: 11.4997 sec.\n",
            "-------------\n",
            "epoch 12 || Epoch_TRAIN_Loss:0.0088 ||Epoch_VAL_Loss:0.0000\n",
            "timer:  125.3745 sec.\n",
            "-------------\n",
            "Epoch 13/50\n",
            "-------------\n",
            "（train）\n",
            "iteration 1210 || Loss: 0.0069 || 10iter: 11.6838 sec.\n",
            "iteration 1220 || Loss: 0.0073 || 10iter: 11.5920 sec.\n",
            "iteration 1230 || Loss: 0.0102 || 10iter: 11.6683 sec.\n",
            "iteration 1240 || Loss: 0.0092 || 10iter: 11.6152 sec.\n",
            "iteration 1250 || Loss: 0.0075 || 10iter: 11.5731 sec.\n",
            "iteration 1260 || Loss: 0.0086 || 10iter: 11.5812 sec.\n",
            "iteration 1270 || Loss: 0.0093 || 10iter: 11.5901 sec.\n",
            "iteration 1280 || Loss: 0.0075 || 10iter: 11.5878 sec.\n",
            "iteration 1290 || Loss: 0.0067 || 10iter: 11.5876 sec.\n",
            "iteration 1300 || Loss: 0.0053 || 10iter: 11.4665 sec.\n",
            "-------------\n",
            "epoch 13 || Epoch_TRAIN_Loss:0.0086 ||Epoch_VAL_Loss:0.0000\n",
            "timer:  126.1122 sec.\n",
            "-------------\n",
            "Epoch 14/50\n",
            "-------------\n",
            "（train）\n",
            "iteration 1310 || Loss: 0.0080 || 10iter: 12.0851 sec.\n",
            "iteration 1320 || Loss: 0.0087 || 10iter: 11.5963 sec.\n",
            "iteration 1330 || Loss: 0.0079 || 10iter: 11.6016 sec.\n",
            "iteration 1340 || Loss: 0.0072 || 10iter: 11.5799 sec.\n",
            "iteration 1350 || Loss: 0.0068 || 10iter: 11.6053 sec.\n",
            "iteration 1360 || Loss: 0.0089 || 10iter: 11.6458 sec.\n",
            "iteration 1370 || Loss: 0.0101 || 10iter: 11.7314 sec.\n",
            "iteration 1380 || Loss: 0.0072 || 10iter: 11.6620 sec.\n",
            "iteration 1390 || Loss: 0.0107 || 10iter: 11.5832 sec.\n",
            "iteration 1400 || Loss: 0.0382 || 10iter: 11.4850 sec.\n",
            "-------------\n",
            "epoch 14 || Epoch_TRAIN_Loss:0.0087 ||Epoch_VAL_Loss:0.0000\n",
            "timer:  126.7431 sec.\n",
            "-------------\n",
            "Epoch 15/50\n",
            "-------------\n",
            "（train）\n",
            "iteration 1410 || Loss: 0.0088 || 10iter: 11.6949 sec.\n",
            "iteration 1420 || Loss: 0.0094 || 10iter: 11.7295 sec.\n",
            "iteration 1430 || Loss: 0.0082 || 10iter: 11.7183 sec.\n",
            "iteration 1440 || Loss: 0.0077 || 10iter: 11.8673 sec.\n",
            "iteration 1450 || Loss: 0.0074 || 10iter: 11.8391 sec.\n",
            "iteration 1460 || Loss: 0.0102 || 10iter: 11.6721 sec.\n",
            "iteration 1470 || Loss: 0.0089 || 10iter: 11.6155 sec.\n",
            "iteration 1480 || Loss: 0.0096 || 10iter: 11.5823 sec.\n",
            "iteration 1490 || Loss: 0.0074 || 10iter: 11.5638 sec.\n",
            "iteration 1500 || Loss: 0.0226 || 10iter: 11.4838 sec.\n",
            "-------------\n",
            "（val）\n",
            "-------------\n",
            "epoch 15 || Epoch_TRAIN_Loss:0.0086 ||Epoch_VAL_Loss:0.0145\n",
            "timer:  136.6992 sec.\n",
            "-------------\n",
            "Epoch 16/50\n",
            "-------------\n",
            "（train）\n",
            "iteration 1510 || Loss: 0.0119 || 10iter: 12.0855 sec.\n",
            "iteration 1520 || Loss: 0.0083 || 10iter: 12.3925 sec.\n",
            "iteration 1530 || Loss: 0.0077 || 10iter: 12.1784 sec.\n",
            "iteration 1540 || Loss: 0.0082 || 10iter: 12.1940 sec.\n",
            "iteration 1550 || Loss: 0.0072 || 10iter: 12.1682 sec.\n",
            "iteration 1560 || Loss: 0.0062 || 10iter: 12.2030 sec.\n",
            "iteration 1570 || Loss: 0.0078 || 10iter: 12.2138 sec.\n",
            "iteration 1580 || Loss: 0.0080 || 10iter: 12.1893 sec.\n",
            "iteration 1590 || Loss: 0.0077 || 10iter: 12.1520 sec.\n",
            "iteration 1600 || Loss: 0.0067 || 10iter: 12.0127 sec.\n",
            "-------------\n",
            "epoch 16 || Epoch_TRAIN_Loss:0.0084 ||Epoch_VAL_Loss:0.0000\n",
            "timer:  131.8581 sec.\n",
            "-------------\n",
            "Epoch 17/50\n",
            "-------------\n",
            "（train）\n",
            "iteration 1610 || Loss: 0.0078 || 10iter: 12.2695 sec.\n",
            "iteration 1620 || Loss: 0.0073 || 10iter: 12.1193 sec.\n",
            "iteration 1630 || Loss: 0.0072 || 10iter: 12.1211 sec.\n",
            "iteration 1640 || Loss: 0.0104 || 10iter: 12.0823 sec.\n",
            "iteration 1650 || Loss: 0.0079 || 10iter: 12.0538 sec.\n",
            "iteration 1660 || Loss: 0.0098 || 10iter: 12.1230 sec.\n",
            "iteration 1670 || Loss: 0.0095 || 10iter: 12.0367 sec.\n",
            "iteration 1680 || Loss: 0.0073 || 10iter: 12.0397 sec.\n",
            "iteration 1690 || Loss: 0.0095 || 10iter: 11.9612 sec.\n",
            "iteration 1700 || Loss: 0.0112 || 10iter: 11.7721 sec.\n",
            "-------------\n",
            "epoch 17 || Epoch_TRAIN_Loss:0.0083 ||Epoch_VAL_Loss:0.0000\n",
            "timer:  130.6483 sec.\n",
            "-------------\n",
            "Epoch 18/50\n",
            "-------------\n",
            "（train）\n",
            "iteration 1710 || Loss: 0.0076 || 10iter: 11.7917 sec.\n",
            "iteration 1720 || Loss: 0.0105 || 10iter: 11.5600 sec.\n",
            "iteration 1730 || Loss: 0.0086 || 10iter: 11.4863 sec.\n",
            "iteration 1740 || Loss: 0.0062 || 10iter: 11.4894 sec.\n",
            "iteration 1750 || Loss: 0.0071 || 10iter: 11.4509 sec.\n",
            "iteration 1760 || Loss: 0.0111 || 10iter: 11.4577 sec.\n",
            "iteration 1770 || Loss: 0.0089 || 10iter: 11.4743 sec.\n",
            "iteration 1780 || Loss: 0.0077 || 10iter: 11.5283 sec.\n",
            "iteration 1790 || Loss: 0.0118 || 10iter: 11.5127 sec.\n",
            "iteration 1800 || Loss: 0.0192 || 10iter: 11.4186 sec.\n",
            "-------------\n",
            "epoch 18 || Epoch_TRAIN_Loss:0.0084 ||Epoch_VAL_Loss:0.0000\n",
            "timer:  125.3757 sec.\n",
            "-------------\n",
            "Epoch 19/50\n",
            "-------------\n",
            "（train）\n",
            "iteration 1810 || Loss: 0.0062 || 10iter: 11.7242 sec.\n",
            "iteration 1820 || Loss: 0.0076 || 10iter: 11.4548 sec.\n",
            "iteration 1830 || Loss: 0.0105 || 10iter: 11.4819 sec.\n",
            "iteration 1840 || Loss: 0.0068 || 10iter: 11.4336 sec.\n",
            "iteration 1850 || Loss: 0.0079 || 10iter: 11.4078 sec.\n",
            "iteration 1860 || Loss: 0.0082 || 10iter: 11.4202 sec.\n",
            "iteration 1870 || Loss: 0.0086 || 10iter: 11.4258 sec.\n",
            "iteration 1880 || Loss: 0.0071 || 10iter: 11.4248 sec.\n",
            "iteration 1890 || Loss: 0.0067 || 10iter: 11.4023 sec.\n",
            "iteration 1900 || Loss: 0.0120 || 10iter: 11.3246 sec.\n",
            "-------------\n",
            "epoch 19 || Epoch_TRAIN_Loss:0.0082 ||Epoch_VAL_Loss:0.0000\n",
            "timer:  124.7078 sec.\n",
            "-------------\n",
            "Epoch 20/50\n",
            "-------------\n",
            "（train）\n",
            "iteration 1910 || Loss: 0.0061 || 10iter: 11.5701 sec.\n",
            "iteration 1920 || Loss: 0.0092 || 10iter: 11.5395 sec.\n",
            "iteration 1930 || Loss: 0.0069 || 10iter: 11.5198 sec.\n",
            "iteration 1940 || Loss: 0.0073 || 10iter: 11.4572 sec.\n",
            "iteration 1950 || Loss: 0.0068 || 10iter: 11.4146 sec.\n",
            "iteration 1960 || Loss: 0.0078 || 10iter: 11.4582 sec.\n",
            "iteration 1970 || Loss: 0.0096 || 10iter: 11.4408 sec.\n",
            "iteration 1980 || Loss: 0.0089 || 10iter: 11.4200 sec.\n",
            "iteration 1990 || Loss: 0.0078 || 10iter: 11.4050 sec.\n",
            "iteration 2000 || Loss: 0.0065 || 10iter: 11.2887 sec.\n",
            "-------------\n",
            "（val）\n",
            "-------------\n",
            "epoch 20 || Epoch_TRAIN_Loss:0.0082 ||Epoch_VAL_Loss:0.0148\n",
            "timer:  134.0878 sec.\n",
            "-------------\n",
            "Epoch 21/50\n",
            "-------------\n",
            "（train）\n",
            "iteration 2010 || Loss: 0.0096 || 10iter: 11.4991 sec.\n",
            "iteration 2020 || Loss: 0.0106 || 10iter: 11.6088 sec.\n",
            "iteration 2030 || Loss: 0.0073 || 10iter: 11.4963 sec.\n",
            "iteration 2040 || Loss: 0.0084 || 10iter: 11.5783 sec.\n",
            "iteration 2050 || Loss: 0.0092 || 10iter: 11.6411 sec.\n",
            "iteration 2060 || Loss: 0.0063 || 10iter: 11.4494 sec.\n",
            "iteration 2070 || Loss: 0.0079 || 10iter: 11.5040 sec.\n",
            "iteration 2080 || Loss: 0.0076 || 10iter: 11.4964 sec.\n",
            "iteration 2090 || Loss: 0.0061 || 10iter: 11.5051 sec.\n",
            "iteration 2100 || Loss: 0.0129 || 10iter: 11.5805 sec.\n",
            "-------------\n",
            "epoch 21 || Epoch_TRAIN_Loss:0.0082 ||Epoch_VAL_Loss:0.0000\n",
            "timer:  125.5372 sec.\n",
            "-------------\n",
            "Epoch 22/50\n",
            "-------------\n",
            "（train）\n",
            "iteration 2110 || Loss: 0.0065 || 10iter: 11.6863 sec.\n",
            "iteration 2120 || Loss: 0.0061 || 10iter: 12.0991 sec.\n",
            "iteration 2130 || Loss: 0.0076 || 10iter: 12.1213 sec.\n",
            "iteration 2140 || Loss: 0.0073 || 10iter: 12.0838 sec.\n",
            "iteration 2150 || Loss: 0.0090 || 10iter: 12.0704 sec.\n",
            "iteration 2160 || Loss: 0.0079 || 10iter: 12.0863 sec.\n",
            "iteration 2170 || Loss: 0.0063 || 10iter: 12.1479 sec.\n",
            "iteration 2180 || Loss: 0.0088 || 10iter: 12.1859 sec.\n",
            "iteration 2190 || Loss: 0.0088 || 10iter: 12.0309 sec.\n",
            "iteration 2200 || Loss: 0.0114 || 10iter: 11.7555 sec.\n",
            "-------------\n",
            "epoch 22 || Epoch_TRAIN_Loss:0.0081 ||Epoch_VAL_Loss:0.0000\n",
            "timer:  130.3636 sec.\n",
            "-------------\n",
            "Epoch 23/50\n",
            "-------------\n",
            "（train）\n",
            "iteration 2210 || Loss: 0.0072 || 10iter: 11.8238 sec.\n",
            "iteration 2220 || Loss: 0.0067 || 10iter: 11.6615 sec.\n",
            "iteration 2230 || Loss: 0.0080 || 10iter: 11.9672 sec.\n",
            "iteration 2240 || Loss: 0.0079 || 10iter: 12.0242 sec.\n",
            "iteration 2250 || Loss: 0.0069 || 10iter: 12.0830 sec.\n",
            "iteration 2260 || Loss: 0.0076 || 10iter: 12.0901 sec.\n",
            "iteration 2270 || Loss: 0.0080 || 10iter: 12.1434 sec.\n",
            "iteration 2280 || Loss: 0.0079 || 10iter: 12.1601 sec.\n",
            "iteration 2290 || Loss: 0.0064 || 10iter: 12.1155 sec.\n",
            "iteration 2300 || Loss: 0.0103 || 10iter: 12.0504 sec.\n",
            "-------------\n",
            "epoch 23 || Epoch_TRAIN_Loss:0.0080 ||Epoch_VAL_Loss:0.0000\n",
            "timer:  130.2129 sec.\n",
            "-------------\n",
            "Epoch 24/50\n",
            "-------------\n",
            "（train）\n",
            "iteration 2310 || Loss: 0.0085 || 10iter: 12.4295 sec.\n",
            "iteration 2320 || Loss: 0.0084 || 10iter: 12.0860 sec.\n",
            "iteration 2330 || Loss: 0.0059 || 10iter: 11.9289 sec.\n",
            "iteration 2340 || Loss: 0.0082 || 10iter: 11.6533 sec.\n",
            "iteration 2350 || Loss: 0.0069 || 10iter: 11.6042 sec.\n",
            "iteration 2360 || Loss: 0.0066 || 10iter: 11.5919 sec.\n",
            "iteration 2370 || Loss: 0.0062 || 10iter: 11.6024 sec.\n",
            "iteration 2380 || Loss: 0.0115 || 10iter: 11.5486 sec.\n",
            "iteration 2390 || Loss: 0.0086 || 10iter: 11.6717 sec.\n",
            "iteration 2400 || Loss: 0.0077 || 10iter: 11.4084 sec.\n",
            "-------------\n",
            "epoch 24 || Epoch_TRAIN_Loss:0.0080 ||Epoch_VAL_Loss:0.0000\n",
            "timer:  127.6837 sec.\n",
            "-------------\n",
            "Epoch 25/50\n",
            "-------------\n",
            "（train）\n",
            "iteration 2410 || Loss: 0.0088 || 10iter: 11.5900 sec.\n",
            "iteration 2420 || Loss: 0.0071 || 10iter: 11.5113 sec.\n",
            "iteration 2430 || Loss: 0.0076 || 10iter: 11.4654 sec.\n",
            "iteration 2440 || Loss: 0.0076 || 10iter: 11.5123 sec.\n",
            "iteration 2450 || Loss: 0.0105 || 10iter: 11.5307 sec.\n",
            "iteration 2460 || Loss: 0.0098 || 10iter: 11.5000 sec.\n",
            "iteration 2470 || Loss: 0.0085 || 10iter: 11.5094 sec.\n",
            "iteration 2480 || Loss: 0.0088 || 10iter: 11.4717 sec.\n",
            "iteration 2490 || Loss: 0.0069 || 10iter: 11.4851 sec.\n",
            "iteration 2500 || Loss: 0.0111 || 10iter: 11.4130 sec.\n",
            "-------------\n",
            "（val）\n",
            "-------------\n",
            "epoch 25 || Epoch_TRAIN_Loss:0.0079 ||Epoch_VAL_Loss:0.0146\n",
            "timer:  134.8592 sec.\n",
            "-------------\n",
            "Epoch 26/50\n",
            "-------------\n",
            "（train）\n",
            "iteration 2510 || Loss: 0.0097 || 10iter: 11.6216 sec.\n",
            "iteration 2520 || Loss: 0.0065 || 10iter: 11.4268 sec.\n",
            "iteration 2530 || Loss: 0.0102 || 10iter: 11.4250 sec.\n",
            "iteration 2540 || Loss: 0.0061 || 10iter: 11.4079 sec.\n",
            "iteration 2550 || Loss: 0.0071 || 10iter: 11.3276 sec.\n",
            "iteration 2560 || Loss: 0.0081 || 10iter: 11.3383 sec.\n",
            "iteration 2570 || Loss: 0.0059 || 10iter: 11.3684 sec.\n",
            "iteration 2580 || Loss: 0.0100 || 10iter: 11.3560 sec.\n",
            "iteration 2590 || Loss: 0.0099 || 10iter: 11.3992 sec.\n",
            "iteration 2600 || Loss: 0.0087 || 10iter: 11.3841 sec.\n",
            "-------------\n",
            "epoch 26 || Epoch_TRAIN_Loss:0.0079 ||Epoch_VAL_Loss:0.0000\n",
            "timer:  124.2657 sec.\n",
            "-------------\n",
            "Epoch 27/50\n",
            "-------------\n",
            "（train）\n",
            "iteration 2610 || Loss: 0.0101 || 10iter: 11.5172 sec.\n",
            "iteration 2620 || Loss: 0.0067 || 10iter: 11.4564 sec.\n",
            "iteration 2630 || Loss: 0.0077 || 10iter: 11.4451 sec.\n",
            "iteration 2640 || Loss: 0.0066 || 10iter: 11.4407 sec.\n",
            "iteration 2650 || Loss: 0.0106 || 10iter: 11.4725 sec.\n",
            "iteration 2660 || Loss: 0.0072 || 10iter: 11.5121 sec.\n",
            "iteration 2670 || Loss: 0.0076 || 10iter: 11.5061 sec.\n",
            "iteration 2680 || Loss: 0.0088 || 10iter: 11.5893 sec.\n",
            "iteration 2690 || Loss: 0.0067 || 10iter: 11.4622 sec.\n",
            "iteration 2700 || Loss: 0.0065 || 10iter: 11.3851 sec.\n",
            "-------------\n",
            "epoch 27 || Epoch_TRAIN_Loss:0.0079 ||Epoch_VAL_Loss:0.0000\n",
            "timer:  124.9869 sec.\n",
            "-------------\n",
            "Epoch 28/50\n",
            "-------------\n",
            "（train）\n",
            "iteration 2710 || Loss: 0.0067 || 10iter: 11.6392 sec.\n",
            "iteration 2720 || Loss: 0.0061 || 10iter: 11.5387 sec.\n",
            "iteration 2730 || Loss: 0.0090 || 10iter: 11.5105 sec.\n",
            "iteration 2740 || Loss: 0.0072 || 10iter: 11.5233 sec.\n",
            "iteration 2750 || Loss: 0.0093 || 10iter: 11.5079 sec.\n",
            "iteration 2760 || Loss: 0.0072 || 10iter: 11.5201 sec.\n",
            "iteration 2770 || Loss: 0.0088 || 10iter: 11.5001 sec.\n",
            "iteration 2780 || Loss: 0.0061 || 10iter: 11.5302 sec.\n",
            "iteration 2790 || Loss: 0.0072 || 10iter: 11.5524 sec.\n",
            "iteration 2800 || Loss: 0.0059 || 10iter: 11.5020 sec.\n",
            "-------------\n",
            "epoch 28 || Epoch_TRAIN_Loss:0.0078 ||Epoch_VAL_Loss:0.0000\n",
            "timer:  125.5123 sec.\n",
            "-------------\n",
            "Epoch 29/50\n",
            "-------------\n",
            "（train）\n",
            "iteration 2810 || Loss: 0.0067 || 10iter: 11.7180 sec.\n",
            "iteration 2820 || Loss: 0.0081 || 10iter: 11.5253 sec.\n",
            "iteration 2830 || Loss: 0.0066 || 10iter: 11.6047 sec.\n",
            "iteration 2840 || Loss: 0.0062 || 10iter: 11.7059 sec.\n",
            "iteration 2850 || Loss: 0.0097 || 10iter: 11.4960 sec.\n",
            "iteration 2860 || Loss: 0.0094 || 10iter: 11.6465 sec.\n",
            "iteration 2870 || Loss: 0.0083 || 10iter: 11.6581 sec.\n",
            "iteration 2880 || Loss: 0.0088 || 10iter: 11.5729 sec.\n",
            "iteration 2890 || Loss: 0.0146 || 10iter: 11.4643 sec.\n",
            "iteration 2900 || Loss: 0.0109 || 10iter: 11.4113 sec.\n",
            "-------------\n",
            "epoch 29 || Epoch_TRAIN_Loss:0.0078 ||Epoch_VAL_Loss:0.0000\n",
            "timer:  125.9782 sec.\n",
            "-------------\n",
            "Epoch 30/50\n",
            "-------------\n",
            "（train）\n",
            "iteration 2910 || Loss: 0.0069 || 10iter: 11.5200 sec.\n",
            "iteration 2920 || Loss: 0.0066 || 10iter: 11.4754 sec.\n",
            "iteration 2930 || Loss: 0.0069 || 10iter: 12.2211 sec.\n",
            "iteration 2940 || Loss: 0.0057 || 10iter: 12.2800 sec.\n",
            "iteration 2950 || Loss: 0.0072 || 10iter: 12.2583 sec.\n",
            "iteration 2960 || Loss: 0.0075 || 10iter: 12.2669 sec.\n",
            "iteration 2970 || Loss: 0.0073 || 10iter: 12.4303 sec.\n",
            "iteration 2980 || Loss: 0.0067 || 10iter: 12.2760 sec.\n",
            "iteration 2990 || Loss: 0.0070 || 10iter: 12.3119 sec.\n",
            "iteration 3000 || Loss: 0.0091 || 10iter: 12.1336 sec.\n",
            "-------------\n",
            "（val）\n",
            "-------------\n",
            "epoch 30 || Epoch_TRAIN_Loss:0.0078 ||Epoch_VAL_Loss:0.0148\n",
            "timer:  142.2881 sec.\n",
            "-------------\n",
            "Epoch 31/50\n",
            "-------------\n",
            "（train）\n",
            "iteration 3010 || Loss: 0.0068 || 10iter: 12.1761 sec.\n",
            "iteration 3020 || Loss: 0.0083 || 10iter: 11.8082 sec.\n",
            "iteration 3030 || Loss: 0.0075 || 10iter: 12.1580 sec.\n",
            "iteration 3040 || Loss: 0.0079 || 10iter: 12.2278 sec.\n",
            "iteration 3050 || Loss: 0.0065 || 10iter: 12.2834 sec.\n",
            "iteration 3060 || Loss: 0.0057 || 10iter: 12.2581 sec.\n",
            "iteration 3070 || Loss: 0.0061 || 10iter: 12.2762 sec.\n",
            "iteration 3080 || Loss: 0.0102 || 10iter: 12.2604 sec.\n",
            "iteration 3090 || Loss: 0.0077 || 10iter: 12.3363 sec.\n",
            "iteration 3100 || Loss: 0.0054 || 10iter: 12.1381 sec.\n",
            "-------------\n",
            "epoch 31 || Epoch_TRAIN_Loss:0.0077 ||Epoch_VAL_Loss:0.0000\n",
            "timer:  132.0061 sec.\n",
            "-------------\n",
            "Epoch 32/50\n",
            "-------------\n",
            "（train）\n",
            "iteration 3110 || Loss: 0.0075 || 10iter: 12.4128 sec.\n",
            "iteration 3120 || Loss: 0.0073 || 10iter: 12.0541 sec.\n",
            "iteration 3130 || Loss: 0.0069 || 10iter: 11.7983 sec.\n",
            "iteration 3140 || Loss: 0.0080 || 10iter: 11.5852 sec.\n",
            "iteration 3150 || Loss: 0.0106 || 10iter: 11.4797 sec.\n",
            "iteration 3160 || Loss: 0.0080 || 10iter: 11.4889 sec.\n",
            "iteration 3170 || Loss: 0.0067 || 10iter: 11.5298 sec.\n",
            "iteration 3180 || Loss: 0.0088 || 10iter: 11.5332 sec.\n",
            "iteration 3190 || Loss: 0.0073 || 10iter: 11.5019 sec.\n",
            "iteration 3200 || Loss: 0.0102 || 10iter: 11.4487 sec.\n",
            "-------------\n",
            "epoch 32 || Epoch_TRAIN_Loss:0.0078 ||Epoch_VAL_Loss:0.0000\n",
            "timer:  127.0039 sec.\n",
            "-------------\n",
            "Epoch 33/50\n",
            "-------------\n",
            "（train）\n",
            "iteration 3210 || Loss: 0.0085 || 10iter: 11.5327 sec.\n",
            "iteration 3220 || Loss: 0.0064 || 10iter: 11.5238 sec.\n",
            "iteration 3230 || Loss: 0.0080 || 10iter: 11.5157 sec.\n",
            "iteration 3240 || Loss: 0.0072 || 10iter: 11.6769 sec.\n",
            "iteration 3250 || Loss: 0.0065 || 10iter: 11.5682 sec.\n",
            "iteration 3260 || Loss: 0.0089 || 10iter: 11.6048 sec.\n",
            "iteration 3270 || Loss: 0.0078 || 10iter: 11.7394 sec.\n",
            "iteration 3280 || Loss: 0.0071 || 10iter: 11.7658 sec.\n",
            "iteration 3290 || Loss: 0.0093 || 10iter: 11.7804 sec.\n",
            "iteration 3300 || Loss: 0.0064 || 10iter: 11.7033 sec.\n",
            "-------------\n",
            "epoch 33 || Epoch_TRAIN_Loss:0.0077 ||Epoch_VAL_Loss:0.0000\n",
            "timer:  126.5609 sec.\n",
            "-------------\n",
            "Epoch 34/50\n",
            "-------------\n",
            "（train）\n",
            "iteration 3310 || Loss: 0.0080 || 10iter: 11.8255 sec.\n",
            "iteration 3320 || Loss: 0.0066 || 10iter: 11.7236 sec.\n",
            "iteration 3330 || Loss: 0.0065 || 10iter: 11.7882 sec.\n",
            "iteration 3340 || Loss: 0.0067 || 10iter: 11.7650 sec.\n",
            "iteration 3350 || Loss: 0.0077 || 10iter: 11.7641 sec.\n",
            "iteration 3360 || Loss: 0.0061 || 10iter: 11.7486 sec.\n",
            "iteration 3370 || Loss: 0.0078 || 10iter: 11.7332 sec.\n",
            "iteration 3380 || Loss: 0.0072 || 10iter: 11.7282 sec.\n",
            "iteration 3390 || Loss: 0.0096 || 10iter: 11.7520 sec.\n",
            "iteration 3400 || Loss: 0.0094 || 10iter: 11.6064 sec.\n",
            "-------------\n",
            "epoch 34 || Epoch_TRAIN_Loss:0.0077 ||Epoch_VAL_Loss:0.0000\n",
            "timer:  127.5905 sec.\n",
            "-------------\n",
            "Epoch 35/50\n",
            "-------------\n",
            "（train）\n",
            "iteration 3410 || Loss: 0.0059 || 10iter: 11.8049 sec.\n",
            "iteration 3420 || Loss: 0.0063 || 10iter: 11.7186 sec.\n",
            "iteration 3430 || Loss: 0.0087 || 10iter: 11.6737 sec.\n",
            "iteration 3440 || Loss: 0.0074 || 10iter: 11.6719 sec.\n",
            "iteration 3450 || Loss: 0.0066 || 10iter: 11.6889 sec.\n",
            "iteration 3460 || Loss: 0.0081 || 10iter: 11.6920 sec.\n",
            "iteration 3470 || Loss: 0.0062 || 10iter: 11.6944 sec.\n",
            "iteration 3480 || Loss: 0.0098 || 10iter: 11.6805 sec.\n",
            "iteration 3490 || Loss: 0.0057 || 10iter: 11.6364 sec.\n",
            "iteration 3500 || Loss: 0.0113 || 10iter: 11.6223 sec.\n",
            "-------------\n",
            "（val）\n",
            "-------------\n",
            "epoch 35 || Epoch_TRAIN_Loss:0.0077 ||Epoch_VAL_Loss:0.0150\n",
            "timer:  137.1210 sec.\n",
            "-------------\n",
            "Epoch 36/50\n",
            "-------------\n",
            "（train）\n",
            "iteration 3510 || Loss: 0.0061 || 10iter: 11.7380 sec.\n",
            "iteration 3520 || Loss: 0.0083 || 10iter: 11.6596 sec.\n",
            "iteration 3530 || Loss: 0.0063 || 10iter: 11.8233 sec.\n",
            "iteration 3540 || Loss: 0.0063 || 10iter: 11.7109 sec.\n",
            "iteration 3550 || Loss: 0.0069 || 10iter: 11.6817 sec.\n",
            "iteration 3560 || Loss: 0.0072 || 10iter: 11.6880 sec.\n",
            "iteration 3570 || Loss: 0.0081 || 10iter: 11.7055 sec.\n",
            "iteration 3580 || Loss: 0.0062 || 10iter: 11.6768 sec.\n",
            "iteration 3590 || Loss: 0.0086 || 10iter: 11.6603 sec.\n",
            "iteration 3600 || Loss: 0.0119 || 10iter: 11.6019 sec.\n",
            "-------------\n",
            "epoch 36 || Epoch_TRAIN_Loss:0.0075 ||Epoch_VAL_Loss:0.0000\n",
            "timer:  127.1095 sec.\n",
            "-------------\n",
            "Epoch 37/50\n",
            "-------------\n",
            "（train）\n",
            "iteration 3610 || Loss: 0.0078 || 10iter: 11.7494 sec.\n",
            "iteration 3620 || Loss: 0.0088 || 10iter: 11.7254 sec.\n",
            "iteration 3630 || Loss: 0.0069 || 10iter: 11.7058 sec.\n",
            "iteration 3640 || Loss: 0.0077 || 10iter: 11.6590 sec.\n",
            "iteration 3650 || Loss: 0.0063 || 10iter: 11.6697 sec.\n",
            "iteration 3660 || Loss: 0.0075 || 10iter: 11.6325 sec.\n",
            "iteration 3670 || Loss: 0.0071 || 10iter: 11.6935 sec.\n",
            "iteration 3680 || Loss: 0.0086 || 10iter: 11.6746 sec.\n",
            "iteration 3690 || Loss: 0.0065 || 10iter: 11.7039 sec.\n",
            "iteration 3700 || Loss: 0.0122 || 10iter: 11.5936 sec.\n",
            "-------------\n",
            "epoch 37 || Epoch_TRAIN_Loss:0.0076 ||Epoch_VAL_Loss:0.0000\n",
            "timer:  126.9589 sec.\n",
            "-------------\n",
            "Epoch 38/50\n",
            "-------------\n",
            "（train）\n",
            "iteration 3710 || Loss: 0.0063 || 10iter: 11.7583 sec.\n",
            "iteration 3720 || Loss: 0.0081 || 10iter: 11.5438 sec.\n",
            "iteration 3730 || Loss: 0.0077 || 10iter: 11.5705 sec.\n",
            "iteration 3740 || Loss: 0.0064 || 10iter: 11.5667 sec.\n",
            "iteration 3750 || Loss: 0.0065 || 10iter: 11.6172 sec.\n",
            "iteration 3760 || Loss: 0.0076 || 10iter: 11.6160 sec.\n",
            "iteration 3770 || Loss: 0.0096 || 10iter: 11.6519 sec.\n",
            "iteration 3780 || Loss: 0.0069 || 10iter: 11.6227 sec.\n",
            "iteration 3790 || Loss: 0.0069 || 10iter: 11.6530 sec.\n",
            "iteration 3800 || Loss: 0.0075 || 10iter: 11.5563 sec.\n",
            "-------------\n",
            "epoch 38 || Epoch_TRAIN_Loss:0.0076 ||Epoch_VAL_Loss:0.0000\n",
            "timer:  126.3073 sec.\n",
            "-------------\n",
            "Epoch 39/50\n",
            "-------------\n",
            "（train）\n",
            "iteration 3810 || Loss: 0.0075 || 10iter: 11.7190 sec.\n",
            "iteration 3820 || Loss: 0.0068 || 10iter: 11.7395 sec.\n",
            "iteration 3830 || Loss: 0.0068 || 10iter: 11.6164 sec.\n",
            "iteration 3840 || Loss: 0.0079 || 10iter: 11.5936 sec.\n",
            "iteration 3850 || Loss: 0.0080 || 10iter: 11.5756 sec.\n",
            "iteration 3860 || Loss: 0.0076 || 10iter: 11.5938 sec.\n",
            "iteration 3870 || Loss: 0.0067 || 10iter: 11.6230 sec.\n",
            "iteration 3880 || Loss: 0.0068 || 10iter: 11.6525 sec.\n",
            "iteration 3890 || Loss: 0.0063 || 10iter: 11.6258 sec.\n",
            "iteration 3900 || Loss: 0.0088 || 10iter: 11.5808 sec.\n",
            "-------------\n",
            "epoch 39 || Epoch_TRAIN_Loss:0.0074 ||Epoch_VAL_Loss:0.0000\n",
            "timer:  126.4947 sec.\n",
            "-------------\n",
            "Epoch 40/50\n",
            "-------------\n",
            "（train）\n",
            "iteration 3910 || Loss: 0.0058 || 10iter: 11.6352 sec.\n",
            "iteration 3920 || Loss: 0.0087 || 10iter: 11.6917 sec.\n",
            "iteration 3930 || Loss: 0.0059 || 10iter: 11.6353 sec.\n",
            "iteration 3940 || Loss: 0.0071 || 10iter: 11.6609 sec.\n",
            "iteration 3950 || Loss: 0.0084 || 10iter: 11.6704 sec.\n",
            "iteration 3960 || Loss: 0.0116 || 10iter: 11.6619 sec.\n",
            "iteration 3970 || Loss: 0.0064 || 10iter: 11.7129 sec.\n",
            "iteration 3980 || Loss: 0.0114 || 10iter: 11.6940 sec.\n",
            "iteration 3990 || Loss: 0.0074 || 10iter: 11.6718 sec.\n",
            "iteration 4000 || Loss: 0.0052 || 10iter: 11.5661 sec.\n",
            "-------------\n",
            "（val）\n",
            "-------------\n",
            "epoch 40 || Epoch_TRAIN_Loss:0.0075 ||Epoch_VAL_Loss:0.0149\n",
            "timer:  136.6988 sec.\n",
            "-------------\n",
            "Epoch 41/50\n",
            "-------------\n",
            "（train）\n",
            "iteration 4010 || Loss: 0.0151 || 10iter: 11.7368 sec.\n",
            "iteration 4020 || Loss: 0.0071 || 10iter: 11.6580 sec.\n",
            "iteration 4030 || Loss: 0.0082 || 10iter: 11.6159 sec.\n",
            "iteration 4040 || Loss: 0.0056 || 10iter: 11.6013 sec.\n",
            "iteration 4050 || Loss: 0.0070 || 10iter: 11.6604 sec.\n",
            "iteration 4060 || Loss: 0.0088 || 10iter: 11.6453 sec.\n",
            "iteration 4070 || Loss: 0.0095 || 10iter: 11.6375 sec.\n",
            "iteration 4080 || Loss: 0.0062 || 10iter: 11.6427 sec.\n",
            "iteration 4090 || Loss: 0.0069 || 10iter: 11.6082 sec.\n",
            "iteration 4100 || Loss: 0.0074 || 10iter: 11.6755 sec.\n",
            "-------------\n",
            "epoch 41 || Epoch_TRAIN_Loss:0.0075 ||Epoch_VAL_Loss:0.0000\n",
            "timer:  126.6373 sec.\n",
            "-------------\n",
            "Epoch 42/50\n",
            "-------------\n",
            "（train）\n",
            "iteration 4110 || Loss: 0.0065 || 10iter: 11.7054 sec.\n",
            "iteration 4120 || Loss: 0.0071 || 10iter: 11.6126 sec.\n",
            "iteration 4130 || Loss: 0.0064 || 10iter: 11.6175 sec.\n",
            "iteration 4140 || Loss: 0.0059 || 10iter: 11.6297 sec.\n",
            "iteration 4150 || Loss: 0.0072 || 10iter: 11.6381 sec.\n",
            "iteration 4160 || Loss: 0.0076 || 10iter: 11.6128 sec.\n",
            "iteration 4170 || Loss: 0.0067 || 10iter: 11.6731 sec.\n",
            "iteration 4180 || Loss: 0.0070 || 10iter: 11.6383 sec.\n",
            "iteration 4190 || Loss: 0.0084 || 10iter: 11.6419 sec.\n",
            "iteration 4200 || Loss: 0.0071 || 10iter: 11.5506 sec.\n",
            "-------------\n",
            "epoch 42 || Epoch_TRAIN_Loss:0.0075 ||Epoch_VAL_Loss:0.0000\n",
            "timer:  126.4762 sec.\n",
            "-------------\n",
            "Epoch 43/50\n",
            "-------------\n",
            "（train）\n",
            "iteration 4210 || Loss: 0.0064 || 10iter: 11.7205 sec.\n",
            "iteration 4220 || Loss: 0.0076 || 10iter: 11.6596 sec.\n",
            "iteration 4230 || Loss: 0.0071 || 10iter: 11.6210 sec.\n",
            "iteration 4240 || Loss: 0.0058 || 10iter: 11.5938 sec.\n",
            "iteration 4250 || Loss: 0.0087 || 10iter: 11.5713 sec.\n",
            "iteration 4260 || Loss: 0.0065 || 10iter: 11.6058 sec.\n",
            "iteration 4270 || Loss: 0.0078 || 10iter: 11.6152 sec.\n",
            "iteration 4280 || Loss: 0.0066 || 10iter: 11.5594 sec.\n",
            "iteration 4290 || Loss: 0.0071 || 10iter: 11.5769 sec.\n",
            "iteration 4300 || Loss: 0.0062 || 10iter: 11.5328 sec.\n",
            "-------------\n",
            "epoch 43 || Epoch_TRAIN_Loss:0.0075 ||Epoch_VAL_Loss:0.0000\n",
            "timer:  126.2057 sec.\n",
            "-------------\n",
            "Epoch 44/50\n",
            "-------------\n",
            "（train）\n",
            "iteration 4310 || Loss: 0.0061 || 10iter: 11.8029 sec.\n",
            "iteration 4320 || Loss: 0.0068 || 10iter: 11.6290 sec.\n",
            "iteration 4330 || Loss: 0.0075 || 10iter: 11.6569 sec.\n",
            "iteration 4340 || Loss: 0.0075 || 10iter: 11.6372 sec.\n",
            "iteration 4350 || Loss: 0.0064 || 10iter: 11.6452 sec.\n",
            "iteration 4360 || Loss: 0.0067 || 10iter: 11.6367 sec.\n",
            "iteration 4370 || Loss: 0.0090 || 10iter: 11.6560 sec.\n",
            "iteration 4380 || Loss: 0.0077 || 10iter: 11.7070 sec.\n",
            "iteration 4390 || Loss: 0.0076 || 10iter: 11.7401 sec.\n",
            "iteration 4400 || Loss: 0.0086 || 10iter: 11.5495 sec.\n",
            "-------------\n",
            "epoch 44 || Epoch_TRAIN_Loss:0.0075 ||Epoch_VAL_Loss:0.0000\n",
            "timer:  126.8053 sec.\n",
            "-------------\n",
            "Epoch 45/50\n",
            "-------------\n",
            "（train）\n",
            "iteration 4410 || Loss: 0.0070 || 10iter: 11.6521 sec.\n",
            "iteration 4420 || Loss: 0.0086 || 10iter: 11.6551 sec.\n",
            "iteration 4430 || Loss: 0.0082 || 10iter: 11.6246 sec.\n",
            "iteration 4440 || Loss: 0.0066 || 10iter: 11.6410 sec.\n",
            "iteration 4450 || Loss: 0.0075 || 10iter: 11.6862 sec.\n",
            "iteration 4460 || Loss: 0.0075 || 10iter: 11.6959 sec.\n",
            "iteration 4470 || Loss: 0.0069 || 10iter: 11.6770 sec.\n",
            "iteration 4480 || Loss: 0.0099 || 10iter: 11.6833 sec.\n",
            "iteration 4490 || Loss: 0.0057 || 10iter: 11.6736 sec.\n",
            "iteration 4500 || Loss: 0.0077 || 10iter: 11.5600 sec.\n",
            "-------------\n",
            "（val）\n",
            "-------------\n",
            "epoch 45 || Epoch_TRAIN_Loss:0.0074 ||Epoch_VAL_Loss:0.0150\n",
            "timer:  136.6802 sec.\n",
            "-------------\n",
            "Epoch 46/50\n",
            "-------------\n",
            "（train）\n",
            "iteration 4510 || Loss: 0.0075 || 10iter: 11.7465 sec.\n",
            "iteration 4520 || Loss: 0.0087 || 10iter: 11.6674 sec.\n",
            "iteration 4530 || Loss: 0.0056 || 10iter: 11.6258 sec.\n",
            "iteration 4540 || Loss: 0.0081 || 10iter: 11.6459 sec.\n",
            "iteration 4550 || Loss: 0.0057 || 10iter: 11.6562 sec.\n",
            "iteration 4560 || Loss: 0.0067 || 10iter: 11.6340 sec.\n",
            "iteration 4570 || Loss: 0.0075 || 10iter: 11.6672 sec.\n",
            "iteration 4580 || Loss: 0.0079 || 10iter: 11.6533 sec.\n",
            "iteration 4590 || Loss: 0.0058 || 10iter: 11.6713 sec.\n",
            "iteration 4600 || Loss: 0.0085 || 10iter: 11.5798 sec.\n",
            "-------------\n",
            "epoch 46 || Epoch_TRAIN_Loss:0.0075 ||Epoch_VAL_Loss:0.0000\n",
            "timer:  126.7125 sec.\n",
            "-------------\n",
            "Epoch 47/50\n",
            "-------------\n",
            "（train）\n",
            "iteration 4610 || Loss: 0.0061 || 10iter: 11.7299 sec.\n",
            "iteration 4620 || Loss: 0.0080 || 10iter: 11.7031 sec.\n",
            "iteration 4630 || Loss: 0.0071 || 10iter: 11.6702 sec.\n",
            "iteration 4640 || Loss: 0.0064 || 10iter: 11.6903 sec.\n",
            "iteration 4650 || Loss: 0.0115 || 10iter: 11.6740 sec.\n",
            "iteration 4660 || Loss: 0.0063 || 10iter: 11.7225 sec.\n",
            "iteration 4670 || Loss: 0.0064 || 10iter: 11.7747 sec.\n",
            "iteration 4680 || Loss: 0.0094 || 10iter: 11.6693 sec.\n",
            "iteration 4690 || Loss: 0.0078 || 10iter: 11.7053 sec.\n",
            "iteration 4700 || Loss: 0.0068 || 10iter: 11.5616 sec.\n",
            "-------------\n",
            "epoch 47 || Epoch_TRAIN_Loss:0.0075 ||Epoch_VAL_Loss:0.0000\n",
            "timer:  127.0531 sec.\n",
            "-------------\n",
            "Epoch 48/50\n",
            "-------------\n",
            "（train）\n",
            "iteration 4710 || Loss: 0.0081 || 10iter: 11.7621 sec.\n",
            "iteration 4720 || Loss: 0.0078 || 10iter: 11.6616 sec.\n",
            "iteration 4730 || Loss: 0.0067 || 10iter: 11.6698 sec.\n",
            "iteration 4740 || Loss: 0.0074 || 10iter: 11.6698 sec.\n",
            "iteration 4750 || Loss: 0.0093 || 10iter: 11.6765 sec.\n",
            "iteration 4760 || Loss: 0.0071 || 10iter: 11.6698 sec.\n",
            "iteration 4770 || Loss: 0.0060 || 10iter: 11.6863 sec.\n",
            "iteration 4780 || Loss: 0.0079 || 10iter: 11.7043 sec.\n",
            "iteration 4790 || Loss: 0.0060 || 10iter: 11.6975 sec.\n",
            "iteration 4800 || Loss: 0.0076 || 10iter: 11.5695 sec.\n",
            "-------------\n",
            "epoch 48 || Epoch_TRAIN_Loss:0.0074 ||Epoch_VAL_Loss:0.0000\n",
            "timer:  126.9334 sec.\n",
            "-------------\n",
            "Epoch 49/50\n",
            "-------------\n",
            "（train）\n",
            "iteration 4810 || Loss: 0.0078 || 10iter: 11.8330 sec.\n",
            "iteration 4820 || Loss: 0.0072 || 10iter: 11.6597 sec.\n",
            "iteration 4830 || Loss: 0.0069 || 10iter: 11.6572 sec.\n",
            "iteration 4840 || Loss: 0.0108 || 10iter: 11.6650 sec.\n",
            "iteration 4850 || Loss: 0.0066 || 10iter: 11.6876 sec.\n",
            "iteration 4860 || Loss: 0.0072 || 10iter: 11.6691 sec.\n",
            "iteration 4870 || Loss: 0.0076 || 10iter: 11.6885 sec.\n",
            "iteration 4880 || Loss: 0.0079 || 10iter: 11.6901 sec.\n",
            "iteration 4890 || Loss: 0.0093 || 10iter: 11.7100 sec.\n",
            "iteration 4900 || Loss: 0.0074 || 10iter: 11.5859 sec.\n",
            "-------------\n",
            "epoch 49 || Epoch_TRAIN_Loss:0.0074 ||Epoch_VAL_Loss:0.0000\n",
            "timer:  127.0061 sec.\n",
            "-------------\n",
            "Epoch 50/50\n",
            "-------------\n",
            "（train）\n",
            "iteration 4910 || Loss: 0.0066 || 10iter: 11.8306 sec.\n",
            "iteration 4920 || Loss: 0.0063 || 10iter: 11.7015 sec.\n",
            "iteration 4930 || Loss: 0.0061 || 10iter: 11.7253 sec.\n",
            "iteration 4940 || Loss: 0.0069 || 10iter: 11.6865 sec.\n",
            "iteration 4950 || Loss: 0.0072 || 10iter: 11.7823 sec.\n",
            "iteration 4960 || Loss: 0.0090 || 10iter: 11.6568 sec.\n",
            "iteration 4970 || Loss: 0.0088 || 10iter: 11.6518 sec.\n",
            "iteration 4980 || Loss: 0.0071 || 10iter: 11.6618 sec.\n",
            "iteration 4990 || Loss: 0.0069 || 10iter: 11.6659 sec.\n",
            "iteration 5000 || Loss: 0.0085 || 10iter: 11.5811 sec.\n",
            "-------------\n",
            "（val）\n",
            "-------------\n",
            "epoch 50 || Epoch_TRAIN_Loss:0.0074 ||Epoch_VAL_Loss:0.0149\n",
            "timer:  137.0762 sec.\n"
          ]
        }
      ],
      "source": [
        "train_model(psp_net, dataloaders_dict, criterion, scheduler, optimizer, num_epochs=50)"
      ]
    },
    {
      "cell_type": "markdown",
      "metadata": {
        "id": "IJYbE20-GcHq"
      },
      "source": [
        "## CPU Result"
      ]
    },
    {
      "cell_type": "code",
      "execution_count": null,
      "metadata": {
        "colab": {
          "base_uri": "https://localhost:8080/"
        },
        "id": "LR7mJFuZtc1U",
        "outputId": "1c1e08a3-bdec-4b7b-d9be-5f47de7dedab"
      },
      "outputs": [
        {
          "name": "stderr",
          "output_type": "stream",
          "text": [
            "/usr/local/lib/python3.7/dist-packages/ipykernel_launcher.py:7: DeprecationWarning: `np.bool` is a deprecated alias for the builtin `bool`. To silence this warning, use `bool` by itself. Doing this will not modify any behavior and is safe. If you specifically wanted the numpy scalar type, use `np.bool_` here.\n",
            "Deprecated in NumPy 1.20; for more details and guidance: https://numpy.org/devdocs/release/1.20.0-notes.html#deprecations\n",
            "  import sys\n",
            "/usr/local/lib/python3.7/dist-packages/ipykernel_launcher.py:8: DeprecationWarning: `np.bool` is a deprecated alias for the builtin `bool`. To silence this warning, use `bool` by itself. Doing this will not modify any behavior and is safe. If you specifically wanted the numpy scalar type, use `np.bool_` here.\n",
            "Deprecated in NumPy 1.20; for more details and guidance: https://numpy.org/devdocs/release/1.20.0-notes.html#deprecations\n",
            "  \n"
          ]
        }
      ],
      "source": [
        "left_lung_dice = 0.0\n",
        "right_lung_dice = 0.0\n",
        "\n",
        "for i in range(len(val_dataset)):\n",
        "  img_index = i\n",
        "  img, anno_class_img = val_dataset.__getitem__(img_index)\n",
        "  x = img.unsqueeze(0)#.numpy()#.cuda() \n",
        "  outputs = psp_net(x)\n",
        "  y = outputs[0] \n",
        "  \n",
        "  y = y[0].detach().numpy()#.cpu().detach().numpy()\n",
        "  y = np.argmax(y, axis=0)\n",
        "  anno_predicted = Image.fromarray(np.uint8(y), mode=\"P\")\n",
        "  \n",
        "  left_anno_class_img = np.array(anno_class_img)\n",
        "  left_anno_class_img[left_anno_class_img == 2] = 0\n",
        "  left_anno_predicted = np.array(anno_predicted)\n",
        "  left_anno_predicted[left_anno_predicted == 2] = 0\n",
        "\n",
        "  right_anno_class_img = np.array(anno_class_img)\n",
        "  right_anno_class_img[right_anno_class_img == 1] = 0\n",
        "  right_anno_predicted = np.array(anno_predicted)\n",
        "  right_anno_predicted[right_anno_predicted == 1] = 0\n",
        "  \n",
        "  left_dice = dice_coef(left_anno_class_img, left_anno_predicted)\n",
        "  right_dice = dice_coef(right_anno_class_img, right_anno_predicted)\n",
        "  left_lung_dice += left_dice\n",
        "  right_lung_dice += right_dice"
      ]
    },
    {
      "cell_type": "code",
      "execution_count": null,
      "metadata": {
        "colab": {
          "base_uri": "https://localhost:8080/"
        },
        "id": "wJB2wHt4tiKa",
        "outputId": "5fbed4af-2d0d-4f9c-ff24-705f900d6bc7"
      },
      "outputs": [
        {
          "name": "stdout",
          "output_type": "stream",
          "text": [
            "dice coefficient for PSPNet: left lung 0.9671982725284276 right lung: 0.9553668443762808 mean dice: 0.9612825584523542\n"
          ]
        }
      ],
      "source": [
        "left = left_lung_dice/len(val_dataset)\n",
        "right = right_lung_dice/len(val_dataset)\n",
        "print(f\"dice coefficient for PSPNet: left lung {left_lung_dice/len(val_dataset)} right lung: {right_lung_dice/len(val_dataset)} mean dice: {0.5*(left+right)}\")"
      ]
    },
    {
      "cell_type": "code",
      "execution_count": null,
      "metadata": {
        "id": "Ve5wn6rqEOnc"
      },
      "outputs": [],
      "source": [
        ""
      ]
    }
  ],
  "metadata": {
    "accelerator": "GPU",
    "colab": {
      "background_execution": "on",
      "collapsed_sections": [
        "gZfkKdQDjxTg"
      ],
      "machine_shape": "hm",
      "name": "Professional_NewLossPSPNet.ipynb",
      "provenance": [],
      "toc_visible": true,
      "authorship_tag": "ABX9TyNyoNDGa8YI1TCbzoTuxNPO",
      "include_colab_link": true
    },
    "gpuClass": "standard",
    "kernelspec": {
      "display_name": "Python 3",
      "name": "python3"
    },
    "language_info": {
      "name": "python"
    }
  },
  "nbformat": 4,
  "nbformat_minor": 0
}